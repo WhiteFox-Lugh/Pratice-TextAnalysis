{
  "nbformat": 4,
  "nbformat_minor": 0,
  "metadata": {
    "colab": {
      "name": "exercise1.ipynb",
      "provenance": [],
      "collapsed_sections": [],
      "authorship_tag": "ABX9TyMkiNauc1sRkwWhqpXPIgtW",
      "include_colab_link": true
    },
    "kernelspec": {
      "name": "python3",
      "display_name": "Python 3"
    }
  },
  "cells": [
    {
      "cell_type": "markdown",
      "metadata": {
        "id": "view-in-github",
        "colab_type": "text"
      },
      "source": [
        "<a href=\"https://colab.research.google.com/github/WhiteFox-Lugh/Pratice-TextAnalysis/blob/master/exercise1.ipynb\" target=\"_parent\"><img src=\"https://colab.research.google.com/assets/colab-badge.svg\" alt=\"Open In Colab\"/></a>"
      ]
    },
    {
      "cell_type": "markdown",
      "metadata": {
        "id": "qLc9NzIz_EkL",
        "colab_type": "text"
      },
      "source": [
        "逐次実行していけば所定の処理ができるようにしてあります。\n",
        "（ただし、外部テキストファイルなどは適切な場所に配置してください）"
      ]
    },
    {
      "cell_type": "code",
      "metadata": {
        "id": "ITl8QGF_fuam",
        "colab_type": "code",
        "colab": {
          "base_uri": "https://localhost:8080/",
          "height": 367
        },
        "outputId": "eba11889-b829-440b-b296-193dccaa614f"
      },
      "source": [
        "!pip install nltk\n",
        "!pip install gensim"
      ],
      "execution_count": 1,
      "outputs": [
        {
          "output_type": "stream",
          "text": [
            "Requirement already satisfied: nltk in /usr/local/lib/python3.6/dist-packages (3.2.5)\n",
            "Requirement already satisfied: six in /usr/local/lib/python3.6/dist-packages (from nltk) (1.12.0)\n",
            "Requirement already satisfied: gensim in /usr/local/lib/python3.6/dist-packages (3.6.0)\n",
            "Requirement already satisfied: numpy>=1.11.3 in /usr/local/lib/python3.6/dist-packages (from gensim) (1.18.5)\n",
            "Requirement already satisfied: smart-open>=1.2.1 in /usr/local/lib/python3.6/dist-packages (from gensim) (2.0.0)\n",
            "Requirement already satisfied: six>=1.5.0 in /usr/local/lib/python3.6/dist-packages (from gensim) (1.12.0)\n",
            "Requirement already satisfied: scipy>=0.18.1 in /usr/local/lib/python3.6/dist-packages (from gensim) (1.4.1)\n",
            "Requirement already satisfied: boto3 in /usr/local/lib/python3.6/dist-packages (from smart-open>=1.2.1->gensim) (1.14.9)\n",
            "Requirement already satisfied: boto in /usr/local/lib/python3.6/dist-packages (from smart-open>=1.2.1->gensim) (2.49.0)\n",
            "Requirement already satisfied: requests in /usr/local/lib/python3.6/dist-packages (from smart-open>=1.2.1->gensim) (2.23.0)\n",
            "Requirement already satisfied: botocore<1.18.0,>=1.17.9 in /usr/local/lib/python3.6/dist-packages (from boto3->smart-open>=1.2.1->gensim) (1.17.9)\n",
            "Requirement already satisfied: jmespath<1.0.0,>=0.7.1 in /usr/local/lib/python3.6/dist-packages (from boto3->smart-open>=1.2.1->gensim) (0.10.0)\n",
            "Requirement already satisfied: s3transfer<0.4.0,>=0.3.0 in /usr/local/lib/python3.6/dist-packages (from boto3->smart-open>=1.2.1->gensim) (0.3.3)\n",
            "Requirement already satisfied: urllib3!=1.25.0,!=1.25.1,<1.26,>=1.21.1 in /usr/local/lib/python3.6/dist-packages (from requests->smart-open>=1.2.1->gensim) (1.24.3)\n",
            "Requirement already satisfied: chardet<4,>=3.0.2 in /usr/local/lib/python3.6/dist-packages (from requests->smart-open>=1.2.1->gensim) (3.0.4)\n",
            "Requirement already satisfied: idna<3,>=2.5 in /usr/local/lib/python3.6/dist-packages (from requests->smart-open>=1.2.1->gensim) (2.9)\n",
            "Requirement already satisfied: certifi>=2017.4.17 in /usr/local/lib/python3.6/dist-packages (from requests->smart-open>=1.2.1->gensim) (2020.6.20)\n",
            "Requirement already satisfied: docutils<0.16,>=0.10 in /usr/local/lib/python3.6/dist-packages (from botocore<1.18.0,>=1.17.9->boto3->smart-open>=1.2.1->gensim) (0.15.2)\n",
            "Requirement already satisfied: python-dateutil<3.0.0,>=2.1 in /usr/local/lib/python3.6/dist-packages (from botocore<1.18.0,>=1.17.9->boto3->smart-open>=1.2.1->gensim) (2.8.1)\n"
          ],
          "name": "stdout"
        }
      ]
    },
    {
      "cell_type": "code",
      "metadata": {
        "id": "_fYUlrqdkxN8",
        "colab_type": "code",
        "colab": {}
      },
      "source": [
        "import nltk\n",
        "import numpy as np\n",
        "import pandas as pd\n",
        "import re\n",
        "from google.colab import drive\n",
        "from nltk.corpus import wordnet as wn"
      ],
      "execution_count": 37,
      "outputs": []
    },
    {
      "cell_type": "code",
      "metadata": {
        "id": "myz7LS0D1HtQ",
        "colab_type": "code",
        "colab": {
          "base_uri": "https://localhost:8080/",
          "height": 139
        },
        "outputId": "3ef30338-d0d9-47d9-84d8-73bd5418e09e"
      },
      "source": [
        "nltk.download(\"stopwords\")\n",
        "nltk.download(\"wordnet\")\n",
        "nltk.download(\"punkt\")"
      ],
      "execution_count": 23,
      "outputs": [
        {
          "output_type": "stream",
          "text": [
            "[nltk_data] Downloading package stopwords to /root/nltk_data...\n",
            "[nltk_data]   Package stopwords is already up-to-date!\n",
            "[nltk_data] Downloading package wordnet to /root/nltk_data...\n",
            "[nltk_data]   Package wordnet is already up-to-date!\n",
            "[nltk_data] Downloading package punkt to /root/nltk_data...\n",
            "[nltk_data]   Package punkt is already up-to-date!\n"
          ],
          "name": "stdout"
        },
        {
          "output_type": "execute_result",
          "data": {
            "text/plain": [
              "True"
            ]
          },
          "metadata": {
            "tags": []
          },
          "execution_count": 23
        }
      ]
    },
    {
      "cell_type": "markdown",
      "metadata": {
        "id": "CBOvG3jermXy",
        "colab_type": "text"
      },
      "source": [
        "text の引用元\n",
        "\n",
        "全て最初の概要部分です（注釈番号は抜いています）\n",
        "\n",
        "* text1.txt  : https://en.wikipedia.org/wiki/Canis\n",
        "* text2.txt  : https://en.wikipedia.org/wiki/Wolf\n",
        "* text3.txt  : https://en.wikipedia.org/wiki/Coyote\n",
        "* text4.txt  : https://en.wikipedia.org/wiki/African_golden_wolf\n",
        "* text5.txt  : https://en.wikipedia.org/wiki/Dhole\n",
        "* text6.txt  : https://en.wikipedia.org/wiki/African_wild_dog\n",
        "* text7.txt  : https://en.wikipedia.org/wiki/Red_fox\n",
        "* text8.txt  : https://en.wikipedia.org/wiki/Arctic_fox\n",
        "* text9.txt  : https://en.wikipedia.org/wiki/Fennec_fox\n",
        "* text10.txt : https://en.wikipedia.org/wiki/Kitsune"
      ]
    },
    {
      "cell_type": "code",
      "metadata": {
        "id": "AHifWaoEvIre",
        "colab_type": "code",
        "colab": {
          "base_uri": "https://localhost:8080/",
          "height": 124
        },
        "outputId": "36aab427-518b-4386-be62-8c6c35b55591"
      },
      "source": [
        "# drive のマウント（colaboratory 用）\n",
        "drive.mount('/content/drive')"
      ],
      "execution_count": 9,
      "outputs": [
        {
          "output_type": "stream",
          "text": [
            "Go to this URL in a browser: https://accounts.google.com/o/oauth2/auth?client_id=947318989803-6bn6qk8qdgf4n4g3pfee6491hc0brc4i.apps.googleusercontent.com&redirect_uri=urn%3aietf%3awg%3aoauth%3a2.0%3aoob&response_type=code&scope=email%20https%3a%2f%2fwww.googleapis.com%2fauth%2fdocs.test%20https%3a%2f%2fwww.googleapis.com%2fauth%2fdrive%20https%3a%2f%2fwww.googleapis.com%2fauth%2fdrive.photos.readonly%20https%3a%2f%2fwww.googleapis.com%2fauth%2fpeopleapi.readonly\n",
            "\n",
            "Enter your authorization code:\n",
            "··········\n",
            "Mounted at /content/drive\n"
          ],
          "name": "stdout"
        }
      ]
    },
    {
      "cell_type": "code",
      "metadata": {
        "id": "aTLU8BQ7xqDT",
        "colab_type": "code",
        "colab": {}
      },
      "source": [
        "# テキスト読み込み\n",
        "# テキストデータは適切なところに配置してください\n",
        "text_name = ['canis', 'wolf', 'coyote', 'african_golden_wolf', 'dhole', 'african_wild_dog', 'red_fox', 'arctic_fox', 'fennec_fox', 'kitsune']\n",
        "text_correction = {}\n",
        "for i in range(len(text_name)):\n",
        "  txt = f = open('drive/My Drive/Colab Notebooks/text' + str(i+1) + '.txt')\n",
        "  data = f.read()\n",
        "  name = text_name[i]\n",
        "  text_correction[name] = data"
      ],
      "execution_count": 38,
      "outputs": []
    },
    {
      "cell_type": "code",
      "metadata": {
        "id": "KtqDbaN2zxJr",
        "colab_type": "code",
        "colab": {
          "base_uri": "https://localhost:8080/",
          "height": 211
        },
        "outputId": "4405eaf9-03a3-4871-80a7-4275b14d2c27"
      },
      "source": [
        "# 読み込み確認\n",
        "for txt in text_correction.values():\n",
        "  print(txt)"
      ],
      "execution_count": 39,
      "outputs": [
        {
          "output_type": "stream",
          "text": [
            "Canis is a genus of the Caninae containing multiple extant species, such as wolves, dogs, coyotes and jackals. Species of this genus are distinguished by their moderate to large size, their massive, well-developed skulls and dentition, long legs, and comparatively short ears and tails.\n",
            "The wolf (Canis lupus), also known as the gray wolf or grey wolf, is a large canine native to Eurasia and North America. More than thirty subspecies of Canis lupus have been recognized, and gray wolves, as colloquially understood, comprise non-domestic/feral subspecies. The wolf is the largest extant member of Canidae, males averaging 40 kg (88 lb) and females 37 kg (82 lb). Wolves measure 105–160 cm (41–63 in) in length and 80–85 cm (31–33 in) at shoulder height. The wolf is also distinguished from other Canis species by its less pointed ears and muzzle, as well as a shorter torso and a longer tail. The wolf is nonetheless related closely enough to smaller Canis species, such as the coyote and the golden jackal, to produce fertile hybrids with them. The banded fur of a wolf is usually mottled white, brown, gray, and black, although subspecies in the arctic region may be nearly all white. \n",
            "The coyote (Canis latrans) is a species of canine native to North America. It is smaller than its close relative, the gray wolf, and slightly smaller than the closely related eastern wolf and red wolf. It fills much of the same ecological niche as the golden jackal does in Eurasia, though it is larger and more predatory and is sometimes called the American jackal by zoologists. Other names for the species, largely historical, include the prairie wolf and the brush wolf. \n",
            "The African golden wolf (Canis anthus or Canis lupaster) is a canine native to North Africa and the Horn of Africa. It is the descendant of a genetically admixed canid of 72% gray wolf and 28% Ethiopian wolf ancestry. It occurs in Senegal, Nigeria, Chad, Morocco, Algeria, Tunisia, Libya , Kenya and Egypt, and in Tanzania. It is listed as Least Concern on the IUCN Red List. In the Atlas Mountains, it was sighted in elevations as high as 1,800 m (5,900 ft). It is primarily a predator, targeting invertebrates and mammals as large as gazelle fawns, though larger animals are sometimes taken. Its diet also includes animal carcasses, human refuse, and fruit. The African golden wolf is a monogamous and territorial species, offspring remain with the family to assist in raising their parents' younger pups.\n",
            "The dhole (Cuon alpinus) is a canid native to Central, South, East Asia, and Southeast Asia. Other English names for the species include Asian wild dog, Asiatic wild dog, Indian wild dog, whistling dog, red dog, and mountain wolf. It is genetically close to species within the genus Canis, but distinct in several anatomical aspects: its skull is convex rather than concave in profile, it lacks a third lower molar and the upper molars sport only a single cusp as opposed to between two and four. During the Pleistocene, the dhole ranged throughout Asia, Europe, and North America but became restricted to its historical range 12,000–18,000 years ago.\n",
            "The African wild dog (Lycaon pictus), also called the painted wolf or Cape hunting dog, is a canine native to sub-Saharan Africa. It is the largest indigenous canine in Africa, and the only extant member of the genus Lycaon, which is distinguished from Canis by dentition highly specialised for a hypercarnivorous diet, and a lack of dewclaws. It is estimated that about 6,600 adults including 1,400 mature individuals live in 39 subpopulations that are all threatened by habitat fragmentation, human persecution and outbreaks of diseases. As the largest subpopulation probably consists of less than 250 individuals, the African wild dog is listed as endangered on the IUCN Red List since 1990.\n",
            "The red fox (Vulpes vulpes) is the largest of the true foxes and one of the most widely distributed members of the order Carnivora, being present across the entire Northern Hemisphere including most of North America, Europe and Asia plus parts of Northern Africa. It is listed as least concern by the IUCN. Its range has increased alongside human expansion, having been introduced to Australia, where it is considered harmful to native mammals and bird populations. Due to its presence in Australia, it is included on the list of the \"world's 100 worst invasive species\".\n",
            "The Arctic fox (Vulpes lagopus), also known as the white fox, polar fox, or snow fox, is a small fox native to the Arctic regions of the Northern Hemisphere and common throughout the Arctic tundra biome. It is well adapted to living in cold environments, and is best known for its thick, warm fur that is also used as camouflage. In the wild, most individuals do not live past their first year but some exceptional ones survive up to 11 years. Its body length ranges from 46 to 68 cm (18 to 27 in), with a generally rounded body shape to minimize the escape of body heat.\n",
            "The fennec fox (Vulpes zerda), also called fennec or desert fox, is a small crepuscular fox native to the Sahara Desert, the Sinai Peninsula, Arava desert, and the Arabian desert. Its most distinctive feature is its unusually large ears, which also serve to dissipate heat. Its name comes from this species' name in Arabic: fanak. The fennec is the smallest species of canid. Its coat, ears, and kidney functions have adapted to high-temperature, low-water, desert environments. Also, its hearing is sensitive enough to hear prey moving underground. It mainly eats insects, small mammals, and birds.\n",
            "Kitsune in the literal sense is the Japanese word for fox. Foxes are a common subject of Japanese folklore; in English, kitsune refers to them in this context. Stories depict legendary foxes as intelligent beings and as possessing paranormal abilities that increase with their age and wisdom. According to Yōkai folklore, all foxes have the ability to shapeshift into human form. While some folktales speak of kitsune employing this ability to trick others – as foxes in folklore often do – other stories portray them as faithful guardians, friends, lovers, and wives. Foxes and humans lived close together in ancient Japan; this companionship gave rise to legends about the creatures. Kitsune have become closely associated with Inari, a Shinto kami or spirit, and serve as its messengers. This role has reinforced the fox's supernatural significance. The more tails a kitsune has – they may have as many as nine – the older, wiser, and more powerful it is. Because of their potential power and influence, some people make sacrifices to them as to a deity. \n"
          ],
          "name": "stdout"
        }
      ]
    },
    {
      "cell_type": "code",
      "metadata": {
        "id": "cjowdzQn0k1_",
        "colab_type": "code",
        "colab": {}
      },
      "source": [
        "# preprocessing\n",
        "# tokenize\n",
        "text_tokenized = {}\n",
        "\n",
        "def tokenize_text(text):\n",
        "  text = re.sub('[.,()\\[\\]]', '', text)\n",
        "  ret = text.split()\n",
        "  return ret\n",
        "\n",
        "for i in range(len(text_name)):\n",
        "  name = text_name[i]\n",
        "  txt = text_correction[name]\n",
        "  text_tokenized[name] = tokenize_text(txt)"
      ],
      "execution_count": 44,
      "outputs": []
    },
    {
      "cell_type": "code",
      "metadata": {
        "id": "ridI1Zex47o_",
        "colab_type": "code",
        "colab": {
          "base_uri": "https://localhost:8080/",
          "height": 211
        },
        "outputId": "041da1b5-b47f-4eb3-f7df-2e57d0575d03"
      },
      "source": [
        "# tokenize 確認\n",
        "for txt in text_tokenized.values():\n",
        "  print(txt)"
      ],
      "execution_count": 45,
      "outputs": [
        {
          "output_type": "stream",
          "text": [
            "['Canis', 'is', 'a', 'genus', 'of', 'the', 'Caninae', 'containing', 'multiple', 'extant', 'species', 'such', 'as', 'wolves', 'dogs', 'coyotes', 'and', 'jackals', 'Species', 'of', 'this', 'genus', 'are', 'distinguished', 'by', 'their', 'moderate', 'to', 'large', 'size', 'their', 'massive', 'well-developed', 'skulls', 'and', 'dentition', 'long', 'legs', 'and', 'comparatively', 'short', 'ears', 'and', 'tails']\n",
            "['The', 'wolf', 'Canis', 'lupus', 'also', 'known', 'as', 'the', 'gray', 'wolf', 'or', 'grey', 'wolf', 'is', 'a', 'large', 'canine', 'native', 'to', 'Eurasia', 'and', 'North', 'America', 'More', 'than', 'thirty', 'subspecies', 'of', 'Canis', 'lupus', 'have', 'been', 'recognized', 'and', 'gray', 'wolves', 'as', 'colloquially', 'understood', 'comprise', 'non-domestic/feral', 'subspecies', 'The', 'wolf', 'is', 'the', 'largest', 'extant', 'member', 'of', 'Canidae', 'males', 'averaging', '40', 'kg', '88', 'lb', 'and', 'females', '37', 'kg', '82', 'lb', 'Wolves', 'measure', '105–160', 'cm', '41–63', 'in', 'in', 'length', 'and', '80–85', 'cm', '31–33', 'in', 'at', 'shoulder', 'height', 'The', 'wolf', 'is', 'also', 'distinguished', 'from', 'other', 'Canis', 'species', 'by', 'its', 'less', 'pointed', 'ears', 'and', 'muzzle', 'as', 'well', 'as', 'a', 'shorter', 'torso', 'and', 'a', 'longer', 'tail', 'The', 'wolf', 'is', 'nonetheless', 'related', 'closely', 'enough', 'to', 'smaller', 'Canis', 'species', 'such', 'as', 'the', 'coyote', 'and', 'the', 'golden', 'jackal', 'to', 'produce', 'fertile', 'hybrids', 'with', 'them', 'The', 'banded', 'fur', 'of', 'a', 'wolf', 'is', 'usually', 'mottled', 'white', 'brown', 'gray', 'and', 'black', 'although', 'subspecies', 'in', 'the', 'arctic', 'region', 'may', 'be', 'nearly', 'all', 'white']\n",
            "['The', 'coyote', 'Canis', 'latrans', 'is', 'a', 'species', 'of', 'canine', 'native', 'to', 'North', 'America', 'It', 'is', 'smaller', 'than', 'its', 'close', 'relative', 'the', 'gray', 'wolf', 'and', 'slightly', 'smaller', 'than', 'the', 'closely', 'related', 'eastern', 'wolf', 'and', 'red', 'wolf', 'It', 'fills', 'much', 'of', 'the', 'same', 'ecological', 'niche', 'as', 'the', 'golden', 'jackal', 'does', 'in', 'Eurasia', 'though', 'it', 'is', 'larger', 'and', 'more', 'predatory', 'and', 'is', 'sometimes', 'called', 'the', 'American', 'jackal', 'by', 'zoologists', 'Other', 'names', 'for', 'the', 'species', 'largely', 'historical', 'include', 'the', 'prairie', 'wolf', 'and', 'the', 'brush', 'wolf']\n",
            "['The', 'African', 'golden', 'wolf', 'Canis', 'anthus', 'or', 'Canis', 'lupaster', 'is', 'a', 'canine', 'native', 'to', 'North', 'Africa', 'and', 'the', 'Horn', 'of', 'Africa', 'It', 'is', 'the', 'descendant', 'of', 'a', 'genetically', 'admixed', 'canid', 'of', '72%', 'gray', 'wolf', 'and', '28%', 'Ethiopian', 'wolf', 'ancestry', 'It', 'occurs', 'in', 'Senegal', 'Nigeria', 'Chad', 'Morocco', 'Algeria', 'Tunisia', 'Libya', 'Kenya', 'and', 'Egypt', 'and', 'in', 'Tanzania', 'It', 'is', 'listed', 'as', 'Least', 'Concern', 'on', 'the', 'IUCN', 'Red', 'List', 'In', 'the', 'Atlas', 'Mountains', 'it', 'was', 'sighted', 'in', 'elevations', 'as', 'high', 'as', '1800', 'm', '5900', 'ft', 'It', 'is', 'primarily', 'a', 'predator', 'targeting', 'invertebrates', 'and', 'mammals', 'as', 'large', 'as', 'gazelle', 'fawns', 'though', 'larger', 'animals', 'are', 'sometimes', 'taken', 'Its', 'diet', 'also', 'includes', 'animal', 'carcasses', 'human', 'refuse', 'and', 'fruit', 'The', 'African', 'golden', 'wolf', 'is', 'a', 'monogamous', 'and', 'territorial', 'species', 'offspring', 'remain', 'with', 'the', 'family', 'to', 'assist', 'in', 'raising', 'their', \"parents'\", 'younger', 'pups']\n",
            "['The', 'dhole', 'Cuon', 'alpinus', 'is', 'a', 'canid', 'native', 'to', 'Central', 'South', 'East', 'Asia', 'and', 'Southeast', 'Asia', 'Other', 'English', 'names', 'for', 'the', 'species', 'include', 'Asian', 'wild', 'dog', 'Asiatic', 'wild', 'dog', 'Indian', 'wild', 'dog', 'whistling', 'dog', 'red', 'dog', 'and', 'mountain', 'wolf', 'It', 'is', 'genetically', 'close', 'to', 'species', 'within', 'the', 'genus', 'Canis', 'but', 'distinct', 'in', 'several', 'anatomical', 'aspects:', 'its', 'skull', 'is', 'convex', 'rather', 'than', 'concave', 'in', 'profile', 'it', 'lacks', 'a', 'third', 'lower', 'molar', 'and', 'the', 'upper', 'molars', 'sport', 'only', 'a', 'single', 'cusp', 'as', 'opposed', 'to', 'between', 'two', 'and', 'four', 'During', 'the', 'Pleistocene', 'the', 'dhole', 'ranged', 'throughout', 'Asia', 'Europe', 'and', 'North', 'America', 'but', 'became', 'restricted', 'to', 'its', 'historical', 'range', '12000–18000', 'years', 'ago']\n",
            "['The', 'African', 'wild', 'dog', 'Lycaon', 'pictus', 'also', 'called', 'the', 'painted', 'wolf', 'or', 'Cape', 'hunting', 'dog', 'is', 'a', 'canine', 'native', 'to', 'sub-Saharan', 'Africa', 'It', 'is', 'the', 'largest', 'indigenous', 'canine', 'in', 'Africa', 'and', 'the', 'only', 'extant', 'member', 'of', 'the', 'genus', 'Lycaon', 'which', 'is', 'distinguished', 'from', 'Canis', 'by', 'dentition', 'highly', 'specialised', 'for', 'a', 'hypercarnivorous', 'diet', 'and', 'a', 'lack', 'of', 'dewclaws', 'It', 'is', 'estimated', 'that', 'about', '6600', 'adults', 'including', '1400', 'mature', 'individuals', 'live', 'in', '39', 'subpopulations', 'that', 'are', 'all', 'threatened', 'by', 'habitat', 'fragmentation', 'human', 'persecution', 'and', 'outbreaks', 'of', 'diseases', 'As', 'the', 'largest', 'subpopulation', 'probably', 'consists', 'of', 'less', 'than', '250', 'individuals', 'the', 'African', 'wild', 'dog', 'is', 'listed', 'as', 'endangered', 'on', 'the', 'IUCN', 'Red', 'List', 'since', '1990']\n",
            "['The', 'red', 'fox', 'Vulpes', 'vulpes', 'is', 'the', 'largest', 'of', 'the', 'true', 'foxes', 'and', 'one', 'of', 'the', 'most', 'widely', 'distributed', 'members', 'of', 'the', 'order', 'Carnivora', 'being', 'present', 'across', 'the', 'entire', 'Northern', 'Hemisphere', 'including', 'most', 'of', 'North', 'America', 'Europe', 'and', 'Asia', 'plus', 'parts', 'of', 'Northern', 'Africa', 'It', 'is', 'listed', 'as', 'least', 'concern', 'by', 'the', 'IUCN', 'Its', 'range', 'has', 'increased', 'alongside', 'human', 'expansion', 'having', 'been', 'introduced', 'to', 'Australia', 'where', 'it', 'is', 'considered', 'harmful', 'to', 'native', 'mammals', 'and', 'bird', 'populations', 'Due', 'to', 'its', 'presence', 'in', 'Australia', 'it', 'is', 'included', 'on', 'the', 'list', 'of', 'the', '\"world\\'s', '100', 'worst', 'invasive', 'species\"']\n",
            "['The', 'Arctic', 'fox', 'Vulpes', 'lagopus', 'also', 'known', 'as', 'the', 'white', 'fox', 'polar', 'fox', 'or', 'snow', 'fox', 'is', 'a', 'small', 'fox', 'native', 'to', 'the', 'Arctic', 'regions', 'of', 'the', 'Northern', 'Hemisphere', 'and', 'common', 'throughout', 'the', 'Arctic', 'tundra', 'biome', 'It', 'is', 'well', 'adapted', 'to', 'living', 'in', 'cold', 'environments', 'and', 'is', 'best', 'known', 'for', 'its', 'thick', 'warm', 'fur', 'that', 'is', 'also', 'used', 'as', 'camouflage', 'In', 'the', 'wild', 'most', 'individuals', 'do', 'not', 'live', 'past', 'their', 'first', 'year', 'but', 'some', 'exceptional', 'ones', 'survive', 'up', 'to', '11', 'years', 'Its', 'body', 'length', 'ranges', 'from', '46', 'to', '68', 'cm', '18', 'to', '27', 'in', 'with', 'a', 'generally', 'rounded', 'body', 'shape', 'to', 'minimize', 'the', 'escape', 'of', 'body', 'heat']\n",
            "['The', 'fennec', 'fox', 'Vulpes', 'zerda', 'also', 'called', 'fennec', 'or', 'desert', 'fox', 'is', 'a', 'small', 'crepuscular', 'fox', 'native', 'to', 'the', 'Sahara', 'Desert', 'the', 'Sinai', 'Peninsula', 'Arava', 'desert', 'and', 'the', 'Arabian', 'desert', 'Its', 'most', 'distinctive', 'feature', 'is', 'its', 'unusually', 'large', 'ears', 'which', 'also', 'serve', 'to', 'dissipate', 'heat', 'Its', 'name', 'comes', 'from', 'this', \"species'\", 'name', 'in', 'Arabic:', 'fanak', 'The', 'fennec', 'is', 'the', 'smallest', 'species', 'of', 'canid', 'Its', 'coat', 'ears', 'and', 'kidney', 'functions', 'have', 'adapted', 'to', 'high-temperature', 'low-water', 'desert', 'environments', 'Also', 'its', 'hearing', 'is', 'sensitive', 'enough', 'to', 'hear', 'prey', 'moving', 'underground', 'It', 'mainly', 'eats', 'insects', 'small', 'mammals', 'and', 'birds']\n",
            "['Kitsune', 'in', 'the', 'literal', 'sense', 'is', 'the', 'Japanese', 'word', 'for', 'fox', 'Foxes', 'are', 'a', 'common', 'subject', 'of', 'Japanese', 'folklore;', 'in', 'English', 'kitsune', 'refers', 'to', 'them', 'in', 'this', 'context', 'Stories', 'depict', 'legendary', 'foxes', 'as', 'intelligent', 'beings', 'and', 'as', 'possessing', 'paranormal', 'abilities', 'that', 'increase', 'with', 'their', 'age', 'and', 'wisdom', 'According', 'to', 'Yōkai', 'folklore', 'all', 'foxes', 'have', 'the', 'ability', 'to', 'shapeshift', 'into', 'human', 'form', 'While', 'some', 'folktales', 'speak', 'of', 'kitsune', 'employing', 'this', 'ability', 'to', 'trick', 'others', '–', 'as', 'foxes', 'in', 'folklore', 'often', 'do', '–', 'other', 'stories', 'portray', 'them', 'as', 'faithful', 'guardians', 'friends', 'lovers', 'and', 'wives', 'Foxes', 'and', 'humans', 'lived', 'close', 'together', 'in', 'ancient', 'Japan;', 'this', 'companionship', 'gave', 'rise', 'to', 'legends', 'about', 'the', 'creatures', 'Kitsune', 'have', 'become', 'closely', 'associated', 'with', 'Inari', 'a', 'Shinto', 'kami', 'or', 'spirit', 'and', 'serve', 'as', 'its', 'messengers', 'This', 'role', 'has', 'reinforced', 'the', \"fox's\", 'supernatural', 'significance', 'The', 'more', 'tails', 'a', 'kitsune', 'has', '–', 'they', 'may', 'have', 'as', 'many', 'as', 'nine', '–', 'the', 'older', 'wiser', 'and', 'more', 'powerful', 'it', 'is', 'Because', 'of', 'their', 'potential', 'power', 'and', 'influence', 'some', 'people', 'make', 'sacrifices', 'to', 'them', 'as', 'to', 'a', 'deity']\n"
          ],
          "name": "stdout"
        }
      ]
    },
    {
      "cell_type": "code",
      "metadata": {
        "id": "w5hELwvb6tO4",
        "colab_type": "code",
        "colab": {
          "base_uri": "https://localhost:8080/",
          "height": 211
        },
        "outputId": "d39b3e76-b5b3-4096-8514-c666f596f7b2"
      },
      "source": [
        "# lemmatize\n",
        "def lemmatize_word(word_set):\n",
        "  ret = []\n",
        "  for word in word_set:\n",
        "    word=word.lower()\n",
        "    lemma = wn.morphy(word)\n",
        "    if lemma is None:\n",
        "      ret.append(word)\n",
        "    else:\n",
        "      ret.append(lemma)\n",
        "  return ret\n",
        "\n",
        "for i in range(len(text_name)):\n",
        "  name = text_name[i]\n",
        "  word_set = text_tokenized[name]\n",
        "  print(lemmatize_word(word_set))"
      ],
      "execution_count": 47,
      "outputs": [
        {
          "output_type": "stream",
          "text": [
            "['canis', 'be', 'a', 'genus', 'of', 'the', 'caninae', 'contain', 'multiple', 'extant', 'species', 'such', 'as', 'wolf', 'dog', 'coyote', 'and', 'jackal', 'species', 'of', 'this', 'genus', 'are', 'distinguish', 'by', 'their', 'moderate', 'to', 'large', 'size', 'their', 'massive', 'well-developed', 'skull', 'and', 'dentition', 'long', 'legs', 'and', 'comparatively', 'short', 'ear', 'and', 'tails']\n",
            "['the', 'wolf', 'canis', 'lupus', 'also', 'know', 'as', 'the', 'gray', 'wolf', 'or', 'grey', 'wolf', 'be', 'a', 'large', 'canine', 'native', 'to', 'eurasia', 'and', 'north', 'america', 'more', 'than', 'thirty', 'subspecies', 'of', 'canis', 'lupus', 'have', 'be', 'recognize', 'and', 'gray', 'wolf', 'as', 'colloquially', 'understand', 'comprise', 'non-domestic/feral', 'subspecies', 'the', 'wolf', 'be', 'the', 'large', 'extant', 'member', 'of', 'canidae', 'male', 'average', '40', 'kg', '88', 'lb', 'and', 'female', '37', 'kg', '82', 'lb', 'wolf', 'measure', '105–160', 'cm', '41–63', 'in', 'in', 'length', 'and', '80–85', 'cm', '31–33', 'in', 'at', 'shoulder', 'height', 'the', 'wolf', 'be', 'also', 'distinguish', 'from', 'other', 'canis', 'species', 'by', 'it', 'le', 'point', 'ear', 'and', 'muzzle', 'as', 'well', 'as', 'a', 'short', 'torso', 'and', 'a', 'longer', 'tail', 'the', 'wolf', 'be', 'nonetheless', 'relate', 'closely', 'enough', 'to', 'smaller', 'canis', 'species', 'such', 'as', 'the', 'coyote', 'and', 'the', 'golden', 'jackal', 'to', 'produce', 'fertile', 'hybrid', 'with', 'them', 'the', 'band', 'fur', 'of', 'a', 'wolf', 'be', 'usually', 'mottle', 'white', 'brown', 'gray', 'and', 'black', 'although', 'subspecies', 'in', 'the', 'arctic', 'region', 'may', 'be', 'nearly', 'all', 'white']\n",
            "['the', 'coyote', 'canis', 'latrans', 'be', 'a', 'species', 'of', 'canine', 'native', 'to', 'north', 'america', 'it', 'be', 'smaller', 'than', 'it', 'close', 'relative', 'the', 'gray', 'wolf', 'and', 'slightly', 'smaller', 'than', 'the', 'closely', 'relate', 'eastern', 'wolf', 'and', 'red', 'wolf', 'it', 'fill', 'much', 'of', 'the', 'same', 'ecological', 'niche', 'as', 'the', 'golden', 'jackal', 'doe', 'in', 'eurasia', 'though', 'it', 'be', 'larger', 'and', 'more', 'predatory', 'and', 'be', 'sometimes', 'call', 'the', 'american', 'jackal', 'by', 'zoologist', 'other', 'names', 'for', 'the', 'species', 'largely', 'historical', 'include', 'the', 'prairie', 'wolf', 'and', 'the', 'brush', 'wolf']\n",
            "['the', 'african', 'golden', 'wolf', 'canis', 'anthus', 'or', 'canis', 'lupaster', 'be', 'a', 'canine', 'native', 'to', 'north', 'africa', 'and', 'the', 'horn', 'of', 'africa', 'it', 'be', 'the', 'descendant', 'of', 'a', 'genetically', 'admix', 'canid', 'of', '72%', 'gray', 'wolf', 'and', '28%', 'ethiopian', 'wolf', 'ancestry', 'it', 'occur', 'in', 'senegal', 'nigeria', 'chad', 'morocco', 'algeria', 'tunisia', 'libya', 'kenya', 'and', 'egypt', 'and', 'in', 'tanzania', 'it', 'be', 'list', 'as', 'least', 'concern', 'on', 'the', 'iucn', 'red', 'list', 'in', 'the', 'atlas', 'mountain', 'it', 'wa', 'sight', 'in', 'elevation', 'as', 'high', 'as', '1800', 'm', '5900', 'ft', 'it', 'be', 'primarily', 'a', 'predator', 'target', 'invertebrate', 'and', 'mammal', 'as', 'large', 'as', 'gazelle', 'fawn', 'though', 'larger', 'animal', 'are', 'sometimes', 'take', 'it', 'diet', 'also', 'include', 'animal', 'carcass', 'human', 'refuse', 'and', 'fruit', 'the', 'african', 'golden', 'wolf', 'be', 'a', 'monogamous', 'and', 'territorial', 'species', 'offspring', 'remain', 'with', 'the', 'family', 'to', 'assist', 'in', 'raising', 'their', \"parents'\", 'younger', 'pup']\n",
            "['the', 'dhole', 'cuon', 'alpinus', 'be', 'a', 'canid', 'native', 'to', 'central', 'south', 'east', 'asia', 'and', 'southeast', 'asia', 'other', 'english', 'names', 'for', 'the', 'species', 'include', 'asian', 'wild', 'dog', 'asiatic', 'wild', 'dog', 'indian', 'wild', 'dog', 'whistling', 'dog', 'red', 'dog', 'and', 'mountain', 'wolf', 'it', 'be', 'genetically', 'close', 'to', 'species', 'within', 'the', 'genus', 'canis', 'but', 'distinct', 'in', 'several', 'anatomical', 'aspects:', 'it', 'skull', 'be', 'convex', 'rather', 'than', 'concave', 'in', 'profile', 'it', 'lack', 'a', 'third', 'lower', 'molar', 'and', 'the', 'upper', 'molar', 'sport', 'only', 'a', 'single', 'cusp', 'as', 'oppose', 'to', 'between', 'two', 'and', 'four', 'during', 'the', 'pleistocene', 'the', 'dhole', 'range', 'throughout', 'asia', 'europe', 'and', 'north', 'america', 'but', 'become', 'restrict', 'to', 'it', 'historical', 'range', '12000–18000', 'years', 'ago']\n",
            "['the', 'african', 'wild', 'dog', 'lycaon', 'pictus', 'also', 'call', 'the', 'paint', 'wolf', 'or', 'cape', 'hunting', 'dog', 'be', 'a', 'canine', 'native', 'to', 'sub-saharan', 'africa', 'it', 'be', 'the', 'large', 'indigenous', 'canine', 'in', 'africa', 'and', 'the', 'only', 'extant', 'member', 'of', 'the', 'genus', 'lycaon', 'which', 'be', 'distinguish', 'from', 'canis', 'by', 'dentition', 'highly', 'specialise', 'for', 'a', 'hypercarnivorous', 'diet', 'and', 'a', 'lack', 'of', 'dewclaws', 'it', 'be', 'estimate', 'that', 'about', '6600', 'adult', 'include', '1400', 'mature', 'individual', 'live', 'in', '39', 'subpopulation', 'that', 'are', 'all', 'threaten', 'by', 'habitat', 'fragmentation', 'human', 'persecution', 'and', 'outbreak', 'of', 'disease', 'as', 'the', 'large', 'subpopulation', 'probably', 'consist', 'of', 'le', 'than', '250', 'individual', 'the', 'african', 'wild', 'dog', 'be', 'list', 'as', 'endanger', 'on', 'the', 'iucn', 'red', 'list', 'since', '1990']\n",
            "['the', 'red', 'fox', 'vulpes', 'vulpes', 'be', 'the', 'large', 'of', 'the', 'true', 'fox', 'and', 'one', 'of', 'the', 'most', 'widely', 'distribute', 'member', 'of', 'the', 'order', 'carnivora', 'being', 'present', 'across', 'the', 'entire', 'northern', 'hemisphere', 'include', 'most', 'of', 'north', 'america', 'europe', 'and', 'asia', 'plus', 'parts', 'of', 'northern', 'africa', 'it', 'be', 'list', 'as', 'least', 'concern', 'by', 'the', 'iucn', 'it', 'range', 'ha', 'increase', 'alongside', 'human', 'expansion', 'have', 'be', 'introduce', 'to', 'australia', 'where', 'it', 'be', 'consider', 'harmful', 'to', 'native', 'mammal', 'and', 'bird', 'population', 'due', 'to', 'it', 'presence', 'in', 'australia', 'it', 'be', 'include', 'on', 'the', 'list', 'of', 'the', '\"world\\'s', '100', 'worst', 'invasive', 'species\"']\n",
            "['the', 'arctic', 'fox', 'vulpes', 'lagopus', 'also', 'know', 'as', 'the', 'white', 'fox', 'polar', 'fox', 'or', 'snow', 'fox', 'be', 'a', 'small', 'fox', 'native', 'to', 'the', 'arctic', 'region', 'of', 'the', 'northern', 'hemisphere', 'and', 'common', 'throughout', 'the', 'arctic', 'tundra', 'biome', 'it', 'be', 'well', 'adapt', 'to', 'living', 'in', 'cold', 'environment', 'and', 'be', 'best', 'know', 'for', 'it', 'thick', 'warm', 'fur', 'that', 'be', 'also', 'use', 'as', 'camouflage', 'in', 'the', 'wild', 'most', 'individual', 'do', 'not', 'live', 'past', 'their', 'first', 'year', 'but', 'some', 'exceptional', 'one', 'survive', 'up', 'to', '11', 'years', 'it', 'body', 'length', 'range', 'from', '46', 'to', '68', 'cm', '18', 'to', '27', 'in', 'with', 'a', 'generally', 'round', 'body', 'shape', 'to', 'minimize', 'the', 'escape', 'of', 'body', 'heat']\n",
            "['the', 'fennec', 'fox', 'vulpes', 'zerda', 'also', 'call', 'fennec', 'or', 'desert', 'fox', 'be', 'a', 'small', 'crepuscular', 'fox', 'native', 'to', 'the', 'sahara', 'desert', 'the', 'sinai', 'peninsula', 'arava', 'desert', 'and', 'the', 'arabian', 'desert', 'it', 'most', 'distinctive', 'feature', 'be', 'it', 'unusually', 'large', 'ear', 'which', 'also', 'serve', 'to', 'dissipate', 'heat', 'it', 'name', 'come', 'from', 'this', \"species'\", 'name', 'in', 'arabic:', 'fanak', 'the', 'fennec', 'be', 'the', 'small', 'species', 'of', 'canid', 'it', 'coat', 'ear', 'and', 'kidney', 'function', 'have', 'adapt', 'to', 'high-temperature', 'low-water', 'desert', 'environment', 'also', 'it', 'hearing', 'be', 'sensitive', 'enough', 'to', 'hear', 'prey', 'move', 'underground', 'it', 'mainly', 'eats', 'insect', 'small', 'mammal', 'and', 'bird']\n",
            "['kitsune', 'in', 'the', 'literal', 'sense', 'be', 'the', 'japanese', 'word', 'for', 'fox', 'fox', 'are', 'a', 'common', 'subject', 'of', 'japanese', 'folklore;', 'in', 'english', 'kitsune', 'refer', 'to', 'them', 'in', 'this', 'context', 'story', 'depict', 'legendary', 'fox', 'as', 'intelligent', 'being', 'and', 'as', 'possess', 'paranormal', 'ability', 'that', 'increase', 'with', 'their', 'age', 'and', 'wisdom', 'accord', 'to', 'yōkai', 'folklore', 'all', 'fox', 'have', 'the', 'ability', 'to', 'shapeshift', 'into', 'human', 'form', 'while', 'some', 'folktale', 'speak', 'of', 'kitsune', 'employ', 'this', 'ability', 'to', 'trick', 'others', '–', 'as', 'fox', 'in', 'folklore', 'often', 'do', '–', 'other', 'story', 'portray', 'them', 'as', 'faithful', 'guardian', 'friend', 'lover', 'and', 'wife', 'fox', 'and', 'humans', 'live', 'close', 'together', 'in', 'ancient', 'japan;', 'this', 'companionship', 'give', 'rise', 'to', 'legend', 'about', 'the', 'creature', 'kitsune', 'have', 'become', 'closely', 'associate', 'with', 'inari', 'a', 'shinto', 'kami', 'or', 'spirit', 'and', 'serve', 'as', 'it', 'messenger', 'this', 'role', 'ha', 'reinforce', 'the', \"fox's\", 'supernatural', 'significance', 'the', 'more', 'tails', 'a', 'kitsune', 'ha', '–', 'they', 'may', 'have', 'as', 'many', 'as', 'nine', '–', 'the', 'older', 'wise', 'and', 'more', 'powerful', 'it', 'be', 'because', 'of', 'their', 'potential', 'power', 'and', 'influence', 'some', 'people', 'make', 'sacrifice', 'to', 'them', 'as', 'to', 'a', 'deity']\n"
          ],
          "name": "stdout"
        }
      ]
    }
  ]
}