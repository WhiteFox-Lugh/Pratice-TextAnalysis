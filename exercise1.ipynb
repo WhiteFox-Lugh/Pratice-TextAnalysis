{
  "nbformat": 4,
  "nbformat_minor": 0,
  "metadata": {
    "colab": {
      "name": "exercise1.ipynb",
      "provenance": [],
      "collapsed_sections": [],
      "authorship_tag": "ABX9TyPixuLY4CuX+sKcmiepWcXi",
      "include_colab_link": true
    },
    "kernelspec": {
      "name": "python3",
      "display_name": "Python 3"
    }
  },
  "cells": [
    {
      "cell_type": "markdown",
      "metadata": {
        "id": "view-in-github",
        "colab_type": "text"
      },
      "source": [
        "<a href=\"https://colab.research.google.com/github/WhiteFox-Lugh/Pratice-TextAnalysis/blob/master/exercise1.ipynb\" target=\"_parent\"><img src=\"https://colab.research.google.com/assets/colab-badge.svg\" alt=\"Open In Colab\"/></a>"
      ]
    },
    {
      "cell_type": "markdown",
      "metadata": {
        "id": "qLc9NzIz_EkL",
        "colab_type": "text"
      },
      "source": [
        "# 情報システム論実習　テキスト分析　課題1\n",
        "\n",
        "逐次実行していけば所定の処理ができるようにしてあります。\n",
        "（ただし、外部テキストファイルなどは適切な場所に配置してください）"
      ]
    },
    {
      "cell_type": "markdown",
      "metadata": {
        "id": "rUBHJ7LjNM7y",
        "colab_type": "text"
      },
      "source": [
        "# 0. 前処理"
      ]
    },
    {
      "cell_type": "code",
      "metadata": {
        "id": "ITl8QGF_fuam",
        "colab_type": "code",
        "colab": {
          "base_uri": "https://localhost:8080/",
          "height": 367
        },
        "outputId": "e2828176-3ae8-4ad7-a477-061b505bd196"
      },
      "source": [
        "!pip install nltk\n",
        "!pip install gensim"
      ],
      "execution_count": 1,
      "outputs": [
        {
          "output_type": "stream",
          "text": [
            "Requirement already satisfied: nltk in /usr/local/lib/python3.6/dist-packages (3.2.5)\n",
            "Requirement already satisfied: six in /usr/local/lib/python3.6/dist-packages (from nltk) (1.12.0)\n",
            "Requirement already satisfied: gensim in /usr/local/lib/python3.6/dist-packages (3.6.0)\n",
            "Requirement already satisfied: smart-open>=1.2.1 in /usr/local/lib/python3.6/dist-packages (from gensim) (2.0.0)\n",
            "Requirement already satisfied: six>=1.5.0 in /usr/local/lib/python3.6/dist-packages (from gensim) (1.12.0)\n",
            "Requirement already satisfied: numpy>=1.11.3 in /usr/local/lib/python3.6/dist-packages (from gensim) (1.18.5)\n",
            "Requirement already satisfied: scipy>=0.18.1 in /usr/local/lib/python3.6/dist-packages (from gensim) (1.4.1)\n",
            "Requirement already satisfied: boto3 in /usr/local/lib/python3.6/dist-packages (from smart-open>=1.2.1->gensim) (1.14.9)\n",
            "Requirement already satisfied: requests in /usr/local/lib/python3.6/dist-packages (from smart-open>=1.2.1->gensim) (2.23.0)\n",
            "Requirement already satisfied: boto in /usr/local/lib/python3.6/dist-packages (from smart-open>=1.2.1->gensim) (2.49.0)\n",
            "Requirement already satisfied: botocore<1.18.0,>=1.17.9 in /usr/local/lib/python3.6/dist-packages (from boto3->smart-open>=1.2.1->gensim) (1.17.9)\n",
            "Requirement already satisfied: jmespath<1.0.0,>=0.7.1 in /usr/local/lib/python3.6/dist-packages (from boto3->smart-open>=1.2.1->gensim) (0.10.0)\n",
            "Requirement already satisfied: s3transfer<0.4.0,>=0.3.0 in /usr/local/lib/python3.6/dist-packages (from boto3->smart-open>=1.2.1->gensim) (0.3.3)\n",
            "Requirement already satisfied: certifi>=2017.4.17 in /usr/local/lib/python3.6/dist-packages (from requests->smart-open>=1.2.1->gensim) (2020.6.20)\n",
            "Requirement already satisfied: urllib3!=1.25.0,!=1.25.1,<1.26,>=1.21.1 in /usr/local/lib/python3.6/dist-packages (from requests->smart-open>=1.2.1->gensim) (1.24.3)\n",
            "Requirement already satisfied: chardet<4,>=3.0.2 in /usr/local/lib/python3.6/dist-packages (from requests->smart-open>=1.2.1->gensim) (3.0.4)\n",
            "Requirement already satisfied: idna<3,>=2.5 in /usr/local/lib/python3.6/dist-packages (from requests->smart-open>=1.2.1->gensim) (2.9)\n",
            "Requirement already satisfied: docutils<0.16,>=0.10 in /usr/local/lib/python3.6/dist-packages (from botocore<1.18.0,>=1.17.9->boto3->smart-open>=1.2.1->gensim) (0.15.2)\n",
            "Requirement already satisfied: python-dateutil<3.0.0,>=2.1 in /usr/local/lib/python3.6/dist-packages (from botocore<1.18.0,>=1.17.9->boto3->smart-open>=1.2.1->gensim) (2.8.1)\n"
          ],
          "name": "stdout"
        }
      ]
    },
    {
      "cell_type": "code",
      "metadata": {
        "id": "_fYUlrqdkxN8",
        "colab_type": "code",
        "colab": {}
      },
      "source": [
        "import nltk\n",
        "import numpy as np\n",
        "import pandas as pd\n",
        "import re\n",
        "from gensim import models\n",
        "from gensim.models.doc2vec import Doc2Vec\n",
        "from gensim.models.doc2vec import TaggedDocument\n",
        "from google.colab import drive\n",
        "from nltk.corpus import wordnet as wn\n",
        "from nltk.metrics import jaccard_distance\n",
        "from sklearn.feature_extraction.text import TfidfTransformer"
      ],
      "execution_count": 2,
      "outputs": []
    },
    {
      "cell_type": "code",
      "metadata": {
        "id": "myz7LS0D1HtQ",
        "colab_type": "code",
        "colab": {
          "base_uri": "https://localhost:8080/",
          "height": 139
        },
        "outputId": "badcb2d9-f187-4d8a-e8a9-994e4f79988c"
      },
      "source": [
        "nltk.download(\"stopwords\")\n",
        "nltk.download(\"wordnet\")\n",
        "nltk.download(\"punkt\")"
      ],
      "execution_count": 3,
      "outputs": [
        {
          "output_type": "stream",
          "text": [
            "[nltk_data] Downloading package stopwords to /root/nltk_data...\n",
            "[nltk_data]   Package stopwords is already up-to-date!\n",
            "[nltk_data] Downloading package wordnet to /root/nltk_data...\n",
            "[nltk_data]   Package wordnet is already up-to-date!\n",
            "[nltk_data] Downloading package punkt to /root/nltk_data...\n",
            "[nltk_data]   Package punkt is already up-to-date!\n"
          ],
          "name": "stdout"
        },
        {
          "output_type": "execute_result",
          "data": {
            "text/plain": [
              "True"
            ]
          },
          "metadata": {
            "tags": []
          },
          "execution_count": 3
        }
      ]
    },
    {
      "cell_type": "code",
      "metadata": {
        "id": "AHifWaoEvIre",
        "colab_type": "code",
        "colab": {
          "base_uri": "https://localhost:8080/",
          "height": 54
        },
        "outputId": "3d16cede-965b-4b01-dc54-45605ee52b13"
      },
      "source": [
        "# drive のマウント（colaboratory 用）\n",
        "drive.mount('/content/drive')"
      ],
      "execution_count": 4,
      "outputs": [
        {
          "output_type": "stream",
          "text": [
            "Drive already mounted at /content/drive; to attempt to forcibly remount, call drive.mount(\"/content/drive\", force_remount=True).\n"
          ],
          "name": "stdout"
        }
      ]
    },
    {
      "cell_type": "code",
      "metadata": {
        "id": "aTLU8BQ7xqDT",
        "colab_type": "code",
        "colab": {}
      },
      "source": [
        "# テキスト読み込み\n",
        "# テキストデータは適切なところに配置してください\n",
        "text_name = ['canis', 'wolf', 'coyote', 'african_golden_wolf', 'dhole', 'african_wild_dog', 'red_fox', 'arctic_fox', 'fennec_fox', 'kitsune']\n",
        "text_correction = {}\n",
        "for i in range(len(text_name)):\n",
        "  txt = f = open('drive/My Drive/Colab Notebooks/text' + str(i+1) + '.txt')\n",
        "  data = f.read()\n",
        "  name = text_name[i]\n",
        "  text_correction[name] = data"
      ],
      "execution_count": 5,
      "outputs": []
    },
    {
      "cell_type": "code",
      "metadata": {
        "id": "KtqDbaN2zxJr",
        "colab_type": "code",
        "colab": {
          "base_uri": "https://localhost:8080/",
          "height": 211
        },
        "outputId": "9d02b79e-4e00-4696-b39b-c6eb7ba1c74c"
      },
      "source": [
        "# 読み込み確認\n",
        "for txt in text_correction.values():\n",
        "  print(txt)"
      ],
      "execution_count": 6,
      "outputs": [
        {
          "output_type": "stream",
          "text": [
            "Canis is a genus of the Caninae containing multiple extant species, such as wolves, dogs, coyotes and jackals. Species of this genus are distinguished by their moderate to large size, their massive, well-developed skulls and dentition, long legs, and comparatively short ears and tails.\n",
            "The wolf (Canis lupus), also known as the gray wolf or grey wolf, is a large canine native to Eurasia and North America. More than thirty subspecies of Canis lupus have been recognized, and gray wolves, as colloquially understood, comprise non-domestic/feral subspecies. The wolf is the largest extant member of Canidae, males averaging 40 kg (88 lb) and females 37 kg (82 lb). Wolves measure 105–160 cm (41–63 in) in length and 80–85 cm (31–33 in) at shoulder height. The wolf is also distinguished from other Canis species by its less pointed ears and muzzle, as well as a shorter torso and a longer tail. The wolf is nonetheless related closely enough to smaller Canis species, such as the coyote and the golden jackal, to produce fertile hybrids with them. The banded fur of a wolf is usually mottled white, brown, gray, and black, although subspecies in the arctic region may be nearly all white. \n",
            "The coyote (Canis latrans) is a species of canine native to North America. It is smaller than its close relative, the gray wolf, and slightly smaller than the closely related eastern wolf and red wolf. It fills much of the same ecological niche as the golden jackal does in Eurasia, though it is larger and more predatory and is sometimes called the American jackal by zoologists. Other names for the species, largely historical, include the prairie wolf and the brush wolf. \n",
            "The African golden wolf (Canis anthus or Canis lupaster) is a canine native to North Africa and the Horn of Africa. It is the descendant of a genetically admixed canid of 72% gray wolf and 28% Ethiopian wolf ancestry. It occurs in Senegal, Nigeria, Chad, Morocco, Algeria, Tunisia, Libya , Kenya and Egypt, and in Tanzania. It is listed as Least Concern on the IUCN Red List. In the Atlas Mountains, it was sighted in elevations as high as 1,800 m (5,900 ft). It is primarily a predator, targeting invertebrates and mammals as large as gazelle fawns, though larger animals are sometimes taken. Its diet also includes animal carcasses, human refuse, and fruit. The African golden wolf is a monogamous and territorial species, offspring remain with the family to assist in raising their parents' younger pups.\n",
            "The dhole (Cuon alpinus) is a canid native to Central, South, East Asia, and Southeast Asia. Other English names for the species include Asian wild dog, Asiatic wild dog, Indian wild dog, whistling dog, red dog, and mountain wolf. It is genetically close to species within the genus Canis, but distinct in several anatomical aspects: its skull is convex rather than concave in profile, it lacks a third lower molar and the upper molars sport only a single cusp as opposed to between two and four. During the Pleistocene, the dhole ranged throughout Asia, Europe, and North America but became restricted to its historical range 12,000–18,000 years ago.\n",
            "The African wild dog (Lycaon pictus), also called the painted wolf or Cape hunting dog, is a canine native to sub-Saharan Africa. It is the largest indigenous canine in Africa, and the only extant member of the genus Lycaon, which is distinguished from Canis by dentition highly specialised for a hypercarnivorous diet, and a lack of dewclaws. It is estimated that about 6,600 adults including 1,400 mature individuals live in 39 subpopulations that are all threatened by habitat fragmentation, human persecution and outbreaks of diseases. As the largest subpopulation probably consists of less than 250 individuals, the African wild dog is listed as endangered on the IUCN Red List since 1990.\n",
            "The red fox (Vulpes vulpes) is the largest of the true foxes and one of the most widely distributed members of the order Carnivora, being present across the entire Northern Hemisphere including most of North America, Europe and Asia plus parts of Northern Africa. It is listed as least concern by the IUCN. Its range has increased alongside human expansion, having been introduced to Australia, where it is considered harmful to native mammals and bird populations. Due to its presence in Australia, it is included on the list of the \"world's 100 worst invasive species\".\n",
            "The Arctic fox (Vulpes lagopus), also known as the white fox, polar fox, or snow fox, is a small fox native to the Arctic regions of the Northern Hemisphere and common throughout the Arctic tundra biome. It is well adapted to living in cold environments, and is best known for its thick, warm fur that is also used as camouflage. In the wild, most individuals do not live past their first year but some exceptional ones survive up to 11 years. Its body length ranges from 46 to 68 cm (18 to 27 in), with a generally rounded body shape to minimize the escape of body heat.\n",
            "The fennec fox (Vulpes zerda), also called fennec or desert fox, is a small crepuscular fox native to the Sahara Desert, the Sinai Peninsula, Arava desert, and the Arabian desert. Its most distinctive feature is its unusually large ears, which also serve to dissipate heat. Its name comes from this species' name in Arabic: fanak. The fennec is the smallest species of canid. Its coat, ears, and kidney functions have adapted to high-temperature, low-water, desert environments. Also, its hearing is sensitive enough to hear prey moving underground. It mainly eats insects, small mammals, and birds.\n",
            "Kitsune in the literal sense is the Japanese word for fox. Foxes are a common subject of Japanese folklore; in English, kitsune refers to them in this context. Stories depict legendary foxes as intelligent beings and as possessing paranormal abilities that increase with their age and wisdom. According to Yōkai folklore, all foxes have the ability to shapeshift into human form. While some folktales speak of kitsune employing this ability to trick others – as foxes in folklore often do – other stories portray them as faithful guardians, friends, lovers, and wives. Foxes and humans lived close together in ancient Japan; this companionship gave rise to legends about the creatures. Kitsune have become closely associated with Inari, a Shinto kami or spirit, and serve as its messengers. This role has reinforced the fox's supernatural significance. The more tails a kitsune has – they may have as many as nine – the older, wiser, and more powerful it is. Because of their potential power and influence, some people make sacrifices to them as to a deity. \n"
          ],
          "name": "stdout"
        }
      ]
    },
    {
      "cell_type": "code",
      "metadata": {
        "id": "cjowdzQn0k1_",
        "colab_type": "code",
        "colab": {}
      },
      "source": [
        "# preprocessing\n",
        "# tokenize\n",
        "text_tokenized = {}\n",
        "\n",
        "def tokenize_text(text):\n",
        "  text = re.sub('[.,()\\[\\]\\-\\%]', '', text)\n",
        "  text = re.sub('[0-9]+', '', text)\n",
        "  text = re.sub('–', '', text)\n",
        "  ret = text.split()\n",
        "  return ret\n",
        "\n",
        "for i in range(len(text_name)):\n",
        "  name = text_name[i]\n",
        "  txt = text_correction[name]\n",
        "  text_tokenized[name] = tokenize_text(txt)"
      ],
      "execution_count": 7,
      "outputs": []
    },
    {
      "cell_type": "code",
      "metadata": {
        "id": "ridI1Zex47o_",
        "colab_type": "code",
        "colab": {
          "base_uri": "https://localhost:8080/",
          "height": 211
        },
        "outputId": "6018ca5f-4658-485b-f0a7-69692d923510"
      },
      "source": [
        "# tokenize 確認\n",
        "for txt in text_tokenized.values():\n",
        "  print(txt)"
      ],
      "execution_count": 8,
      "outputs": [
        {
          "output_type": "stream",
          "text": [
            "['Canis', 'is', 'a', 'genus', 'of', 'the', 'Caninae', 'containing', 'multiple', 'extant', 'species', 'such', 'as', 'wolves', 'dogs', 'coyotes', 'and', 'jackals', 'Species', 'of', 'this', 'genus', 'are', 'distinguished', 'by', 'their', 'moderate', 'to', 'large', 'size', 'their', 'massive', 'welldeveloped', 'skulls', 'and', 'dentition', 'long', 'legs', 'and', 'comparatively', 'short', 'ears', 'and', 'tails']\n",
            "['The', 'wolf', 'Canis', 'lupus', 'also', 'known', 'as', 'the', 'gray', 'wolf', 'or', 'grey', 'wolf', 'is', 'a', 'large', 'canine', 'native', 'to', 'Eurasia', 'and', 'North', 'America', 'More', 'than', 'thirty', 'subspecies', 'of', 'Canis', 'lupus', 'have', 'been', 'recognized', 'and', 'gray', 'wolves', 'as', 'colloquially', 'understood', 'comprise', 'nondomestic/feral', 'subspecies', 'The', 'wolf', 'is', 'the', 'largest', 'extant', 'member', 'of', 'Canidae', 'males', 'averaging', 'kg', 'lb', 'and', 'females', 'kg', 'lb', 'Wolves', 'measure', 'cm', 'in', 'in', 'length', 'and', 'cm', 'in', 'at', 'shoulder', 'height', 'The', 'wolf', 'is', 'also', 'distinguished', 'from', 'other', 'Canis', 'species', 'by', 'its', 'less', 'pointed', 'ears', 'and', 'muzzle', 'as', 'well', 'as', 'a', 'shorter', 'torso', 'and', 'a', 'longer', 'tail', 'The', 'wolf', 'is', 'nonetheless', 'related', 'closely', 'enough', 'to', 'smaller', 'Canis', 'species', 'such', 'as', 'the', 'coyote', 'and', 'the', 'golden', 'jackal', 'to', 'produce', 'fertile', 'hybrids', 'with', 'them', 'The', 'banded', 'fur', 'of', 'a', 'wolf', 'is', 'usually', 'mottled', 'white', 'brown', 'gray', 'and', 'black', 'although', 'subspecies', 'in', 'the', 'arctic', 'region', 'may', 'be', 'nearly', 'all', 'white']\n",
            "['The', 'coyote', 'Canis', 'latrans', 'is', 'a', 'species', 'of', 'canine', 'native', 'to', 'North', 'America', 'It', 'is', 'smaller', 'than', 'its', 'close', 'relative', 'the', 'gray', 'wolf', 'and', 'slightly', 'smaller', 'than', 'the', 'closely', 'related', 'eastern', 'wolf', 'and', 'red', 'wolf', 'It', 'fills', 'much', 'of', 'the', 'same', 'ecological', 'niche', 'as', 'the', 'golden', 'jackal', 'does', 'in', 'Eurasia', 'though', 'it', 'is', 'larger', 'and', 'more', 'predatory', 'and', 'is', 'sometimes', 'called', 'the', 'American', 'jackal', 'by', 'zoologists', 'Other', 'names', 'for', 'the', 'species', 'largely', 'historical', 'include', 'the', 'prairie', 'wolf', 'and', 'the', 'brush', 'wolf']\n",
            "['The', 'African', 'golden', 'wolf', 'Canis', 'anthus', 'or', 'Canis', 'lupaster', 'is', 'a', 'canine', 'native', 'to', 'North', 'Africa', 'and', 'the', 'Horn', 'of', 'Africa', 'It', 'is', 'the', 'descendant', 'of', 'a', 'genetically', 'admixed', 'canid', 'of', 'gray', 'wolf', 'and', 'Ethiopian', 'wolf', 'ancestry', 'It', 'occurs', 'in', 'Senegal', 'Nigeria', 'Chad', 'Morocco', 'Algeria', 'Tunisia', 'Libya', 'Kenya', 'and', 'Egypt', 'and', 'in', 'Tanzania', 'It', 'is', 'listed', 'as', 'Least', 'Concern', 'on', 'the', 'IUCN', 'Red', 'List', 'In', 'the', 'Atlas', 'Mountains', 'it', 'was', 'sighted', 'in', 'elevations', 'as', 'high', 'as', 'm', 'ft', 'It', 'is', 'primarily', 'a', 'predator', 'targeting', 'invertebrates', 'and', 'mammals', 'as', 'large', 'as', 'gazelle', 'fawns', 'though', 'larger', 'animals', 'are', 'sometimes', 'taken', 'Its', 'diet', 'also', 'includes', 'animal', 'carcasses', 'human', 'refuse', 'and', 'fruit', 'The', 'African', 'golden', 'wolf', 'is', 'a', 'monogamous', 'and', 'territorial', 'species', 'offspring', 'remain', 'with', 'the', 'family', 'to', 'assist', 'in', 'raising', 'their', \"parents'\", 'younger', 'pups']\n",
            "['The', 'dhole', 'Cuon', 'alpinus', 'is', 'a', 'canid', 'native', 'to', 'Central', 'South', 'East', 'Asia', 'and', 'Southeast', 'Asia', 'Other', 'English', 'names', 'for', 'the', 'species', 'include', 'Asian', 'wild', 'dog', 'Asiatic', 'wild', 'dog', 'Indian', 'wild', 'dog', 'whistling', 'dog', 'red', 'dog', 'and', 'mountain', 'wolf', 'It', 'is', 'genetically', 'close', 'to', 'species', 'within', 'the', 'genus', 'Canis', 'but', 'distinct', 'in', 'several', 'anatomical', 'aspects:', 'its', 'skull', 'is', 'convex', 'rather', 'than', 'concave', 'in', 'profile', 'it', 'lacks', 'a', 'third', 'lower', 'molar', 'and', 'the', 'upper', 'molars', 'sport', 'only', 'a', 'single', 'cusp', 'as', 'opposed', 'to', 'between', 'two', 'and', 'four', 'During', 'the', 'Pleistocene', 'the', 'dhole', 'ranged', 'throughout', 'Asia', 'Europe', 'and', 'North', 'America', 'but', 'became', 'restricted', 'to', 'its', 'historical', 'range', 'years', 'ago']\n",
            "['The', 'African', 'wild', 'dog', 'Lycaon', 'pictus', 'also', 'called', 'the', 'painted', 'wolf', 'or', 'Cape', 'hunting', 'dog', 'is', 'a', 'canine', 'native', 'to', 'subSaharan', 'Africa', 'It', 'is', 'the', 'largest', 'indigenous', 'canine', 'in', 'Africa', 'and', 'the', 'only', 'extant', 'member', 'of', 'the', 'genus', 'Lycaon', 'which', 'is', 'distinguished', 'from', 'Canis', 'by', 'dentition', 'highly', 'specialised', 'for', 'a', 'hypercarnivorous', 'diet', 'and', 'a', 'lack', 'of', 'dewclaws', 'It', 'is', 'estimated', 'that', 'about', 'adults', 'including', 'mature', 'individuals', 'live', 'in', 'subpopulations', 'that', 'are', 'all', 'threatened', 'by', 'habitat', 'fragmentation', 'human', 'persecution', 'and', 'outbreaks', 'of', 'diseases', 'As', 'the', 'largest', 'subpopulation', 'probably', 'consists', 'of', 'less', 'than', 'individuals', 'the', 'African', 'wild', 'dog', 'is', 'listed', 'as', 'endangered', 'on', 'the', 'IUCN', 'Red', 'List', 'since']\n",
            "['The', 'red', 'fox', 'Vulpes', 'vulpes', 'is', 'the', 'largest', 'of', 'the', 'true', 'foxes', 'and', 'one', 'of', 'the', 'most', 'widely', 'distributed', 'members', 'of', 'the', 'order', 'Carnivora', 'being', 'present', 'across', 'the', 'entire', 'Northern', 'Hemisphere', 'including', 'most', 'of', 'North', 'America', 'Europe', 'and', 'Asia', 'plus', 'parts', 'of', 'Northern', 'Africa', 'It', 'is', 'listed', 'as', 'least', 'concern', 'by', 'the', 'IUCN', 'Its', 'range', 'has', 'increased', 'alongside', 'human', 'expansion', 'having', 'been', 'introduced', 'to', 'Australia', 'where', 'it', 'is', 'considered', 'harmful', 'to', 'native', 'mammals', 'and', 'bird', 'populations', 'Due', 'to', 'its', 'presence', 'in', 'Australia', 'it', 'is', 'included', 'on', 'the', 'list', 'of', 'the', '\"world\\'s', 'worst', 'invasive', 'species\"']\n",
            "['The', 'Arctic', 'fox', 'Vulpes', 'lagopus', 'also', 'known', 'as', 'the', 'white', 'fox', 'polar', 'fox', 'or', 'snow', 'fox', 'is', 'a', 'small', 'fox', 'native', 'to', 'the', 'Arctic', 'regions', 'of', 'the', 'Northern', 'Hemisphere', 'and', 'common', 'throughout', 'the', 'Arctic', 'tundra', 'biome', 'It', 'is', 'well', 'adapted', 'to', 'living', 'in', 'cold', 'environments', 'and', 'is', 'best', 'known', 'for', 'its', 'thick', 'warm', 'fur', 'that', 'is', 'also', 'used', 'as', 'camouflage', 'In', 'the', 'wild', 'most', 'individuals', 'do', 'not', 'live', 'past', 'their', 'first', 'year', 'but', 'some', 'exceptional', 'ones', 'survive', 'up', 'to', 'years', 'Its', 'body', 'length', 'ranges', 'from', 'to', 'cm', 'to', 'in', 'with', 'a', 'generally', 'rounded', 'body', 'shape', 'to', 'minimize', 'the', 'escape', 'of', 'body', 'heat']\n",
            "['The', 'fennec', 'fox', 'Vulpes', 'zerda', 'also', 'called', 'fennec', 'or', 'desert', 'fox', 'is', 'a', 'small', 'crepuscular', 'fox', 'native', 'to', 'the', 'Sahara', 'Desert', 'the', 'Sinai', 'Peninsula', 'Arava', 'desert', 'and', 'the', 'Arabian', 'desert', 'Its', 'most', 'distinctive', 'feature', 'is', 'its', 'unusually', 'large', 'ears', 'which', 'also', 'serve', 'to', 'dissipate', 'heat', 'Its', 'name', 'comes', 'from', 'this', \"species'\", 'name', 'in', 'Arabic:', 'fanak', 'The', 'fennec', 'is', 'the', 'smallest', 'species', 'of', 'canid', 'Its', 'coat', 'ears', 'and', 'kidney', 'functions', 'have', 'adapted', 'to', 'hightemperature', 'lowwater', 'desert', 'environments', 'Also', 'its', 'hearing', 'is', 'sensitive', 'enough', 'to', 'hear', 'prey', 'moving', 'underground', 'It', 'mainly', 'eats', 'insects', 'small', 'mammals', 'and', 'birds']\n",
            "['Kitsune', 'in', 'the', 'literal', 'sense', 'is', 'the', 'Japanese', 'word', 'for', 'fox', 'Foxes', 'are', 'a', 'common', 'subject', 'of', 'Japanese', 'folklore;', 'in', 'English', 'kitsune', 'refers', 'to', 'them', 'in', 'this', 'context', 'Stories', 'depict', 'legendary', 'foxes', 'as', 'intelligent', 'beings', 'and', 'as', 'possessing', 'paranormal', 'abilities', 'that', 'increase', 'with', 'their', 'age', 'and', 'wisdom', 'According', 'to', 'Yōkai', 'folklore', 'all', 'foxes', 'have', 'the', 'ability', 'to', 'shapeshift', 'into', 'human', 'form', 'While', 'some', 'folktales', 'speak', 'of', 'kitsune', 'employing', 'this', 'ability', 'to', 'trick', 'others', 'as', 'foxes', 'in', 'folklore', 'often', 'do', 'other', 'stories', 'portray', 'them', 'as', 'faithful', 'guardians', 'friends', 'lovers', 'and', 'wives', 'Foxes', 'and', 'humans', 'lived', 'close', 'together', 'in', 'ancient', 'Japan;', 'this', 'companionship', 'gave', 'rise', 'to', 'legends', 'about', 'the', 'creatures', 'Kitsune', 'have', 'become', 'closely', 'associated', 'with', 'Inari', 'a', 'Shinto', 'kami', 'or', 'spirit', 'and', 'serve', 'as', 'its', 'messengers', 'This', 'role', 'has', 'reinforced', 'the', \"fox's\", 'supernatural', 'significance', 'The', 'more', 'tails', 'a', 'kitsune', 'has', 'they', 'may', 'have', 'as', 'many', 'as', 'nine', 'the', 'older', 'wiser', 'and', 'more', 'powerful', 'it', 'is', 'Because', 'of', 'their', 'potential', 'power', 'and', 'influence', 'some', 'people', 'make', 'sacrifices', 'to', 'them', 'as', 'to', 'a', 'deity']\n"
          ],
          "name": "stdout"
        }
      ]
    },
    {
      "cell_type": "code",
      "metadata": {
        "id": "w5hELwvb6tO4",
        "colab_type": "code",
        "colab": {}
      },
      "source": [
        "# lemmatize\n",
        "def lemmatize_word(word_set):\n",
        "  ret = []\n",
        "  for word in word_set:\n",
        "    word=word.lower()\n",
        "    lemma = wn.morphy(word)\n",
        "    if lemma is None:\n",
        "      ret.append(word)\n",
        "    else:\n",
        "      ret.append(lemma)\n",
        "  return ret"
      ],
      "execution_count": 9,
      "outputs": []
    },
    {
      "cell_type": "code",
      "metadata": {
        "id": "DPCLRTPUMibO",
        "colab_type": "code",
        "colab": {}
      },
      "source": [
        "preprocessed_docs = {}\n",
        "\n",
        "for i in range(len(text_name)):\n",
        "  name = text_name[i]\n",
        "  word_set = text_tokenized[name]\n",
        "  preprocessed_docs[name] = lemmatize_word(word_set)"
      ],
      "execution_count": 10,
      "outputs": []
    },
    {
      "cell_type": "code",
      "metadata": {
        "id": "1plFlOYFB1zj",
        "colab_type": "code",
        "colab": {
          "base_uri": "https://localhost:8080/",
          "height": 211
        },
        "outputId": "e6a214c7-00a5-4d03-b7b4-60db44957905"
      },
      "source": [
        "# preprocessing の check\n",
        "for doc in preprocessed_docs.values():\n",
        "  print(doc)"
      ],
      "execution_count": 11,
      "outputs": [
        {
          "output_type": "stream",
          "text": [
            "['canis', 'be', 'a', 'genus', 'of', 'the', 'caninae', 'contain', 'multiple', 'extant', 'species', 'such', 'as', 'wolf', 'dog', 'coyote', 'and', 'jackal', 'species', 'of', 'this', 'genus', 'are', 'distinguish', 'by', 'their', 'moderate', 'to', 'large', 'size', 'their', 'massive', 'welldeveloped', 'skull', 'and', 'dentition', 'long', 'legs', 'and', 'comparatively', 'short', 'ear', 'and', 'tails']\n",
            "['the', 'wolf', 'canis', 'lupus', 'also', 'know', 'as', 'the', 'gray', 'wolf', 'or', 'grey', 'wolf', 'be', 'a', 'large', 'canine', 'native', 'to', 'eurasia', 'and', 'north', 'america', 'more', 'than', 'thirty', 'subspecies', 'of', 'canis', 'lupus', 'have', 'be', 'recognize', 'and', 'gray', 'wolf', 'as', 'colloquially', 'understand', 'comprise', 'nondomestic/feral', 'subspecies', 'the', 'wolf', 'be', 'the', 'large', 'extant', 'member', 'of', 'canidae', 'male', 'average', 'kg', 'lb', 'and', 'female', 'kg', 'lb', 'wolf', 'measure', 'cm', 'in', 'in', 'length', 'and', 'cm', 'in', 'at', 'shoulder', 'height', 'the', 'wolf', 'be', 'also', 'distinguish', 'from', 'other', 'canis', 'species', 'by', 'it', 'le', 'point', 'ear', 'and', 'muzzle', 'as', 'well', 'as', 'a', 'short', 'torso', 'and', 'a', 'longer', 'tail', 'the', 'wolf', 'be', 'nonetheless', 'relate', 'closely', 'enough', 'to', 'smaller', 'canis', 'species', 'such', 'as', 'the', 'coyote', 'and', 'the', 'golden', 'jackal', 'to', 'produce', 'fertile', 'hybrid', 'with', 'them', 'the', 'band', 'fur', 'of', 'a', 'wolf', 'be', 'usually', 'mottle', 'white', 'brown', 'gray', 'and', 'black', 'although', 'subspecies', 'in', 'the', 'arctic', 'region', 'may', 'be', 'nearly', 'all', 'white']\n",
            "['the', 'coyote', 'canis', 'latrans', 'be', 'a', 'species', 'of', 'canine', 'native', 'to', 'north', 'america', 'it', 'be', 'smaller', 'than', 'it', 'close', 'relative', 'the', 'gray', 'wolf', 'and', 'slightly', 'smaller', 'than', 'the', 'closely', 'relate', 'eastern', 'wolf', 'and', 'red', 'wolf', 'it', 'fill', 'much', 'of', 'the', 'same', 'ecological', 'niche', 'as', 'the', 'golden', 'jackal', 'doe', 'in', 'eurasia', 'though', 'it', 'be', 'larger', 'and', 'more', 'predatory', 'and', 'be', 'sometimes', 'call', 'the', 'american', 'jackal', 'by', 'zoologist', 'other', 'names', 'for', 'the', 'species', 'largely', 'historical', 'include', 'the', 'prairie', 'wolf', 'and', 'the', 'brush', 'wolf']\n",
            "['the', 'african', 'golden', 'wolf', 'canis', 'anthus', 'or', 'canis', 'lupaster', 'be', 'a', 'canine', 'native', 'to', 'north', 'africa', 'and', 'the', 'horn', 'of', 'africa', 'it', 'be', 'the', 'descendant', 'of', 'a', 'genetically', 'admix', 'canid', 'of', 'gray', 'wolf', 'and', 'ethiopian', 'wolf', 'ancestry', 'it', 'occur', 'in', 'senegal', 'nigeria', 'chad', 'morocco', 'algeria', 'tunisia', 'libya', 'kenya', 'and', 'egypt', 'and', 'in', 'tanzania', 'it', 'be', 'list', 'as', 'least', 'concern', 'on', 'the', 'iucn', 'red', 'list', 'in', 'the', 'atlas', 'mountain', 'it', 'wa', 'sight', 'in', 'elevation', 'as', 'high', 'as', 'm', 'ft', 'it', 'be', 'primarily', 'a', 'predator', 'target', 'invertebrate', 'and', 'mammal', 'as', 'large', 'as', 'gazelle', 'fawn', 'though', 'larger', 'animal', 'are', 'sometimes', 'take', 'it', 'diet', 'also', 'include', 'animal', 'carcass', 'human', 'refuse', 'and', 'fruit', 'the', 'african', 'golden', 'wolf', 'be', 'a', 'monogamous', 'and', 'territorial', 'species', 'offspring', 'remain', 'with', 'the', 'family', 'to', 'assist', 'in', 'raising', 'their', \"parents'\", 'younger', 'pup']\n",
            "['the', 'dhole', 'cuon', 'alpinus', 'be', 'a', 'canid', 'native', 'to', 'central', 'south', 'east', 'asia', 'and', 'southeast', 'asia', 'other', 'english', 'names', 'for', 'the', 'species', 'include', 'asian', 'wild', 'dog', 'asiatic', 'wild', 'dog', 'indian', 'wild', 'dog', 'whistling', 'dog', 'red', 'dog', 'and', 'mountain', 'wolf', 'it', 'be', 'genetically', 'close', 'to', 'species', 'within', 'the', 'genus', 'canis', 'but', 'distinct', 'in', 'several', 'anatomical', 'aspects:', 'it', 'skull', 'be', 'convex', 'rather', 'than', 'concave', 'in', 'profile', 'it', 'lack', 'a', 'third', 'lower', 'molar', 'and', 'the', 'upper', 'molar', 'sport', 'only', 'a', 'single', 'cusp', 'as', 'oppose', 'to', 'between', 'two', 'and', 'four', 'during', 'the', 'pleistocene', 'the', 'dhole', 'range', 'throughout', 'asia', 'europe', 'and', 'north', 'america', 'but', 'become', 'restrict', 'to', 'it', 'historical', 'range', 'years', 'ago']\n",
            "['the', 'african', 'wild', 'dog', 'lycaon', 'pictus', 'also', 'call', 'the', 'paint', 'wolf', 'or', 'cape', 'hunting', 'dog', 'be', 'a', 'canine', 'native', 'to', 'subsaharan', 'africa', 'it', 'be', 'the', 'large', 'indigenous', 'canine', 'in', 'africa', 'and', 'the', 'only', 'extant', 'member', 'of', 'the', 'genus', 'lycaon', 'which', 'be', 'distinguish', 'from', 'canis', 'by', 'dentition', 'highly', 'specialise', 'for', 'a', 'hypercarnivorous', 'diet', 'and', 'a', 'lack', 'of', 'dewclaws', 'it', 'be', 'estimate', 'that', 'about', 'adult', 'include', 'mature', 'individual', 'live', 'in', 'subpopulation', 'that', 'are', 'all', 'threaten', 'by', 'habitat', 'fragmentation', 'human', 'persecution', 'and', 'outbreak', 'of', 'disease', 'as', 'the', 'large', 'subpopulation', 'probably', 'consist', 'of', 'le', 'than', 'individual', 'the', 'african', 'wild', 'dog', 'be', 'list', 'as', 'endanger', 'on', 'the', 'iucn', 'red', 'list', 'since']\n",
            "['the', 'red', 'fox', 'vulpes', 'vulpes', 'be', 'the', 'large', 'of', 'the', 'true', 'fox', 'and', 'one', 'of', 'the', 'most', 'widely', 'distribute', 'member', 'of', 'the', 'order', 'carnivora', 'being', 'present', 'across', 'the', 'entire', 'northern', 'hemisphere', 'include', 'most', 'of', 'north', 'america', 'europe', 'and', 'asia', 'plus', 'parts', 'of', 'northern', 'africa', 'it', 'be', 'list', 'as', 'least', 'concern', 'by', 'the', 'iucn', 'it', 'range', 'ha', 'increase', 'alongside', 'human', 'expansion', 'have', 'be', 'introduce', 'to', 'australia', 'where', 'it', 'be', 'consider', 'harmful', 'to', 'native', 'mammal', 'and', 'bird', 'population', 'due', 'to', 'it', 'presence', 'in', 'australia', 'it', 'be', 'include', 'on', 'the', 'list', 'of', 'the', '\"world\\'s', 'worst', 'invasive', 'species\"']\n",
            "['the', 'arctic', 'fox', 'vulpes', 'lagopus', 'also', 'know', 'as', 'the', 'white', 'fox', 'polar', 'fox', 'or', 'snow', 'fox', 'be', 'a', 'small', 'fox', 'native', 'to', 'the', 'arctic', 'region', 'of', 'the', 'northern', 'hemisphere', 'and', 'common', 'throughout', 'the', 'arctic', 'tundra', 'biome', 'it', 'be', 'well', 'adapt', 'to', 'living', 'in', 'cold', 'environment', 'and', 'be', 'best', 'know', 'for', 'it', 'thick', 'warm', 'fur', 'that', 'be', 'also', 'use', 'as', 'camouflage', 'in', 'the', 'wild', 'most', 'individual', 'do', 'not', 'live', 'past', 'their', 'first', 'year', 'but', 'some', 'exceptional', 'one', 'survive', 'up', 'to', 'years', 'it', 'body', 'length', 'range', 'from', 'to', 'cm', 'to', 'in', 'with', 'a', 'generally', 'round', 'body', 'shape', 'to', 'minimize', 'the', 'escape', 'of', 'body', 'heat']\n",
            "['the', 'fennec', 'fox', 'vulpes', 'zerda', 'also', 'call', 'fennec', 'or', 'desert', 'fox', 'be', 'a', 'small', 'crepuscular', 'fox', 'native', 'to', 'the', 'sahara', 'desert', 'the', 'sinai', 'peninsula', 'arava', 'desert', 'and', 'the', 'arabian', 'desert', 'it', 'most', 'distinctive', 'feature', 'be', 'it', 'unusually', 'large', 'ear', 'which', 'also', 'serve', 'to', 'dissipate', 'heat', 'it', 'name', 'come', 'from', 'this', \"species'\", 'name', 'in', 'arabic:', 'fanak', 'the', 'fennec', 'be', 'the', 'small', 'species', 'of', 'canid', 'it', 'coat', 'ear', 'and', 'kidney', 'function', 'have', 'adapt', 'to', 'hightemperature', 'lowwater', 'desert', 'environment', 'also', 'it', 'hearing', 'be', 'sensitive', 'enough', 'to', 'hear', 'prey', 'move', 'underground', 'it', 'mainly', 'eats', 'insect', 'small', 'mammal', 'and', 'bird']\n",
            "['kitsune', 'in', 'the', 'literal', 'sense', 'be', 'the', 'japanese', 'word', 'for', 'fox', 'fox', 'are', 'a', 'common', 'subject', 'of', 'japanese', 'folklore;', 'in', 'english', 'kitsune', 'refer', 'to', 'them', 'in', 'this', 'context', 'story', 'depict', 'legendary', 'fox', 'as', 'intelligent', 'being', 'and', 'as', 'possess', 'paranormal', 'ability', 'that', 'increase', 'with', 'their', 'age', 'and', 'wisdom', 'accord', 'to', 'yōkai', 'folklore', 'all', 'fox', 'have', 'the', 'ability', 'to', 'shapeshift', 'into', 'human', 'form', 'while', 'some', 'folktale', 'speak', 'of', 'kitsune', 'employ', 'this', 'ability', 'to', 'trick', 'others', 'as', 'fox', 'in', 'folklore', 'often', 'do', 'other', 'story', 'portray', 'them', 'as', 'faithful', 'guardian', 'friend', 'lover', 'and', 'wife', 'fox', 'and', 'humans', 'live', 'close', 'together', 'in', 'ancient', 'japan;', 'this', 'companionship', 'give', 'rise', 'to', 'legend', 'about', 'the', 'creature', 'kitsune', 'have', 'become', 'closely', 'associate', 'with', 'inari', 'a', 'shinto', 'kami', 'or', 'spirit', 'and', 'serve', 'as', 'it', 'messenger', 'this', 'role', 'ha', 'reinforce', 'the', \"fox's\", 'supernatural', 'significance', 'the', 'more', 'tails', 'a', 'kitsune', 'ha', 'they', 'may', 'have', 'as', 'many', 'as', 'nine', 'the', 'older', 'wise', 'and', 'more', 'powerful', 'it', 'be', 'because', 'of', 'their', 'potential', 'power', 'and', 'influence', 'some', 'people', 'make', 'sacrifice', 'to', 'them', 'as', 'to', 'a', 'deity']\n"
          ],
          "name": "stdout"
        }
      ]
    },
    {
      "cell_type": "code",
      "metadata": {
        "id": "FOubkHoqFKEA",
        "colab_type": "code",
        "colab": {}
      },
      "source": [
        "# 単語の set を構築する\n",
        "docs_words_set = {}\n",
        "\n",
        "for i in range(len(text_name)):\n",
        "  name = text_name[i]\n",
        "  words = preprocessed_docs[name]\n",
        "  docs_words_set[name] = set(words)"
      ],
      "execution_count": 12,
      "outputs": []
    },
    {
      "cell_type": "code",
      "metadata": {
        "id": "zREVEy0tLtV_",
        "colab_type": "code",
        "colab": {
          "base_uri": "https://localhost:8080/",
          "height": 211
        },
        "outputId": "5cc0317b-de83-4836-f2cb-869d39828b92"
      },
      "source": [
        "# set の check\n",
        "for word_set in docs_words_set.values():\n",
        "  print(word_set)"
      ],
      "execution_count": 13,
      "outputs": [
        {
          "output_type": "stream",
          "text": [
            "{'moderate', 'such', 'are', 'welldeveloped', 'the', 'tails', 'short', 'caninae', 'dog', 'coyote', 'of', 'dentition', 'wolf', 'as', 'contain', 'skull', 'be', 'canis', 'size', 'this', 'multiple', 'ear', 'distinguish', 'jackal', 'large', 'genus', 'by', 'to', 'massive', 'their', 'and', 'comparatively', 'a', 'legs', 'extant', 'long', 'species'}\n",
            "{'member', 'brown', 'female', 'muzzle', 'coyote', 'produce', 'as', 'eurasia', 'thirty', 'at', 'with', 'tail', 'colloquially', 'more', 'ear', 'may', 'cm', 'them', 'band', 'nonetheless', 'torso', 'male', 'nearly', 'lupus', 'fur', 'the', 'canine', 'of', 'arctic', 'wolf', 'be', 'enough', 'smaller', 'in', 'le', 'nondomestic/feral', 'north', 'measure', 'closely', 'have', 'shoulder', 'extant', 'white', 'species', 'other', 'although', 'golden', 'relate', 'all', 'point', 'well', 'subspecies', 'mottle', 'gray', 'jackal', 'large', 'from', 'native', 'black', 'height', 'such', 'than', 'lb', 'longer', 'usually', 'short', 'comprise', 'grey', 'know', 'also', 'it', 'canis', 'hybrid', 'distinguish', 'america', 'average', 'by', 'fertile', 'to', 'kg', 'and', 'region', 'a', 'or', 'length', 'canidae', 'recognize', 'understand'}\n",
            "{'largely', 'much', 'other', 'doe', 'niche', 'than', 'slightly', 'historical', 'larger', 'the', 'ecological', 'include', 'canine', 'golden', 'of', 'american', 'coyote', 'relate', 'call', 'wolf', 'as', 'prairie', 'eurasia', 'be', 'smaller', 'for', 'canis', 'sometimes', 'more', 'zoologist', 'gray', 'jackal', 'latrans', 'america', 'in', 'by', 'eastern', 'red', 'predatory', 'to', 'close', 'north', 'and', 'closely', 'brush', 'same', 'relative', 'fill', 'though', 'a', 'native', 'it', 'names', 'species'}\n",
            "{'algeria', 'descendant', 'invertebrate', 'admix', 'remain', 'target', 'iucn', 'take', 'ethiopian', 'as', 'canid', 'on', 'with', 'mammal', 'elevation', 'sometimes', 'younger', 'morocco', 'tanzania', 'predator', 'refuse', 'though', 'anthus', 'monogamous', 'the', 'canine', 'of', \"parents'\", 'wolf', 'offspring', 'animal', 'african', 'pup', 'be', 'egypt', 'libya', 'concern', 'in', 'ft', 'nigeria', 'fruit', 'red', 'atlas', 'family', 'north', 'chad', 'wa', 'species', 'assist', 'are', 'include', 'golden', 'human', 'lupaster', 'gray', 'large', 'senegal', 'carcass', 'territorial', 'primarily', 'native', 'list', 'high', 'larger', 'africa', 'kenya', 'tunisia', 'ancestry', 'also', 'canis', 'gazelle', 'horn', 'raising', 'genetically', 'mountain', 'sight', 'to', 'fawn', 'their', 'm', 'least', 'occur', 'and', 'a', 'or', 'it', 'diet'}\n",
            "{'asia', 'anatomical', 'alpinus', 'other', 'only', 'single', 'europe', 'than', 'historical', 'molar', 'aspects:', 'the', 'wild', 'include', 'within', 'convex', 'profile', 'dog', 'cusp', 'asiatic', 'restrict', 'cuon', 'wolf', 'whistling', 'as', 'skull', 'canid', 'east', 'upper', 'several', 'southeast', 'be', 'distinct', 'for', 'canis', 'lower', 'oppose', 'between', 'two', 'rather', 'sport', 'lack', 'america', 'mountain', 'asian', 'genetically', 'genus', 'but', 'in', 'south', 'red', 'four', 'ago', 'indian', 'pleistocene', 'to', 'central', 'close', 'range', 'years', 'dhole', 'during', 'north', 'become', 'and', 'throughout', 'third', 'concave', 'a', 'native', 'it', 'english', 'names', 'species'}\n",
            "{'which', 'about', 'member', 'are', 'only', 'than', 'the', 'wild', 'africa', 'adult', 'include', 'iucn', 'canine', 'dog', 'of', 'dentition', 'paint', 'highly', 'call', 'wolf', 'all', 'as', 'list', 'individual', 'human', 'consist', 'lycaon', 'also', 'african', 'be', 'cape', 'hunting', 'for', 'pictus', 'canis', 'that', 'mature', 'on', 'probably', 'threaten', 'habitat', 'live', 'subpopulation', 'lack', 'distinguish', 'outbreak', 'persecution', 'disease', 'large', 'indigenous', 'in', 'genus', 'by', 'fragmentation', 'le', 'endanger', 'dewclaws', 'red', 'estimate', 'to', 'specialise', 'hypercarnivorous', 'subsaharan', 'and', 'from', 'a', 'or', 'it', 'native', 'since', 'extant', 'diet'}\n",
            "{'asia', 'expansion', 'member', 'most', 'presence', 'europe', 'plus', 'parts', 'the', 'being', 'africa', 'iucn', 'northern', 'include', 'harmful', 'due', 'true', 'of', 'list', '\"world\\'s', 'invasive', 'as', 'human', 'vulpes', 'hemisphere', 'species\"', 'introduce', 'be', 'distribute', 'on', 'entire', 'mammal', 'carnivora', 'alongside', 'one', 'worst', 'large', 'america', 'concern', 'in', 'bird', 'across', 'by', 'consider', 'present', 'ha', 'red', 'increase', 'fox', 'to', 'range', 'order', 'least', 'north', 'where', 'and', 'widely', 'have', 'native', 'it', 'population', 'australia'}\n",
            "{'do', 'escape', 'small', 'body', 'most', 'adapt', 'fur', 'the', 'wild', 'living', 'past', 'northern', 'exceptional', 'not', 'camouflage', 'of', 'arctic', 'as', 'know', 'vulpes', 'individual', 'hemisphere', 'well', 'environment', 'biome', 'also', 'it', 'be', 'round', 'for', 'that', 'with', 'live', 'snow', 'first', 'tundra', 'one', 'survive', 'in', 'polar', 'but', 'length', 'up', 'year', 'heat', 'cm', 'warm', 'common', 'fox', 'to', 'best', 'their', 'cold', 'years', 'range', 'minimize', 'shape', 'and', 'throughout', 'lagopus', 'region', 'generally', 'use', 'from', 'a', 'or', 'native', 'thick', 'some', 'white'}\n",
            "{'which', 'sahara', 'small', 'hearing', 'feature', 'most', 'unusually', 'function', \"species'\", 'arabic:', 'adapt', 'the', 'arava', 'of', 'mainly', 'call', 'arabian', 'canid', 'name', 'vulpes', 'fennec', 'environment', 'sinai', 'also', 'move', 'it', 'be', 'enough', 'zerda', 'mammal', 'this', 'desert', 'eats', 'ear', 'peninsula', 'distinctive', 'large', 'in', 'prey', 'bird', 'come', 'hightemperature', 'serve', 'heat', 'sensitive', 'fox', 'underground', 'coat', 'to', 'fanak', 'kidney', 'and', 'insect', 'crepuscular', 'have', 'hear', 'dissipate', 'from', 'a', 'or', 'native', 'lowwater', 'species'}\n",
            "{'companionship', 'about', 'tails', 'ability', 'as', 'wife', 'rise', 'often', 'with', 'more', 'many', \"fox's\", 'may', 'them', 'make', 'close', 'give', 'sacrifice', 'they', 'do', 'associate', 'wise', 'possess', 'supernatural', 'reinforce', 'the', 'messenger', 'form', 'of', 'deity', 'shinto', 'folklore;', 'lover', 'story', 'yōkai', 'be', 'for', 'literal', 'this', 'context', 'significance', 'speak', 'in', 'role', 'serve', 'creature', 'into', 'closely', 'faithful', 'have', 'english', 'guardian', 'kami', 'are', 'other', 'humans', 'refer', 'legendary', 'together', 'because', 'all', 'shapeshift', 'human', 'wisdom', 'that', 'accord', 'portray', 'influence', 'live', 'subject', 'ancient', 'kitsune', 'nine', 'word', 'folklore', 'friend', 'common', 'fox', 'intelligent', 'become', 'others', 'older', 'inari', 'depict', 'legend', 'people', 'japanese', 'being', 'trick', 'spirit', 'power', 'paranormal', 'while', 'sense', 'folktale', 'powerful', 'ha', 'increase', 'employ', 'to', 'their', 'japan;', 'age', 'and', 'potential', 'a', 'or', 'it', 'some'}\n"
          ],
          "name": "stdout"
        }
      ]
    },
    {
      "cell_type": "code",
      "metadata": {
        "id": "76eXf8fdA81x",
        "colab_type": "code",
        "colab": {}
      },
      "source": [
        "# bag of words でベクトル化\n",
        "def bow_vectorizer(docs):\n",
        "  word2id = {}\n",
        "  for doc in docs.values():\n",
        "    for w in doc:\n",
        "      if w not in word2id:\n",
        "        word2id[w] = len(word2id)\n",
        "        \n",
        "  result_list = []\n",
        "  for doc in docs.values():\n",
        "    doc_vec = [0] * len(word2id)\n",
        "    for w in doc:\n",
        "      doc_vec[word2id[w]] += 1\n",
        "    result_list.append(doc_vec)\n",
        "  return result_list, word2id\n",
        "\n",
        "bow_vec_doc, word2id_doc = bow_vectorizer(preprocessed_docs)"
      ],
      "execution_count": 14,
      "outputs": []
    },
    {
      "cell_type": "code",
      "metadata": {
        "id": "qVq0r0MycrTf",
        "colab_type": "code",
        "colab": {
          "base_uri": "https://localhost:8080/",
          "height": 211
        },
        "outputId": "bdb1f268-3cea-411e-afc4-7c5a627dba77"
      },
      "source": [
        "# bow の check\n",
        "for i in range(len(text_name)):\n",
        "  name = text_name[i]\n",
        "  vector = bow_vec_doc[i]\n",
        "  print(\"vector(\" + name + \") -> \" + str(vector))"
      ],
      "execution_count": 15,
      "outputs": [
        {
          "output_type": "stream",
          "text": [
            "vector(canis) -> [1, 1, 1, 2, 2, 1, 1, 1, 1, 1, 2, 1, 1, 1, 1, 1, 4, 1, 1, 1, 1, 1, 2, 1, 1, 1, 1, 1, 1, 1, 1, 1, 1, 1, 1, 1, 1, 0, 0, 0, 0, 0, 0, 0, 0, 0, 0, 0, 0, 0, 0, 0, 0, 0, 0, 0, 0, 0, 0, 0, 0, 0, 0, 0, 0, 0, 0, 0, 0, 0, 0, 0, 0, 0, 0, 0, 0, 0, 0, 0, 0, 0, 0, 0, 0, 0, 0, 0, 0, 0, 0, 0, 0, 0, 0, 0, 0, 0, 0, 0, 0, 0, 0, 0, 0, 0, 0, 0, 0, 0, 0, 0, 0, 0, 0, 0, 0, 0, 0, 0, 0, 0, 0, 0, 0, 0, 0, 0, 0, 0, 0, 0, 0, 0, 0, 0, 0, 0, 0, 0, 0, 0, 0, 0, 0, 0, 0, 0, 0, 0, 0, 0, 0, 0, 0, 0, 0, 0, 0, 0, 0, 0, 0, 0, 0, 0, 0, 0, 0, 0, 0, 0, 0, 0, 0, 0, 0, 0, 0, 0, 0, 0, 0, 0, 0, 0, 0, 0, 0, 0, 0, 0, 0, 0, 0, 0, 0, 0, 0, 0, 0, 0, 0, 0, 0, 0, 0, 0, 0, 0, 0, 0, 0, 0, 0, 0, 0, 0, 0, 0, 0, 0, 0, 0, 0, 0, 0, 0, 0, 0, 0, 0, 0, 0, 0, 0, 0, 0, 0, 0, 0, 0, 0, 0, 0, 0, 0, 0, 0, 0, 0, 0, 0, 0, 0, 0, 0, 0, 0, 0, 0, 0, 0, 0, 0, 0, 0, 0, 0, 0, 0, 0, 0, 0, 0, 0, 0, 0, 0, 0, 0, 0, 0, 0, 0, 0, 0, 0, 0, 0, 0, 0, 0, 0, 0, 0, 0, 0, 0, 0, 0, 0, 0, 0, 0, 0, 0, 0, 0, 0, 0, 0, 0, 0, 0, 0, 0, 0, 0, 0, 0, 0, 0, 0, 0, 0, 0, 0, 0, 0, 0, 0, 0, 0, 0, 0, 0, 0, 0, 0, 0, 0, 0, 0, 0, 0, 0, 0, 0, 0, 0, 0, 0, 0, 0, 0, 0, 0, 0, 0, 0, 0, 0, 0, 0, 0, 0, 0, 0, 0, 0, 0, 0, 0, 0, 0, 0, 0, 0, 0, 0, 0, 0, 0, 0, 0, 0, 0, 0, 0, 0, 0, 0, 0, 0, 0, 0, 0, 0, 0, 0, 0, 0, 0, 0, 0, 0, 0, 0, 0, 0, 0, 0, 0, 0, 0, 0, 0, 0, 0, 0, 0, 0, 0, 0, 0, 0, 0, 0, 0, 0, 0, 0, 0, 0, 0, 0]\n",
            "vector(wolf) -> [4, 7, 4, 0, 3, 10, 0, 0, 0, 1, 2, 1, 5, 9, 0, 1, 8, 1, 0, 0, 1, 1, 0, 0, 3, 2, 0, 0, 0, 0, 0, 0, 0, 0, 1, 1, 0, 2, 2, 1, 3, 1, 1, 1, 1, 1, 1, 1, 1, 1, 1, 3, 1, 1, 1, 1, 1, 1, 1, 1, 1, 1, 2, 2, 1, 1, 2, 4, 1, 1, 1, 1, 1, 1, 1, 1, 1, 1, 1, 1, 1, 1, 1, 1, 1, 1, 1, 1, 1, 1, 1, 1, 1, 1, 1, 1, 1, 2, 1, 1, 1, 1, 1, 1, 1, 1, 0, 0, 0, 0, 0, 0, 0, 0, 0, 0, 0, 0, 0, 0, 0, 0, 0, 0, 0, 0, 0, 0, 0, 0, 0, 0, 0, 0, 0, 0, 0, 0, 0, 0, 0, 0, 0, 0, 0, 0, 0, 0, 0, 0, 0, 0, 0, 0, 0, 0, 0, 0, 0, 0, 0, 0, 0, 0, 0, 0, 0, 0, 0, 0, 0, 0, 0, 0, 0, 0, 0, 0, 0, 0, 0, 0, 0, 0, 0, 0, 0, 0, 0, 0, 0, 0, 0, 0, 0, 0, 0, 0, 0, 0, 0, 0, 0, 0, 0, 0, 0, 0, 0, 0, 0, 0, 0, 0, 0, 0, 0, 0, 0, 0, 0, 0, 0, 0, 0, 0, 0, 0, 0, 0, 0, 0, 0, 0, 0, 0, 0, 0, 0, 0, 0, 0, 0, 0, 0, 0, 0, 0, 0, 0, 0, 0, 0, 0, 0, 0, 0, 0, 0, 0, 0, 0, 0, 0, 0, 0, 0, 0, 0, 0, 0, 0, 0, 0, 0, 0, 0, 0, 0, 0, 0, 0, 0, 0, 0, 0, 0, 0, 0, 0, 0, 0, 0, 0, 0, 0, 0, 0, 0, 0, 0, 0, 0, 0, 0, 0, 0, 0, 0, 0, 0, 0, 0, 0, 0, 0, 0, 0, 0, 0, 0, 0, 0, 0, 0, 0, 0, 0, 0, 0, 0, 0, 0, 0, 0, 0, 0, 0, 0, 0, 0, 0, 0, 0, 0, 0, 0, 0, 0, 0, 0, 0, 0, 0, 0, 0, 0, 0, 0, 0, 0, 0, 0, 0, 0, 0, 0, 0, 0, 0, 0, 0, 0, 0, 0, 0, 0, 0, 0, 0, 0, 0, 0, 0, 0, 0, 0, 0, 0, 0, 0, 0, 0, 0, 0, 0, 0, 0, 0, 0, 0, 0, 0, 0, 0, 0, 0, 0, 0, 0, 0, 0, 0, 0, 0, 0, 0, 0, 0, 0, 0, 0, 0, 0, 0, 0, 0, 0, 0, 0, 0, 0, 0, 0, 0, 0, 0]\n",
            "vector(coyote) -> [1, 4, 1, 0, 2, 9, 0, 0, 0, 0, 2, 0, 1, 5, 0, 1, 5, 2, 0, 0, 0, 1, 0, 0, 1, 0, 0, 0, 0, 0, 0, 0, 0, 0, 0, 0, 0, 0, 0, 0, 1, 0, 0, 1, 1, 1, 1, 1, 1, 2, 0, 0, 0, 0, 0, 0, 0, 0, 0, 0, 0, 0, 0, 0, 0, 0, 0, 1, 0, 0, 0, 0, 0, 1, 4, 0, 0, 0, 0, 0, 0, 0, 0, 1, 1, 0, 2, 1, 0, 0, 0, 0, 0, 0, 0, 0, 0, 0, 0, 0, 0, 0, 0, 0, 0, 0, 1, 1, 1, 1, 1, 1, 1, 1, 1, 1, 1, 1, 1, 1, 1, 1, 1, 1, 1, 1, 1, 1, 1, 1, 1, 1, 0, 0, 0, 0, 0, 0, 0, 0, 0, 0, 0, 0, 0, 0, 0, 0, 0, 0, 0, 0, 0, 0, 0, 0, 0, 0, 0, 0, 0, 0, 0, 0, 0, 0, 0, 0, 0, 0, 0, 0, 0, 0, 0, 0, 0, 0, 0, 0, 0, 0, 0, 0, 0, 0, 0, 0, 0, 0, 0, 0, 0, 0, 0, 0, 0, 0, 0, 0, 0, 0, 0, 0, 0, 0, 0, 0, 0, 0, 0, 0, 0, 0, 0, 0, 0, 0, 0, 0, 0, 0, 0, 0, 0, 0, 0, 0, 0, 0, 0, 0, 0, 0, 0, 0, 0, 0, 0, 0, 0, 0, 0, 0, 0, 0, 0, 0, 0, 0, 0, 0, 0, 0, 0, 0, 0, 0, 0, 0, 0, 0, 0, 0, 0, 0, 0, 0, 0, 0, 0, 0, 0, 0, 0, 0, 0, 0, 0, 0, 0, 0, 0, 0, 0, 0, 0, 0, 0, 0, 0, 0, 0, 0, 0, 0, 0, 0, 0, 0, 0, 0, 0, 0, 0, 0, 0, 0, 0, 0, 0, 0, 0, 0, 0, 0, 0, 0, 0, 0, 0, 0, 0, 0, 0, 0, 0, 0, 0, 0, 0, 0, 0, 0, 0, 0, 0, 0, 0, 0, 0, 0, 0, 0, 0, 0, 0, 0, 0, 0, 0, 0, 0, 0, 0, 0, 0, 0, 0, 0, 0, 0, 0, 0, 0, 0, 0, 0, 0, 0, 0, 0, 0, 0, 0, 0, 0, 0, 0, 0, 0, 0, 0, 0, 0, 0, 0, 0, 0, 0, 0, 0, 0, 0, 0, 0, 0, 0, 0, 0, 0, 0, 0, 0, 0, 0, 0, 0, 0, 0, 0, 0, 0, 0, 0, 0, 0, 0, 0, 0, 0, 0, 0, 0, 0, 0, 0, 0, 0, 0, 0, 0, 0, 0, 0, 0, 0]\n",
            "vector(african_golden_wolf) -> [2, 5, 4, 0, 3, 7, 0, 0, 0, 0, 1, 0, 5, 4, 0, 0, 7, 0, 0, 1, 0, 0, 1, 0, 2, 1, 0, 0, 0, 0, 0, 0, 0, 0, 0, 0, 0, 0, 1, 0, 1, 1, 0, 1, 1, 0, 1, 0, 0, 0, 0, 0, 0, 0, 0, 0, 0, 0, 0, 0, 0, 0, 0, 0, 0, 0, 0, 5, 0, 0, 0, 0, 0, 0, 6, 0, 0, 0, 0, 0, 0, 0, 0, 0, 0, 0, 0, 2, 0, 0, 0, 1, 0, 0, 0, 0, 0, 0, 0, 0, 0, 0, 0, 0, 0, 0, 0, 0, 0, 0, 0, 1, 0, 0, 0, 0, 0, 0, 1, 1, 0, 1, 0, 0, 0, 0, 0, 0, 0, 1, 0, 0, 2, 1, 1, 2, 1, 1, 1, 1, 1, 1, 1, 1, 1, 1, 1, 1, 1, 1, 1, 1, 1, 1, 2, 1, 1, 1, 1, 1, 1, 1, 1, 1, 1, 1, 1, 1, 1, 1, 1, 1, 1, 1, 2, 1, 1, 1, 1, 1, 1, 1, 1, 1, 1, 1, 1, 1, 1, 1, 1, 0, 0, 0, 0, 0, 0, 0, 0, 0, 0, 0, 0, 0, 0, 0, 0, 0, 0, 0, 0, 0, 0, 0, 0, 0, 0, 0, 0, 0, 0, 0, 0, 0, 0, 0, 0, 0, 0, 0, 0, 0, 0, 0, 0, 0, 0, 0, 0, 0, 0, 0, 0, 0, 0, 0, 0, 0, 0, 0, 0, 0, 0, 0, 0, 0, 0, 0, 0, 0, 0, 0, 0, 0, 0, 0, 0, 0, 0, 0, 0, 0, 0, 0, 0, 0, 0, 0, 0, 0, 0, 0, 0, 0, 0, 0, 0, 0, 0, 0, 0, 0, 0, 0, 0, 0, 0, 0, 0, 0, 0, 0, 0, 0, 0, 0, 0, 0, 0, 0, 0, 0, 0, 0, 0, 0, 0, 0, 0, 0, 0, 0, 0, 0, 0, 0, 0, 0, 0, 0, 0, 0, 0, 0, 0, 0, 0, 0, 0, 0, 0, 0, 0, 0, 0, 0, 0, 0, 0, 0, 0, 0, 0, 0, 0, 0, 0, 0, 0, 0, 0, 0, 0, 0, 0, 0, 0, 0, 0, 0, 0, 0, 0, 0, 0, 0, 0, 0, 0, 0, 0, 0, 0, 0, 0, 0, 0, 0, 0, 0, 0, 0, 0, 0, 0, 0, 0, 0, 0, 0, 0, 0, 0, 0, 0, 0, 0, 0, 0, 0, 0, 0, 0, 0, 0, 0, 0, 0, 0, 0, 0, 0, 0, 0, 0, 0, 0, 0, 0, 0, 0, 0, 0, 0, 0, 0, 0]\n",
            "vector(dhole) -> [1, 3, 3, 1, 0, 6, 0, 0, 0, 0, 2, 0, 1, 1, 5, 0, 5, 0, 0, 0, 0, 0, 0, 0, 4, 0, 0, 0, 0, 1, 0, 0, 0, 0, 0, 0, 0, 0, 0, 0, 0, 0, 0, 0, 1, 0, 1, 1, 0, 1, 0, 0, 0, 0, 0, 0, 0, 0, 0, 0, 0, 0, 0, 0, 0, 0, 0, 2, 0, 0, 0, 0, 0, 1, 4, 0, 0, 0, 0, 0, 0, 0, 0, 0, 0, 0, 0, 0, 0, 0, 0, 0, 0, 0, 0, 0, 0, 0, 0, 0, 0, 0, 0, 0, 0, 0, 0, 1, 0, 0, 0, 1, 0, 0, 0, 0, 0, 0, 0, 0, 0, 0, 0, 0, 0, 1, 1, 0, 1, 1, 0, 0, 0, 0, 0, 0, 0, 0, 1, 0, 1, 0, 0, 0, 0, 0, 0, 0, 0, 0, 0, 0, 0, 0, 0, 0, 0, 0, 0, 0, 1, 0, 0, 0, 0, 0, 0, 0, 0, 0, 0, 0, 0, 0, 0, 0, 0, 0, 0, 0, 0, 0, 0, 0, 0, 0, 0, 0, 0, 0, 0, 2, 1, 1, 1, 1, 1, 3, 1, 1, 1, 3, 1, 1, 1, 1, 2, 1, 1, 1, 1, 1, 1, 1, 1, 1, 1, 1, 2, 1, 1, 1, 1, 1, 1, 1, 1, 1, 1, 1, 2, 1, 1, 1, 1, 1, 1, 0, 0, 0, 0, 0, 0, 0, 0, 0, 0, 0, 0, 0, 0, 0, 0, 0, 0, 0, 0, 0, 0, 0, 0, 0, 0, 0, 0, 0, 0, 0, 0, 0, 0, 0, 0, 0, 0, 0, 0, 0, 0, 0, 0, 0, 0, 0, 0, 0, 0, 0, 0, 0, 0, 0, 0, 0, 0, 0, 0, 0, 0, 0, 0, 0, 0, 0, 0, 0, 0, 0, 0, 0, 0, 0, 0, 0, 0, 0, 0, 0, 0, 0, 0, 0, 0, 0, 0, 0, 0, 0, 0, 0, 0, 0, 0, 0, 0, 0, 0, 0, 0, 0, 0, 0, 0, 0, 0, 0, 0, 0, 0, 0, 0, 0, 0, 0, 0, 0, 0, 0, 0, 0, 0, 0, 0, 0, 0, 0, 0, 0, 0, 0, 0, 0, 0, 0, 0, 0, 0, 0, 0, 0, 0, 0, 0, 0, 0, 0, 0, 0, 0, 0, 0, 0, 0, 0, 0, 0, 0, 0, 0, 0, 0, 0, 0, 0, 0, 0, 0, 0, 0, 0, 0, 0, 0, 0, 0, 0, 0, 0, 0, 0, 0, 0, 0, 0, 0, 0, 0, 0, 0, 0, 0, 0, 0, 0, 0, 0, 0]\n",
            "vector(african_wild_dog) -> [1, 5, 3, 1, 4, 8, 0, 0, 0, 1, 0, 0, 2, 1, 3, 0, 3, 0, 0, 1, 1, 2, 0, 0, 1, 2, 0, 0, 0, 0, 1, 0, 0, 0, 0, 0, 0, 0, 1, 0, 0, 1, 0, 2, 1, 0, 0, 0, 0, 1, 0, 0, 0, 0, 0, 0, 0, 0, 1, 0, 0, 0, 0, 0, 0, 0, 0, 2, 0, 0, 0, 0, 1, 0, 2, 1, 0, 0, 0, 0, 0, 0, 0, 0, 0, 0, 0, 0, 0, 0, 0, 0, 0, 0, 0, 0, 0, 0, 0, 0, 0, 0, 0, 0, 0, 1, 0, 0, 0, 0, 0, 1, 0, 0, 0, 0, 0, 0, 0, 0, 0, 0, 1, 0, 0, 0, 1, 0, 0, 1, 0, 0, 2, 0, 0, 2, 0, 0, 0, 0, 0, 0, 0, 0, 0, 0, 0, 0, 0, 0, 0, 0, 0, 0, 2, 0, 0, 1, 1, 0, 0, 0, 0, 0, 0, 0, 0, 0, 0, 0, 0, 0, 0, 0, 0, 0, 1, 0, 1, 0, 0, 0, 0, 0, 0, 0, 0, 0, 0, 0, 0, 0, 0, 0, 0, 0, 0, 0, 0, 0, 0, 2, 0, 0, 0, 0, 0, 0, 0, 0, 0, 0, 0, 0, 0, 1, 0, 0, 0, 0, 0, 1, 0, 0, 0, 0, 0, 0, 0, 0, 0, 0, 0, 0, 0, 0, 0, 2, 1, 1, 1, 1, 1, 1, 1, 1, 1, 1, 1, 1, 2, 1, 1, 1, 2, 1, 2, 1, 1, 1, 1, 1, 1, 1, 1, 1, 1, 0, 0, 0, 0, 0, 0, 0, 0, 0, 0, 0, 0, 0, 0, 0, 0, 0, 0, 0, 0, 0, 0, 0, 0, 0, 0, 0, 0, 0, 0, 0, 0, 0, 0, 0, 0, 0, 0, 0, 0, 0, 0, 0, 0, 0, 0, 0, 0, 0, 0, 0, 0, 0, 0, 0, 0, 0, 0, 0, 0, 0, 0, 0, 0, 0, 0, 0, 0, 0, 0, 0, 0, 0, 0, 0, 0, 0, 0, 0, 0, 0, 0, 0, 0, 0, 0, 0, 0, 0, 0, 0, 0, 0, 0, 0, 0, 0, 0, 0, 0, 0, 0, 0, 0, 0, 0, 0, 0, 0, 0, 0, 0, 0, 0, 0, 0, 0, 0, 0, 0, 0, 0, 0, 0, 0, 0, 0, 0, 0, 0, 0, 0, 0, 0, 0, 0, 0, 0, 0, 0, 0, 0, 0, 0, 0, 0, 0, 0, 0, 0, 0, 0, 0, 0, 0, 0, 0, 0, 0, 0, 0, 0, 0, 0, 0, 0, 0, 0, 0, 0]\n",
            "vector(red_fox) -> [0, 5, 0, 0, 6, 9, 0, 0, 0, 0, 0, 0, 1, 0, 0, 0, 3, 0, 0, 0, 0, 1, 0, 0, 3, 1, 0, 0, 0, 0, 0, 0, 0, 0, 0, 0, 0, 0, 0, 0, 0, 0, 0, 0, 1, 0, 1, 1, 0, 0, 0, 0, 1, 0, 0, 0, 0, 0, 1, 0, 0, 0, 0, 0, 0, 0, 0, 1, 0, 0, 0, 0, 0, 0, 5, 0, 0, 0, 0, 0, 0, 0, 0, 0, 0, 0, 0, 0, 0, 0, 0, 0, 0, 0, 0, 0, 0, 0, 0, 0, 0, 0, 0, 0, 0, 0, 0, 0, 0, 0, 0, 1, 0, 0, 0, 0, 0, 0, 0, 0, 0, 0, 0, 0, 0, 0, 0, 0, 0, 2, 0, 0, 0, 0, 0, 1, 0, 0, 0, 0, 0, 0, 0, 0, 0, 0, 0, 0, 0, 0, 0, 0, 0, 0, 2, 1, 1, 1, 1, 0, 0, 0, 0, 0, 0, 0, 0, 0, 0, 0, 0, 1, 0, 0, 0, 0, 0, 0, 1, 0, 0, 0, 0, 0, 0, 0, 0, 0, 0, 0, 0, 0, 0, 0, 0, 0, 0, 1, 0, 0, 0, 0, 0, 0, 0, 0, 0, 0, 0, 0, 0, 0, 0, 0, 0, 0, 0, 0, 0, 0, 0, 0, 0, 0, 0, 0, 0, 0, 0, 0, 1, 0, 1, 0, 0, 0, 0, 0, 0, 0, 0, 0, 0, 0, 0, 0, 0, 0, 0, 0, 0, 0, 0, 0, 0, 0, 0, 0, 0, 0, 0, 0, 0, 0, 0, 0, 0, 2, 2, 1, 1, 2, 1, 1, 1, 1, 1, 1, 1, 1, 2, 1, 1, 1, 1, 1, 1, 1, 1, 2, 1, 1, 1, 1, 1, 1, 1, 1, 1, 1, 1, 0, 0, 0, 0, 0, 0, 0, 0, 0, 0, 0, 0, 0, 0, 0, 0, 0, 0, 0, 0, 0, 0, 0, 0, 0, 0, 0, 0, 0, 0, 0, 0, 0, 0, 0, 0, 0, 0, 0, 0, 0, 0, 0, 0, 0, 0, 0, 0, 0, 0, 0, 0, 0, 0, 0, 0, 0, 0, 0, 0, 0, 0, 0, 0, 0, 0, 0, 0, 0, 0, 0, 0, 0, 0, 0, 0, 0, 0, 0, 0, 0, 0, 0, 0, 0, 0, 0, 0, 0, 0, 0, 0, 0, 0, 0, 0, 0, 0, 0, 0, 0, 0, 0, 0, 0, 0, 0, 0, 0, 0, 0, 0, 0, 0, 0, 0, 0, 0, 0, 0, 0, 0, 0, 0, 0, 0, 0, 0, 0, 0, 0, 0, 0, 0, 0, 0]\n",
            "vector(arctic_fox) -> [0, 4, 2, 0, 2, 7, 0, 0, 0, 0, 0, 0, 2, 0, 0, 0, 2, 0, 0, 0, 0, 0, 1, 0, 6, 0, 0, 0, 0, 0, 0, 0, 0, 0, 0, 0, 0, 0, 2, 2, 0, 1, 0, 0, 1, 0, 0, 0, 0, 0, 0, 0, 0, 0, 0, 0, 0, 0, 0, 0, 0, 0, 0, 0, 0, 0, 1, 3, 1, 0, 0, 0, 1, 0, 3, 0, 0, 0, 1, 0, 0, 0, 0, 0, 0, 0, 0, 0, 0, 0, 0, 1, 0, 0, 1, 0, 0, 1, 0, 0, 0, 3, 1, 0, 0, 0, 0, 0, 0, 0, 0, 0, 0, 0, 0, 0, 0, 0, 0, 0, 0, 0, 0, 0, 0, 0, 1, 0, 0, 0, 0, 0, 0, 0, 0, 0, 0, 0, 0, 0, 0, 0, 0, 0, 0, 0, 0, 0, 0, 0, 0, 0, 0, 0, 0, 0, 0, 0, 0, 0, 0, 0, 0, 0, 0, 0, 0, 0, 0, 0, 0, 0, 0, 0, 0, 0, 0, 0, 0, 0, 0, 0, 0, 0, 0, 0, 0, 0, 0, 0, 0, 0, 0, 0, 0, 0, 0, 0, 0, 0, 0, 1, 0, 0, 0, 0, 1, 0, 0, 0, 0, 0, 0, 0, 0, 0, 0, 0, 0, 0, 0, 0, 0, 0, 0, 0, 0, 0, 0, 0, 1, 1, 0, 0, 0, 1, 0, 0, 0, 0, 0, 0, 0, 0, 0, 0, 0, 0, 0, 0, 1, 0, 0, 0, 1, 1, 0, 0, 0, 0, 0, 0, 0, 0, 0, 0, 0, 5, 1, 0, 1, 1, 0, 0, 0, 0, 0, 0, 0, 0, 1, 1, 0, 0, 0, 0, 0, 0, 0, 0, 0, 0, 0, 0, 0, 0, 0, 0, 0, 0, 0, 1, 1, 1, 1, 1, 1, 1, 1, 1, 1, 1, 1, 1, 1, 1, 1, 1, 1, 1, 1, 1, 1, 1, 1, 1, 3, 1, 1, 1, 1, 1, 1, 0, 0, 0, 0, 0, 0, 0, 0, 0, 0, 0, 0, 0, 0, 0, 0, 0, 0, 0, 0, 0, 0, 0, 0, 0, 0, 0, 0, 0, 0, 0, 0, 0, 0, 0, 0, 0, 0, 0, 0, 0, 0, 0, 0, 0, 0, 0, 0, 0, 0, 0, 0, 0, 0, 0, 0, 0, 0, 0, 0, 0, 0, 0, 0, 0, 0, 0, 0, 0, 0, 0, 0, 0, 0, 0, 0, 0, 0, 0, 0, 0, 0, 0, 0, 0, 0, 0, 0, 0, 0, 0, 0, 0, 0, 0, 0, 0, 0, 0, 0, 0, 0, 0, 0]\n",
            "vector(fennec_fox) -> [0, 4, 1, 0, 1, 6, 0, 0, 0, 0, 1, 0, 0, 0, 0, 0, 3, 0, 1, 0, 0, 0, 0, 0, 4, 1, 0, 0, 0, 0, 0, 0, 0, 0, 0, 2, 0, 0, 3, 0, 0, 1, 0, 0, 1, 0, 0, 0, 0, 0, 0, 0, 1, 0, 0, 0, 0, 0, 0, 0, 0, 0, 0, 0, 0, 0, 0, 1, 0, 0, 0, 0, 1, 0, 6, 0, 0, 0, 0, 0, 0, 0, 0, 0, 0, 1, 0, 0, 0, 0, 0, 0, 0, 0, 0, 0, 0, 0, 0, 0, 0, 0, 0, 0, 0, 0, 0, 0, 0, 0, 0, 0, 0, 0, 0, 0, 0, 0, 0, 0, 0, 0, 1, 0, 0, 0, 0, 0, 0, 0, 0, 0, 0, 0, 0, 0, 0, 0, 0, 0, 1, 0, 0, 0, 0, 0, 0, 0, 0, 0, 0, 0, 0, 0, 0, 0, 0, 0, 0, 0, 0, 0, 0, 0, 0, 0, 0, 0, 0, 0, 0, 1, 0, 0, 0, 0, 0, 0, 0, 0, 0, 0, 0, 0, 0, 0, 0, 0, 0, 0, 0, 0, 0, 0, 0, 0, 0, 0, 0, 0, 0, 0, 0, 0, 0, 0, 0, 0, 0, 0, 0, 0, 0, 0, 0, 0, 0, 0, 0, 0, 0, 0, 0, 0, 0, 0, 0, 0, 0, 0, 0, 0, 0, 0, 0, 0, 0, 0, 0, 0, 0, 0, 0, 0, 1, 0, 0, 0, 0, 0, 0, 0, 0, 0, 0, 0, 0, 0, 0, 0, 0, 0, 0, 0, 0, 0, 0, 3, 1, 0, 0, 1, 0, 0, 0, 0, 0, 0, 0, 0, 0, 0, 0, 0, 0, 0, 0, 0, 0, 0, 0, 0, 0, 1, 0, 0, 0, 0, 0, 0, 0, 0, 0, 0, 3, 0, 0, 0, 1, 0, 0, 1, 0, 0, 0, 0, 0, 0, 0, 0, 0, 0, 0, 0, 0, 0, 0, 0, 0, 0, 0, 0, 1, 3, 1, 5, 1, 1, 1, 1, 1, 1, 1, 1, 1, 1, 1, 2, 1, 1, 1, 1, 1, 1, 1, 1, 1, 1, 1, 1, 1, 1, 1, 1, 1, 1, 0, 0, 0, 0, 0, 0, 0, 0, 0, 0, 0, 0, 0, 0, 0, 0, 0, 0, 0, 0, 0, 0, 0, 0, 0, 0, 0, 0, 0, 0, 0, 0, 0, 0, 0, 0, 0, 0, 0, 0, 0, 0, 0, 0, 0, 0, 0, 0, 0, 0, 0, 0, 0, 0, 0, 0, 0, 0, 0, 0, 0, 0, 0, 0, 0, 0, 0, 0, 0, 0, 0]\n",
            "vector(kitsune) -> [0, 2, 4, 0, 3, 7, 0, 0, 0, 0, 0, 0, 8, 0, 0, 0, 7, 0, 4, 1, 0, 0, 2, 0, 7, 0, 0, 0, 0, 0, 0, 0, 0, 0, 0, 0, 1, 0, 0, 0, 0, 1, 0, 0, 0, 0, 0, 0, 2, 0, 0, 0, 3, 0, 0, 0, 0, 0, 0, 0, 0, 0, 0, 0, 0, 0, 0, 5, 0, 0, 0, 0, 0, 1, 2, 0, 0, 0, 0, 0, 0, 0, 0, 0, 1, 0, 0, 0, 0, 0, 0, 2, 3, 0, 0, 0, 0, 0, 0, 0, 0, 0, 0, 1, 0, 1, 0, 1, 0, 0, 0, 0, 0, 0, 0, 0, 0, 0, 0, 0, 0, 0, 0, 0, 0, 0, 1, 0, 0, 0, 0, 0, 0, 0, 0, 0, 0, 0, 0, 0, 0, 0, 0, 0, 0, 0, 0, 0, 0, 0, 0, 0, 0, 0, 0, 0, 0, 0, 0, 0, 0, 0, 0, 0, 0, 0, 0, 0, 0, 0, 0, 0, 0, 0, 0, 0, 0, 0, 1, 0, 0, 0, 0, 0, 0, 0, 0, 0, 0, 0, 0, 0, 0, 0, 0, 0, 0, 0, 0, 1, 0, 0, 0, 0, 0, 0, 0, 0, 0, 0, 0, 0, 0, 0, 0, 0, 0, 0, 0, 0, 0, 0, 0, 0, 0, 0, 0, 0, 0, 0, 0, 0, 0, 1, 0, 0, 0, 0, 0, 0, 0, 0, 0, 0, 0, 0, 0, 0, 0, 0, 1, 1, 0, 0, 0, 1, 0, 0, 0, 0, 0, 0, 0, 0, 0, 0, 0, 6, 0, 0, 0, 0, 0, 0, 0, 0, 1, 0, 0, 0, 0, 0, 0, 0, 2, 1, 0, 0, 0, 0, 0, 0, 0, 0, 0, 0, 0, 0, 0, 0, 0, 0, 0, 0, 0, 1, 0, 0, 0, 0, 0, 0, 0, 0, 0, 0, 0, 1, 0, 0, 0, 0, 2, 0, 0, 0, 0, 0, 0, 0, 0, 0, 0, 0, 0, 0, 0, 0, 0, 0, 0, 0, 0, 0, 0, 1, 0, 0, 0, 0, 0, 0, 0, 0, 0, 0, 0, 0, 0, 0, 0, 0, 0, 0, 0, 0, 5, 1, 1, 2, 1, 1, 1, 1, 1, 2, 1, 1, 1, 1, 1, 3, 1, 1, 1, 1, 2, 1, 1, 1, 1, 1, 1, 1, 1, 1, 1, 1, 1, 1, 1, 1, 1, 1, 1, 1, 1, 1, 1, 1, 1, 1, 1, 1, 1, 1, 1, 1, 1, 1, 1, 1, 1, 1, 1, 1, 1, 1, 1, 1, 1, 1, 1, 1, 1, 1, 1]\n"
          ],
          "name": "stdout"
        }
      ]
    },
    {
      "cell_type": "code",
      "metadata": {
        "id": "xt_xTzU3CefJ",
        "colab_type": "code",
        "colab": {
          "base_uri": "https://localhost:8080/",
          "height": 54
        },
        "outputId": "176c878a-6eba-493b-cb18-8777e0e82ae7"
      },
      "source": [
        "word2id_doc.items()"
      ],
      "execution_count": 16,
      "outputs": [
        {
          "output_type": "execute_result",
          "data": {
            "text/plain": [
              "dict_items([('canis', 0), ('be', 1), ('a', 2), ('genus', 3), ('of', 4), ('the', 5), ('caninae', 6), ('contain', 7), ('multiple', 8), ('extant', 9), ('species', 10), ('such', 11), ('as', 12), ('wolf', 13), ('dog', 14), ('coyote', 15), ('and', 16), ('jackal', 17), ('this', 18), ('are', 19), ('distinguish', 20), ('by', 21), ('their', 22), ('moderate', 23), ('to', 24), ('large', 25), ('size', 26), ('massive', 27), ('welldeveloped', 28), ('skull', 29), ('dentition', 30), ('long', 31), ('legs', 32), ('comparatively', 33), ('short', 34), ('ear', 35), ('tails', 36), ('lupus', 37), ('also', 38), ('know', 39), ('gray', 40), ('or', 41), ('grey', 42), ('canine', 43), ('native', 44), ('eurasia', 45), ('north', 46), ('america', 47), ('more', 48), ('than', 49), ('thirty', 50), ('subspecies', 51), ('have', 52), ('recognize', 53), ('colloquially', 54), ('understand', 55), ('comprise', 56), ('nondomestic/feral', 57), ('member', 58), ('canidae', 59), ('male', 60), ('average', 61), ('kg', 62), ('lb', 63), ('female', 64), ('measure', 65), ('cm', 66), ('in', 67), ('length', 68), ('at', 69), ('shoulder', 70), ('height', 71), ('from', 72), ('other', 73), ('it', 74), ('le', 75), ('point', 76), ('muzzle', 77), ('well', 78), ('torso', 79), ('longer', 80), ('tail', 81), ('nonetheless', 82), ('relate', 83), ('closely', 84), ('enough', 85), ('smaller', 86), ('golden', 87), ('produce', 88), ('fertile', 89), ('hybrid', 90), ('with', 91), ('them', 92), ('band', 93), ('fur', 94), ('usually', 95), ('mottle', 96), ('white', 97), ('brown', 98), ('black', 99), ('although', 100), ('arctic', 101), ('region', 102), ('may', 103), ('nearly', 104), ('all', 105), ('latrans', 106), ('close', 107), ('relative', 108), ('slightly', 109), ('eastern', 110), ('red', 111), ('fill', 112), ('much', 113), ('same', 114), ('ecological', 115), ('niche', 116), ('doe', 117), ('though', 118), ('larger', 119), ('predatory', 120), ('sometimes', 121), ('call', 122), ('american', 123), ('zoologist', 124), ('names', 125), ('for', 126), ('largely', 127), ('historical', 128), ('include', 129), ('prairie', 130), ('brush', 131), ('african', 132), ('anthus', 133), ('lupaster', 134), ('africa', 135), ('horn', 136), ('descendant', 137), ('genetically', 138), ('admix', 139), ('canid', 140), ('ethiopian', 141), ('ancestry', 142), ('occur', 143), ('senegal', 144), ('nigeria', 145), ('chad', 146), ('morocco', 147), ('algeria', 148), ('tunisia', 149), ('libya', 150), ('kenya', 151), ('egypt', 152), ('tanzania', 153), ('list', 154), ('least', 155), ('concern', 156), ('on', 157), ('iucn', 158), ('atlas', 159), ('mountain', 160), ('wa', 161), ('sight', 162), ('elevation', 163), ('high', 164), ('m', 165), ('ft', 166), ('primarily', 167), ('predator', 168), ('target', 169), ('invertebrate', 170), ('mammal', 171), ('gazelle', 172), ('fawn', 173), ('animal', 174), ('take', 175), ('diet', 176), ('carcass', 177), ('human', 178), ('refuse', 179), ('fruit', 180), ('monogamous', 181), ('territorial', 182), ('offspring', 183), ('remain', 184), ('family', 185), ('assist', 186), ('raising', 187), (\"parents'\", 188), ('younger', 189), ('pup', 190), ('dhole', 191), ('cuon', 192), ('alpinus', 193), ('central', 194), ('south', 195), ('east', 196), ('asia', 197), ('southeast', 198), ('english', 199), ('asian', 200), ('wild', 201), ('asiatic', 202), ('indian', 203), ('whistling', 204), ('within', 205), ('but', 206), ('distinct', 207), ('several', 208), ('anatomical', 209), ('aspects:', 210), ('convex', 211), ('rather', 212), ('concave', 213), ('profile', 214), ('lack', 215), ('third', 216), ('lower', 217), ('molar', 218), ('upper', 219), ('sport', 220), ('only', 221), ('single', 222), ('cusp', 223), ('oppose', 224), ('between', 225), ('two', 226), ('four', 227), ('during', 228), ('pleistocene', 229), ('range', 230), ('throughout', 231), ('europe', 232), ('become', 233), ('restrict', 234), ('years', 235), ('ago', 236), ('lycaon', 237), ('pictus', 238), ('paint', 239), ('cape', 240), ('hunting', 241), ('subsaharan', 242), ('indigenous', 243), ('which', 244), ('highly', 245), ('specialise', 246), ('hypercarnivorous', 247), ('dewclaws', 248), ('estimate', 249), ('that', 250), ('about', 251), ('adult', 252), ('mature', 253), ('individual', 254), ('live', 255), ('subpopulation', 256), ('threaten', 257), ('habitat', 258), ('fragmentation', 259), ('persecution', 260), ('outbreak', 261), ('disease', 262), ('probably', 263), ('consist', 264), ('endanger', 265), ('since', 266), ('fox', 267), ('vulpes', 268), ('true', 269), ('one', 270), ('most', 271), ('widely', 272), ('distribute', 273), ('order', 274), ('carnivora', 275), ('being', 276), ('present', 277), ('across', 278), ('entire', 279), ('northern', 280), ('hemisphere', 281), ('plus', 282), ('parts', 283), ('ha', 284), ('increase', 285), ('alongside', 286), ('expansion', 287), ('introduce', 288), ('australia', 289), ('where', 290), ('consider', 291), ('harmful', 292), ('bird', 293), ('population', 294), ('due', 295), ('presence', 296), ('\"world\\'s', 297), ('worst', 298), ('invasive', 299), ('species\"', 300), ('lagopus', 301), ('polar', 302), ('snow', 303), ('small', 304), ('common', 305), ('tundra', 306), ('biome', 307), ('adapt', 308), ('living', 309), ('cold', 310), ('environment', 311), ('best', 312), ('thick', 313), ('warm', 314), ('use', 315), ('camouflage', 316), ('do', 317), ('not', 318), ('past', 319), ('first', 320), ('year', 321), ('some', 322), ('exceptional', 323), ('survive', 324), ('up', 325), ('body', 326), ('generally', 327), ('round', 328), ('shape', 329), ('minimize', 330), ('escape', 331), ('heat', 332), ('fennec', 333), ('zerda', 334), ('desert', 335), ('crepuscular', 336), ('sahara', 337), ('sinai', 338), ('peninsula', 339), ('arava', 340), ('arabian', 341), ('distinctive', 342), ('feature', 343), ('unusually', 344), ('serve', 345), ('dissipate', 346), ('name', 347), ('come', 348), (\"species'\", 349), ('arabic:', 350), ('fanak', 351), ('coat', 352), ('kidney', 353), ('function', 354), ('hightemperature', 355), ('lowwater', 356), ('hearing', 357), ('sensitive', 358), ('hear', 359), ('prey', 360), ('move', 361), ('underground', 362), ('mainly', 363), ('eats', 364), ('insect', 365), ('kitsune', 366), ('literal', 367), ('sense', 368), ('japanese', 369), ('word', 370), ('subject', 371), ('folklore;', 372), ('refer', 373), ('context', 374), ('story', 375), ('depict', 376), ('legendary', 377), ('intelligent', 378), ('possess', 379), ('paranormal', 380), ('ability', 381), ('age', 382), ('wisdom', 383), ('accord', 384), ('yōkai', 385), ('folklore', 386), ('shapeshift', 387), ('into', 388), ('form', 389), ('while', 390), ('folktale', 391), ('speak', 392), ('employ', 393), ('trick', 394), ('others', 395), ('often', 396), ('portray', 397), ('faithful', 398), ('guardian', 399), ('friend', 400), ('lover', 401), ('wife', 402), ('humans', 403), ('together', 404), ('ancient', 405), ('japan;', 406), ('companionship', 407), ('give', 408), ('rise', 409), ('legend', 410), ('creature', 411), ('associate', 412), ('inari', 413), ('shinto', 414), ('kami', 415), ('spirit', 416), ('messenger', 417), ('role', 418), ('reinforce', 419), (\"fox's\", 420), ('supernatural', 421), ('significance', 422), ('they', 423), ('many', 424), ('nine', 425), ('older', 426), ('wise', 427), ('powerful', 428), ('because', 429), ('potential', 430), ('power', 431), ('influence', 432), ('people', 433), ('make', 434), ('sacrifice', 435), ('deity', 436)])"
            ]
          },
          "metadata": {
            "tags": []
          },
          "execution_count": 16
        }
      ]
    },
    {
      "cell_type": "markdown",
      "metadata": {
        "id": "-08K6Q2_Muwx",
        "colab_type": "text"
      },
      "source": [
        "# 1. ドキュメントの類似度の計算\n",
        "\n",
        "## 1-1. 単語の集合(set)ベース\n",
        "\n",
        "### Jaccard 係数"
      ]
    },
    {
      "cell_type": "code",
      "metadata": {
        "id": "94jUycBANpbi",
        "colab_type": "code",
        "colab": {}
      },
      "source": [
        "# Jaccard 係数\n",
        "jaccard_res = {}\n",
        "for i in range(len(text_name)):\n",
        "  for j in range(i + 1, len(text_name)):\n",
        "    name_i = text_name[i]\n",
        "    name_j = text_name[j]\n",
        "    set_i = docs_words_set[name_i]\n",
        "    set_j = docs_words_set[name_j]\n",
        "    jaccard = 1 - jaccard_distance(set_i, set_j)\n",
        "    name_ij = \"Jaccard(\" + name_i + \", \" + name_j + \")\"\n",
        "    jaccard_res[name_ij] = jaccard"
      ],
      "execution_count": 17,
      "outputs": []
    },
    {
      "cell_type": "code",
      "metadata": {
        "id": "k3coz086Y6Be",
        "colab_type": "code",
        "colab": {
          "base_uri": "https://localhost:8080/",
          "height": 799
        },
        "outputId": "f170d8fb-949d-4d8f-b3b9-7fb52a07fa0b"
      },
      "source": [
        "# Jaccard 係数の降順に出力\n",
        "jaccard_sim_sorted = sorted(jaccard_res.items(), key = lambda x : -x[1])\n",
        "for key, value in jaccard_sim_sorted:\n",
        "  print(key + \" -> \" + str(value))"
      ],
      "execution_count": 18,
      "outputs": [
        {
          "output_type": "stream",
          "text": [
            "Jaccard(wolf, coyote) -> 0.24561403508771928\n",
            "Jaccard(coyote, dhole) -> 0.2075471698113207\n",
            "Jaccard(african_golden_wolf, african_wild_dog) -> 0.19548872180451127\n",
            "Jaccard(coyote, african_golden_wolf) -> 0.18487394957983194\n",
            "Jaccard(canis, african_wild_dog) -> 0.18478260869565222\n",
            "Jaccard(canis, wolf) -> 0.17924528301886788\n",
            "Jaccard(coyote, african_wild_dog) -> 0.17757009345794394\n",
            "Jaccard(wolf, african_wild_dog) -> 0.17647058823529416\n",
            "Jaccard(canis, coyote) -> 0.16666666666666663\n",
            "Jaccard(arctic_fox, fennec_fox) -> 0.16666666666666663\n",
            "Jaccard(african_wild_dog, red_fox) -> 0.16521739130434787\n",
            "Jaccard(african_golden_wolf, red_fox) -> 0.1640625\n",
            "Jaccard(wolf, arctic_fox) -> 0.16176470588235292\n",
            "Jaccard(dhole, african_wild_dog) -> 0.15873015873015872\n",
            "Jaccard(african_wild_dog, arctic_fox) -> 0.14516129032258063\n",
            "Jaccard(red_fox, arctic_fox) -> 0.13793103448275867\n",
            "Jaccard(coyote, red_fox) -> 0.13725490196078427\n",
            "Jaccard(wolf, african_golden_wolf) -> 0.13636363636363635\n",
            "Jaccard(red_fox, fennec_fox) -> 0.13636363636363635\n",
            "Jaccard(wolf, fennec_fox) -> 0.12686567164179108\n",
            "Jaccard(african_golden_wolf, dhole) -> 0.12587412587412583\n",
            "Jaccard(african_wild_dog, fennec_fox) -> 0.125\n",
            "Jaccard(dhole, red_fox) -> 0.12396694214876036\n",
            "Jaccard(canis, dhole) -> 0.12121212121212122\n",
            "Jaccard(arctic_fox, kitsune) -> 0.11875000000000002\n",
            "Jaccard(canis, african_golden_wolf) -> 0.11711711711711714\n",
            "Jaccard(dhole, arctic_fox) -> 0.11627906976744184\n",
            "Jaccard(canis, fennec_fox) -> 0.11111111111111116\n",
            "Jaccard(wolf, red_fox) -> 0.11111111111111116\n",
            "Jaccard(african_golden_wolf, fennec_fox) -> 0.11111111111111116\n",
            "Jaccard(wolf, dhole) -> 0.1095890410958904\n",
            "Jaccard(coyote, fennec_fox) -> 0.10377358490566035\n",
            "Jaccard(african_wild_dog, kitsune) -> 0.10365853658536583\n",
            "Jaccard(wolf, kitsune) -> 0.1005586592178771\n",
            "Jaccard(african_golden_wolf, arctic_fox) -> 0.09790209790209792\n",
            "Jaccard(coyote, arctic_fox) -> 0.09734513274336287\n",
            "Jaccard(coyote, kitsune) -> 0.09395973154362414\n",
            "Jaccard(red_fox, kitsune) -> 0.08917197452229297\n",
            "Jaccard(canis, red_fox) -> 0.08791208791208793\n",
            "Jaccard(fennec_fox, kitsune) -> 0.08176100628930816\n",
            "Jaccard(canis, kitsune) -> 0.08148148148148149\n",
            "Jaccard(canis, arctic_fox) -> 0.08080808080808077\n",
            "Jaccard(dhole, fennec_fox) -> 0.07874015748031493\n",
            "Jaccard(african_golden_wolf, kitsune) -> 0.07692307692307687\n",
            "Jaccard(dhole, kitsune) -> 0.07647058823529407\n"
          ],
          "name": "stdout"
        }
      ]
    },
    {
      "cell_type": "markdown",
      "metadata": {
        "id": "fg_z9kWsM-US",
        "colab_type": "text"
      },
      "source": [
        "### Dice 係数"
      ]
    },
    {
      "cell_type": "code",
      "metadata": {
        "id": "L6TNVNdtSTMl",
        "colab_type": "code",
        "colab": {}
      },
      "source": [
        "# Dice 係数\n",
        "def dice_sim(set_a, set_b):\n",
        "  num_intersect = len(set.intersection(set_a, set_b))\n",
        "  s = len(set_a) + len(set_b)\n",
        "  ret = (2 * num_intersect / s) if s != 0 else 1.0\n",
        "  return ret"
      ],
      "execution_count": 19,
      "outputs": []
    },
    {
      "cell_type": "code",
      "metadata": {
        "id": "zT3iEoQsS2Ic",
        "colab_type": "code",
        "colab": {}
      },
      "source": [
        "# Dice 係数計算\n",
        "dice_res = {}\n",
        "for i in range(len(text_name)):\n",
        "  for j in range(i + 1, len(text_name)):\n",
        "    name_i = text_name[i]\n",
        "    name_j = text_name[j]\n",
        "    set_i = docs_words_set[name_i]\n",
        "    set_j = docs_words_set[name_j]\n",
        "    dice = dice_sim(set_i, set_j)\n",
        "    name_ij = \"Dice(\" + name_i + \", \" + name_j + \")\"\n",
        "    dice_res[name_ij] = dice"
      ],
      "execution_count": 20,
      "outputs": []
    },
    {
      "cell_type": "code",
      "metadata": {
        "id": "k5ZwjkJdZ05C",
        "colab_type": "code",
        "colab": {
          "base_uri": "https://localhost:8080/",
          "height": 799
        },
        "outputId": "13d766da-812e-4990-fcf2-1d9309711f9f"
      },
      "source": [
        "# Dice 係数の降順に出力\n",
        "dice_sim_sorted = sorted(dice_res.items(), key = lambda x : -x[1])\n",
        "for key, value in dice_sim_sorted:\n",
        "  print(key + \" -> \" + str(value))"
      ],
      "execution_count": 21,
      "outputs": [
        {
          "output_type": "stream",
          "text": [
            "Dice(wolf, coyote) -> 0.39436619718309857\n",
            "Dice(coyote, dhole) -> 0.34375\n",
            "Dice(african_golden_wolf, african_wild_dog) -> 0.3270440251572327\n",
            "Dice(coyote, african_golden_wolf) -> 0.3120567375886525\n",
            "Dice(canis, african_wild_dog) -> 0.3119266055045872\n",
            "Dice(canis, wolf) -> 0.304\n",
            "Dice(coyote, african_wild_dog) -> 0.30158730158730157\n",
            "Dice(wolf, african_wild_dog) -> 0.3\n",
            "Dice(canis, coyote) -> 0.2857142857142857\n",
            "Dice(arctic_fox, fennec_fox) -> 0.2857142857142857\n",
            "Dice(african_wild_dog, red_fox) -> 0.2835820895522388\n",
            "Dice(african_golden_wolf, red_fox) -> 0.28187919463087246\n",
            "Dice(wolf, arctic_fox) -> 0.27848101265822783\n",
            "Dice(dhole, african_wild_dog) -> 0.273972602739726\n",
            "Dice(african_wild_dog, arctic_fox) -> 0.2535211267605634\n",
            "Dice(red_fox, arctic_fox) -> 0.24242424242424243\n",
            "Dice(coyote, red_fox) -> 0.2413793103448276\n",
            "Dice(wolf, african_golden_wolf) -> 0.24\n",
            "Dice(red_fox, fennec_fox) -> 0.24\n",
            "Dice(wolf, fennec_fox) -> 0.2251655629139073\n",
            "Dice(african_golden_wolf, dhole) -> 0.2236024844720497\n",
            "Dice(african_wild_dog, fennec_fox) -> 0.2222222222222222\n",
            "Dice(dhole, red_fox) -> 0.22058823529411764\n",
            "Dice(canis, dhole) -> 0.21621621621621623\n",
            "Dice(arctic_fox, kitsune) -> 0.2122905027932961\n",
            "Dice(canis, african_golden_wolf) -> 0.20967741935483872\n",
            "Dice(dhole, arctic_fox) -> 0.20833333333333334\n",
            "Dice(canis, fennec_fox) -> 0.2\n",
            "Dice(wolf, red_fox) -> 0.2\n",
            "Dice(african_golden_wolf, fennec_fox) -> 0.2\n",
            "Dice(wolf, dhole) -> 0.19753086419753085\n",
            "Dice(coyote, fennec_fox) -> 0.18803418803418803\n",
            "Dice(african_wild_dog, kitsune) -> 0.1878453038674033\n",
            "Dice(wolf, kitsune) -> 0.18274111675126903\n",
            "Dice(african_golden_wolf, arctic_fox) -> 0.17834394904458598\n",
            "Dice(coyote, arctic_fox) -> 0.1774193548387097\n",
            "Dice(coyote, kitsune) -> 0.17177914110429449\n",
            "Dice(red_fox, kitsune) -> 0.16374269005847952\n",
            "Dice(canis, red_fox) -> 0.16161616161616163\n",
            "Dice(fennec_fox, kitsune) -> 0.1511627906976744\n",
            "Dice(canis, kitsune) -> 0.1506849315068493\n",
            "Dice(canis, arctic_fox) -> 0.14953271028037382\n",
            "Dice(dhole, fennec_fox) -> 0.145985401459854\n",
            "Dice(african_golden_wolf, kitsune) -> 0.14285714285714285\n",
            "Dice(dhole, kitsune) -> 0.14207650273224043\n"
          ],
          "name": "stdout"
        }
      ]
    },
    {
      "cell_type": "markdown",
      "metadata": {
        "id": "M3Us71RrNCs0",
        "colab_type": "text"
      },
      "source": [
        "### Szymkiewicz-Simpson 係数"
      ]
    },
    {
      "cell_type": "code",
      "metadata": {
        "id": "OVAOVIC2TGfz",
        "colab_type": "code",
        "colab": {}
      },
      "source": [
        "# Szymkiewicz-Simpson 係数\n",
        "def simpson_sim(set_a, set_b):\n",
        "  num_intersect = len(set.intersection(set_a, set_b))\n",
        "  m = min(len(set_a), len(set_b))\n",
        "  ret = num_intersect / m if m != 0 else 1.0\n",
        "  return ret"
      ],
      "execution_count": 22,
      "outputs": []
    },
    {
      "cell_type": "code",
      "metadata": {
        "id": "cREJqCVyTGr8",
        "colab_type": "code",
        "colab": {}
      },
      "source": [
        "# Simpson 係数計算\n",
        "simpson_res = {}\n",
        "for i in range(len(text_name)):\n",
        "  for j in range(i + 1, len(text_name)):\n",
        "    name_i = text_name[i]\n",
        "    name_j = text_name[j]\n",
        "    set_i = docs_words_set[name_i]\n",
        "    set_j = docs_words_set[name_j]\n",
        "    simpson = simpson_sim(set_i, set_j)\n",
        "    name_ij = \"Simpson(\" + name_i + \", \" + name_j + \")\"\n",
        "    simpson_res[name_ij] = simpson"
      ],
      "execution_count": 23,
      "outputs": []
    },
    {
      "cell_type": "code",
      "metadata": {
        "id": "4oi8NTwPaw3s",
        "colab_type": "code",
        "colab": {
          "base_uri": "https://localhost:8080/",
          "height": 799
        },
        "outputId": "7d64b91e-2fb1-41b3-ade6-981662f93b47"
      },
      "source": [
        "# Simpson 係数の降順に出力\n",
        "simpson_sim_sorted = sorted(simpson_res.items(), key = lambda x : -x[1])\n",
        "for key, value in simpson_sim_sorted:\n",
        "  print(key + \" -> \" + str(value))"
      ],
      "execution_count": 24,
      "outputs": [
        {
          "output_type": "stream",
          "text": [
            "Simpson(wolf, coyote) -> 0.5185185185185185\n",
            "Simpson(canis, wolf) -> 0.5135135135135135\n",
            "Simpson(canis, african_wild_dog) -> 0.4594594594594595\n",
            "Simpson(coyote, african_golden_wolf) -> 0.4074074074074074\n",
            "Simpson(coyote, dhole) -> 0.4074074074074074\n",
            "Simpson(african_golden_wolf, african_wild_dog) -> 0.3611111111111111\n",
            "Simpson(coyote, african_wild_dog) -> 0.35185185185185186\n",
            "Simpson(canis, coyote) -> 0.35135135135135137\n",
            "Simpson(canis, african_golden_wolf) -> 0.35135135135135137\n",
            "Simpson(african_golden_wolf, red_fox) -> 0.3387096774193548\n",
            "Simpson(wolf, african_wild_dog) -> 0.3333333333333333\n",
            "Simpson(canis, dhole) -> 0.32432432432432434\n",
            "Simpson(wolf, arctic_fox) -> 0.3142857142857143\n",
            "Simpson(african_wild_dog, red_fox) -> 0.3064516129032258\n",
            "Simpson(arctic_fox, fennec_fox) -> 0.30158730158730157\n",
            "Simpson(canis, kitsune) -> 0.2972972972972973\n",
            "Simpson(dhole, african_wild_dog) -> 0.2777777777777778\n",
            "Simpson(arctic_fox, kitsune) -> 0.2714285714285714\n",
            "Simpson(canis, fennec_fox) -> 0.2702702702702703\n",
            "Simpson(wolf, fennec_fox) -> 0.2698412698412698\n",
            "Simpson(coyote, red_fox) -> 0.25925925925925924\n",
            "Simpson(coyote, kitsune) -> 0.25925925925925924\n",
            "Simpson(red_fox, arctic_fox) -> 0.25806451612903225\n",
            "Simpson(african_wild_dog, arctic_fox) -> 0.2571428571428571\n",
            "Simpson(african_golden_wolf, dhole) -> 0.24324324324324326\n",
            "Simpson(wolf, red_fox) -> 0.24193548387096775\n",
            "Simpson(dhole, red_fox) -> 0.24193548387096775\n",
            "Simpson(red_fox, fennec_fox) -> 0.24193548387096775\n",
            "Simpson(wolf, african_golden_wolf) -> 0.2413793103448276\n",
            "Simpson(african_golden_wolf, fennec_fox) -> 0.23809523809523808\n",
            "Simpson(african_wild_dog, fennec_fox) -> 0.23809523809523808\n",
            "Simpson(african_wild_dog, kitsune) -> 0.2361111111111111\n",
            "Simpson(red_fox, kitsune) -> 0.22580645161290322\n",
            "Simpson(canis, red_fox) -> 0.21621621621621623\n",
            "Simpson(canis, arctic_fox) -> 0.21621621621621623\n",
            "Simpson(wolf, dhole) -> 0.21621621621621623\n",
            "Simpson(dhole, arctic_fox) -> 0.21428571428571427\n",
            "Simpson(fennec_fox, kitsune) -> 0.20634920634920634\n",
            "Simpson(wolf, kitsune) -> 0.20454545454545456\n",
            "Simpson(coyote, arctic_fox) -> 0.2037037037037037\n",
            "Simpson(coyote, fennec_fox) -> 0.2037037037037037\n",
            "Simpson(african_golden_wolf, arctic_fox) -> 0.2\n",
            "Simpson(dhole, kitsune) -> 0.17567567567567569\n",
            "Simpson(african_golden_wolf, kitsune) -> 0.16091954022988506\n",
            "Simpson(dhole, fennec_fox) -> 0.15873015873015872\n"
          ],
          "name": "stdout"
        }
      ]
    },
    {
      "cell_type": "markdown",
      "metadata": {
        "id": "JtY9Ci9rOjkV",
        "colab_type": "text"
      },
      "source": [
        "## 1-2. ベクトル空間モデルにおける類似度計算\n",
        "\n",
        "### Bag of Words と Cosine 類似度"
      ]
    },
    {
      "cell_type": "code",
      "metadata": {
        "id": "yYLoRV7_dQlj",
        "colab_type": "code",
        "colab": {}
      },
      "source": [
        "# cosine 類似度\n",
        "def cos_sim(v_a, v_b):\n",
        "  norm2_a = np.linalg.norm(v_a)\n",
        "  norm2_b = np.linalg.norm(v_b)\n",
        "  in_prod = np.array(v_a).dot(np.array(v_b))\n",
        "  ret = (in_prod / (norm2_a * norm2_b)) if norm2_a * norm2_b != 0 else 1.0\n",
        "  return ret"
      ],
      "execution_count": 25,
      "outputs": []
    },
    {
      "cell_type": "code",
      "metadata": {
        "id": "vI0u2CQeeUDh",
        "colab_type": "code",
        "colab": {}
      },
      "source": [
        "# cosine 類似度の計算\n",
        "cos_sim_res = {}\n",
        "for i in range(len(text_name)):\n",
        "  for j in range(i + 1, len(text_name)):\n",
        "    name_i = text_name[i]\n",
        "    name_j = text_name[j]\n",
        "    vec_i = bow_vec_doc[i]\n",
        "    vec_j = bow_vec_doc[j]\n",
        "    cos = cos_sim(vec_i, vec_j)\n",
        "    name_ij = \"Cosine(\" + name_i + \", \" + name_j + \")\"\n",
        "    cos_sim_res[name_ij] = cos"
      ],
      "execution_count": 26,
      "outputs": []
    },
    {
      "cell_type": "code",
      "metadata": {
        "id": "9iMbHeXpe15T",
        "colab_type": "code",
        "colab": {
          "base_uri": "https://localhost:8080/",
          "height": 799
        },
        "outputId": "6beae6a8-c1b7-4215-f23d-2a83621c2536"
      },
      "source": [
        "# Bag of Words -> Cosine 類似度の降順に出力\n",
        "cos_sim_sorted = sorted(cos_sim_res.items(), key = lambda x : -x[1])\n",
        "for key, value in cos_sim_sorted:\n",
        "  print(key + \" -> \" + str(value))"
      ],
      "execution_count": 27,
      "outputs": [
        {
          "output_type": "stream",
          "text": [
            "Cosine(wolf, coyote) -> 0.7635241616868097\n",
            "Cosine(wolf, african_golden_wolf) -> 0.7231791933019218\n",
            "Cosine(coyote, african_golden_wolf) -> 0.7070130569740437\n",
            "Cosine(african_golden_wolf, african_wild_dog) -> 0.6634113453812164\n",
            "Cosine(african_wild_dog, red_fox) -> 0.6580027030734056\n",
            "Cosine(coyote, red_fox) -> 0.6560794100967968\n",
            "Cosine(coyote, african_wild_dog) -> 0.6340787019713607\n",
            "Cosine(african_golden_wolf, red_fox) -> 0.6316405573900559\n",
            "Cosine(red_fox, arctic_fox) -> 0.6314497500413865\n",
            "Cosine(wolf, african_wild_dog) -> 0.6274323114889218\n",
            "Cosine(arctic_fox, fennec_fox) -> 0.6106359356250138\n",
            "Cosine(coyote, dhole) -> 0.5992771223631909\n",
            "Cosine(arctic_fox, kitsune) -> 0.5976112869643463\n",
            "Cosine(red_fox, fennec_fox) -> 0.5949613152809715\n",
            "Cosine(african_golden_wolf, dhole) -> 0.5771931941422757\n",
            "Cosine(dhole, african_wild_dog) -> 0.5702418861501779\n",
            "Cosine(african_golden_wolf, kitsune) -> 0.5580312500603\n",
            "Cosine(wolf, arctic_fox) -> 0.550312722431504\n",
            "Cosine(wolf, red_fox) -> 0.5454193633171008\n",
            "Cosine(african_golden_wolf, arctic_fox) -> 0.543671654220479\n",
            "Cosine(african_wild_dog, arctic_fox) -> 0.543573144190733\n",
            "Cosine(wolf, dhole) -> 0.532917101925863\n",
            "Cosine(wolf, kitsune) -> 0.5292136164763421\n",
            "Cosine(coyote, fennec_fox) -> 0.5261317144314654\n",
            "Cosine(dhole, red_fox) -> 0.5257102890536551\n",
            "Cosine(canis, wolf) -> 0.523906605429559\n",
            "Cosine(dhole, arctic_fox) -> 0.5219491047438924\n",
            "Cosine(african_golden_wolf, fennec_fox) -> 0.5190044020190477\n",
            "Cosine(coyote, arctic_fox) -> 0.5119890048697441\n",
            "Cosine(red_fox, kitsune) -> 0.49070589586786734\n",
            "Cosine(dhole, fennec_fox) -> 0.47661300576320365\n",
            "Cosine(african_wild_dog, fennec_fox) -> 0.4736248069905678\n",
            "Cosine(canis, african_golden_wolf) -> 0.4616856650310132\n",
            "Cosine(wolf, fennec_fox) -> 0.4615248968582895\n",
            "Cosine(african_wild_dog, kitsune) -> 0.4573548464080445\n",
            "Cosine(dhole, kitsune) -> 0.4514459921248014\n",
            "Cosine(coyote, kitsune) -> 0.4493012060865064\n",
            "Cosine(canis, coyote) -> 0.44801323532998105\n",
            "Cosine(fennec_fox, kitsune) -> 0.44347848218969477\n",
            "Cosine(canis, african_wild_dog) -> 0.43571062644833436\n",
            "Cosine(canis, dhole) -> 0.41410074906928973\n",
            "Cosine(canis, kitsune) -> 0.4061643141658718\n",
            "Cosine(canis, red_fox) -> 0.3397911347683685\n",
            "Cosine(canis, fennec_fox) -> 0.28661577966018303\n",
            "Cosine(canis, arctic_fox) -> 0.28123565160828595\n"
          ],
          "name": "stdout"
        }
      ]
    },
    {
      "cell_type": "markdown",
      "metadata": {
        "id": "XGFy3-QgOviq",
        "colab_type": "text"
      },
      "source": [
        "### TF-IDF と Cosine 類似度"
      ]
    },
    {
      "cell_type": "code",
      "metadata": {
        "id": "YbXgCvgtAx1o",
        "colab_type": "code",
        "colab": {
          "base_uri": "https://localhost:8080/",
          "height": 139
        },
        "outputId": "d1b73210-4498-4f71-c1d4-82406269d55a"
      },
      "source": [
        "# TF-IDF\n",
        "# bow を ndarray の 2次元配列に変換\n",
        "counts = np.array(bow_vec_doc)\n",
        "\n",
        "# transformer : idf は 1 を加えて smoothing する\n",
        "transformer = TfidfTransformer(smooth_idf=False)\n",
        "\n",
        "# TF-IDF ベクトルを得る\n",
        "tf_idf = transformer.fit_transform(counts)\n",
        "tf_idf_array = tf_idf.toarray()\n",
        "print(tf_idf_array)"
      ],
      "execution_count": 28,
      "outputs": [
        {
          "output_type": "stream",
          "text": [
            "[[0.093682   0.06200715 0.06854026 ... 0.         0.         0.        ]\n",
            " [0.16115246 0.18666404 0.11790346 ... 0.         0.         0.        ]\n",
            " [0.06361943 0.16843619 0.04654568 ... 0.         0.         0.        ]\n",
            " ...\n",
            " [0.         0.13511906 0.07467763 ... 0.         0.         0.        ]\n",
            " [0.         0.12129654 0.0335191  ... 0.         0.         0.        ]\n",
            " [0.         0.04435863 0.09806456 ... 0.07324908 0.07324908 0.07324908]]\n"
          ],
          "name": "stdout"
        }
      ]
    },
    {
      "cell_type": "code",
      "metadata": {
        "id": "2UUJf8PJJ6Fj",
        "colab_type": "code",
        "colab": {}
      },
      "source": [
        "# TF-IDF での cosine 類似度の計算\n",
        "cos_sim_tfidf_res = {}\n",
        "for i in range(len(text_name)):\n",
        "  for j in range(i + 1, len(text_name)):\n",
        "    name_i = text_name[i]\n",
        "    name_j = text_name[j]\n",
        "    vec_i = tf_idf_array[i]\n",
        "    vec_j = tf_idf_array[j]\n",
        "    cos = cos_sim(vec_i, vec_j)\n",
        "    name_ij = \"TF-IDF_Cosine(\" + name_i + \", \" + name_j + \")\"\n",
        "    cos_sim_tfidf_res[name_ij] = cos"
      ],
      "execution_count": 29,
      "outputs": []
    },
    {
      "cell_type": "code",
      "metadata": {
        "id": "Xjz121zSLEOE",
        "colab_type": "code",
        "colab": {
          "base_uri": "https://localhost:8080/",
          "height": 799
        },
        "outputId": "6f0595bd-44d5-4ce5-c1e8-89dedf13cb6c"
      },
      "source": [
        "# TF-IDF -> Cosine 類似度の降順に出力\n",
        "cos_sim_tfidf_sorted = sorted(cos_sim_tfidf_res.items(), key = lambda x : -x[1])\n",
        "\n",
        "for key, value in cos_sim_tfidf_sorted:\n",
        "  print(key + \" -> \" + str(value))"
      ],
      "execution_count": 30,
      "outputs": [
        {
          "output_type": "stream",
          "text": [
            "TF-IDF_Cosine(wolf, coyote) -> 0.45659482854645833\n",
            "TF-IDF_Cosine(coyote, african_golden_wolf) -> 0.36119930063872907\n",
            "TF-IDF_Cosine(wolf, african_golden_wolf) -> 0.3410146592985079\n",
            "TF-IDF_Cosine(african_golden_wolf, african_wild_dog) -> 0.3245739181371838\n",
            "TF-IDF_Cosine(african_golden_wolf, red_fox) -> 0.30054083491636424\n",
            "TF-IDF_Cosine(red_fox, arctic_fox) -> 0.2953074762014565\n",
            "TF-IDF_Cosine(african_wild_dog, red_fox) -> 0.2890493288479826\n",
            "TF-IDF_Cosine(coyote, red_fox) -> 0.28103075868253496\n",
            "TF-IDF_Cosine(dhole, african_wild_dog) -> 0.2782160488367521\n",
            "TF-IDF_Cosine(coyote, african_wild_dog) -> 0.27239868196990286\n",
            "TF-IDF_Cosine(wolf, african_wild_dog) -> 0.27084130014545277\n",
            "TF-IDF_Cosine(wolf, arctic_fox) -> 0.261911285928645\n",
            "TF-IDF_Cosine(coyote, dhole) -> 0.25710105314102244\n",
            "TF-IDF_Cosine(arctic_fox, kitsune) -> 0.2564310852703539\n",
            "TF-IDF_Cosine(canis, wolf) -> 0.25541490913542253\n",
            "TF-IDF_Cosine(arctic_fox, fennec_fox) -> 0.25490693871030123\n",
            "TF-IDF_Cosine(red_fox, fennec_fox) -> 0.22569708651868897\n",
            "TF-IDF_Cosine(canis, african_wild_dog) -> 0.21928439360945756\n",
            "TF-IDF_Cosine(wolf, red_fox) -> 0.21854520935629204\n",
            "TF-IDF_Cosine(canis, coyote) -> 0.21305251233620434\n",
            "TF-IDF_Cosine(african_wild_dog, arctic_fox) -> 0.2107739809297373\n",
            "TF-IDF_Cosine(dhole, red_fox) -> 0.2107335061649039\n",
            "TF-IDF_Cosine(african_golden_wolf, dhole) -> 0.2069794920802483\n",
            "TF-IDF_Cosine(red_fox, kitsune) -> 0.20642901404450031\n",
            "TF-IDF_Cosine(wolf, kitsune) -> 0.20007280965822294\n",
            "TF-IDF_Cosine(wolf, dhole) -> 0.18992980087884723\n",
            "TF-IDF_Cosine(dhole, arctic_fox) -> 0.18984059537262357\n",
            "TF-IDF_Cosine(african_golden_wolf, arctic_fox) -> 0.18964379177216462\n",
            "TF-IDF_Cosine(african_golden_wolf, kitsune) -> 0.1858780595618684\n",
            "TF-IDF_Cosine(canis, dhole) -> 0.18329957737631689\n",
            "TF-IDF_Cosine(coyote, arctic_fox) -> 0.1813101269098511\n",
            "TF-IDF_Cosine(canis, african_golden_wolf) -> 0.17623870169870123\n",
            "TF-IDF_Cosine(coyote, fennec_fox) -> 0.1712730544802851\n",
            "TF-IDF_Cosine(african_golden_wolf, fennec_fox) -> 0.16537177929460492\n",
            "TF-IDF_Cosine(coyote, kitsune) -> 0.16516471992459214\n",
            "TF-IDF_Cosine(wolf, fennec_fox) -> 0.16071484829117394\n",
            "TF-IDF_Cosine(fennec_fox, kitsune) -> 0.1573548433850108\n",
            "TF-IDF_Cosine(african_wild_dog, kitsune) -> 0.15396476999761727\n",
            "TF-IDF_Cosine(canis, kitsune) -> 0.15209564441438675\n",
            "TF-IDF_Cosine(african_wild_dog, fennec_fox) -> 0.14718728363390615\n",
            "TF-IDF_Cosine(dhole, kitsune) -> 0.12946466936597414\n",
            "TF-IDF_Cosine(dhole, fennec_fox) -> 0.1216163281554509\n",
            "TF-IDF_Cosine(canis, red_fox) -> 0.11500017815579264\n",
            "TF-IDF_Cosine(canis, fennec_fox) -> 0.0960571889434782\n",
            "TF-IDF_Cosine(canis, arctic_fox) -> 0.08822173276610835\n"
          ],
          "name": "stdout"
        }
      ]
    },
    {
      "cell_type": "markdown",
      "metadata": {
        "id": "uBshMmYMQ5eB",
        "colab_type": "text"
      },
      "source": [
        "## 1-3. 単語の分散表現とドキュメントの類似度"
      ]
    },
    {
      "cell_type": "markdown",
      "metadata": {
        "id": "O1v5sQzjcC9d",
        "colab_type": "text"
      },
      "source": [
        "### Doc2Vec"
      ]
    },
    {
      "cell_type": "code",
      "metadata": {
        "id": "N8i8xF9IQ4s1",
        "colab_type": "code",
        "colab": {
          "base_uri": "https://localhost:8080/",
          "height": 54
        },
        "outputId": "5faf9bec-d9e9-4569-f096-73cef11a5a59"
      },
      "source": [
        "# Doc2Vec の入力\n",
        "labeled_sentence = [TaggedDocument(words = text_tokenized[n], tags = [n]) \n",
        "                    for n in text_name]\n",
        "\n",
        "print(labeled_sentence)"
      ],
      "execution_count": 31,
      "outputs": [
        {
          "output_type": "stream",
          "text": [
            "[TaggedDocument(words=['Canis', 'is', 'a', 'genus', 'of', 'the', 'Caninae', 'containing', 'multiple', 'extant', 'species', 'such', 'as', 'wolves', 'dogs', 'coyotes', 'and', 'jackals', 'Species', 'of', 'this', 'genus', 'are', 'distinguished', 'by', 'their', 'moderate', 'to', 'large', 'size', 'their', 'massive', 'welldeveloped', 'skulls', 'and', 'dentition', 'long', 'legs', 'and', 'comparatively', 'short', 'ears', 'and', 'tails'], tags=['canis']), TaggedDocument(words=['The', 'wolf', 'Canis', 'lupus', 'also', 'known', 'as', 'the', 'gray', 'wolf', 'or', 'grey', 'wolf', 'is', 'a', 'large', 'canine', 'native', 'to', 'Eurasia', 'and', 'North', 'America', 'More', 'than', 'thirty', 'subspecies', 'of', 'Canis', 'lupus', 'have', 'been', 'recognized', 'and', 'gray', 'wolves', 'as', 'colloquially', 'understood', 'comprise', 'nondomestic/feral', 'subspecies', 'The', 'wolf', 'is', 'the', 'largest', 'extant', 'member', 'of', 'Canidae', 'males', 'averaging', 'kg', 'lb', 'and', 'females', 'kg', 'lb', 'Wolves', 'measure', 'cm', 'in', 'in', 'length', 'and', 'cm', 'in', 'at', 'shoulder', 'height', 'The', 'wolf', 'is', 'also', 'distinguished', 'from', 'other', 'Canis', 'species', 'by', 'its', 'less', 'pointed', 'ears', 'and', 'muzzle', 'as', 'well', 'as', 'a', 'shorter', 'torso', 'and', 'a', 'longer', 'tail', 'The', 'wolf', 'is', 'nonetheless', 'related', 'closely', 'enough', 'to', 'smaller', 'Canis', 'species', 'such', 'as', 'the', 'coyote', 'and', 'the', 'golden', 'jackal', 'to', 'produce', 'fertile', 'hybrids', 'with', 'them', 'The', 'banded', 'fur', 'of', 'a', 'wolf', 'is', 'usually', 'mottled', 'white', 'brown', 'gray', 'and', 'black', 'although', 'subspecies', 'in', 'the', 'arctic', 'region', 'may', 'be', 'nearly', 'all', 'white'], tags=['wolf']), TaggedDocument(words=['The', 'coyote', 'Canis', 'latrans', 'is', 'a', 'species', 'of', 'canine', 'native', 'to', 'North', 'America', 'It', 'is', 'smaller', 'than', 'its', 'close', 'relative', 'the', 'gray', 'wolf', 'and', 'slightly', 'smaller', 'than', 'the', 'closely', 'related', 'eastern', 'wolf', 'and', 'red', 'wolf', 'It', 'fills', 'much', 'of', 'the', 'same', 'ecological', 'niche', 'as', 'the', 'golden', 'jackal', 'does', 'in', 'Eurasia', 'though', 'it', 'is', 'larger', 'and', 'more', 'predatory', 'and', 'is', 'sometimes', 'called', 'the', 'American', 'jackal', 'by', 'zoologists', 'Other', 'names', 'for', 'the', 'species', 'largely', 'historical', 'include', 'the', 'prairie', 'wolf', 'and', 'the', 'brush', 'wolf'], tags=['coyote']), TaggedDocument(words=['The', 'African', 'golden', 'wolf', 'Canis', 'anthus', 'or', 'Canis', 'lupaster', 'is', 'a', 'canine', 'native', 'to', 'North', 'Africa', 'and', 'the', 'Horn', 'of', 'Africa', 'It', 'is', 'the', 'descendant', 'of', 'a', 'genetically', 'admixed', 'canid', 'of', 'gray', 'wolf', 'and', 'Ethiopian', 'wolf', 'ancestry', 'It', 'occurs', 'in', 'Senegal', 'Nigeria', 'Chad', 'Morocco', 'Algeria', 'Tunisia', 'Libya', 'Kenya', 'and', 'Egypt', 'and', 'in', 'Tanzania', 'It', 'is', 'listed', 'as', 'Least', 'Concern', 'on', 'the', 'IUCN', 'Red', 'List', 'In', 'the', 'Atlas', 'Mountains', 'it', 'was', 'sighted', 'in', 'elevations', 'as', 'high', 'as', 'm', 'ft', 'It', 'is', 'primarily', 'a', 'predator', 'targeting', 'invertebrates', 'and', 'mammals', 'as', 'large', 'as', 'gazelle', 'fawns', 'though', 'larger', 'animals', 'are', 'sometimes', 'taken', 'Its', 'diet', 'also', 'includes', 'animal', 'carcasses', 'human', 'refuse', 'and', 'fruit', 'The', 'African', 'golden', 'wolf', 'is', 'a', 'monogamous', 'and', 'territorial', 'species', 'offspring', 'remain', 'with', 'the', 'family', 'to', 'assist', 'in', 'raising', 'their', \"parents'\", 'younger', 'pups'], tags=['african_golden_wolf']), TaggedDocument(words=['The', 'dhole', 'Cuon', 'alpinus', 'is', 'a', 'canid', 'native', 'to', 'Central', 'South', 'East', 'Asia', 'and', 'Southeast', 'Asia', 'Other', 'English', 'names', 'for', 'the', 'species', 'include', 'Asian', 'wild', 'dog', 'Asiatic', 'wild', 'dog', 'Indian', 'wild', 'dog', 'whistling', 'dog', 'red', 'dog', 'and', 'mountain', 'wolf', 'It', 'is', 'genetically', 'close', 'to', 'species', 'within', 'the', 'genus', 'Canis', 'but', 'distinct', 'in', 'several', 'anatomical', 'aspects:', 'its', 'skull', 'is', 'convex', 'rather', 'than', 'concave', 'in', 'profile', 'it', 'lacks', 'a', 'third', 'lower', 'molar', 'and', 'the', 'upper', 'molars', 'sport', 'only', 'a', 'single', 'cusp', 'as', 'opposed', 'to', 'between', 'two', 'and', 'four', 'During', 'the', 'Pleistocene', 'the', 'dhole', 'ranged', 'throughout', 'Asia', 'Europe', 'and', 'North', 'America', 'but', 'became', 'restricted', 'to', 'its', 'historical', 'range', 'years', 'ago'], tags=['dhole']), TaggedDocument(words=['The', 'African', 'wild', 'dog', 'Lycaon', 'pictus', 'also', 'called', 'the', 'painted', 'wolf', 'or', 'Cape', 'hunting', 'dog', 'is', 'a', 'canine', 'native', 'to', 'subSaharan', 'Africa', 'It', 'is', 'the', 'largest', 'indigenous', 'canine', 'in', 'Africa', 'and', 'the', 'only', 'extant', 'member', 'of', 'the', 'genus', 'Lycaon', 'which', 'is', 'distinguished', 'from', 'Canis', 'by', 'dentition', 'highly', 'specialised', 'for', 'a', 'hypercarnivorous', 'diet', 'and', 'a', 'lack', 'of', 'dewclaws', 'It', 'is', 'estimated', 'that', 'about', 'adults', 'including', 'mature', 'individuals', 'live', 'in', 'subpopulations', 'that', 'are', 'all', 'threatened', 'by', 'habitat', 'fragmentation', 'human', 'persecution', 'and', 'outbreaks', 'of', 'diseases', 'As', 'the', 'largest', 'subpopulation', 'probably', 'consists', 'of', 'less', 'than', 'individuals', 'the', 'African', 'wild', 'dog', 'is', 'listed', 'as', 'endangered', 'on', 'the', 'IUCN', 'Red', 'List', 'since'], tags=['african_wild_dog']), TaggedDocument(words=['The', 'red', 'fox', 'Vulpes', 'vulpes', 'is', 'the', 'largest', 'of', 'the', 'true', 'foxes', 'and', 'one', 'of', 'the', 'most', 'widely', 'distributed', 'members', 'of', 'the', 'order', 'Carnivora', 'being', 'present', 'across', 'the', 'entire', 'Northern', 'Hemisphere', 'including', 'most', 'of', 'North', 'America', 'Europe', 'and', 'Asia', 'plus', 'parts', 'of', 'Northern', 'Africa', 'It', 'is', 'listed', 'as', 'least', 'concern', 'by', 'the', 'IUCN', 'Its', 'range', 'has', 'increased', 'alongside', 'human', 'expansion', 'having', 'been', 'introduced', 'to', 'Australia', 'where', 'it', 'is', 'considered', 'harmful', 'to', 'native', 'mammals', 'and', 'bird', 'populations', 'Due', 'to', 'its', 'presence', 'in', 'Australia', 'it', 'is', 'included', 'on', 'the', 'list', 'of', 'the', '\"world\\'s', 'worst', 'invasive', 'species\"'], tags=['red_fox']), TaggedDocument(words=['The', 'Arctic', 'fox', 'Vulpes', 'lagopus', 'also', 'known', 'as', 'the', 'white', 'fox', 'polar', 'fox', 'or', 'snow', 'fox', 'is', 'a', 'small', 'fox', 'native', 'to', 'the', 'Arctic', 'regions', 'of', 'the', 'Northern', 'Hemisphere', 'and', 'common', 'throughout', 'the', 'Arctic', 'tundra', 'biome', 'It', 'is', 'well', 'adapted', 'to', 'living', 'in', 'cold', 'environments', 'and', 'is', 'best', 'known', 'for', 'its', 'thick', 'warm', 'fur', 'that', 'is', 'also', 'used', 'as', 'camouflage', 'In', 'the', 'wild', 'most', 'individuals', 'do', 'not', 'live', 'past', 'their', 'first', 'year', 'but', 'some', 'exceptional', 'ones', 'survive', 'up', 'to', 'years', 'Its', 'body', 'length', 'ranges', 'from', 'to', 'cm', 'to', 'in', 'with', 'a', 'generally', 'rounded', 'body', 'shape', 'to', 'minimize', 'the', 'escape', 'of', 'body', 'heat'], tags=['arctic_fox']), TaggedDocument(words=['The', 'fennec', 'fox', 'Vulpes', 'zerda', 'also', 'called', 'fennec', 'or', 'desert', 'fox', 'is', 'a', 'small', 'crepuscular', 'fox', 'native', 'to', 'the', 'Sahara', 'Desert', 'the', 'Sinai', 'Peninsula', 'Arava', 'desert', 'and', 'the', 'Arabian', 'desert', 'Its', 'most', 'distinctive', 'feature', 'is', 'its', 'unusually', 'large', 'ears', 'which', 'also', 'serve', 'to', 'dissipate', 'heat', 'Its', 'name', 'comes', 'from', 'this', \"species'\", 'name', 'in', 'Arabic:', 'fanak', 'The', 'fennec', 'is', 'the', 'smallest', 'species', 'of', 'canid', 'Its', 'coat', 'ears', 'and', 'kidney', 'functions', 'have', 'adapted', 'to', 'hightemperature', 'lowwater', 'desert', 'environments', 'Also', 'its', 'hearing', 'is', 'sensitive', 'enough', 'to', 'hear', 'prey', 'moving', 'underground', 'It', 'mainly', 'eats', 'insects', 'small', 'mammals', 'and', 'birds'], tags=['fennec_fox']), TaggedDocument(words=['Kitsune', 'in', 'the', 'literal', 'sense', 'is', 'the', 'Japanese', 'word', 'for', 'fox', 'Foxes', 'are', 'a', 'common', 'subject', 'of', 'Japanese', 'folklore;', 'in', 'English', 'kitsune', 'refers', 'to', 'them', 'in', 'this', 'context', 'Stories', 'depict', 'legendary', 'foxes', 'as', 'intelligent', 'beings', 'and', 'as', 'possessing', 'paranormal', 'abilities', 'that', 'increase', 'with', 'their', 'age', 'and', 'wisdom', 'According', 'to', 'Yōkai', 'folklore', 'all', 'foxes', 'have', 'the', 'ability', 'to', 'shapeshift', 'into', 'human', 'form', 'While', 'some', 'folktales', 'speak', 'of', 'kitsune', 'employing', 'this', 'ability', 'to', 'trick', 'others', 'as', 'foxes', 'in', 'folklore', 'often', 'do', 'other', 'stories', 'portray', 'them', 'as', 'faithful', 'guardians', 'friends', 'lovers', 'and', 'wives', 'Foxes', 'and', 'humans', 'lived', 'close', 'together', 'in', 'ancient', 'Japan;', 'this', 'companionship', 'gave', 'rise', 'to', 'legends', 'about', 'the', 'creatures', 'Kitsune', 'have', 'become', 'closely', 'associated', 'with', 'Inari', 'a', 'Shinto', 'kami', 'or', 'spirit', 'and', 'serve', 'as', 'its', 'messengers', 'This', 'role', 'has', 'reinforced', 'the', \"fox's\", 'supernatural', 'significance', 'The', 'more', 'tails', 'a', 'kitsune', 'has', 'they', 'may', 'have', 'as', 'many', 'as', 'nine', 'the', 'older', 'wiser', 'and', 'more', 'powerful', 'it', 'is', 'Because', 'of', 'their', 'potential', 'power', 'and', 'influence', 'some', 'people', 'make', 'sacrifices', 'to', 'them', 'as', 'to', 'a', 'deity'], tags=['kitsune'])]\n"
          ],
          "name": "stdout"
        }
      ]
    },
    {
      "cell_type": "code",
      "metadata": {
        "id": "5yy3t-qFh5e8",
        "colab_type": "code",
        "colab": {}
      },
      "source": [
        "# モデルの定義\n",
        "# dm : 1 なら PV-DM を使い、0 なら PV-DBOW を使う\n",
        "# vector_size : 特徴ベクトルの次元数\n",
        "# windows : 前後何単語とるか\n",
        "# min_count : total frequency がこれ未満なら単語を無視する（今回は無視しない）\n",
        "# alpha : 学習率\n",
        "model = Doc2Vec(documents = labeled_sentence, dm = 1, vector_size = 100,\n",
        "                windows = 5, min_count = 1, alpha = 0.0015)"
      ],
      "execution_count": 32,
      "outputs": []
    },
    {
      "cell_type": "code",
      "metadata": {
        "id": "LhF-wfzBkK_4",
        "colab_type": "code",
        "colab": {
          "base_uri": "https://localhost:8080/",
          "height": 72
        },
        "outputId": "8c4df6d7-5e55-4ed2-b14b-64356ced226f"
      },
      "source": [
        "# 文書の類似度を取得\n",
        "doc2vec_sim_res = {}\n",
        "for i in range(len(text_name)):\n",
        "  for j in range(i + 1, len(text_name)):\n",
        "    tag_i = text_name[i]\n",
        "    tag_j = text_name[j]\n",
        "    sim = model.docvecs.similarity(tag_i, tag_j)\n",
        "    tag_ij = \"Doc2Vec_Cosine(\" + tag_i + \", \" + tag_j + \")\"\n",
        "    doc2vec_sim_res[tag_ij] = sim"
      ],
      "execution_count": 33,
      "outputs": [
        {
          "output_type": "stream",
          "text": [
            "/usr/local/lib/python3.6/dist-packages/gensim/matutils.py:737: FutureWarning: Conversion of the second argument of issubdtype from `int` to `np.signedinteger` is deprecated. In future, it will be treated as `np.int64 == np.dtype(int).type`.\n",
            "  if np.issubdtype(vec.dtype, np.int):\n"
          ],
          "name": "stderr"
        }
      ]
    },
    {
      "cell_type": "code",
      "metadata": {
        "id": "62wLPc7RoTme",
        "colab_type": "code",
        "colab": {
          "base_uri": "https://localhost:8080/",
          "height": 799
        },
        "outputId": "1993ec76-5dc2-46d0-b128-3475ed249613"
      },
      "source": [
        "# Doc2Vec -> Cosine 類似度の降順に出力\n",
        "doc2vec_sim_res_sorted = sorted(doc2vec_sim_res.items(), key = lambda x : -x[1])\n",
        "\n",
        "for key, value in doc2vec_sim_res_sorted:\n",
        "  print(key + \" -> \" + str(value))"
      ],
      "execution_count": 34,
      "outputs": [
        {
          "output_type": "stream",
          "text": [
            "Doc2Vec_Cosine(coyote, dhole) -> 0.2843592\n",
            "Doc2Vec_Cosine(arctic_fox, kitsune) -> 0.26412058\n",
            "Doc2Vec_Cosine(african_golden_wolf, dhole) -> 0.18594341\n",
            "Doc2Vec_Cosine(dhole, red_fox) -> 0.16068977\n",
            "Doc2Vec_Cosine(dhole, fennec_fox) -> 0.1298356\n",
            "Doc2Vec_Cosine(dhole, african_wild_dog) -> 0.126938\n",
            "Doc2Vec_Cosine(canis, african_wild_dog) -> 0.11929832\n",
            "Doc2Vec_Cosine(red_fox, fennec_fox) -> 0.11473014\n",
            "Doc2Vec_Cosine(coyote, african_golden_wolf) -> 0.106517196\n",
            "Doc2Vec_Cosine(african_wild_dog, kitsune) -> 0.10125299\n",
            "Doc2Vec_Cosine(canis, arctic_fox) -> 0.09719852\n",
            "Doc2Vec_Cosine(african_wild_dog, fennec_fox) -> 0.09678839\n",
            "Doc2Vec_Cosine(coyote, african_wild_dog) -> 0.08316032\n",
            "Doc2Vec_Cosine(canis, wolf) -> 0.08232581\n",
            "Doc2Vec_Cosine(canis, kitsune) -> 0.07931926\n",
            "Doc2Vec_Cosine(african_golden_wolf, kitsune) -> 0.063464604\n",
            "Doc2Vec_Cosine(african_golden_wolf, red_fox) -> 0.06115647\n",
            "Doc2Vec_Cosine(coyote, arctic_fox) -> 0.060937066\n",
            "Doc2Vec_Cosine(coyote, kitsune) -> 0.05289017\n",
            "Doc2Vec_Cosine(arctic_fox, fennec_fox) -> 0.05141581\n",
            "Doc2Vec_Cosine(canis, african_golden_wolf) -> 0.048777506\n",
            "Doc2Vec_Cosine(coyote, red_fox) -> 0.047221787\n",
            "Doc2Vec_Cosine(coyote, fennec_fox) -> 0.032426912\n",
            "Doc2Vec_Cosine(wolf, african_golden_wolf) -> 0.023294015\n",
            "Doc2Vec_Cosine(canis, coyote) -> 0.017251046\n",
            "Doc2Vec_Cosine(wolf, red_fox) -> 0.013482032\n",
            "Doc2Vec_Cosine(wolf, arctic_fox) -> 0.010154398\n",
            "Doc2Vec_Cosine(wolf, kitsune) -> 0.0055283885\n",
            "Doc2Vec_Cosine(african_wild_dog, red_fox) -> 0.0050773947\n",
            "Doc2Vec_Cosine(canis, fennec_fox) -> -0.003151386\n",
            "Doc2Vec_Cosine(african_golden_wolf, african_wild_dog) -> -0.0075241956\n",
            "Doc2Vec_Cosine(dhole, kitsune) -> -0.009396625\n",
            "Doc2Vec_Cosine(african_golden_wolf, fennec_fox) -> -0.015480332\n",
            "Doc2Vec_Cosine(wolf, dhole) -> -0.0234606\n",
            "Doc2Vec_Cosine(wolf, african_wild_dog) -> -0.034922224\n",
            "Doc2Vec_Cosine(canis, dhole) -> -0.105531126\n",
            "Doc2Vec_Cosine(canis, red_fox) -> -0.113079146\n",
            "Doc2Vec_Cosine(red_fox, arctic_fox) -> -0.13054463\n",
            "Doc2Vec_Cosine(dhole, arctic_fox) -> -0.13595124\n",
            "Doc2Vec_Cosine(african_golden_wolf, arctic_fox) -> -0.1529306\n",
            "Doc2Vec_Cosine(fennec_fox, kitsune) -> -0.1848187\n",
            "Doc2Vec_Cosine(wolf, coyote) -> -0.19223039\n",
            "Doc2Vec_Cosine(african_wild_dog, arctic_fox) -> -0.19855897\n",
            "Doc2Vec_Cosine(wolf, fennec_fox) -> -0.2837126\n",
            "Doc2Vec_Cosine(red_fox, kitsune) -> -0.39091226\n"
          ],
          "name": "stdout"
        }
      ]
    },
    {
      "cell_type": "markdown",
      "metadata": {
        "id": "UHwijLUreOLG",
        "colab_type": "text"
      },
      "source": [
        "# 2. 考察と感想\n",
        "\n",
        "GitHub Repository: https://github.com/WhiteFox-Lugh/Pratice-TextAnalysis\n",
        "\n",
        "今回はドキュメントの類似度を計算する方法として以下の文書表現手法と距離尺度を用いた。\n",
        "\n",
        "- 文書を単語の集合で表現する\n",
        "  - Jaccard 係数、Dice 係数、 Simpson 係数\n",
        "- 文書をベクトルで表現する\n",
        "  - Bag of Words -> Cosine 類似度\n",
        "  - TF-IDF -> Cosine 類似度\n",
        "- 文書を分散表現で表現する（機械学習的手法）\n",
        "  - doc2vec\n",
        "\n",
        "入力ドキュメントは、GitHub の Repository に text1.txt ～ text10.txt として置いてある。\n",
        "\n",
        "text の引用元を以下に示す。全て最初の概要部分1パラグラフ分をとってきている（注釈番号は抜いた）。\n",
        "\n",
        "* text1.txt  : https://en.wikipedia.org/wiki/Canis\n",
        "* text2.txt  : https://en.wikipedia.org/wiki/Wolf\n",
        "* text3.txt  : https://en.wikipedia.org/wiki/Coyote\n",
        "* text4.txt  : https://en.wikipedia.org/wiki/African_golden_wolf\n",
        "* text5.txt  : https://en.wikipedia.org/wiki/Dhole\n",
        "* text6.txt  : https://en.wikipedia.org/wiki/African_wild_dog\n",
        "* text7.txt  : https://en.wikipedia.org/wiki/Red_fox\n",
        "* text8.txt  : https://en.wikipedia.org/wiki/Arctic_fox\n",
        "* text9.txt  : https://en.wikipedia.org/wiki/Fennec_fox\n",
        "* text10.txt : https://en.wikipedia.org/wiki/Kitsune\n",
        "\n",
        "各文書表現手法と距離尺度における実行結果と考察を記述していく。\n",
        "\n",
        "はじめに、文書を単語の集合で表現する手法についてみていく。\n",
        "\n",
        "Jaccard 係数による比較では、二つの文章に共通する単語と和集合で定義を行っている。Dice 係数と Simpson 係数では、二つの文書に共通して登場する単語と、それぞれの文書の単語数だけを見ている。\n",
        "利点としては二つの文書内の単語の種類の総数と、共通する単語だけを列挙すればいいので非常に単純な実装でできる点である。\n",
        "\n",
        "Jaccard 係数での文書類似度比較の上位5ペアは以下のようになった。\n",
        "- Jaccard(wolf, coyote) -> 0.24561403508771928\n",
        "- Jaccard(coyote, dhole) -> 0.2075471698113207\n",
        "- Jaccard(african_golden_wolf, african_wild_dog) -> 0.19548872180451127\n",
        "- Jaccard(coyote, african_golden_wolf) -> 0.18487394957983194\n",
        "- Jaccard(canis, african_wild_dog) -> 0.18478260869565222\n",
        "\n",
        "Dice 係数での文書類似度の比較の上位5ペアは以下のようになった。\n",
        "- Dice(wolf, coyote) -> 0.39436619718309857\n",
        "- Dice(coyote, dhole) -> 0.34375\n",
        "- Dice(african_golden_wolf, african_wild_dog) -> 0.3270440251572327\n",
        "- Dice(coyote, african_golden_wolf) -> 0.3120567375886525\n",
        "- Dice(canis, african_wild_dog) -> 0.3119266055045872\n",
        "\n",
        "Simpson 係数での文書の類似度の比較の上位5ペアは以下のようになった。\n",
        "- Simpson(wolf, coyote) -> 0.5185185185185185\n",
        "- Simpson(canis, wolf) -> 0.5135135135135135\n",
        "- Simpson(canis, african_wild_dog) -> 0.4594594594594595\n",
        "- Simpson(coyote, african_golden_wolf) -> 0.4074074074074074\n",
        "- Simpson(coyote, dhole) -> 0.4074074074074074\n",
        "\n",
        "いずれにおいても、オオカミに関する文書同士の類似度が高くなった。一方、text7.txt ～ text10.txt ではキツネに関する文書を用意したがいずれにおいても類似度の上位には入ってこなかった。\n",
        "\n",
        "単純な手法で文書の類似度が比較できるが、単語が出現するか否かしか考えていない。そのため、短い文書に対してはよい手法であるといえそうだが、文書のコレクションサイズ（文書数）が大きくなったり、一つ一つのドキュメントの長さが長くなってくると、共通する単語数がそもそも少なくなってくると予想できるため、類似度の値が小さくなり、比較が困難になると考えられる。また、文脈や単語のつながり、Los Angels といったように二語で一つの単語を構成する単語については何も考えられていないのも問題である。\n",
        "\n",
        "次に、Bag of Words と Cosine 類似度、および TF-IDF と Cosine 類似度による文書の類似度の比較について考察する。\n",
        "\n",
        "Bag of Words と Cosine 類似度による文書の類似度ランキングの上位5ペアは以下のようになった。\n",
        "\n",
        "- Cosine(wolf, coyote) -> 0.7635241616868097\n",
        "- Cosine(wolf, african_golden_wolf) -> 0.7231791933019218\n",
        "- Cosine(coyote, african_golden_wolf) -> 0.7070130569740437\n",
        "- Cosine(african_golden_wolf, african_wild_dog) -> 0.6634113453812164\n",
        "- Cosine(african_wild_dog, red_fox) -> 0.6580027030734056\n",
        "\n",
        "TF-IDF と Cosine 類似度による文書の類似度ランキングの上位5ペアは以下のようになった。\n",
        "\n",
        "- TF-IDF_Cosine(wolf, coyote) -> 0.45659482854645833\n",
        "- TF-IDF_Cosine(coyote, african_golden_wolf) -> 0.36119930063872907\n",
        "- TF-IDF_Cosine(wolf, african_golden_wolf) -> 0.3410146592985079\n",
        "- TF-IDF_Cosine(african_golden_wolf, african_wild_dog) -> 0.3245739181371838\n",
        "- TF-IDF_Cosine(african_golden_wolf, red_fox) -> 0.30054083491636424\n",
        "\n",
        "先ほどの単語の集合ベースとはまた少し異なった結果が得られたことがわかる。\n",
        "\n",
        "Bag of Words では、集合ベースの方法と比較すると、単語の出現頻度を考慮できている点ではよい手法であると考えられる。また、TF-IDF では文書内での単語の出現頻度、および文書間での単語の出現頻度を同時に考慮できている。コサイン類似度の大きさを見れば、文書ベクトルがどれくらい似ているかもわかりやすい。しかし、単語が出現するか否か、出現頻度しかみていないので文脈については何も考慮できていないところは問題である。\n",
        "\n",
        "最後に、機械学習的手法（Doc2Vec）による文書の類似度比較について考察する。\n",
        "\n",
        "Doc2Vec による文書の類似度のランキング上位5ペアは以下のようになった。\n",
        "\n",
        "- Doc2Vec_Cosine(coyote, dhole) -> 0.2843592\n",
        "- Doc2Vec_Cosine(arctic_fox, kitsune) -> 0.26412058\n",
        "- Doc2Vec_Cosine(african_golden_wolf, dhole) -> 0.18594341\n",
        "- Doc2Vec_Cosine(dhole, red_fox) -> 0.16068977\n",
        "- Doc2Vec_Cosine(dhole, fennec_fox) -> 0.1298356\n",
        "\n",
        "集合ベースやベクトル空間モデルでの文章と全く異なった結果が得られた。特に、オオカミ系の文書とキツネ系の文書の類似度が高いという結果が上位に来ているのが大きな違いである。\n",
        "\n",
        "また、類似度の値についてみてみると、集合ベースの距離尺度と Bag of Words から Cosine 類似度、TF-IDF から Cosine 類似度を算出する方法は0以上1以下の値をとるが、Doc2Vec から Cosine 類似度は -1 以上 1 以下の値をとる。Bag of Words と TF-IDF ではベクトルの各成分はすべて正なので、Cosine 類似度の値は負にならない。\n",
        "\n",
        "Doc2Vec は、機械学習的な手法であるため、ほかの二つの手法よりも膨大なサイズの文書コレクション、文書長のドキュメント対して有効な手法と考えられる。この手法では、今回実装したほかの手法では考慮できていない単語の前後の文脈を考慮することができている。\n",
        "\n",
        "## 感想\n",
        "\n",
        "単語の適切な前処理について、正規表現を用いていらない情報を除去するのが思いのほか難しかった。今回は英語であったが、自分の研究では日本語のテキスト分析を行う機会も出てくると思うので、そちらに応用できるように前処理方法についてはもう少ししっかり勉強していきたい。\n",
        "\n",
        "ドキュメントの類似度については、単語の set を構築する方法と、ベクトル空間モデルによる手法は以前に勉強して実装したことがあるので、今回は、Word2Vec や Doc2Vec による手法を理解することに力を入れた。ライブラリの使い方に慣れておらず、公式ドキュメントとそこに書かれているサンプルコードを頼りに実装したが、なかなか難しかった。"
      ]
    }
  ]
}