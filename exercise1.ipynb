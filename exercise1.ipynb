{
  "nbformat": 4,
  "nbformat_minor": 0,
  "metadata": {
    "colab": {
      "name": "exercise1.ipynb",
      "provenance": [],
      "collapsed_sections": [],
      "authorship_tag": "ABX9TyNHu09RlYEqif2EPUsh7Irw",
      "include_colab_link": true
    },
    "kernelspec": {
      "name": "python3",
      "display_name": "Python 3"
    }
  },
  "cells": [
    {
      "cell_type": "markdown",
      "metadata": {
        "id": "view-in-github",
        "colab_type": "text"
      },
      "source": [
        "<a href=\"https://colab.research.google.com/github/WhiteFox-Lugh/Pratice-TextAnalysis/blob/master/exercise1.ipynb\" target=\"_parent\"><img src=\"https://colab.research.google.com/assets/colab-badge.svg\" alt=\"Open In Colab\"/></a>"
      ]
    },
    {
      "cell_type": "markdown",
      "metadata": {
        "id": "qLc9NzIz_EkL",
        "colab_type": "text"
      },
      "source": [
        "逐次実行していけば所定の処理ができるようにしてあります。\n",
        "（ただし、外部テキストファイルなどは適切な場所に配置してください）"
      ]
    },
    {
      "cell_type": "code",
      "metadata": {
        "id": "ITl8QGF_fuam",
        "colab_type": "code",
        "colab": {
          "base_uri": "https://localhost:8080/",
          "height": 367
        },
        "outputId": "5b42aa93-895e-4db3-a401-98f6f951e812"
      },
      "source": [
        "!pip install nltk\n",
        "!pip install gensim"
      ],
      "execution_count": 2,
      "outputs": [
        {
          "output_type": "stream",
          "text": [
            "Requirement already satisfied: nltk in /usr/local/lib/python3.6/dist-packages (3.2.5)\n",
            "Requirement already satisfied: six in /usr/local/lib/python3.6/dist-packages (from nltk) (1.12.0)\n",
            "Requirement already satisfied: gensim in /usr/local/lib/python3.6/dist-packages (3.6.0)\n",
            "Requirement already satisfied: scipy>=0.18.1 in /usr/local/lib/python3.6/dist-packages (from gensim) (1.4.1)\n",
            "Requirement already satisfied: numpy>=1.11.3 in /usr/local/lib/python3.6/dist-packages (from gensim) (1.18.5)\n",
            "Requirement already satisfied: six>=1.5.0 in /usr/local/lib/python3.6/dist-packages (from gensim) (1.12.0)\n",
            "Requirement already satisfied: smart-open>=1.2.1 in /usr/local/lib/python3.6/dist-packages (from gensim) (2.0.0)\n",
            "Requirement already satisfied: requests in /usr/local/lib/python3.6/dist-packages (from smart-open>=1.2.1->gensim) (2.23.0)\n",
            "Requirement already satisfied: boto in /usr/local/lib/python3.6/dist-packages (from smart-open>=1.2.1->gensim) (2.49.0)\n",
            "Requirement already satisfied: boto3 in /usr/local/lib/python3.6/dist-packages (from smart-open>=1.2.1->gensim) (1.14.9)\n",
            "Requirement already satisfied: urllib3!=1.25.0,!=1.25.1,<1.26,>=1.21.1 in /usr/local/lib/python3.6/dist-packages (from requests->smart-open>=1.2.1->gensim) (1.24.3)\n",
            "Requirement already satisfied: chardet<4,>=3.0.2 in /usr/local/lib/python3.6/dist-packages (from requests->smart-open>=1.2.1->gensim) (3.0.4)\n",
            "Requirement already satisfied: certifi>=2017.4.17 in /usr/local/lib/python3.6/dist-packages (from requests->smart-open>=1.2.1->gensim) (2020.6.20)\n",
            "Requirement already satisfied: idna<3,>=2.5 in /usr/local/lib/python3.6/dist-packages (from requests->smart-open>=1.2.1->gensim) (2.9)\n",
            "Requirement already satisfied: jmespath<1.0.0,>=0.7.1 in /usr/local/lib/python3.6/dist-packages (from boto3->smart-open>=1.2.1->gensim) (0.10.0)\n",
            "Requirement already satisfied: botocore<1.18.0,>=1.17.9 in /usr/local/lib/python3.6/dist-packages (from boto3->smart-open>=1.2.1->gensim) (1.17.9)\n",
            "Requirement already satisfied: s3transfer<0.4.0,>=0.3.0 in /usr/local/lib/python3.6/dist-packages (from boto3->smart-open>=1.2.1->gensim) (0.3.3)\n",
            "Requirement already satisfied: python-dateutil<3.0.0,>=2.1 in /usr/local/lib/python3.6/dist-packages (from botocore<1.18.0,>=1.17.9->boto3->smart-open>=1.2.1->gensim) (2.8.1)\n",
            "Requirement already satisfied: docutils<0.16,>=0.10 in /usr/local/lib/python3.6/dist-packages (from botocore<1.18.0,>=1.17.9->boto3->smart-open>=1.2.1->gensim) (0.15.2)\n"
          ],
          "name": "stdout"
        }
      ]
    },
    {
      "cell_type": "code",
      "metadata": {
        "id": "_fYUlrqdkxN8",
        "colab_type": "code",
        "colab": {}
      },
      "source": [
        "import nltk\n",
        "import numpy as np\n",
        "import pandas as pd\n",
        "import re\n",
        "from google.colab import drive\n",
        "from nltk.corpus import wordnet as wn\n",
        "from nltk.metrics import jaccard_distance"
      ],
      "execution_count": 17,
      "outputs": []
    },
    {
      "cell_type": "code",
      "metadata": {
        "id": "myz7LS0D1HtQ",
        "colab_type": "code",
        "colab": {
          "base_uri": "https://localhost:8080/",
          "height": 139
        },
        "outputId": "a1204d93-203f-4000-cb93-a1660903df6a"
      },
      "source": [
        "nltk.download(\"stopwords\")\n",
        "nltk.download(\"wordnet\")\n",
        "nltk.download(\"punkt\")"
      ],
      "execution_count": 4,
      "outputs": [
        {
          "output_type": "stream",
          "text": [
            "[nltk_data] Downloading package stopwords to /root/nltk_data...\n",
            "[nltk_data]   Package stopwords is already up-to-date!\n",
            "[nltk_data] Downloading package wordnet to /root/nltk_data...\n",
            "[nltk_data]   Package wordnet is already up-to-date!\n",
            "[nltk_data] Downloading package punkt to /root/nltk_data...\n",
            "[nltk_data]   Package punkt is already up-to-date!\n"
          ],
          "name": "stdout"
        },
        {
          "output_type": "execute_result",
          "data": {
            "text/plain": [
              "True"
            ]
          },
          "metadata": {
            "tags": []
          },
          "execution_count": 4
        }
      ]
    },
    {
      "cell_type": "markdown",
      "metadata": {
        "id": "CBOvG3jermXy",
        "colab_type": "text"
      },
      "source": [
        "text の引用元\n",
        "\n",
        "全て最初の概要部分です（注釈番号は抜いています）\n",
        "\n",
        "* text1.txt  : https://en.wikipedia.org/wiki/Canis\n",
        "* text2.txt  : https://en.wikipedia.org/wiki/Wolf\n",
        "* text3.txt  : https://en.wikipedia.org/wiki/Coyote\n",
        "* text4.txt  : https://en.wikipedia.org/wiki/African_golden_wolf\n",
        "* text5.txt  : https://en.wikipedia.org/wiki/Dhole\n",
        "* text6.txt  : https://en.wikipedia.org/wiki/African_wild_dog\n",
        "* text7.txt  : https://en.wikipedia.org/wiki/Red_fox\n",
        "* text8.txt  : https://en.wikipedia.org/wiki/Arctic_fox\n",
        "* text9.txt  : https://en.wikipedia.org/wiki/Fennec_fox\n",
        "* text10.txt : https://en.wikipedia.org/wiki/Kitsune"
      ]
    },
    {
      "cell_type": "code",
      "metadata": {
        "id": "AHifWaoEvIre",
        "colab_type": "code",
        "colab": {
          "base_uri": "https://localhost:8080/",
          "height": 34
        },
        "outputId": "99d58d55-7893-429e-8fae-82ea59ea32da"
      },
      "source": [
        "# drive のマウント（colaboratory 用）\n",
        "drive.mount('/content/drive')"
      ],
      "execution_count": 5,
      "outputs": [
        {
          "output_type": "stream",
          "text": [
            "Drive already mounted at /content/drive; to attempt to forcibly remount, call drive.mount(\"/content/drive\", force_remount=True).\n"
          ],
          "name": "stdout"
        }
      ]
    },
    {
      "cell_type": "code",
      "metadata": {
        "id": "aTLU8BQ7xqDT",
        "colab_type": "code",
        "colab": {}
      },
      "source": [
        "# テキスト読み込み\n",
        "# テキストデータは適切なところに配置してください\n",
        "text_name = ['canis', 'wolf', 'coyote', 'african_golden_wolf', 'dhole', 'african_wild_dog', 'red_fox', 'arctic_fox', 'fennec_fox', 'kitsune']\n",
        "text_correction = {}\n",
        "for i in range(len(text_name)):\n",
        "  txt = f = open('drive/My Drive/Colab Notebooks/text' + str(i+1) + '.txt')\n",
        "  data = f.read()\n",
        "  name = text_name[i]\n",
        "  text_correction[name] = data"
      ],
      "execution_count": 6,
      "outputs": []
    },
    {
      "cell_type": "code",
      "metadata": {
        "id": "KtqDbaN2zxJr",
        "colab_type": "code",
        "colab": {
          "base_uri": "https://localhost:8080/",
          "height": 211
        },
        "outputId": "359d2801-566d-42ce-e57f-6543e2221995"
      },
      "source": [
        "# 読み込み確認\n",
        "for txt in text_correction.values():\n",
        "  print(txt)"
      ],
      "execution_count": 7,
      "outputs": [
        {
          "output_type": "stream",
          "text": [
            "Canis is a genus of the Caninae containing multiple extant species, such as wolves, dogs, coyotes and jackals. Species of this genus are distinguished by their moderate to large size, their massive, well-developed skulls and dentition, long legs, and comparatively short ears and tails.\n",
            "The wolf (Canis lupus), also known as the gray wolf or grey wolf, is a large canine native to Eurasia and North America. More than thirty subspecies of Canis lupus have been recognized, and gray wolves, as colloquially understood, comprise non-domestic/feral subspecies. The wolf is the largest extant member of Canidae, males averaging 40 kg (88 lb) and females 37 kg (82 lb). Wolves measure 105–160 cm (41–63 in) in length and 80–85 cm (31–33 in) at shoulder height. The wolf is also distinguished from other Canis species by its less pointed ears and muzzle, as well as a shorter torso and a longer tail. The wolf is nonetheless related closely enough to smaller Canis species, such as the coyote and the golden jackal, to produce fertile hybrids with them. The banded fur of a wolf is usually mottled white, brown, gray, and black, although subspecies in the arctic region may be nearly all white. \n",
            "The coyote (Canis latrans) is a species of canine native to North America. It is smaller than its close relative, the gray wolf, and slightly smaller than the closely related eastern wolf and red wolf. It fills much of the same ecological niche as the golden jackal does in Eurasia, though it is larger and more predatory and is sometimes called the American jackal by zoologists. Other names for the species, largely historical, include the prairie wolf and the brush wolf. \n",
            "The African golden wolf (Canis anthus or Canis lupaster) is a canine native to North Africa and the Horn of Africa. It is the descendant of a genetically admixed canid of 72% gray wolf and 28% Ethiopian wolf ancestry. It occurs in Senegal, Nigeria, Chad, Morocco, Algeria, Tunisia, Libya , Kenya and Egypt, and in Tanzania. It is listed as Least Concern on the IUCN Red List. In the Atlas Mountains, it was sighted in elevations as high as 1,800 m (5,900 ft). It is primarily a predator, targeting invertebrates and mammals as large as gazelle fawns, though larger animals are sometimes taken. Its diet also includes animal carcasses, human refuse, and fruit. The African golden wolf is a monogamous and territorial species, offspring remain with the family to assist in raising their parents' younger pups.\n",
            "The dhole (Cuon alpinus) is a canid native to Central, South, East Asia, and Southeast Asia. Other English names for the species include Asian wild dog, Asiatic wild dog, Indian wild dog, whistling dog, red dog, and mountain wolf. It is genetically close to species within the genus Canis, but distinct in several anatomical aspects: its skull is convex rather than concave in profile, it lacks a third lower molar and the upper molars sport only a single cusp as opposed to between two and four. During the Pleistocene, the dhole ranged throughout Asia, Europe, and North America but became restricted to its historical range 12,000–18,000 years ago.\n",
            "The African wild dog (Lycaon pictus), also called the painted wolf or Cape hunting dog, is a canine native to sub-Saharan Africa. It is the largest indigenous canine in Africa, and the only extant member of the genus Lycaon, which is distinguished from Canis by dentition highly specialised for a hypercarnivorous diet, and a lack of dewclaws. It is estimated that about 6,600 adults including 1,400 mature individuals live in 39 subpopulations that are all threatened by habitat fragmentation, human persecution and outbreaks of diseases. As the largest subpopulation probably consists of less than 250 individuals, the African wild dog is listed as endangered on the IUCN Red List since 1990.\n",
            "The red fox (Vulpes vulpes) is the largest of the true foxes and one of the most widely distributed members of the order Carnivora, being present across the entire Northern Hemisphere including most of North America, Europe and Asia plus parts of Northern Africa. It is listed as least concern by the IUCN. Its range has increased alongside human expansion, having been introduced to Australia, where it is considered harmful to native mammals and bird populations. Due to its presence in Australia, it is included on the list of the \"world's 100 worst invasive species\".\n",
            "The Arctic fox (Vulpes lagopus), also known as the white fox, polar fox, or snow fox, is a small fox native to the Arctic regions of the Northern Hemisphere and common throughout the Arctic tundra biome. It is well adapted to living in cold environments, and is best known for its thick, warm fur that is also used as camouflage. In the wild, most individuals do not live past their first year but some exceptional ones survive up to 11 years. Its body length ranges from 46 to 68 cm (18 to 27 in), with a generally rounded body shape to minimize the escape of body heat.\n",
            "The fennec fox (Vulpes zerda), also called fennec or desert fox, is a small crepuscular fox native to the Sahara Desert, the Sinai Peninsula, Arava desert, and the Arabian desert. Its most distinctive feature is its unusually large ears, which also serve to dissipate heat. Its name comes from this species' name in Arabic: fanak. The fennec is the smallest species of canid. Its coat, ears, and kidney functions have adapted to high-temperature, low-water, desert environments. Also, its hearing is sensitive enough to hear prey moving underground. It mainly eats insects, small mammals, and birds.\n",
            "Kitsune in the literal sense is the Japanese word for fox. Foxes are a common subject of Japanese folklore; in English, kitsune refers to them in this context. Stories depict legendary foxes as intelligent beings and as possessing paranormal abilities that increase with their age and wisdom. According to Yōkai folklore, all foxes have the ability to shapeshift into human form. While some folktales speak of kitsune employing this ability to trick others – as foxes in folklore often do – other stories portray them as faithful guardians, friends, lovers, and wives. Foxes and humans lived close together in ancient Japan; this companionship gave rise to legends about the creatures. Kitsune have become closely associated with Inari, a Shinto kami or spirit, and serve as its messengers. This role has reinforced the fox's supernatural significance. The more tails a kitsune has – they may have as many as nine – the older, wiser, and more powerful it is. Because of their potential power and influence, some people make sacrifices to them as to a deity. \n"
          ],
          "name": "stdout"
        }
      ]
    },
    {
      "cell_type": "code",
      "metadata": {
        "id": "cjowdzQn0k1_",
        "colab_type": "code",
        "colab": {}
      },
      "source": [
        "# preprocessing\n",
        "# tokenize\n",
        "text_tokenized = {}\n",
        "\n",
        "def tokenize_text(text):\n",
        "  text = re.sub('[.,()\\[\\]]', '', text)\n",
        "  ret = text.split()\n",
        "  return ret\n",
        "\n",
        "for i in range(len(text_name)):\n",
        "  name = text_name[i]\n",
        "  txt = text_correction[name]\n",
        "  text_tokenized[name] = tokenize_text(txt)"
      ],
      "execution_count": 8,
      "outputs": []
    },
    {
      "cell_type": "code",
      "metadata": {
        "id": "ridI1Zex47o_",
        "colab_type": "code",
        "colab": {
          "base_uri": "https://localhost:8080/",
          "height": 211
        },
        "outputId": "51f48297-e002-4463-b706-d4d0c1bf95af"
      },
      "source": [
        "# tokenize 確認\n",
        "for txt in text_tokenized.values():\n",
        "  print(txt)"
      ],
      "execution_count": 9,
      "outputs": [
        {
          "output_type": "stream",
          "text": [
            "['Canis', 'is', 'a', 'genus', 'of', 'the', 'Caninae', 'containing', 'multiple', 'extant', 'species', 'such', 'as', 'wolves', 'dogs', 'coyotes', 'and', 'jackals', 'Species', 'of', 'this', 'genus', 'are', 'distinguished', 'by', 'their', 'moderate', 'to', 'large', 'size', 'their', 'massive', 'well-developed', 'skulls', 'and', 'dentition', 'long', 'legs', 'and', 'comparatively', 'short', 'ears', 'and', 'tails']\n",
            "['The', 'wolf', 'Canis', 'lupus', 'also', 'known', 'as', 'the', 'gray', 'wolf', 'or', 'grey', 'wolf', 'is', 'a', 'large', 'canine', 'native', 'to', 'Eurasia', 'and', 'North', 'America', 'More', 'than', 'thirty', 'subspecies', 'of', 'Canis', 'lupus', 'have', 'been', 'recognized', 'and', 'gray', 'wolves', 'as', 'colloquially', 'understood', 'comprise', 'non-domestic/feral', 'subspecies', 'The', 'wolf', 'is', 'the', 'largest', 'extant', 'member', 'of', 'Canidae', 'males', 'averaging', '40', 'kg', '88', 'lb', 'and', 'females', '37', 'kg', '82', 'lb', 'Wolves', 'measure', '105–160', 'cm', '41–63', 'in', 'in', 'length', 'and', '80–85', 'cm', '31–33', 'in', 'at', 'shoulder', 'height', 'The', 'wolf', 'is', 'also', 'distinguished', 'from', 'other', 'Canis', 'species', 'by', 'its', 'less', 'pointed', 'ears', 'and', 'muzzle', 'as', 'well', 'as', 'a', 'shorter', 'torso', 'and', 'a', 'longer', 'tail', 'The', 'wolf', 'is', 'nonetheless', 'related', 'closely', 'enough', 'to', 'smaller', 'Canis', 'species', 'such', 'as', 'the', 'coyote', 'and', 'the', 'golden', 'jackal', 'to', 'produce', 'fertile', 'hybrids', 'with', 'them', 'The', 'banded', 'fur', 'of', 'a', 'wolf', 'is', 'usually', 'mottled', 'white', 'brown', 'gray', 'and', 'black', 'although', 'subspecies', 'in', 'the', 'arctic', 'region', 'may', 'be', 'nearly', 'all', 'white']\n",
            "['The', 'coyote', 'Canis', 'latrans', 'is', 'a', 'species', 'of', 'canine', 'native', 'to', 'North', 'America', 'It', 'is', 'smaller', 'than', 'its', 'close', 'relative', 'the', 'gray', 'wolf', 'and', 'slightly', 'smaller', 'than', 'the', 'closely', 'related', 'eastern', 'wolf', 'and', 'red', 'wolf', 'It', 'fills', 'much', 'of', 'the', 'same', 'ecological', 'niche', 'as', 'the', 'golden', 'jackal', 'does', 'in', 'Eurasia', 'though', 'it', 'is', 'larger', 'and', 'more', 'predatory', 'and', 'is', 'sometimes', 'called', 'the', 'American', 'jackal', 'by', 'zoologists', 'Other', 'names', 'for', 'the', 'species', 'largely', 'historical', 'include', 'the', 'prairie', 'wolf', 'and', 'the', 'brush', 'wolf']\n",
            "['The', 'African', 'golden', 'wolf', 'Canis', 'anthus', 'or', 'Canis', 'lupaster', 'is', 'a', 'canine', 'native', 'to', 'North', 'Africa', 'and', 'the', 'Horn', 'of', 'Africa', 'It', 'is', 'the', 'descendant', 'of', 'a', 'genetically', 'admixed', 'canid', 'of', '72%', 'gray', 'wolf', 'and', '28%', 'Ethiopian', 'wolf', 'ancestry', 'It', 'occurs', 'in', 'Senegal', 'Nigeria', 'Chad', 'Morocco', 'Algeria', 'Tunisia', 'Libya', 'Kenya', 'and', 'Egypt', 'and', 'in', 'Tanzania', 'It', 'is', 'listed', 'as', 'Least', 'Concern', 'on', 'the', 'IUCN', 'Red', 'List', 'In', 'the', 'Atlas', 'Mountains', 'it', 'was', 'sighted', 'in', 'elevations', 'as', 'high', 'as', '1800', 'm', '5900', 'ft', 'It', 'is', 'primarily', 'a', 'predator', 'targeting', 'invertebrates', 'and', 'mammals', 'as', 'large', 'as', 'gazelle', 'fawns', 'though', 'larger', 'animals', 'are', 'sometimes', 'taken', 'Its', 'diet', 'also', 'includes', 'animal', 'carcasses', 'human', 'refuse', 'and', 'fruit', 'The', 'African', 'golden', 'wolf', 'is', 'a', 'monogamous', 'and', 'territorial', 'species', 'offspring', 'remain', 'with', 'the', 'family', 'to', 'assist', 'in', 'raising', 'their', \"parents'\", 'younger', 'pups']\n",
            "['The', 'dhole', 'Cuon', 'alpinus', 'is', 'a', 'canid', 'native', 'to', 'Central', 'South', 'East', 'Asia', 'and', 'Southeast', 'Asia', 'Other', 'English', 'names', 'for', 'the', 'species', 'include', 'Asian', 'wild', 'dog', 'Asiatic', 'wild', 'dog', 'Indian', 'wild', 'dog', 'whistling', 'dog', 'red', 'dog', 'and', 'mountain', 'wolf', 'It', 'is', 'genetically', 'close', 'to', 'species', 'within', 'the', 'genus', 'Canis', 'but', 'distinct', 'in', 'several', 'anatomical', 'aspects:', 'its', 'skull', 'is', 'convex', 'rather', 'than', 'concave', 'in', 'profile', 'it', 'lacks', 'a', 'third', 'lower', 'molar', 'and', 'the', 'upper', 'molars', 'sport', 'only', 'a', 'single', 'cusp', 'as', 'opposed', 'to', 'between', 'two', 'and', 'four', 'During', 'the', 'Pleistocene', 'the', 'dhole', 'ranged', 'throughout', 'Asia', 'Europe', 'and', 'North', 'America', 'but', 'became', 'restricted', 'to', 'its', 'historical', 'range', '12000–18000', 'years', 'ago']\n",
            "['The', 'African', 'wild', 'dog', 'Lycaon', 'pictus', 'also', 'called', 'the', 'painted', 'wolf', 'or', 'Cape', 'hunting', 'dog', 'is', 'a', 'canine', 'native', 'to', 'sub-Saharan', 'Africa', 'It', 'is', 'the', 'largest', 'indigenous', 'canine', 'in', 'Africa', 'and', 'the', 'only', 'extant', 'member', 'of', 'the', 'genus', 'Lycaon', 'which', 'is', 'distinguished', 'from', 'Canis', 'by', 'dentition', 'highly', 'specialised', 'for', 'a', 'hypercarnivorous', 'diet', 'and', 'a', 'lack', 'of', 'dewclaws', 'It', 'is', 'estimated', 'that', 'about', '6600', 'adults', 'including', '1400', 'mature', 'individuals', 'live', 'in', '39', 'subpopulations', 'that', 'are', 'all', 'threatened', 'by', 'habitat', 'fragmentation', 'human', 'persecution', 'and', 'outbreaks', 'of', 'diseases', 'As', 'the', 'largest', 'subpopulation', 'probably', 'consists', 'of', 'less', 'than', '250', 'individuals', 'the', 'African', 'wild', 'dog', 'is', 'listed', 'as', 'endangered', 'on', 'the', 'IUCN', 'Red', 'List', 'since', '1990']\n",
            "['The', 'red', 'fox', 'Vulpes', 'vulpes', 'is', 'the', 'largest', 'of', 'the', 'true', 'foxes', 'and', 'one', 'of', 'the', 'most', 'widely', 'distributed', 'members', 'of', 'the', 'order', 'Carnivora', 'being', 'present', 'across', 'the', 'entire', 'Northern', 'Hemisphere', 'including', 'most', 'of', 'North', 'America', 'Europe', 'and', 'Asia', 'plus', 'parts', 'of', 'Northern', 'Africa', 'It', 'is', 'listed', 'as', 'least', 'concern', 'by', 'the', 'IUCN', 'Its', 'range', 'has', 'increased', 'alongside', 'human', 'expansion', 'having', 'been', 'introduced', 'to', 'Australia', 'where', 'it', 'is', 'considered', 'harmful', 'to', 'native', 'mammals', 'and', 'bird', 'populations', 'Due', 'to', 'its', 'presence', 'in', 'Australia', 'it', 'is', 'included', 'on', 'the', 'list', 'of', 'the', '\"world\\'s', '100', 'worst', 'invasive', 'species\"']\n",
            "['The', 'Arctic', 'fox', 'Vulpes', 'lagopus', 'also', 'known', 'as', 'the', 'white', 'fox', 'polar', 'fox', 'or', 'snow', 'fox', 'is', 'a', 'small', 'fox', 'native', 'to', 'the', 'Arctic', 'regions', 'of', 'the', 'Northern', 'Hemisphere', 'and', 'common', 'throughout', 'the', 'Arctic', 'tundra', 'biome', 'It', 'is', 'well', 'adapted', 'to', 'living', 'in', 'cold', 'environments', 'and', 'is', 'best', 'known', 'for', 'its', 'thick', 'warm', 'fur', 'that', 'is', 'also', 'used', 'as', 'camouflage', 'In', 'the', 'wild', 'most', 'individuals', 'do', 'not', 'live', 'past', 'their', 'first', 'year', 'but', 'some', 'exceptional', 'ones', 'survive', 'up', 'to', '11', 'years', 'Its', 'body', 'length', 'ranges', 'from', '46', 'to', '68', 'cm', '18', 'to', '27', 'in', 'with', 'a', 'generally', 'rounded', 'body', 'shape', 'to', 'minimize', 'the', 'escape', 'of', 'body', 'heat']\n",
            "['The', 'fennec', 'fox', 'Vulpes', 'zerda', 'also', 'called', 'fennec', 'or', 'desert', 'fox', 'is', 'a', 'small', 'crepuscular', 'fox', 'native', 'to', 'the', 'Sahara', 'Desert', 'the', 'Sinai', 'Peninsula', 'Arava', 'desert', 'and', 'the', 'Arabian', 'desert', 'Its', 'most', 'distinctive', 'feature', 'is', 'its', 'unusually', 'large', 'ears', 'which', 'also', 'serve', 'to', 'dissipate', 'heat', 'Its', 'name', 'comes', 'from', 'this', \"species'\", 'name', 'in', 'Arabic:', 'fanak', 'The', 'fennec', 'is', 'the', 'smallest', 'species', 'of', 'canid', 'Its', 'coat', 'ears', 'and', 'kidney', 'functions', 'have', 'adapted', 'to', 'high-temperature', 'low-water', 'desert', 'environments', 'Also', 'its', 'hearing', 'is', 'sensitive', 'enough', 'to', 'hear', 'prey', 'moving', 'underground', 'It', 'mainly', 'eats', 'insects', 'small', 'mammals', 'and', 'birds']\n",
            "['Kitsune', 'in', 'the', 'literal', 'sense', 'is', 'the', 'Japanese', 'word', 'for', 'fox', 'Foxes', 'are', 'a', 'common', 'subject', 'of', 'Japanese', 'folklore;', 'in', 'English', 'kitsune', 'refers', 'to', 'them', 'in', 'this', 'context', 'Stories', 'depict', 'legendary', 'foxes', 'as', 'intelligent', 'beings', 'and', 'as', 'possessing', 'paranormal', 'abilities', 'that', 'increase', 'with', 'their', 'age', 'and', 'wisdom', 'According', 'to', 'Yōkai', 'folklore', 'all', 'foxes', 'have', 'the', 'ability', 'to', 'shapeshift', 'into', 'human', 'form', 'While', 'some', 'folktales', 'speak', 'of', 'kitsune', 'employing', 'this', 'ability', 'to', 'trick', 'others', '–', 'as', 'foxes', 'in', 'folklore', 'often', 'do', '–', 'other', 'stories', 'portray', 'them', 'as', 'faithful', 'guardians', 'friends', 'lovers', 'and', 'wives', 'Foxes', 'and', 'humans', 'lived', 'close', 'together', 'in', 'ancient', 'Japan;', 'this', 'companionship', 'gave', 'rise', 'to', 'legends', 'about', 'the', 'creatures', 'Kitsune', 'have', 'become', 'closely', 'associated', 'with', 'Inari', 'a', 'Shinto', 'kami', 'or', 'spirit', 'and', 'serve', 'as', 'its', 'messengers', 'This', 'role', 'has', 'reinforced', 'the', \"fox's\", 'supernatural', 'significance', 'The', 'more', 'tails', 'a', 'kitsune', 'has', '–', 'they', 'may', 'have', 'as', 'many', 'as', 'nine', '–', 'the', 'older', 'wiser', 'and', 'more', 'powerful', 'it', 'is', 'Because', 'of', 'their', 'potential', 'power', 'and', 'influence', 'some', 'people', 'make', 'sacrifices', 'to', 'them', 'as', 'to', 'a', 'deity']\n"
          ],
          "name": "stdout"
        }
      ]
    },
    {
      "cell_type": "code",
      "metadata": {
        "id": "w5hELwvb6tO4",
        "colab_type": "code",
        "colab": {}
      },
      "source": [
        "# lemmatize\n",
        "def lemmatize_word(word_set):\n",
        "  ret = []\n",
        "  for word in word_set:\n",
        "    word=word.lower()\n",
        "    lemma = wn.morphy(word)\n",
        "    if lemma is None:\n",
        "      ret.append(word)\n",
        "    else:\n",
        "      ret.append(lemma)\n",
        "  return ret\n",
        "\n",
        "preprocessed_docs = {}\n",
        "\n",
        "for i in range(len(text_name)):\n",
        "  name = text_name[i]\n",
        "  word_set = text_tokenized[name]\n",
        "  preprocessed_docs[name] = lemmatize_word(word_set)"
      ],
      "execution_count": 10,
      "outputs": []
    },
    {
      "cell_type": "code",
      "metadata": {
        "id": "1plFlOYFB1zj",
        "colab_type": "code",
        "colab": {
          "base_uri": "https://localhost:8080/",
          "height": 211
        },
        "outputId": "ffb9adcb-1d75-41d8-d087-bf1cd1360363"
      },
      "source": [
        "# preprocessing の check\n",
        "for doc in preprocessed_docs.values():\n",
        "  print(doc)"
      ],
      "execution_count": 11,
      "outputs": [
        {
          "output_type": "stream",
          "text": [
            "['canis', 'be', 'a', 'genus', 'of', 'the', 'caninae', 'contain', 'multiple', 'extant', 'species', 'such', 'as', 'wolf', 'dog', 'coyote', 'and', 'jackal', 'species', 'of', 'this', 'genus', 'are', 'distinguish', 'by', 'their', 'moderate', 'to', 'large', 'size', 'their', 'massive', 'well-developed', 'skull', 'and', 'dentition', 'long', 'legs', 'and', 'comparatively', 'short', 'ear', 'and', 'tails']\n",
            "['the', 'wolf', 'canis', 'lupus', 'also', 'know', 'as', 'the', 'gray', 'wolf', 'or', 'grey', 'wolf', 'be', 'a', 'large', 'canine', 'native', 'to', 'eurasia', 'and', 'north', 'america', 'more', 'than', 'thirty', 'subspecies', 'of', 'canis', 'lupus', 'have', 'be', 'recognize', 'and', 'gray', 'wolf', 'as', 'colloquially', 'understand', 'comprise', 'non-domestic/feral', 'subspecies', 'the', 'wolf', 'be', 'the', 'large', 'extant', 'member', 'of', 'canidae', 'male', 'average', '40', 'kg', '88', 'lb', 'and', 'female', '37', 'kg', '82', 'lb', 'wolf', 'measure', '105–160', 'cm', '41–63', 'in', 'in', 'length', 'and', '80–85', 'cm', '31–33', 'in', 'at', 'shoulder', 'height', 'the', 'wolf', 'be', 'also', 'distinguish', 'from', 'other', 'canis', 'species', 'by', 'it', 'le', 'point', 'ear', 'and', 'muzzle', 'as', 'well', 'as', 'a', 'short', 'torso', 'and', 'a', 'longer', 'tail', 'the', 'wolf', 'be', 'nonetheless', 'relate', 'closely', 'enough', 'to', 'smaller', 'canis', 'species', 'such', 'as', 'the', 'coyote', 'and', 'the', 'golden', 'jackal', 'to', 'produce', 'fertile', 'hybrid', 'with', 'them', 'the', 'band', 'fur', 'of', 'a', 'wolf', 'be', 'usually', 'mottle', 'white', 'brown', 'gray', 'and', 'black', 'although', 'subspecies', 'in', 'the', 'arctic', 'region', 'may', 'be', 'nearly', 'all', 'white']\n",
            "['the', 'coyote', 'canis', 'latrans', 'be', 'a', 'species', 'of', 'canine', 'native', 'to', 'north', 'america', 'it', 'be', 'smaller', 'than', 'it', 'close', 'relative', 'the', 'gray', 'wolf', 'and', 'slightly', 'smaller', 'than', 'the', 'closely', 'relate', 'eastern', 'wolf', 'and', 'red', 'wolf', 'it', 'fill', 'much', 'of', 'the', 'same', 'ecological', 'niche', 'as', 'the', 'golden', 'jackal', 'doe', 'in', 'eurasia', 'though', 'it', 'be', 'larger', 'and', 'more', 'predatory', 'and', 'be', 'sometimes', 'call', 'the', 'american', 'jackal', 'by', 'zoologist', 'other', 'names', 'for', 'the', 'species', 'largely', 'historical', 'include', 'the', 'prairie', 'wolf', 'and', 'the', 'brush', 'wolf']\n",
            "['the', 'african', 'golden', 'wolf', 'canis', 'anthus', 'or', 'canis', 'lupaster', 'be', 'a', 'canine', 'native', 'to', 'north', 'africa', 'and', 'the', 'horn', 'of', 'africa', 'it', 'be', 'the', 'descendant', 'of', 'a', 'genetically', 'admix', 'canid', 'of', '72%', 'gray', 'wolf', 'and', '28%', 'ethiopian', 'wolf', 'ancestry', 'it', 'occur', 'in', 'senegal', 'nigeria', 'chad', 'morocco', 'algeria', 'tunisia', 'libya', 'kenya', 'and', 'egypt', 'and', 'in', 'tanzania', 'it', 'be', 'list', 'as', 'least', 'concern', 'on', 'the', 'iucn', 'red', 'list', 'in', 'the', 'atlas', 'mountain', 'it', 'wa', 'sight', 'in', 'elevation', 'as', 'high', 'as', '1800', 'm', '5900', 'ft', 'it', 'be', 'primarily', 'a', 'predator', 'target', 'invertebrate', 'and', 'mammal', 'as', 'large', 'as', 'gazelle', 'fawn', 'though', 'larger', 'animal', 'are', 'sometimes', 'take', 'it', 'diet', 'also', 'include', 'animal', 'carcass', 'human', 'refuse', 'and', 'fruit', 'the', 'african', 'golden', 'wolf', 'be', 'a', 'monogamous', 'and', 'territorial', 'species', 'offspring', 'remain', 'with', 'the', 'family', 'to', 'assist', 'in', 'raising', 'their', \"parents'\", 'younger', 'pup']\n",
            "['the', 'dhole', 'cuon', 'alpinus', 'be', 'a', 'canid', 'native', 'to', 'central', 'south', 'east', 'asia', 'and', 'southeast', 'asia', 'other', 'english', 'names', 'for', 'the', 'species', 'include', 'asian', 'wild', 'dog', 'asiatic', 'wild', 'dog', 'indian', 'wild', 'dog', 'whistling', 'dog', 'red', 'dog', 'and', 'mountain', 'wolf', 'it', 'be', 'genetically', 'close', 'to', 'species', 'within', 'the', 'genus', 'canis', 'but', 'distinct', 'in', 'several', 'anatomical', 'aspects:', 'it', 'skull', 'be', 'convex', 'rather', 'than', 'concave', 'in', 'profile', 'it', 'lack', 'a', 'third', 'lower', 'molar', 'and', 'the', 'upper', 'molar', 'sport', 'only', 'a', 'single', 'cusp', 'as', 'oppose', 'to', 'between', 'two', 'and', 'four', 'during', 'the', 'pleistocene', 'the', 'dhole', 'range', 'throughout', 'asia', 'europe', 'and', 'north', 'america', 'but', 'become', 'restrict', 'to', 'it', 'historical', 'range', '12000–18000', 'years', 'ago']\n",
            "['the', 'african', 'wild', 'dog', 'lycaon', 'pictus', 'also', 'call', 'the', 'paint', 'wolf', 'or', 'cape', 'hunting', 'dog', 'be', 'a', 'canine', 'native', 'to', 'sub-saharan', 'africa', 'it', 'be', 'the', 'large', 'indigenous', 'canine', 'in', 'africa', 'and', 'the', 'only', 'extant', 'member', 'of', 'the', 'genus', 'lycaon', 'which', 'be', 'distinguish', 'from', 'canis', 'by', 'dentition', 'highly', 'specialise', 'for', 'a', 'hypercarnivorous', 'diet', 'and', 'a', 'lack', 'of', 'dewclaws', 'it', 'be', 'estimate', 'that', 'about', '6600', 'adult', 'include', '1400', 'mature', 'individual', 'live', 'in', '39', 'subpopulation', 'that', 'are', 'all', 'threaten', 'by', 'habitat', 'fragmentation', 'human', 'persecution', 'and', 'outbreak', 'of', 'disease', 'as', 'the', 'large', 'subpopulation', 'probably', 'consist', 'of', 'le', 'than', '250', 'individual', 'the', 'african', 'wild', 'dog', 'be', 'list', 'as', 'endanger', 'on', 'the', 'iucn', 'red', 'list', 'since', '1990']\n",
            "['the', 'red', 'fox', 'vulpes', 'vulpes', 'be', 'the', 'large', 'of', 'the', 'true', 'fox', 'and', 'one', 'of', 'the', 'most', 'widely', 'distribute', 'member', 'of', 'the', 'order', 'carnivora', 'being', 'present', 'across', 'the', 'entire', 'northern', 'hemisphere', 'include', 'most', 'of', 'north', 'america', 'europe', 'and', 'asia', 'plus', 'parts', 'of', 'northern', 'africa', 'it', 'be', 'list', 'as', 'least', 'concern', 'by', 'the', 'iucn', 'it', 'range', 'ha', 'increase', 'alongside', 'human', 'expansion', 'have', 'be', 'introduce', 'to', 'australia', 'where', 'it', 'be', 'consider', 'harmful', 'to', 'native', 'mammal', 'and', 'bird', 'population', 'due', 'to', 'it', 'presence', 'in', 'australia', 'it', 'be', 'include', 'on', 'the', 'list', 'of', 'the', '\"world\\'s', '100', 'worst', 'invasive', 'species\"']\n",
            "['the', 'arctic', 'fox', 'vulpes', 'lagopus', 'also', 'know', 'as', 'the', 'white', 'fox', 'polar', 'fox', 'or', 'snow', 'fox', 'be', 'a', 'small', 'fox', 'native', 'to', 'the', 'arctic', 'region', 'of', 'the', 'northern', 'hemisphere', 'and', 'common', 'throughout', 'the', 'arctic', 'tundra', 'biome', 'it', 'be', 'well', 'adapt', 'to', 'living', 'in', 'cold', 'environment', 'and', 'be', 'best', 'know', 'for', 'it', 'thick', 'warm', 'fur', 'that', 'be', 'also', 'use', 'as', 'camouflage', 'in', 'the', 'wild', 'most', 'individual', 'do', 'not', 'live', 'past', 'their', 'first', 'year', 'but', 'some', 'exceptional', 'one', 'survive', 'up', 'to', '11', 'years', 'it', 'body', 'length', 'range', 'from', '46', 'to', '68', 'cm', '18', 'to', '27', 'in', 'with', 'a', 'generally', 'round', 'body', 'shape', 'to', 'minimize', 'the', 'escape', 'of', 'body', 'heat']\n",
            "['the', 'fennec', 'fox', 'vulpes', 'zerda', 'also', 'call', 'fennec', 'or', 'desert', 'fox', 'be', 'a', 'small', 'crepuscular', 'fox', 'native', 'to', 'the', 'sahara', 'desert', 'the', 'sinai', 'peninsula', 'arava', 'desert', 'and', 'the', 'arabian', 'desert', 'it', 'most', 'distinctive', 'feature', 'be', 'it', 'unusually', 'large', 'ear', 'which', 'also', 'serve', 'to', 'dissipate', 'heat', 'it', 'name', 'come', 'from', 'this', \"species'\", 'name', 'in', 'arabic:', 'fanak', 'the', 'fennec', 'be', 'the', 'small', 'species', 'of', 'canid', 'it', 'coat', 'ear', 'and', 'kidney', 'function', 'have', 'adapt', 'to', 'high-temperature', 'low-water', 'desert', 'environment', 'also', 'it', 'hearing', 'be', 'sensitive', 'enough', 'to', 'hear', 'prey', 'move', 'underground', 'it', 'mainly', 'eats', 'insect', 'small', 'mammal', 'and', 'bird']\n",
            "['kitsune', 'in', 'the', 'literal', 'sense', 'be', 'the', 'japanese', 'word', 'for', 'fox', 'fox', 'are', 'a', 'common', 'subject', 'of', 'japanese', 'folklore;', 'in', 'english', 'kitsune', 'refer', 'to', 'them', 'in', 'this', 'context', 'story', 'depict', 'legendary', 'fox', 'as', 'intelligent', 'being', 'and', 'as', 'possess', 'paranormal', 'ability', 'that', 'increase', 'with', 'their', 'age', 'and', 'wisdom', 'accord', 'to', 'yōkai', 'folklore', 'all', 'fox', 'have', 'the', 'ability', 'to', 'shapeshift', 'into', 'human', 'form', 'while', 'some', 'folktale', 'speak', 'of', 'kitsune', 'employ', 'this', 'ability', 'to', 'trick', 'others', '–', 'as', 'fox', 'in', 'folklore', 'often', 'do', '–', 'other', 'story', 'portray', 'them', 'as', 'faithful', 'guardian', 'friend', 'lover', 'and', 'wife', 'fox', 'and', 'humans', 'live', 'close', 'together', 'in', 'ancient', 'japan;', 'this', 'companionship', 'give', 'rise', 'to', 'legend', 'about', 'the', 'creature', 'kitsune', 'have', 'become', 'closely', 'associate', 'with', 'inari', 'a', 'shinto', 'kami', 'or', 'spirit', 'and', 'serve', 'as', 'it', 'messenger', 'this', 'role', 'ha', 'reinforce', 'the', \"fox's\", 'supernatural', 'significance', 'the', 'more', 'tails', 'a', 'kitsune', 'ha', '–', 'they', 'may', 'have', 'as', 'many', 'as', 'nine', '–', 'the', 'older', 'wise', 'and', 'more', 'powerful', 'it', 'be', 'because', 'of', 'their', 'potential', 'power', 'and', 'influence', 'some', 'people', 'make', 'sacrifice', 'to', 'them', 'as', 'to', 'a', 'deity']\n"
          ],
          "name": "stdout"
        }
      ]
    },
    {
      "cell_type": "code",
      "metadata": {
        "id": "FOubkHoqFKEA",
        "colab_type": "code",
        "colab": {}
      },
      "source": [
        "# 単語のセットを構築する\n",
        "docs_words_set = {}\n",
        "\n",
        "for i in range(len(text_name)):\n",
        "  name = text_name[i]\n",
        "  words = preprocessed_docs[name]\n",
        "  docs_words_set[name] = set(words)"
      ],
      "execution_count": 12,
      "outputs": []
    },
    {
      "cell_type": "code",
      "metadata": {
        "id": "zREVEy0tLtV_",
        "colab_type": "code",
        "colab": {
          "base_uri": "https://localhost:8080/",
          "height": 211
        },
        "outputId": "6a531b2f-0217-45d4-ca0e-c8a6f36c6a09"
      },
      "source": [
        "# set の check\n",
        "for word_set in docs_words_set.values():\n",
        "  print(word_set)"
      ],
      "execution_count": 13,
      "outputs": [
        {
          "output_type": "stream",
          "text": [
            "{'species', 'to', 'are', 'their', 'and', 'this', 'such', 'skull', 'a', 'dog', 'caninae', 'genus', 'as', 'contain', 'long', 'by', 'short', 'legs', 'dentition', 'large', 'wolf', 'distinguish', 'coyote', 'canis', 'be', 'multiple', 'extant', 'moderate', 'jackal', 'the', 'ear', 'tails', 'massive', 'well-developed', 'size', 'of', 'comparatively'}\n",
            "{'37', 'native', 'le', 'height', 'subspecies', '80–85', 'have', 'closely', 'also', 'lupus', 'recognize', 'female', 'as', 'torso', 'may', 'wolf', 'coyote', 'canis', 'be', 'member', 'white', 'male', 'in', 'species', 'point', 'canine', '105–160', 'region', 'and', 'other', 'black', 'band', '40', 'such', 'colloquially', 'cm', 'longer', 'mottle', 'north', 'gray', 'fertile', 'canidae', 'usually', 'shoulder', 'thirty', 'distinguish', 'america', 'although', 'understand', 'tail', 'it', 'comprise', 'hybrid', 'fur', 'more', 'them', 'length', 'with', 'than', 'or', 'at', 'nonetheless', 'all', 'by', 'short', 'golden', 'large', '31–33', '88', 'from', 'extant', 'the', 'ear', 'produce', 'measure', 'to', '82', 'average', 'brown', 'a', '41–63', 'lb', 'arctic', 'non-domestic/feral', 'know', 'kg', 'enough', 'grey', 'muzzle', 'eurasia', 'relate', 'jackal', 'nearly', 'well', 'smaller', 'of'}\n",
            "{'species', 'to', 'it', 'for', 'canine', 'native', 'prairie', 'call', 'names', 'and', 'other', 'predatory', 'closely', 'more', 'a', 'much', 'larger', 'than', 'zoologist', 'largely', 'as', 'historical', 'by', 'sometimes', 'north', 'gray', 'though', 'relative', 'red', 'same', 'golden', 'latrans', 'eastern', 'wolf', 'coyote', 'canis', 'be', 'include', 'niche', 'doe', 'relate', 'fill', 'slightly', 'eurasia', 'jackal', 'the', 'america', 'in', 'ecological', 'smaller', 'american', 'brush', 'of', 'close'}\n",
            "{'native', 'ancestry', '28%', 'm', 'high', 'animal', 'younger', 'anthus', 'also', '72%', 'concern', 'as', 'fawn', 'kenya', 'target', 'offspring', 'wolf', 'canis', 'be', 'algeria', 'ethiopian', 'in', 'on', 'occur', 'species', 'are', 'canine', 'of', 'and', 'sight', 'north', 'gray', 'though', 'red', 'tanzania', 'atlas', 'lupaster', 'genetically', 'pup', 'morocco', 'chad', 'fruit', 'it', 'raising', 'elevation', 'nigeria', 'diet', 'senegal', 'primarily', 'larger', 'with', 'or', 'remain', 'horn', 'sometimes', 'golden', 'family', 'list', '5900', 'large', 'african', 'territorial', 'gazelle', 'the', 'iucn', 'canid', 'to', 'their', 'carcass', 'least', 'descendant', 'assist', 'a', 'wa', 'refuse', 'libya', 'predator', 'invertebrate', 'ft', 'mountain', 'tunisia', 'africa', 'include', \"parents'\", 'egypt', 'mammal', 'take', 'admix', 'human', '1800', 'monogamous'}\n",
            "{'canid', 'range', 'to', 'for', 'species', 'it', 'native', 'but', 'throughout', 'years', 'concave', 'convex', 'oppose', 'during', 'names', 'distinct', 'and', 'become', 'other', 'cuon', 'lack', 'upper', 'sport', 'skull', 'single', 'a', 'dog', 'four', 'third', 'between', 'than', 'lower', 'genus', 'east', 'wild', 'as', 'historical', 'north', '12000–18000', 'southeast', 'pleistocene', 'asian', 'mountain', 'red', 'whistling', 'rather', 'several', 'aspects:', 'english', 'asia', 'restrict', 'genetically', 'wolf', 'two', 'canis', 'be', 'include', 'ago', 'indian', 'dhole', 'alpinus', 'cusp', 'anatomical', 'the', 'within', 'in', 'profile', 'america', 'molar', 'europe', 'asiatic', 'south', 'central', 'only', 'close'}\n",
            "{'hunting', 'to', 'it', 'pictus', 'for', 'canine', 'native', 'sub-saharan', 'are', 'le', 'call', 'of', 'diet', 'and', 'hypercarnivorous', 'paint', 'lack', 'estimate', 'since', 'endanger', 'also', 'a', 'dog', 'highly', 'habitat', 'than', 'or', 'specialise', 'genus', 'wild', 'as', 'on', 'iucn', 'all', 'by', 'cape', 'adult', 'about', 'indigenous', 'red', 'persecution', 'dentition', '6600', 'list', 'large', '1990', 'subpopulation', 'africa', 'that', 'wolf', '39', 'distinguish', 'canis', 'be', 'lycaon', 'dewclaws', 'african', 'include', 'individual', '1400', 'which', 'threaten', 'mature', 'consist', 'from', 'extant', 'member', 'live', 'the', 'in', 'fragmentation', 'human', 'probably', 'outbreak', '250', 'disease', 'only'}\n",
            "{'being', 'range', 'it', 'distribute', 'to', 'native', 'order', 'expansion', 'presence', '\"world\\'s', 'carnivora', 'least', 'and', 'invasive', 'have', 'true', 'northern', 'harmful', 'entire', 'concern', 'widely', 'increase', 'as', 'on', 'by', 'north', 'present', 'introduce', 'ha', 'due', 'red', 'one', 'fox', 'list', 'consider', 'hemisphere', 'large', 'most', 'asia', 'africa', 'bird', 'vulpes', 'be', 'include', 'across', 'alongside', 'plus', 'australia', 'mammal', '100', 'species\"', 'where', 'member', 'population', 'the', 'america', 'parts', 'human', 'in', 'worst', 'europe', 'iucn', 'of'}\n",
            "{'range', 'to', 'it', 'for', 'small', 'lagopus', 'native', 'throughout', 'warm', 'but', 'years', 'snow', 'their', 'region', 'up', '46', 'and', 'fur', '18', 'northern', 'also', 'a', 'survive', 'length', 'with', 'living', 'heat', 'or', 'polar', 'cm', 'as', 'camouflage', 'tundra', 'arctic', 'wild', 'do', 'first', 'know', 'round', 'past', 'minimize', 'one', 'environment', 'fox', 'hemisphere', 'use', 'most', 'exceptional', 'thick', 'that', '27', 'vulpes', 'be', 'cold', '11', 'individual', 'body', 'adapt', 'escape', 'from', 'some', '68', 'generally', 'live', 'white', 'the', 'well', 'in', 'common', 'shape', 'not', 'best', 'biome', 'year', 'of'}\n",
            "{'canid', 'to', 'it', 'serve', 'small', 'native', 'fanak', 'distinctive', 'species', 'zerda', 'call', 'peninsula', 'low-water', 'and', 'this', 'have', 'also', 'fennec', 'a', 'dissipate', 'name', 'heat', 'underground', 'or', 'mainly', 'hear', 'function', 'crepuscular', 'environment', 'fox', 'enough', 'feature', 'most', 'large', 'kidney', 'come', 'insect', 'bird', 'high-temperature', 'coat', 'vulpes', 'be', 'unusually', 'hearing', \"species'\", 'which', 'adapt', 'sensitive', 'eats', 'arava', 'arabian', 'arabic:', 'from', 'mammal', 'prey', 'the', 'ear', 'desert', 'in', 'move', 'sahara', 'sinai', 'of'}\n",
            "{'while', 'possess', 'trick', 'make', 'accord', 'influence', 'paranormal', 'often', 'depict', 'japan;', 'have', 'closely', 'lover', 'significance', 'reinforce', 'role', 'as', 'sense', 'folklore', 'may', 'english', 'kami', 'be', 'legendary', 'give', 'folklore;', 'live', 'others', 'in', 'common', 'because', 'folktale', 'spirit', 'word', 'are', 'older', 'wisdom', 'kitsune', 'and', 'other', 'ability', 'friend', 'speak', 'refer', 'subject', 'do', 'portray', 'form', 'humans', 'fox', 'into', 'literal', 'some', 'legend', 'tails', 'power', 'close', 'for', 'it', 'shapeshift', 'become', 'potential', 'story', 'shinto', 'more', 'them', 'yōkai', 'with', 'or', 'increase', 'all', 'japanese', 'supernatural', 'ha', 'age', 'wise', \"fox's\", 'intelligent', 'the', 'guardian', 'inari', 'faithful', 'being', 'to', 'serve', 'nine', 'their', 'companionship', 'many', 'this', 'deity', 'they', 'a', 'employ', 'context', 'wife', 'about', 'ancient', '–', 'associate', 'creature', 'powerful', 'that', 'messenger', 'people', 'sacrifice', 'human', 'rise', 'together', 'of'}\n"
          ],
          "name": "stdout"
        }
      ]
    },
    {
      "cell_type": "code",
      "metadata": {
        "id": "76eXf8fdA81x",
        "colab_type": "code",
        "colab": {
          "base_uri": "https://localhost:8080/",
          "height": 54
        },
        "outputId": "a712ce11-4248-4c59-f8b1-c016321fa963"
      },
      "source": [
        "# bag of words でベクトル化\n",
        "def bow_vectorizer(docs):\n",
        "  word2id = {}\n",
        "  for doc in docs.values():\n",
        "    for w in doc:\n",
        "      if w not in word2id:\n",
        "        word2id[w] = len(word2id)\n",
        "        \n",
        "  result_list = []\n",
        "  for doc in docs.values():\n",
        "    doc_vec = [0] * len(word2id)\n",
        "    for w in doc:\n",
        "      doc_vec[word2id[w]] += 1\n",
        "    result_list.append(doc_vec)\n",
        "  return result_list, word2id\n",
        "\n",
        "bow_vec_doc, word2id_doc = bow_vectorizer(preprocessed_docs)\n",
        "print(bow_vec_doc)"
      ],
      "execution_count": 11,
      "outputs": [
        {
          "output_type": "stream",
          "text": [
            "[[1, 1, 1, 2, 2, 1, 1, 1, 1, 1, 2, 1, 1, 1, 1, 1, 4, 1, 1, 1, 1, 1, 2, 1, 1, 1, 1, 1, 1, 1, 1, 1, 1, 1, 1, 1, 1, 0, 0, 0, 0, 0, 0, 0, 0, 0, 0, 0, 0, 0, 0, 0, 0, 0, 0, 0, 0, 0, 0, 0, 0, 0, 0, 0, 0, 0, 0, 0, 0, 0, 0, 0, 0, 0, 0, 0, 0, 0, 0, 0, 0, 0, 0, 0, 0, 0, 0, 0, 0, 0, 0, 0, 0, 0, 0, 0, 0, 0, 0, 0, 0, 0, 0, 0, 0, 0, 0, 0, 0, 0, 0, 0, 0, 0, 0, 0, 0, 0, 0, 0, 0, 0, 0, 0, 0, 0, 0, 0, 0, 0, 0, 0, 0, 0, 0, 0, 0, 0, 0, 0, 0, 0, 0, 0, 0, 0, 0, 0, 0, 0, 0, 0, 0, 0, 0, 0, 0, 0, 0, 0, 0, 0, 0, 0, 0, 0, 0, 0, 0, 0, 0, 0, 0, 0, 0, 0, 0, 0, 0, 0, 0, 0, 0, 0, 0, 0, 0, 0, 0, 0, 0, 0, 0, 0, 0, 0, 0, 0, 0, 0, 0, 0, 0, 0, 0, 0, 0, 0, 0, 0, 0, 0, 0, 0, 0, 0, 0, 0, 0, 0, 0, 0, 0, 0, 0, 0, 0, 0, 0, 0, 0, 0, 0, 0, 0, 0, 0, 0, 0, 0, 0, 0, 0, 0, 0, 0, 0, 0, 0, 0, 0, 0, 0, 0, 0, 0, 0, 0, 0, 0, 0, 0, 0, 0, 0, 0, 0, 0, 0, 0, 0, 0, 0, 0, 0, 0, 0, 0, 0, 0, 0, 0, 0, 0, 0, 0, 0, 0, 0, 0, 0, 0, 0, 0, 0, 0, 0, 0, 0, 0, 0, 0, 0, 0, 0, 0, 0, 0, 0, 0, 0, 0, 0, 0, 0, 0, 0, 0, 0, 0, 0, 0, 0, 0, 0, 0, 0, 0, 0, 0, 0, 0, 0, 0, 0, 0, 0, 0, 0, 0, 0, 0, 0, 0, 0, 0, 0, 0, 0, 0, 0, 0, 0, 0, 0, 0, 0, 0, 0, 0, 0, 0, 0, 0, 0, 0, 0, 0, 0, 0, 0, 0, 0, 0, 0, 0, 0, 0, 0, 0, 0, 0, 0, 0, 0, 0, 0, 0, 0, 0, 0, 0, 0, 0, 0, 0, 0, 0, 0, 0, 0, 0, 0, 0, 0, 0, 0, 0, 0, 0, 0, 0, 0, 0, 0, 0, 0, 0, 0, 0, 0, 0, 0, 0, 0, 0, 0, 0, 0, 0, 0, 0, 0, 0, 0, 0, 0, 0, 0, 0, 0, 0, 0, 0, 0, 0, 0, 0, 0, 0, 0, 0, 0, 0, 0, 0, 0, 0, 0, 0, 0, 0], [4, 7, 4, 0, 3, 10, 0, 0, 0, 1, 2, 1, 5, 9, 0, 1, 8, 1, 0, 0, 1, 1, 0, 0, 3, 2, 0, 0, 0, 0, 0, 0, 0, 0, 1, 1, 0, 2, 2, 1, 3, 1, 1, 1, 1, 1, 1, 1, 1, 1, 1, 3, 1, 1, 1, 1, 1, 1, 1, 1, 1, 1, 1, 2, 1, 2, 1, 1, 1, 1, 1, 2, 1, 4, 1, 1, 1, 1, 1, 1, 1, 1, 1, 1, 1, 1, 1, 1, 1, 1, 1, 1, 1, 1, 1, 1, 1, 1, 1, 1, 1, 1, 1, 1, 1, 2, 1, 1, 1, 1, 1, 1, 1, 1, 0, 0, 0, 0, 0, 0, 0, 0, 0, 0, 0, 0, 0, 0, 0, 0, 0, 0, 0, 0, 0, 0, 0, 0, 0, 0, 0, 0, 0, 0, 0, 0, 0, 0, 0, 0, 0, 0, 0, 0, 0, 0, 0, 0, 0, 0, 0, 0, 0, 0, 0, 0, 0, 0, 0, 0, 0, 0, 0, 0, 0, 0, 0, 0, 0, 0, 0, 0, 0, 0, 0, 0, 0, 0, 0, 0, 0, 0, 0, 0, 0, 0, 0, 0, 0, 0, 0, 0, 0, 0, 0, 0, 0, 0, 0, 0, 0, 0, 0, 0, 0, 0, 0, 0, 0, 0, 0, 0, 0, 0, 0, 0, 0, 0, 0, 0, 0, 0, 0, 0, 0, 0, 0, 0, 0, 0, 0, 0, 0, 0, 0, 0, 0, 0, 0, 0, 0, 0, 0, 0, 0, 0, 0, 0, 0, 0, 0, 0, 0, 0, 0, 0, 0, 0, 0, 0, 0, 0, 0, 0, 0, 0, 0, 0, 0, 0, 0, 0, 0, 0, 0, 0, 0, 0, 0, 0, 0, 0, 0, 0, 0, 0, 0, 0, 0, 0, 0, 0, 0, 0, 0, 0, 0, 0, 0, 0, 0, 0, 0, 0, 0, 0, 0, 0, 0, 0, 0, 0, 0, 0, 0, 0, 0, 0, 0, 0, 0, 0, 0, 0, 0, 0, 0, 0, 0, 0, 0, 0, 0, 0, 0, 0, 0, 0, 0, 0, 0, 0, 0, 0, 0, 0, 0, 0, 0, 0, 0, 0, 0, 0, 0, 0, 0, 0, 0, 0, 0, 0, 0, 0, 0, 0, 0, 0, 0, 0, 0, 0, 0, 0, 0, 0, 0, 0, 0, 0, 0, 0, 0, 0, 0, 0, 0, 0, 0, 0, 0, 0, 0, 0, 0, 0, 0, 0, 0, 0, 0, 0, 0, 0, 0, 0, 0, 0, 0, 0, 0, 0, 0, 0, 0, 0, 0, 0, 0, 0, 0, 0, 0, 0, 0, 0, 0, 0, 0, 0, 0, 0, 0, 0, 0, 0, 0, 0, 0, 0, 0, 0, 0, 0, 0, 0, 0, 0, 0, 0, 0, 0], [1, 4, 1, 0, 2, 9, 0, 0, 0, 0, 2, 0, 1, 5, 0, 1, 5, 2, 0, 0, 0, 1, 0, 0, 1, 0, 0, 0, 0, 0, 0, 0, 0, 0, 0, 0, 0, 0, 0, 0, 1, 0, 0, 1, 1, 1, 1, 1, 1, 2, 0, 0, 0, 0, 0, 0, 0, 0, 0, 0, 0, 0, 0, 0, 0, 0, 0, 0, 0, 0, 0, 0, 0, 1, 0, 0, 0, 0, 0, 0, 0, 1, 4, 0, 0, 0, 0, 0, 0, 0, 0, 1, 1, 0, 2, 1, 0, 0, 0, 0, 0, 0, 0, 0, 0, 0, 0, 0, 0, 0, 0, 0, 0, 0, 1, 1, 1, 1, 1, 1, 1, 1, 1, 1, 1, 1, 1, 1, 1, 1, 1, 1, 1, 1, 1, 1, 1, 1, 1, 1, 0, 0, 0, 0, 0, 0, 0, 0, 0, 0, 0, 0, 0, 0, 0, 0, 0, 0, 0, 0, 0, 0, 0, 0, 0, 0, 0, 0, 0, 0, 0, 0, 0, 0, 0, 0, 0, 0, 0, 0, 0, 0, 0, 0, 0, 0, 0, 0, 0, 0, 0, 0, 0, 0, 0, 0, 0, 0, 0, 0, 0, 0, 0, 0, 0, 0, 0, 0, 0, 0, 0, 0, 0, 0, 0, 0, 0, 0, 0, 0, 0, 0, 0, 0, 0, 0, 0, 0, 0, 0, 0, 0, 0, 0, 0, 0, 0, 0, 0, 0, 0, 0, 0, 0, 0, 0, 0, 0, 0, 0, 0, 0, 0, 0, 0, 0, 0, 0, 0, 0, 0, 0, 0, 0, 0, 0, 0, 0, 0, 0, 0, 0, 0, 0, 0, 0, 0, 0, 0, 0, 0, 0, 0, 0, 0, 0, 0, 0, 0, 0, 0, 0, 0, 0, 0, 0, 0, 0, 0, 0, 0, 0, 0, 0, 0, 0, 0, 0, 0, 0, 0, 0, 0, 0, 0, 0, 0, 0, 0, 0, 0, 0, 0, 0, 0, 0, 0, 0, 0, 0, 0, 0, 0, 0, 0, 0, 0, 0, 0, 0, 0, 0, 0, 0, 0, 0, 0, 0, 0, 0, 0, 0, 0, 0, 0, 0, 0, 0, 0, 0, 0, 0, 0, 0, 0, 0, 0, 0, 0, 0, 0, 0, 0, 0, 0, 0, 0, 0, 0, 0, 0, 0, 0, 0, 0, 0, 0, 0, 0, 0, 0, 0, 0, 0, 0, 0, 0, 0, 0, 0, 0, 0, 0, 0, 0, 0, 0, 0, 0, 0, 0, 0, 0, 0, 0, 0, 0, 0, 0, 0, 0, 0, 0, 0, 0, 0, 0, 0, 0, 0, 0, 0, 0, 0, 0, 0, 0, 0, 0, 0, 0, 0, 0, 0, 0, 0, 0, 0, 0, 0, 0, 0, 0, 0, 0, 0, 0, 0, 0, 0, 0, 0], [2, 5, 4, 0, 3, 7, 0, 0, 0, 0, 1, 0, 5, 4, 0, 0, 7, 0, 0, 1, 0, 0, 1, 0, 2, 1, 0, 0, 0, 0, 0, 0, 0, 0, 0, 0, 0, 0, 1, 0, 1, 1, 0, 1, 1, 0, 1, 0, 0, 0, 0, 0, 0, 0, 0, 0, 0, 0, 0, 0, 0, 0, 0, 0, 0, 0, 0, 0, 0, 0, 0, 0, 0, 5, 0, 0, 0, 0, 0, 0, 0, 0, 6, 0, 0, 0, 0, 0, 0, 0, 0, 0, 0, 0, 0, 2, 0, 0, 0, 1, 0, 0, 0, 0, 0, 0, 0, 0, 0, 0, 0, 0, 0, 0, 0, 0, 0, 0, 0, 1, 0, 0, 0, 0, 0, 0, 1, 1, 0, 1, 0, 0, 0, 0, 0, 0, 0, 1, 0, 0, 2, 1, 1, 2, 1, 1, 1, 1, 1, 1, 1, 1, 1, 1, 1, 1, 1, 1, 1, 1, 1, 1, 1, 1, 2, 1, 1, 1, 1, 1, 1, 1, 1, 1, 1, 1, 1, 1, 1, 1, 1, 1, 1, 1, 1, 1, 2, 1, 1, 1, 1, 1, 1, 1, 1, 1, 1, 1, 1, 1, 1, 1, 1, 0, 0, 0, 0, 0, 0, 0, 0, 0, 0, 0, 0, 0, 0, 0, 0, 0, 0, 0, 0, 0, 0, 0, 0, 0, 0, 0, 0, 0, 0, 0, 0, 0, 0, 0, 0, 0, 0, 0, 0, 0, 0, 0, 0, 0, 0, 0, 0, 0, 0, 0, 0, 0, 0, 0, 0, 0, 0, 0, 0, 0, 0, 0, 0, 0, 0, 0, 0, 0, 0, 0, 0, 0, 0, 0, 0, 0, 0, 0, 0, 0, 0, 0, 0, 0, 0, 0, 0, 0, 0, 0, 0, 0, 0, 0, 0, 0, 0, 0, 0, 0, 0, 0, 0, 0, 0, 0, 0, 0, 0, 0, 0, 0, 0, 0, 0, 0, 0, 0, 0, 0, 0, 0, 0, 0, 0, 0, 0, 0, 0, 0, 0, 0, 0, 0, 0, 0, 0, 0, 0, 0, 0, 0, 0, 0, 0, 0, 0, 0, 0, 0, 0, 0, 0, 0, 0, 0, 0, 0, 0, 0, 0, 0, 0, 0, 0, 0, 0, 0, 0, 0, 0, 0, 0, 0, 0, 0, 0, 0, 0, 0, 0, 0, 0, 0, 0, 0, 0, 0, 0, 0, 0, 0, 0, 0, 0, 0, 0, 0, 0, 0, 0, 0, 0, 0, 0, 0, 0, 0, 0, 0, 0, 0, 0, 0, 0, 0, 0, 0, 0, 0, 0, 0, 0, 0, 0, 0, 0, 0, 0, 0, 0, 0, 0, 0, 0, 0, 0, 0, 0, 0, 0, 0, 0, 0, 0, 0, 0, 0, 0, 0, 0, 0, 0, 0, 0, 0, 0, 0], [1, 3, 3, 1, 0, 6, 0, 0, 0, 0, 2, 0, 1, 1, 5, 0, 5, 0, 0, 0, 0, 0, 0, 0, 4, 0, 0, 0, 0, 1, 0, 0, 0, 0, 0, 0, 0, 0, 0, 0, 0, 0, 0, 0, 1, 0, 1, 1, 0, 1, 0, 0, 0, 0, 0, 0, 0, 0, 0, 0, 0, 0, 0, 0, 0, 0, 0, 0, 0, 0, 0, 0, 0, 2, 0, 0, 0, 0, 0, 0, 0, 1, 4, 0, 0, 0, 0, 0, 0, 0, 0, 0, 0, 0, 0, 0, 0, 0, 0, 0, 0, 0, 0, 0, 0, 0, 0, 0, 0, 0, 0, 0, 0, 0, 0, 1, 0, 0, 0, 1, 0, 0, 0, 0, 0, 0, 0, 0, 0, 0, 0, 0, 0, 1, 1, 0, 1, 1, 0, 0, 0, 0, 0, 0, 0, 0, 1, 0, 1, 0, 0, 0, 0, 0, 0, 0, 0, 0, 0, 0, 0, 0, 0, 0, 0, 0, 0, 0, 0, 0, 1, 0, 0, 0, 0, 0, 0, 0, 0, 0, 0, 0, 0, 0, 0, 0, 0, 0, 0, 0, 0, 0, 0, 0, 0, 0, 0, 0, 0, 0, 0, 0, 0, 2, 1, 1, 1, 1, 1, 3, 1, 1, 1, 3, 1, 1, 1, 1, 2, 1, 1, 1, 1, 1, 1, 1, 1, 1, 1, 1, 2, 1, 1, 1, 1, 1, 1, 1, 1, 1, 1, 1, 2, 1, 1, 1, 1, 1, 1, 1, 0, 0, 0, 0, 0, 0, 0, 0, 0, 0, 0, 0, 0, 0, 0, 0, 0, 0, 0, 0, 0, 0, 0, 0, 0, 0, 0, 0, 0, 0, 0, 0, 0, 0, 0, 0, 0, 0, 0, 0, 0, 0, 0, 0, 0, 0, 0, 0, 0, 0, 0, 0, 0, 0, 0, 0, 0, 0, 0, 0, 0, 0, 0, 0, 0, 0, 0, 0, 0, 0, 0, 0, 0, 0, 0, 0, 0, 0, 0, 0, 0, 0, 0, 0, 0, 0, 0, 0, 0, 0, 0, 0, 0, 0, 0, 0, 0, 0, 0, 0, 0, 0, 0, 0, 0, 0, 0, 0, 0, 0, 0, 0, 0, 0, 0, 0, 0, 0, 0, 0, 0, 0, 0, 0, 0, 0, 0, 0, 0, 0, 0, 0, 0, 0, 0, 0, 0, 0, 0, 0, 0, 0, 0, 0, 0, 0, 0, 0, 0, 0, 0, 0, 0, 0, 0, 0, 0, 0, 0, 0, 0, 0, 0, 0, 0, 0, 0, 0, 0, 0, 0, 0, 0, 0, 0, 0, 0, 0, 0, 0, 0, 0, 0, 0, 0, 0, 0, 0, 0, 0, 0, 0, 0, 0, 0, 0, 0, 0, 0, 0, 0, 0, 0, 0, 0, 0, 0, 0, 0, 0, 0, 0], [1, 5, 3, 1, 4, 8, 0, 0, 0, 1, 0, 0, 2, 1, 3, 0, 3, 0, 0, 1, 1, 2, 0, 0, 1, 2, 0, 0, 0, 0, 1, 0, 0, 0, 0, 0, 0, 0, 1, 0, 0, 1, 0, 2, 1, 0, 0, 0, 0, 1, 0, 0, 0, 0, 0, 0, 0, 0, 1, 0, 0, 0, 0, 0, 0, 0, 0, 0, 0, 0, 0, 0, 0, 2, 0, 0, 0, 0, 0, 0, 1, 0, 2, 1, 0, 0, 0, 0, 0, 0, 0, 0, 0, 0, 0, 0, 0, 0, 0, 0, 0, 0, 0, 0, 0, 0, 0, 0, 0, 0, 0, 0, 0, 1, 0, 0, 0, 0, 0, 1, 0, 0, 0, 0, 0, 0, 0, 0, 0, 0, 1, 0, 0, 0, 1, 0, 0, 1, 0, 0, 2, 0, 0, 2, 0, 0, 0, 0, 0, 0, 0, 0, 0, 0, 0, 0, 0, 0, 0, 0, 0, 0, 0, 0, 2, 0, 0, 1, 1, 0, 0, 0, 0, 0, 0, 0, 0, 0, 0, 0, 0, 0, 0, 0, 0, 0, 0, 0, 1, 0, 1, 0, 0, 0, 0, 0, 0, 0, 0, 0, 0, 0, 0, 0, 0, 0, 0, 0, 0, 0, 0, 0, 0, 2, 0, 0, 0, 0, 0, 0, 0, 0, 0, 0, 0, 0, 0, 1, 0, 0, 0, 0, 0, 1, 0, 0, 0, 0, 0, 0, 0, 0, 0, 0, 0, 0, 0, 0, 0, 0, 2, 1, 1, 1, 1, 1, 1, 1, 1, 1, 1, 1, 1, 2, 1, 1, 1, 1, 1, 2, 1, 1, 2, 1, 1, 1, 1, 1, 1, 1, 1, 1, 1, 1, 1, 0, 0, 0, 0, 0, 0, 0, 0, 0, 0, 0, 0, 0, 0, 0, 0, 0, 0, 0, 0, 0, 0, 0, 0, 0, 0, 0, 0, 0, 0, 0, 0, 0, 0, 0, 0, 0, 0, 0, 0, 0, 0, 0, 0, 0, 0, 0, 0, 0, 0, 0, 0, 0, 0, 0, 0, 0, 0, 0, 0, 0, 0, 0, 0, 0, 0, 0, 0, 0, 0, 0, 0, 0, 0, 0, 0, 0, 0, 0, 0, 0, 0, 0, 0, 0, 0, 0, 0, 0, 0, 0, 0, 0, 0, 0, 0, 0, 0, 0, 0, 0, 0, 0, 0, 0, 0, 0, 0, 0, 0, 0, 0, 0, 0, 0, 0, 0, 0, 0, 0, 0, 0, 0, 0, 0, 0, 0, 0, 0, 0, 0, 0, 0, 0, 0, 0, 0, 0, 0, 0, 0, 0, 0, 0, 0, 0, 0, 0, 0, 0, 0, 0, 0, 0, 0, 0, 0, 0, 0, 0, 0, 0, 0, 0, 0, 0, 0, 0, 0, 0, 0, 0, 0, 0, 0, 0, 0], [0, 5, 0, 0, 6, 9, 0, 0, 0, 0, 0, 0, 1, 0, 0, 0, 3, 0, 0, 0, 0, 1, 0, 0, 3, 1, 0, 0, 0, 0, 0, 0, 0, 0, 0, 0, 0, 0, 0, 0, 0, 0, 0, 0, 1, 0, 1, 1, 0, 0, 0, 0, 1, 0, 0, 0, 0, 0, 1, 0, 0, 0, 0, 0, 0, 0, 0, 0, 0, 0, 0, 0, 0, 1, 0, 0, 0, 0, 0, 0, 0, 0, 5, 0, 0, 0, 0, 0, 0, 0, 0, 0, 0, 0, 0, 0, 0, 0, 0, 0, 0, 0, 0, 0, 0, 0, 0, 0, 0, 0, 0, 0, 0, 0, 0, 0, 0, 0, 0, 1, 0, 0, 0, 0, 0, 0, 0, 0, 0, 0, 0, 0, 0, 0, 0, 0, 0, 2, 0, 0, 0, 0, 0, 1, 0, 0, 0, 0, 0, 0, 0, 0, 0, 0, 0, 0, 0, 0, 0, 0, 0, 0, 0, 0, 2, 1, 1, 1, 1, 0, 0, 0, 0, 0, 0, 0, 0, 0, 0, 0, 0, 0, 0, 1, 0, 0, 0, 0, 0, 0, 1, 0, 0, 0, 0, 0, 0, 0, 0, 0, 0, 0, 0, 0, 0, 0, 0, 0, 0, 1, 0, 0, 0, 0, 0, 0, 0, 0, 0, 0, 0, 0, 0, 0, 0, 0, 0, 0, 0, 0, 0, 0, 0, 0, 0, 0, 0, 0, 0, 0, 0, 0, 1, 0, 1, 0, 0, 0, 0, 0, 0, 0, 0, 0, 0, 0, 0, 0, 0, 0, 0, 0, 0, 0, 0, 0, 0, 0, 0, 0, 0, 0, 0, 0, 0, 0, 0, 0, 0, 0, 0, 0, 0, 0, 0, 2, 2, 1, 1, 2, 1, 1, 1, 1, 1, 1, 1, 1, 2, 1, 1, 1, 1, 1, 1, 1, 1, 2, 1, 1, 1, 1, 1, 1, 1, 1, 1, 1, 1, 1, 0, 0, 0, 0, 0, 0, 0, 0, 0, 0, 0, 0, 0, 0, 0, 0, 0, 0, 0, 0, 0, 0, 0, 0, 0, 0, 0, 0, 0, 0, 0, 0, 0, 0, 0, 0, 0, 0, 0, 0, 0, 0, 0, 0, 0, 0, 0, 0, 0, 0, 0, 0, 0, 0, 0, 0, 0, 0, 0, 0, 0, 0, 0, 0, 0, 0, 0, 0, 0, 0, 0, 0, 0, 0, 0, 0, 0, 0, 0, 0, 0, 0, 0, 0, 0, 0, 0, 0, 0, 0, 0, 0, 0, 0, 0, 0, 0, 0, 0, 0, 0, 0, 0, 0, 0, 0, 0, 0, 0, 0, 0, 0, 0, 0, 0, 0, 0, 0, 0, 0, 0, 0, 0, 0, 0, 0, 0, 0, 0, 0, 0, 0, 0, 0, 0, 0, 0, 0, 0, 0, 0, 0], [0, 4, 2, 0, 2, 7, 0, 0, 0, 0, 0, 0, 2, 0, 0, 0, 2, 0, 0, 0, 0, 0, 1, 0, 6, 0, 0, 0, 0, 0, 0, 0, 0, 0, 0, 0, 0, 0, 2, 2, 0, 1, 0, 0, 1, 0, 0, 0, 0, 0, 0, 0, 0, 0, 0, 0, 0, 0, 0, 0, 0, 0, 0, 0, 0, 0, 0, 0, 0, 0, 0, 1, 0, 3, 1, 0, 0, 0, 0, 0, 1, 0, 3, 0, 0, 0, 1, 0, 0, 0, 0, 0, 0, 0, 0, 0, 0, 0, 0, 1, 0, 0, 1, 0, 0, 1, 0, 0, 0, 3, 1, 0, 0, 0, 0, 0, 0, 0, 0, 0, 0, 0, 0, 0, 0, 0, 0, 0, 0, 0, 0, 0, 0, 0, 1, 0, 0, 0, 0, 0, 0, 0, 0, 0, 0, 0, 0, 0, 0, 0, 0, 0, 0, 0, 0, 0, 0, 0, 0, 0, 0, 0, 0, 0, 0, 0, 0, 0, 0, 0, 0, 0, 0, 0, 0, 0, 0, 0, 0, 0, 0, 0, 0, 0, 0, 0, 0, 0, 0, 0, 0, 0, 0, 0, 0, 0, 0, 0, 0, 0, 0, 0, 0, 0, 0, 0, 0, 0, 0, 0, 0, 0, 0, 1, 0, 0, 0, 0, 1, 0, 0, 0, 0, 0, 0, 0, 0, 0, 0, 0, 0, 0, 0, 0, 0, 0, 0, 0, 0, 0, 0, 0, 1, 1, 0, 0, 0, 0, 1, 0, 0, 0, 0, 0, 0, 0, 0, 0, 0, 0, 0, 0, 0, 1, 0, 0, 0, 0, 0, 1, 1, 0, 0, 0, 0, 0, 0, 0, 0, 0, 0, 0, 0, 0, 0, 5, 1, 0, 1, 1, 0, 0, 0, 0, 0, 0, 0, 0, 1, 1, 0, 0, 0, 0, 0, 0, 0, 0, 0, 0, 0, 0, 0, 0, 0, 0, 0, 0, 0, 0, 1, 1, 1, 1, 1, 1, 1, 1, 1, 1, 1, 1, 1, 1, 1, 1, 1, 1, 1, 1, 1, 1, 1, 1, 1, 1, 3, 1, 1, 1, 1, 1, 1, 1, 1, 1, 1, 0, 0, 0, 0, 0, 0, 0, 0, 0, 0, 0, 0, 0, 0, 0, 0, 0, 0, 0, 0, 0, 0, 0, 0, 0, 0, 0, 0, 0, 0, 0, 0, 0, 0, 0, 0, 0, 0, 0, 0, 0, 0, 0, 0, 0, 0, 0, 0, 0, 0, 0, 0, 0, 0, 0, 0, 0, 0, 0, 0, 0, 0, 0, 0, 0, 0, 0, 0, 0, 0, 0, 0, 0, 0, 0, 0, 0, 0, 0, 0, 0, 0, 0, 0, 0, 0, 0, 0, 0, 0, 0, 0, 0, 0, 0, 0, 0, 0, 0, 0, 0, 0, 0, 0, 0], [0, 4, 1, 0, 1, 6, 0, 0, 0, 0, 1, 0, 0, 0, 0, 0, 3, 0, 1, 0, 0, 0, 0, 0, 4, 1, 0, 0, 0, 0, 0, 0, 0, 0, 0, 2, 0, 0, 3, 0, 0, 1, 0, 0, 1, 0, 0, 0, 0, 0, 0, 0, 1, 0, 0, 0, 0, 0, 0, 0, 0, 0, 0, 0, 0, 0, 0, 0, 0, 0, 0, 0, 0, 1, 0, 0, 0, 0, 0, 0, 1, 0, 6, 0, 0, 0, 0, 0, 0, 0, 0, 0, 0, 1, 0, 0, 0, 0, 0, 0, 0, 0, 0, 0, 0, 0, 0, 0, 0, 0, 0, 0, 0, 0, 0, 0, 0, 0, 0, 0, 0, 0, 0, 0, 0, 0, 0, 0, 0, 0, 1, 0, 0, 0, 0, 0, 0, 0, 0, 0, 0, 0, 0, 0, 0, 0, 0, 0, 1, 0, 0, 0, 0, 0, 0, 0, 0, 0, 0, 0, 0, 0, 0, 0, 0, 0, 0, 0, 0, 0, 0, 0, 0, 0, 0, 0, 0, 0, 0, 0, 0, 0, 0, 1, 0, 0, 0, 0, 0, 0, 0, 0, 0, 0, 0, 0, 0, 0, 0, 0, 0, 0, 0, 0, 0, 0, 0, 0, 0, 0, 0, 0, 0, 0, 0, 0, 0, 0, 0, 0, 0, 0, 0, 0, 0, 0, 0, 0, 0, 0, 0, 0, 0, 0, 0, 0, 0, 0, 0, 0, 0, 0, 0, 0, 0, 0, 0, 0, 0, 0, 0, 0, 0, 0, 0, 0, 0, 1, 0, 0, 0, 0, 0, 0, 0, 0, 0, 0, 0, 0, 0, 0, 0, 0, 0, 0, 0, 0, 0, 0, 0, 0, 0, 0, 0, 3, 1, 0, 0, 1, 0, 0, 0, 0, 0, 0, 0, 0, 0, 0, 0, 0, 0, 0, 0, 0, 0, 0, 0, 0, 0, 1, 0, 0, 0, 0, 0, 0, 0, 0, 0, 0, 0, 3, 0, 0, 0, 1, 0, 0, 1, 0, 0, 0, 0, 0, 0, 0, 0, 0, 0, 0, 0, 0, 0, 0, 0, 0, 0, 0, 0, 0, 0, 0, 0, 0, 1, 3, 1, 5, 1, 1, 1, 1, 1, 1, 1, 1, 1, 1, 1, 2, 1, 1, 1, 1, 1, 1, 1, 1, 1, 1, 1, 1, 1, 1, 1, 1, 1, 1, 0, 0, 0, 0, 0, 0, 0, 0, 0, 0, 0, 0, 0, 0, 0, 0, 0, 0, 0, 0, 0, 0, 0, 0, 0, 0, 0, 0, 0, 0, 0, 0, 0, 0, 0, 0, 0, 0, 0, 0, 0, 0, 0, 0, 0, 0, 0, 0, 0, 0, 0, 0, 0, 0, 0, 0, 0, 0, 0, 0, 0, 0, 0, 0, 0, 0, 0, 0, 0, 0, 0, 0], [0, 2, 4, 0, 3, 7, 0, 0, 0, 0, 0, 0, 8, 0, 0, 0, 7, 0, 4, 1, 0, 0, 2, 0, 7, 0, 0, 0, 0, 0, 0, 0, 0, 0, 0, 0, 1, 0, 0, 0, 0, 1, 0, 0, 0, 0, 0, 0, 2, 0, 0, 0, 3, 0, 0, 0, 0, 0, 0, 0, 0, 0, 0, 0, 0, 0, 0, 0, 0, 0, 0, 0, 0, 5, 0, 0, 0, 0, 0, 0, 0, 1, 2, 0, 0, 0, 0, 0, 0, 0, 0, 0, 1, 0, 0, 0, 0, 0, 0, 2, 3, 0, 0, 0, 0, 0, 0, 0, 0, 0, 0, 1, 0, 1, 0, 1, 0, 0, 0, 0, 0, 0, 0, 0, 0, 0, 0, 0, 0, 0, 0, 0, 0, 0, 1, 0, 0, 0, 0, 0, 0, 0, 0, 0, 0, 0, 0, 0, 0, 0, 0, 0, 0, 0, 0, 0, 0, 0, 0, 0, 0, 0, 0, 0, 0, 0, 0, 0, 0, 0, 0, 0, 0, 0, 0, 0, 0, 0, 0, 0, 0, 0, 0, 0, 0, 0, 0, 0, 0, 0, 1, 0, 0, 0, 0, 0, 0, 0, 0, 0, 0, 0, 0, 0, 0, 0, 0, 0, 0, 0, 0, 1, 0, 0, 0, 0, 0, 0, 0, 0, 0, 0, 0, 0, 0, 0, 0, 0, 0, 0, 0, 0, 0, 0, 0, 0, 0, 0, 0, 0, 0, 0, 0, 0, 0, 1, 0, 0, 0, 0, 0, 0, 0, 0, 0, 0, 0, 0, 0, 0, 0, 0, 0, 1, 1, 0, 0, 0, 0, 0, 1, 0, 0, 0, 0, 0, 0, 0, 0, 0, 0, 0, 0, 0, 0, 6, 0, 0, 0, 0, 0, 0, 0, 0, 1, 0, 0, 0, 0, 0, 0, 0, 2, 1, 0, 0, 0, 0, 0, 0, 0, 0, 0, 0, 0, 0, 0, 0, 0, 0, 0, 0, 0, 0, 1, 0, 0, 0, 0, 0, 0, 0, 0, 0, 0, 0, 1, 0, 0, 0, 0, 2, 0, 0, 0, 0, 0, 0, 0, 0, 0, 0, 0, 0, 0, 0, 0, 0, 0, 0, 0, 0, 0, 0, 0, 0, 0, 0, 0, 1, 0, 0, 0, 0, 0, 0, 0, 0, 0, 0, 0, 0, 0, 0, 0, 0, 0, 0, 0, 0, 5, 1, 1, 2, 1, 1, 1, 1, 1, 2, 1, 1, 1, 1, 1, 3, 1, 1, 1, 1, 2, 1, 1, 1, 1, 1, 1, 1, 1, 1, 4, 1, 1, 1, 1, 1, 1, 1, 1, 1, 1, 1, 1, 1, 1, 1, 1, 1, 1, 1, 1, 1, 1, 1, 1, 1, 1, 1, 1, 1, 1, 1, 1, 1, 1, 1, 1, 1, 1, 1, 1, 1]]\n"
          ],
          "name": "stdout"
        }
      ]
    },
    {
      "cell_type": "code",
      "metadata": {
        "id": "xt_xTzU3CefJ",
        "colab_type": "code",
        "colab": {
          "base_uri": "https://localhost:8080/",
          "height": 54
        },
        "outputId": "40ead259-386e-4411-c86c-86c74e744066"
      },
      "source": [
        "word2id_doc.items()"
      ],
      "execution_count": 12,
      "outputs": [
        {
          "output_type": "execute_result",
          "data": {
            "text/plain": [
              "dict_items([('canis', 0), ('be', 1), ('a', 2), ('genus', 3), ('of', 4), ('the', 5), ('caninae', 6), ('contain', 7), ('multiple', 8), ('extant', 9), ('species', 10), ('such', 11), ('as', 12), ('wolf', 13), ('dog', 14), ('coyote', 15), ('and', 16), ('jackal', 17), ('this', 18), ('are', 19), ('distinguish', 20), ('by', 21), ('their', 22), ('moderate', 23), ('to', 24), ('large', 25), ('size', 26), ('massive', 27), ('well-developed', 28), ('skull', 29), ('dentition', 30), ('long', 31), ('legs', 32), ('comparatively', 33), ('short', 34), ('ear', 35), ('tails', 36), ('lupus', 37), ('also', 38), ('know', 39), ('gray', 40), ('or', 41), ('grey', 42), ('canine', 43), ('native', 44), ('eurasia', 45), ('north', 46), ('america', 47), ('more', 48), ('than', 49), ('thirty', 50), ('subspecies', 51), ('have', 52), ('recognize', 53), ('colloquially', 54), ('understand', 55), ('comprise', 56), ('non-domestic/feral', 57), ('member', 58), ('canidae', 59), ('male', 60), ('average', 61), ('40', 62), ('kg', 63), ('88', 64), ('lb', 65), ('female', 66), ('37', 67), ('82', 68), ('measure', 69), ('105–160', 70), ('cm', 71), ('41–63', 72), ('in', 73), ('length', 74), ('80–85', 75), ('31–33', 76), ('at', 77), ('shoulder', 78), ('height', 79), ('from', 80), ('other', 81), ('it', 82), ('le', 83), ('point', 84), ('muzzle', 85), ('well', 86), ('torso', 87), ('longer', 88), ('tail', 89), ('nonetheless', 90), ('relate', 91), ('closely', 92), ('enough', 93), ('smaller', 94), ('golden', 95), ('produce', 96), ('fertile', 97), ('hybrid', 98), ('with', 99), ('them', 100), ('band', 101), ('fur', 102), ('usually', 103), ('mottle', 104), ('white', 105), ('brown', 106), ('black', 107), ('although', 108), ('arctic', 109), ('region', 110), ('may', 111), ('nearly', 112), ('all', 113), ('latrans', 114), ('close', 115), ('relative', 116), ('slightly', 117), ('eastern', 118), ('red', 119), ('fill', 120), ('much', 121), ('same', 122), ('ecological', 123), ('niche', 124), ('doe', 125), ('though', 126), ('larger', 127), ('predatory', 128), ('sometimes', 129), ('call', 130), ('american', 131), ('zoologist', 132), ('names', 133), ('for', 134), ('largely', 135), ('historical', 136), ('include', 137), ('prairie', 138), ('brush', 139), ('african', 140), ('anthus', 141), ('lupaster', 142), ('africa', 143), ('horn', 144), ('descendant', 145), ('genetically', 146), ('admix', 147), ('canid', 148), ('72%', 149), ('28%', 150), ('ethiopian', 151), ('ancestry', 152), ('occur', 153), ('senegal', 154), ('nigeria', 155), ('chad', 156), ('morocco', 157), ('algeria', 158), ('tunisia', 159), ('libya', 160), ('kenya', 161), ('egypt', 162), ('tanzania', 163), ('list', 164), ('least', 165), ('concern', 166), ('on', 167), ('iucn', 168), ('atlas', 169), ('mountain', 170), ('wa', 171), ('sight', 172), ('elevation', 173), ('high', 174), ('1800', 175), ('m', 176), ('5900', 177), ('ft', 178), ('primarily', 179), ('predator', 180), ('target', 181), ('invertebrate', 182), ('mammal', 183), ('gazelle', 184), ('fawn', 185), ('animal', 186), ('take', 187), ('diet', 188), ('carcass', 189), ('human', 190), ('refuse', 191), ('fruit', 192), ('monogamous', 193), ('territorial', 194), ('offspring', 195), ('remain', 196), ('family', 197), ('assist', 198), ('raising', 199), (\"parents'\", 200), ('younger', 201), ('pup', 202), ('dhole', 203), ('cuon', 204), ('alpinus', 205), ('central', 206), ('south', 207), ('east', 208), ('asia', 209), ('southeast', 210), ('english', 211), ('asian', 212), ('wild', 213), ('asiatic', 214), ('indian', 215), ('whistling', 216), ('within', 217), ('but', 218), ('distinct', 219), ('several', 220), ('anatomical', 221), ('aspects:', 222), ('convex', 223), ('rather', 224), ('concave', 225), ('profile', 226), ('lack', 227), ('third', 228), ('lower', 229), ('molar', 230), ('upper', 231), ('sport', 232), ('only', 233), ('single', 234), ('cusp', 235), ('oppose', 236), ('between', 237), ('two', 238), ('four', 239), ('during', 240), ('pleistocene', 241), ('range', 242), ('throughout', 243), ('europe', 244), ('become', 245), ('restrict', 246), ('12000–18000', 247), ('years', 248), ('ago', 249), ('lycaon', 250), ('pictus', 251), ('paint', 252), ('cape', 253), ('hunting', 254), ('sub-saharan', 255), ('indigenous', 256), ('which', 257), ('highly', 258), ('specialise', 259), ('hypercarnivorous', 260), ('dewclaws', 261), ('estimate', 262), ('that', 263), ('about', 264), ('6600', 265), ('adult', 266), ('1400', 267), ('mature', 268), ('individual', 269), ('live', 270), ('39', 271), ('subpopulation', 272), ('threaten', 273), ('habitat', 274), ('fragmentation', 275), ('persecution', 276), ('outbreak', 277), ('disease', 278), ('probably', 279), ('consist', 280), ('250', 281), ('endanger', 282), ('since', 283), ('1990', 284), ('fox', 285), ('vulpes', 286), ('true', 287), ('one', 288), ('most', 289), ('widely', 290), ('distribute', 291), ('order', 292), ('carnivora', 293), ('being', 294), ('present', 295), ('across', 296), ('entire', 297), ('northern', 298), ('hemisphere', 299), ('plus', 300), ('parts', 301), ('ha', 302), ('increase', 303), ('alongside', 304), ('expansion', 305), ('introduce', 306), ('australia', 307), ('where', 308), ('consider', 309), ('harmful', 310), ('bird', 311), ('population', 312), ('due', 313), ('presence', 314), ('\"world\\'s', 315), ('100', 316), ('worst', 317), ('invasive', 318), ('species\"', 319), ('lagopus', 320), ('polar', 321), ('snow', 322), ('small', 323), ('common', 324), ('tundra', 325), ('biome', 326), ('adapt', 327), ('living', 328), ('cold', 329), ('environment', 330), ('best', 331), ('thick', 332), ('warm', 333), ('use', 334), ('camouflage', 335), ('do', 336), ('not', 337), ('past', 338), ('first', 339), ('year', 340), ('some', 341), ('exceptional', 342), ('survive', 343), ('up', 344), ('11', 345), ('body', 346), ('46', 347), ('68', 348), ('18', 349), ('27', 350), ('generally', 351), ('round', 352), ('shape', 353), ('minimize', 354), ('escape', 355), ('heat', 356), ('fennec', 357), ('zerda', 358), ('desert', 359), ('crepuscular', 360), ('sahara', 361), ('sinai', 362), ('peninsula', 363), ('arava', 364), ('arabian', 365), ('distinctive', 366), ('feature', 367), ('unusually', 368), ('serve', 369), ('dissipate', 370), ('name', 371), ('come', 372), (\"species'\", 373), ('arabic:', 374), ('fanak', 375), ('coat', 376), ('kidney', 377), ('function', 378), ('high-temperature', 379), ('low-water', 380), ('hearing', 381), ('sensitive', 382), ('hear', 383), ('prey', 384), ('move', 385), ('underground', 386), ('mainly', 387), ('eats', 388), ('insect', 389), ('kitsune', 390), ('literal', 391), ('sense', 392), ('japanese', 393), ('word', 394), ('subject', 395), ('folklore;', 396), ('refer', 397), ('context', 398), ('story', 399), ('depict', 400), ('legendary', 401), ('intelligent', 402), ('possess', 403), ('paranormal', 404), ('ability', 405), ('age', 406), ('wisdom', 407), ('accord', 408), ('yōkai', 409), ('folklore', 410), ('shapeshift', 411), ('into', 412), ('form', 413), ('while', 414), ('folktale', 415), ('speak', 416), ('employ', 417), ('trick', 418), ('others', 419), ('–', 420), ('often', 421), ('portray', 422), ('faithful', 423), ('guardian', 424), ('friend', 425), ('lover', 426), ('wife', 427), ('humans', 428), ('together', 429), ('ancient', 430), ('japan;', 431), ('companionship', 432), ('give', 433), ('rise', 434), ('legend', 435), ('creature', 436), ('associate', 437), ('inari', 438), ('shinto', 439), ('kami', 440), ('spirit', 441), ('messenger', 442), ('role', 443), ('reinforce', 444), (\"fox's\", 445), ('supernatural', 446), ('significance', 447), ('they', 448), ('many', 449), ('nine', 450), ('older', 451), ('wise', 452), ('powerful', 453), ('because', 454), ('potential', 455), ('power', 456), ('influence', 457), ('people', 458), ('make', 459), ('sacrifice', 460), ('deity', 461)])"
            ]
          },
          "metadata": {
            "tags": []
          },
          "execution_count": 12
        }
      ]
    },
    {
      "cell_type": "markdown",
      "metadata": {
        "id": "boTC5RO3NeUH",
        "colab_type": "text"
      },
      "source": [
        "----------------------ここまで preprocessing----------------------"
      ]
    },
    {
      "cell_type": "code",
      "metadata": {
        "id": "94jUycBANpbi",
        "colab_type": "code",
        "colab": {}
      },
      "source": [
        "# Jaccard 係数\n",
        "jaccard_res = {}\n",
        "for i in range(len(text_name)):\n",
        "  for j in range(i + 1, len(text_name)):\n",
        "    name_i = text_name[i]\n",
        "    name_j = text_name[j]\n",
        "    set_i = docs_words_set[name_i]\n",
        "    set_j = docs_words_set[name_j]\n",
        "    jaccard = 1 - jaccard_distance(set_i, set_j)\n",
        "    name_ij = \"Jaccard(\" + name_i + \", \" + name_j + \")\"\n",
        "    jaccard_res[name_ij] = jaccard"
      ],
      "execution_count": 25,
      "outputs": []
    },
    {
      "cell_type": "code",
      "metadata": {
        "id": "k3coz086Y6Be",
        "colab_type": "code",
        "colab": {
          "base_uri": "https://localhost:8080/",
          "height": 799
        },
        "outputId": "b68e63e4-1cd9-4d0b-b572-8ae3c8e774e6"
      },
      "source": [
        "# Jaccard 係数の降順に出力\n",
        "jaccard_sim_sorted = sorted(jaccard_res.items(), key = lambda x : -x[1])\n",
        "for key, value in jaccard_sim_sorted:\n",
        "  print(key + \" -> \" + str(value))"
      ],
      "execution_count": 29,
      "outputs": [
        {
          "output_type": "stream",
          "text": [
            "Jaccard(wolf, coyote) -> 0.2295081967213115\n",
            "Jaccard(coyote, dhole) -> 0.20560747663551404\n",
            "Jaccard(african_golden_wolf, african_wild_dog) -> 0.18309859154929575\n",
            "Jaccard(coyote, african_golden_wolf) -> 0.17886178861788615\n",
            "Jaccard(canis, african_wild_dog) -> 0.17525773195876293\n",
            "Jaccard(coyote, african_wild_dog) -> 0.1696428571428571\n",
            "Jaccard(canis, wolf) -> 0.16666666666666663\n",
            "Jaccard(canis, coyote) -> 0.16666666666666663\n",
            "Jaccard(wolf, african_wild_dog) -> 0.1610738255033557\n",
            "Jaccard(arctic_fox, fennec_fox) -> 0.15966386554621848\n",
            "Jaccard(african_golden_wolf, red_fox) -> 0.1578947368421053\n",
            "Jaccard(african_wild_dog, red_fox) -> 0.15702479338842978\n",
            "Jaccard(dhole, african_wild_dog) -> 0.1515151515151515\n",
            "Jaccard(wolf, arctic_fox) -> 0.1476510067114094\n",
            "Jaccard(coyote, red_fox) -> 0.13592233009708743\n",
            "Jaccard(red_fox, fennec_fox) -> 0.1351351351351351\n",
            "Jaccard(african_wild_dog, arctic_fox) -> 0.13432835820895528\n",
            "Jaccard(red_fox, arctic_fox) -> 0.1311475409836066\n",
            "Jaccard(wolf, african_golden_wolf) -> 0.12650602409638556\n",
            "Jaccard(dhole, red_fox) -> 0.12195121951219512\n",
            "Jaccard(african_golden_wolf, dhole) -> 0.1216216216216216\n",
            "Jaccard(canis, dhole) -> 0.12\n",
            "Jaccard(african_wild_dog, fennec_fox) -> 0.12\n",
            "Jaccard(wolf, fennec_fox) -> 0.11971830985915488\n",
            "Jaccard(arctic_fox, kitsune) -> 0.11445783132530118\n",
            "Jaccard(canis, african_golden_wolf) -> 0.11304347826086958\n",
            "Jaccard(canis, fennec_fox) -> 0.11111111111111116\n",
            "Jaccard(dhole, arctic_fox) -> 0.11111111111111116\n",
            "Jaccard(african_golden_wolf, fennec_fox) -> 0.1079136690647482\n",
            "Jaccard(wolf, red_fox) -> 0.10416666666666663\n",
            "Jaccard(coyote, fennec_fox) -> 0.10377358490566035\n",
            "Jaccard(wolf, dhole) -> 0.10322580645161294\n",
            "Jaccard(african_wild_dog, kitsune) -> 0.09999999999999998\n",
            "Jaccard(wolf, kitsune) -> 0.0957446808510638\n",
            "Jaccard(coyote, kitsune) -> 0.09333333333333338\n",
            "Jaccard(coyote, arctic_fox) -> 0.09322033898305082\n",
            "Jaccard(african_golden_wolf, arctic_fox) -> 0.09210526315789469\n",
            "Jaccard(red_fox, kitsune) -> 0.08805031446540879\n",
            "Jaccard(canis, red_fox) -> 0.08695652173913049\n",
            "Jaccard(fennec_fox, kitsune) -> 0.08125000000000004\n",
            "Jaccard(canis, kitsune) -> 0.08088235294117652\n",
            "Jaccard(dhole, fennec_fox) -> 0.078125\n",
            "Jaccard(canis, arctic_fox) -> 0.07692307692307687\n",
            "Jaccard(dhole, kitsune) -> 0.07558139534883723\n",
            "Jaccard(african_golden_wolf, kitsune) -> 0.07486631016042777\n"
          ],
          "name": "stdout"
        }
      ]
    },
    {
      "cell_type": "code",
      "metadata": {
        "id": "L6TNVNdtSTMl",
        "colab_type": "code",
        "colab": {}
      },
      "source": [
        "# Dice 係数\n",
        "def dice_sim(set_a, set_b):\n",
        "  num_intersect = len(set.intersection(set_a, set_b))\n",
        "  s = len(set_a) + len(set_b)\n",
        "  ret = (2 * num_intersect / s) if s != 0 else 1.0\n",
        "  return ret"
      ],
      "execution_count": 21,
      "outputs": []
    },
    {
      "cell_type": "code",
      "metadata": {
        "id": "zT3iEoQsS2Ic",
        "colab_type": "code",
        "colab": {}
      },
      "source": [
        "# Dice 係数計算\n",
        "dice_res = {}\n",
        "for i in range(len(text_name)):\n",
        "  for j in range(i + 1, len(text_name)):\n",
        "    name_i = text_name[i]\n",
        "    name_j = text_name[j]\n",
        "    set_i = docs_words_set[name_i]\n",
        "    set_j = docs_words_set[name_j]\n",
        "    dice = dice_sim(set_i, set_j)\n",
        "    name_ij = \"Dice(\" + name_i + \", \" + name_j + \")\"\n",
        "    dice_res[name_ij] = dice"
      ],
      "execution_count": 30,
      "outputs": []
    },
    {
      "cell_type": "code",
      "metadata": {
        "id": "k5ZwjkJdZ05C",
        "colab_type": "code",
        "colab": {
          "base_uri": "https://localhost:8080/",
          "height": 799
        },
        "outputId": "7e11c0f4-8bf5-4d12-958e-8d5d2f3ac198"
      },
      "source": [
        "# Dice 係数の降順に出力\n",
        "dice_sim_sorted = sorted(dice_res.items(), key = lambda x : -x[1])\n",
        "for key, value in dice_sim_sorted:\n",
        "  print(key + \" -> \" + str(value))"
      ],
      "execution_count": 31,
      "outputs": [
        {
          "output_type": "stream",
          "text": [
            "Dice(wolf, coyote) -> 0.37333333333333335\n",
            "Dice(coyote, dhole) -> 0.34108527131782945\n",
            "Dice(african_golden_wolf, african_wild_dog) -> 0.30952380952380953\n",
            "Dice(coyote, african_golden_wolf) -> 0.30344827586206896\n",
            "Dice(canis, african_wild_dog) -> 0.2982456140350877\n",
            "Dice(coyote, african_wild_dog) -> 0.2900763358778626\n",
            "Dice(canis, wolf) -> 0.2857142857142857\n",
            "Dice(canis, coyote) -> 0.2857142857142857\n",
            "Dice(wolf, african_wild_dog) -> 0.2774566473988439\n",
            "Dice(arctic_fox, fennec_fox) -> 0.2753623188405797\n",
            "Dice(african_golden_wolf, red_fox) -> 0.2727272727272727\n",
            "Dice(african_wild_dog, red_fox) -> 0.2714285714285714\n",
            "Dice(dhole, african_wild_dog) -> 0.2631578947368421\n",
            "Dice(wolf, arctic_fox) -> 0.2573099415204678\n",
            "Dice(coyote, red_fox) -> 0.23931623931623933\n",
            "Dice(red_fox, fennec_fox) -> 0.23809523809523808\n",
            "Dice(african_wild_dog, arctic_fox) -> 0.23684210526315788\n",
            "Dice(red_fox, arctic_fox) -> 0.2318840579710145\n",
            "Dice(wolf, african_golden_wolf) -> 0.22459893048128343\n",
            "Dice(dhole, red_fox) -> 0.21739130434782608\n",
            "Dice(african_golden_wolf, dhole) -> 0.21686746987951808\n",
            "Dice(canis, dhole) -> 0.21428571428571427\n",
            "Dice(african_wild_dog, fennec_fox) -> 0.21428571428571427\n",
            "Dice(wolf, fennec_fox) -> 0.2138364779874214\n",
            "Dice(arctic_fox, kitsune) -> 0.20540540540540542\n",
            "Dice(canis, african_golden_wolf) -> 0.203125\n",
            "Dice(canis, fennec_fox) -> 0.2\n",
            "Dice(dhole, arctic_fox) -> 0.2\n",
            "Dice(african_golden_wolf, fennec_fox) -> 0.19480519480519481\n",
            "Dice(wolf, red_fox) -> 0.18867924528301888\n",
            "Dice(coyote, fennec_fox) -> 0.18803418803418803\n",
            "Dice(wolf, dhole) -> 0.1871345029239766\n",
            "Dice(african_wild_dog, kitsune) -> 0.18181818181818182\n",
            "Dice(wolf, kitsune) -> 0.17475728155339806\n",
            "Dice(coyote, kitsune) -> 0.17073170731707318\n",
            "Dice(coyote, arctic_fox) -> 0.17054263565891473\n",
            "Dice(african_golden_wolf, arctic_fox) -> 0.1686746987951807\n",
            "Dice(red_fox, kitsune) -> 0.16184971098265896\n",
            "Dice(canis, red_fox) -> 0.16\n",
            "Dice(fennec_fox, kitsune) -> 0.15028901734104047\n",
            "Dice(canis, kitsune) -> 0.14965986394557823\n",
            "Dice(dhole, fennec_fox) -> 0.14492753623188406\n",
            "Dice(canis, arctic_fox) -> 0.14285714285714285\n",
            "Dice(dhole, kitsune) -> 0.14054054054054055\n",
            "Dice(african_golden_wolf, kitsune) -> 0.13930348258706468\n"
          ],
          "name": "stdout"
        }
      ]
    },
    {
      "cell_type": "code",
      "metadata": {
        "id": "OVAOVIC2TGfz",
        "colab_type": "code",
        "colab": {}
      },
      "source": [
        "# Szymkiewicz-Simpson 係数\n",
        "def simpson_sim(set_a, set_b):\n",
        "  num_intersect = len(set.intersection(set_a, set_b))\n",
        "  m = min(len(set_a), len(set_b))\n",
        "  ret = num_intersect / m if m != 0 else 1.0\n",
        "  return ret"
      ],
      "execution_count": 23,
      "outputs": []
    },
    {
      "cell_type": "code",
      "metadata": {
        "id": "cREJqCVyTGr8",
        "colab_type": "code",
        "colab": {}
      },
      "source": [
        "# Simpson 係数計算\n",
        "simpson_res = {}\n",
        "for i in range(len(text_name)):\n",
        "  for j in range(i + 1, len(text_name)):\n",
        "    name_i = text_name[i]\n",
        "    name_j = text_name[j]\n",
        "    set_i = docs_words_set[name_i]\n",
        "    set_j = docs_words_set[name_j]\n",
        "    simpson = simpson_sim(set_i, set_j)\n",
        "    name_ij = \"Simpson(\" + name_i + \", \" + name_j + \")\"\n",
        "    simpson_res[name_ij] = simpson"
      ],
      "execution_count": 32,
      "outputs": []
    },
    {
      "cell_type": "code",
      "metadata": {
        "id": "4oi8NTwPaw3s",
        "colab_type": "code",
        "colab": {
          "base_uri": "https://localhost:8080/",
          "height": 799
        },
        "outputId": "47a64b02-f61b-4b94-cf17-4d281a467d60"
      },
      "source": [
        "# Simpson 係数の降順に出力\n",
        "simpson_sim_sorted = sorted(simpson_res.items(), key = lambda x : -x[1])\n",
        "for key, value in simpson_sim_sorted:\n",
        "  print(key + \" -> \" + str(value))"
      ],
      "execution_count": 33,
      "outputs": [
        {
          "output_type": "stream",
          "text": [
            "Simpson(wolf, coyote) -> 0.5185185185185185\n",
            "Simpson(canis, wolf) -> 0.5135135135135135\n",
            "Simpson(canis, african_wild_dog) -> 0.4594594594594595\n",
            "Simpson(coyote, african_golden_wolf) -> 0.4074074074074074\n",
            "Simpson(coyote, dhole) -> 0.4074074074074074\n",
            "Simpson(coyote, african_wild_dog) -> 0.35185185185185186\n",
            "Simpson(canis, coyote) -> 0.35135135135135137\n",
            "Simpson(canis, african_golden_wolf) -> 0.35135135135135137\n",
            "Simpson(african_golden_wolf, african_wild_dog) -> 0.33766233766233766\n",
            "Simpson(african_golden_wolf, red_fox) -> 0.3333333333333333\n",
            "Simpson(canis, dhole) -> 0.32432432432432434\n",
            "Simpson(wolf, african_wild_dog) -> 0.3116883116883117\n",
            "Simpson(african_wild_dog, red_fox) -> 0.30158730158730157\n",
            "Simpson(arctic_fox, fennec_fox) -> 0.30158730158730157\n",
            "Simpson(canis, kitsune) -> 0.2972972972972973\n",
            "Simpson(wolf, arctic_fox) -> 0.29333333333333333\n",
            "Simpson(canis, fennec_fox) -> 0.2702702702702703\n",
            "Simpson(wolf, fennec_fox) -> 0.2698412698412698\n",
            "Simpson(dhole, african_wild_dog) -> 0.26666666666666666\n",
            "Simpson(coyote, red_fox) -> 0.25925925925925924\n",
            "Simpson(coyote, kitsune) -> 0.25925925925925924\n",
            "Simpson(red_fox, arctic_fox) -> 0.25396825396825395\n",
            "Simpson(arctic_fox, kitsune) -> 0.25333333333333335\n",
            "Simpson(african_golden_wolf, dhole) -> 0.24\n",
            "Simpson(african_wild_dog, arctic_fox) -> 0.24\n",
            "Simpson(wolf, red_fox) -> 0.23809523809523808\n",
            "Simpson(african_golden_wolf, fennec_fox) -> 0.23809523809523808\n",
            "Simpson(dhole, red_fox) -> 0.23809523809523808\n",
            "Simpson(african_wild_dog, fennec_fox) -> 0.23809523809523808\n",
            "Simpson(red_fox, fennec_fox) -> 0.23809523809523808\n",
            "Simpson(wolf, african_golden_wolf) -> 0.23076923076923078\n",
            "Simpson(red_fox, kitsune) -> 0.2222222222222222\n",
            "Simpson(african_wild_dog, kitsune) -> 0.22077922077922077\n",
            "Simpson(canis, red_fox) -> 0.21621621621621623\n",
            "Simpson(canis, arctic_fox) -> 0.21621621621621623\n",
            "Simpson(wolf, dhole) -> 0.21333333333333335\n",
            "Simpson(fennec_fox, kitsune) -> 0.20634920634920634\n",
            "Simpson(coyote, arctic_fox) -> 0.2037037037037037\n",
            "Simpson(coyote, fennec_fox) -> 0.2037037037037037\n",
            "Simpson(dhole, arctic_fox) -> 0.2\n",
            "Simpson(wolf, kitsune) -> 0.1875\n",
            "Simpson(african_golden_wolf, arctic_fox) -> 0.18666666666666668\n",
            "Simpson(dhole, kitsune) -> 0.17333333333333334\n",
            "Simpson(dhole, fennec_fox) -> 0.15873015873015872\n",
            "Simpson(african_golden_wolf, kitsune) -> 0.15384615384615385\n"
          ],
          "name": "stdout"
        }
      ]
    }
  ]
}