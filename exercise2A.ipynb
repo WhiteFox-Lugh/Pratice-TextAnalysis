{
  "nbformat": 4,
  "nbformat_minor": 0,
  "metadata": {
    "colab": {
      "name": "exercise2A.ipynb",
      "provenance": [],
      "collapsed_sections": [],
      "include_colab_link": true
    },
    "kernelspec": {
      "name": "python3",
      "display_name": "Python 3"
    }
  },
  "cells": [
    {
      "cell_type": "markdown",
      "metadata": {
        "id": "view-in-github",
        "colab_type": "text"
      },
      "source": [
        "<a href=\"https://colab.research.google.com/github/WhiteFox-Lugh/Pratice-TextAnalysis/blob/master/exercise2A.ipynb\" target=\"_parent\"><img src=\"https://colab.research.google.com/assets/colab-badge.svg\" alt=\"Open In Colab\"/></a>"
      ]
    },
    {
      "cell_type": "markdown",
      "metadata": {
        "id": "sESw_dKQL5mA",
        "colab_type": "text"
      },
      "source": [
        "# 情報システム論実習　テキスト分析　課題2A"
      ]
    },
    {
      "cell_type": "markdown",
      "metadata": {
        "id": "oFmxTSs2MV2y",
        "colab_type": "text"
      },
      "source": [
        "## import"
      ]
    },
    {
      "cell_type": "code",
      "metadata": {
        "id": "v9v_nPKQMTZd",
        "colab_type": "code",
        "colab": {}
      },
      "source": [
        "from sklearn.feature_extraction.text import TfidfVectorizer\n",
        "from sklearn.cluster import KMeans\n",
        "import numpy as np\n",
        "import matplotlib.pyplot as plt\n",
        "import pandas as pd\n",
        "import nltk\n",
        "import collections\n",
        "from gensim import models\n",
        "from gensim.models.doc2vec import Doc2Vec\n",
        "from gensim.models.doc2vec import TaggedDocument"
      ],
      "execution_count": 1,
      "outputs": []
    },
    {
      "cell_type": "code",
      "metadata": {
        "id": "MaRmXeotMjKv",
        "colab_type": "code",
        "colab": {
          "base_uri": "https://localhost:8080/",
          "height": 173
        },
        "outputId": "d8375aba-8d0c-4f15-c198-5b6474ed0a7b"
      },
      "source": [
        "nltk.download(\"stopwords\")\n",
        "nltk.download(\"wordnet\")\n",
        "nltk.download(\"reuters\")\n",
        "nltk.download(\"punkt\")"
      ],
      "execution_count": 2,
      "outputs": [
        {
          "output_type": "stream",
          "text": [
            "[nltk_data] Downloading package stopwords to /root/nltk_data...\n",
            "[nltk_data]   Package stopwords is already up-to-date!\n",
            "[nltk_data] Downloading package wordnet to /root/nltk_data...\n",
            "[nltk_data]   Package wordnet is already up-to-date!\n",
            "[nltk_data] Downloading package reuters to /root/nltk_data...\n",
            "[nltk_data]   Package reuters is already up-to-date!\n",
            "[nltk_data] Downloading package punkt to /root/nltk_data...\n",
            "[nltk_data]   Package punkt is already up-to-date!\n"
          ],
          "name": "stdout"
        },
        {
          "output_type": "execute_result",
          "data": {
            "text/plain": [
              "True"
            ]
          },
          "metadata": {
            "tags": []
          },
          "execution_count": 2
        }
      ]
    },
    {
      "cell_type": "markdown",
      "metadata": {
        "id": "7VtrTuH4MrHN",
        "colab_type": "text"
      },
      "source": [
        "### データを取得\n",
        "\n",
        "今回は nltk の reuters を使用する"
      ]
    },
    {
      "cell_type": "code",
      "metadata": {
        "id": "zXcN4x3bMljo",
        "colab_type": "code",
        "colab": {}
      },
      "source": [
        "from nltk.corpus import reuters as corpus"
      ],
      "execution_count": 3,
      "outputs": []
    },
    {
      "cell_type": "markdown",
      "metadata": {
        "id": "2lysFJt4M1Ux",
        "colab_type": "text"
      },
      "source": [
        "### 全 document 数の確認"
      ]
    },
    {
      "cell_type": "code",
      "metadata": {
        "id": "_Yz5UaciM0UG",
        "colab_type": "code",
        "colab": {
          "base_uri": "https://localhost:8080/",
          "height": 34
        },
        "outputId": "46cbaf4e-aadc-44aa-c3c8-f65b6e8066df"
      },
      "source": [
        "len(corpus.fileids())"
      ],
      "execution_count": 4,
      "outputs": [
        {
          "output_type": "execute_result",
          "data": {
            "text/plain": [
              "10788"
            ]
          },
          "metadata": {
            "tags": []
          },
          "execution_count": 4
        }
      ]
    },
    {
      "cell_type": "markdown",
      "metadata": {
        "id": "eu_yYroqM8-8",
        "colab_type": "text"
      },
      "source": [
        "### 前から k 文書とってくる"
      ]
    },
    {
      "cell_type": "code",
      "metadata": {
        "id": "JOSFXIzlM5wI",
        "colab_type": "code",
        "colab": {}
      },
      "source": [
        "k = 2000\n",
        "docs = [corpus.words(fileid) for fileid in corpus.fileids()[:k]]\n",
        "tag_arr = corpus.fileids()[:k]\n",
        "# print(tag_arr)"
      ],
      "execution_count": 5,
      "outputs": []
    },
    {
      "cell_type": "markdown",
      "metadata": {
        "id": "rl36TxhKSfHh",
        "colab_type": "text"
      },
      "source": [
        "### カテゴリーのチェック\n",
        "\n",
        "最初の5文書のカテゴリー"
      ]
    },
    {
      "cell_type": "code",
      "metadata": {
        "id": "uyNbkvs9NAav",
        "colab_type": "code",
        "colab": {
          "base_uri": "https://localhost:8080/",
          "height": 104
        },
        "outputId": "4412dcdb-d769-4a2a-8f1f-e13deff88c75"
      },
      "source": [
        "for i in range(5):\n",
        "  t = tag_arr[i]\n",
        "  print(corpus.categories(t))"
      ],
      "execution_count": 6,
      "outputs": [
        {
          "output_type": "stream",
          "text": [
            "['trade']\n",
            "['grain']\n",
            "['crude', 'nat-gas']\n",
            "['corn', 'grain', 'rice', 'rubber', 'sugar', 'tin', 'trade']\n",
            "['palm-oil', 'veg-oil']\n"
          ],
          "name": "stdout"
        }
      ]
    },
    {
      "cell_type": "markdown",
      "metadata": {
        "id": "4eNlmD4YQgme",
        "colab_type": "text"
      },
      "source": [
        "文書名 -> カテゴリーのディクショナリを作成"
      ]
    },
    {
      "cell_type": "code",
      "metadata": {
        "id": "IaVIg6NrUKGc",
        "colab_type": "code",
        "colab": {}
      },
      "source": [
        "docs_category = {}\n",
        "for i in range(len(corpus.fileids()[:k])):\n",
        "  cat = tag_arr[i]\n",
        "  docs_category[cat] = corpus.categories(cat)"
      ],
      "execution_count": 7,
      "outputs": []
    },
    {
      "cell_type": "markdown",
      "metadata": {
        "id": "U17VbjPaNIAD",
        "colab_type": "text"
      },
      "source": [
        "## 前処理"
      ]
    },
    {
      "cell_type": "markdown",
      "metadata": {
        "id": "HGPSmgSNNMFs",
        "colab_type": "text"
      },
      "source": [
        "### nltkのストップワードリスト"
      ]
    },
    {
      "cell_type": "code",
      "metadata": {
        "id": "CHC1l7zDNFLx",
        "colab_type": "code",
        "colab": {}
      },
      "source": [
        "en_stop = nltk.corpus.stopwords.words('english')"
      ],
      "execution_count": 8,
      "outputs": []
    },
    {
      "cell_type": "code",
      "metadata": {
        "id": "to0DASSYNRj0",
        "colab_type": "code",
        "colab": {}
      },
      "source": [
        "en_stop= [\"``\",\"/\",\",.\",\".,\",\";\",\"--\",\":\",\")\",\"(\",'\"','&',\"'\",'),',',\"','-','.,','.,\"','.-',\"?\",\">\",\"<\"] + [\"said\",\"say\",\"u\",\"v\",\"mln\",\"ct\",\"net\",\"dlrs\",\"tonne\",\"pct\",\"shr\",\"nil\",\"company\",\"lt\",\"share\",\"year\",\"billion\",\"price\"] + en_stop"
      ],
      "execution_count": 9,
      "outputs": []
    },
    {
      "cell_type": "markdown",
      "metadata": {
        "id": "7hdG75XqNYPa",
        "colab_type": "text"
      },
      "source": [
        "### 前処理関数の作成"
      ]
    },
    {
      "cell_type": "code",
      "metadata": {
        "id": "f1jUH0P-NcoP",
        "colab_type": "code",
        "colab": {}
      },
      "source": [
        "from nltk.corpus import wordnet as wn #lemmatize関数のためのimport\n",
        "\n",
        "def preprocess_word(word, stopwordset):\n",
        "    \n",
        "    #1.make words lower ex: Python =>python\n",
        "    word=word.lower()\n",
        "\n",
        "    #2. remove number\n",
        "    try:\n",
        "      word = int(word)\n",
        "      return None\n",
        "    except:\n",
        "      pass\n",
        "    \n",
        "    #3.remove \",\" and \".\"\n",
        "    if word in [\",\",\".\"]:\n",
        "        return None\n",
        "    \n",
        "    #4.remove stopword  ex: the => (None) \n",
        "    if word in stopwordset:\n",
        "        return None\n",
        "    \n",
        "    #5.lemmatize  ex: cooked=>cook\n",
        "    lemma = wn.morphy(word)\n",
        "    if lemma is None:\n",
        "        return word\n",
        "\n",
        "    elif lemma in stopwordset: #lemmatizeしたものがstopwordである可能性がある\n",
        "        return None\n",
        "    else:\n",
        "        return lemma\n",
        "    \n",
        "\n",
        "def preprocess_document(document):\n",
        "    document=[preprocess_word(w, en_stop) for w in document]\n",
        "    document=[w for w in document if w is not None]\n",
        "    return document\n",
        "\n",
        "def preprocess_documents(documents):\n",
        "    return [preprocess_document(document) for document in documents]"
      ],
      "execution_count": 10,
      "outputs": []
    },
    {
      "cell_type": "markdown",
      "metadata": {
        "id": "nJZeCVgNNi5T",
        "colab_type": "text"
      },
      "source": [
        "### 前処理の結果を出力してみる"
      ]
    },
    {
      "cell_type": "markdown",
      "metadata": {
        "id": "WGX6YzgVNmbV",
        "colab_type": "text"
      },
      "source": [
        "### 前処理前"
      ]
    },
    {
      "cell_type": "code",
      "metadata": {
        "id": "2u2P8lmTNgLn",
        "colab_type": "code",
        "colab": {
          "base_uri": "https://localhost:8080/",
          "height": 54
        },
        "outputId": "70afc639-8093-47cb-fd4f-ffb0bc21109f"
      },
      "source": [
        "print(docs[1][:100]) "
      ],
      "execution_count": 11,
      "outputs": [
        {
          "output_type": "stream",
          "text": [
            "['CHINA', 'DAILY', 'SAYS', 'VERMIN', 'EAT', '7', '-', '12', 'PCT', 'GRAIN', 'STOCKS', 'A', 'survey', 'of', '19', 'provinces', 'and', 'seven', 'cities', 'showed', 'vermin', 'consume', 'between', 'seven', 'and', '12', 'pct', 'of', 'China', \"'\", 's', 'grain', 'stocks', ',', 'the', 'China', 'Daily', 'said', '.', 'It', 'also', 'said', 'that', 'each', 'year', '1', '.', '575', 'mln', 'tonnes', ',', 'or', '25', 'pct', ',', 'of', 'China', \"'\", 's', 'fruit', 'output', 'are', 'left', 'to', 'rot', ',', 'and', '2', '.', '1', 'mln', 'tonnes', ',', 'or', 'up', 'to', '30', 'pct', ',', 'of', 'its', 'vegetables', '.', 'The', 'paper', 'blamed', 'the', 'waste', 'on', 'inadequate', 'storage', 'and', 'bad', 'preservation', 'methods', '.', 'It', 'said', 'the', 'government']\n"
          ],
          "name": "stdout"
        }
      ]
    },
    {
      "cell_type": "markdown",
      "metadata": {
        "id": "Ki-UHTcXNptm",
        "colab_type": "text"
      },
      "source": [
        "### 前処理後"
      ]
    },
    {
      "cell_type": "code",
      "metadata": {
        "id": "0rHr8yGINpDM",
        "colab_type": "code",
        "colab": {
          "base_uri": "https://localhost:8080/",
          "height": 54
        },
        "outputId": "74d48987-3121-4402-c8cb-b137702d43ff"
      },
      "source": [
        "print(preprocess_documents(docs)[1][:100])"
      ],
      "execution_count": 12,
      "outputs": [
        {
          "output_type": "stream",
          "text": [
            "['china', 'daily', 'vermin', 'eat', 'grain', 'stocks', 'survey', 'province', 'seven', 'city', 'show', 'vermin', 'consume', 'seven', 'china', 'grain', 'stocks', 'china', 'daily', 'also', 'china', 'fruit', 'output', 'left', 'rot', 'vegetable', 'paper', 'blame', 'waste', 'inadequate', 'storage', 'bad', 'preservation', 'method', 'government', 'launch', 'national', 'programme', 'reduce', 'waste', 'calling', 'improve', 'technology', 'storage', 'preservation', 'greater', 'production', 'additive', 'paper', 'give', 'details']\n"
          ],
          "name": "stdout"
        }
      ]
    },
    {
      "cell_type": "markdown",
      "metadata": {
        "id": "kIwd7wGvNyWj",
        "colab_type": "text"
      },
      "source": [
        "## クラスタリング"
      ]
    },
    {
      "cell_type": "markdown",
      "metadata": {
        "id": "WPAMVMFaN2yL",
        "colab_type": "text"
      },
      "source": [
        "### doc2vec の準備"
      ]
    },
    {
      "cell_type": "code",
      "metadata": {
        "id": "uAAssp33A8wx",
        "colab_type": "code",
        "colab": {}
      },
      "source": [
        "pre_docs=preprocess_documents(docs)\n",
        "labeled_sentence = [TaggedDocument(words = pre_docs[n], tags = [tag_arr[n]]) \n",
        "                    for n in range(k)]\n",
        "# print(labeled_sentence)"
      ],
      "execution_count": 13,
      "outputs": []
    },
    {
      "cell_type": "code",
      "metadata": {
        "id": "QVtbDMmtNuQV",
        "colab_type": "code",
        "colab": {}
      },
      "source": [
        "# モデルの定義\n",
        "# dm : 1 なら PV-DM を使い、0 なら PV-DBOW を使う\n",
        "# vector_size : 特徴ベクトルの次元数\n",
        "# windows : 前後何単語とるか\n",
        "# min_count : total frequency がこれ未満なら単語を無視する（今回は無視しない）\n",
        "# alpha : 学習率\n",
        "model = Doc2Vec(documents = labeled_sentence, dm = 1, vector_size = 50,\n",
        "                windows = 5, min_count = 1, alpha = 0.0015)"
      ],
      "execution_count": 14,
      "outputs": []
    },
    {
      "cell_type": "markdown",
      "metadata": {
        "id": "bOOrgZHZN_Aw",
        "colab_type": "text"
      },
      "source": [
        "### fitする"
      ]
    },
    {
      "cell_type": "code",
      "metadata": {
        "id": "K0lfokNm8N3j",
        "colab_type": "code",
        "colab": {
          "base_uri": "https://localhost:8080/",
          "height": 295
        },
        "outputId": "40209b7f-c905-4959-c6dd-d0a8c178fb9b"
      },
      "source": [
        "# document size の再確認\n",
        "print(len(pre_docs))\n",
        "\n",
        "# k-means の入力にする\n",
        "vecs = [model.docvecs[i] for i in range(len(model.docvecs))]\n",
        "doc_prefix = [(pre_docs[i][0] + \" \" + pre_docs[i][1] + \" ...\") for i in range(len(model.docvecs))]\n",
        "\n",
        "print(tag_arr[0])\n",
        "print(doc_prefix[0])\n",
        "print(vecs[0])"
      ],
      "execution_count": 15,
      "outputs": [
        {
          "output_type": "stream",
          "text": [
            "2000\n",
            "test/14826\n",
            "asian exporter ...\n",
            "[ 5.5111465e-03 -1.1001383e-03  5.6034802e-03 -7.5283386e-03\n",
            " -7.0022563e-03 -6.5143024e-05  7.3645124e-03  2.1543032e-03\n",
            "  2.0130246e-03 -9.8005533e-03 -5.7533383e-03 -9.3139842e-04\n",
            "  4.9666446e-03 -3.0639933e-03  6.8418183e-03  8.4789405e-03\n",
            " -3.0632406e-03 -3.3081397e-03  9.2665926e-03 -2.5089013e-03\n",
            "  3.9834911e-03  8.7644337e-03 -8.2705775e-03  6.1125183e-03\n",
            "  1.7433481e-03 -9.7762104e-03 -1.3735319e-03  8.2535474e-03\n",
            "  2.1468285e-03  6.3641975e-03  4.1192067e-03 -1.9854556e-03\n",
            " -9.3625626e-03  7.3481929e-03  7.3457966e-03  2.8524294e-03\n",
            "  6.6843373e-04  5.0238078e-03  3.0948948e-03 -8.3422771e-04\n",
            "  2.7255120e-04  5.4439143e-03  5.1590643e-04  8.6444085e-03\n",
            "  8.0645401e-03  4.9106725e-03 -5.8595175e-03  8.7461481e-03\n",
            "  8.1993872e-03 -4.4672922e-03]\n"
          ],
          "name": "stdout"
        }
      ]
    },
    {
      "cell_type": "markdown",
      "metadata": {
        "id": "hp-wlv-9rTvP",
        "colab_type": "text"
      },
      "source": [
        "### tf-idf"
      ]
    },
    {
      "cell_type": "code",
      "metadata": {
        "id": "Snwe50dArY5h",
        "colab_type": "code",
        "colab": {
          "base_uri": "https://localhost:8080/",
          "height": 54
        },
        "outputId": "5ddfeb70-aa16-4532-86b6-f2bec9766bd7"
      },
      "source": [
        "pre_docs=preprocess_documents(docs)\n",
        "pre_docs=[\" \".join(doc) for doc in pre_docs]\n",
        "print(pre_docs[0])\n",
        "\n",
        "vectorizer = TfidfVectorizer(max_features=50, token_pattern=u'(?u)\\\\b\\\\w+\\\\b' )\n",
        "tf_idf = vectorizer.fit_transform(pre_docs)"
      ],
      "execution_count": 16,
      "outputs": [
        {
          "output_type": "stream",
          "text": [
            "asian exporter fear damage japan rift mounting trade friction japan raise fear among many asia exporting nation row could inflict far reaching economic damage businessmen official tell reuter correspondent asian capital move japan might boost protectionist sentiment lead curb american import product exporter conflict would hurt long run short term tokyo loss might gain impose tariff import japanese electronics good april retaliation japan allege failure stick pact sell semiconductor world market cost unofficial japanese estimate put impact tariff spokesman major electronics firm would virtually halt export product hit new tax able business spokesman leading japanese electronics firm matsushita electric industrial co ltd mc >. tariff remain place length time beyond month mean complete erosion export good subject tariff tom murtha stock analyst tokyo office broker james capel co >. taiwan businessmen official also worry aware seriousness threat japan serve warning us senior taiwanese trade official ask name taiwan trade trade surplus last surplus help swell taiwan foreign exchange reserves among world large must quickly open market remove trade barrier cut import tariff allow import product want defuse problem possible retaliation paul sheen chairman textile exporter taiwan safe group >. senior official south korea trade promotion association trade dispute japan might also lead pressure south korea whose chief export similar japan last south korea trade surplus malaysia trade officer businessmen tough curb japan might allow hard hit producer semiconductor third country expand sales hong kong newspaper allege japan selling cost semiconductor electronics manufacturer view businessmen short term commercial advantage would outweigh pressure block import short term view lawrence mills director general federation hong kong industry whole purpose prevent import one day extend source much serious hong kong disadvantage action restrain trade last hong kong big export market accounting domestically produce export australian government await outcome trade talks japan interest concern industry minister john button canberra last friday kind deterioration trade relations two country major trading partner serious matter button australia concern centre coal beef australia two large export japan also significant export country meanwhile japanese diplomatic manoeuvre solve trade stand continue japan ruling liberal democratic party yesterday outline package economic measure boost japanese economy measure propose include large supplementary budget record public works spending first half financial also call step spending emergency measure stimulate economy despite prime minister yasuhiro nakasone avow fiscal reform program deputy trade representative michael smith makoto kuroda japan deputy minister international trade industry miti due meet washington week effort end dispute\n"
          ],
          "name": "stdout"
        }
      ]
    },
    {
      "cell_type": "markdown",
      "metadata": {
        "id": "yKhgoWLeOCW_",
        "colab_type": "text"
      },
      "source": [
        "### K-means\n",
        "### kmeansの設定"
      ]
    },
    {
      "cell_type": "code",
      "metadata": {
        "id": "qVRkE4lsOBuL",
        "colab_type": "code",
        "colab": {}
      },
      "source": [
        "def fun_kmeans(n, v_input):\n",
        "  # k-means definition\n",
        "  # n_clusters : クラスタ数\n",
        "  km = KMeans(n_clusters = n, max_iter = 300, n_init = 10,\n",
        "              init = 'k-means++', random_state = 0)\n",
        "  ret = km.fit_predict(v_input)\n",
        "  ret2 = km.inertia_\n",
        "  return ret, ret2"
      ],
      "execution_count": 17,
      "outputs": []
    },
    {
      "cell_type": "code",
      "metadata": {
        "id": "mGJGKp8xIqrV",
        "colab_type": "code",
        "colab": {}
      },
      "source": [
        "def cluster_counter(n, v_len, clusters_res):\n",
        "  # クラスタごとのカウント\n",
        "  cnt = np.zeros(n)\n",
        "\n",
        "  for j in range(v_len):\n",
        "    c = clusters_res[j]\n",
        "    cnt[c] += 1\n",
        "\n",
        "  print(cnt)\n",
        "  return"
      ],
      "execution_count": 18,
      "outputs": []
    },
    {
      "cell_type": "code",
      "metadata": {
        "id": "RV0YzhutbKby",
        "colab_type": "code",
        "colab": {}
      },
      "source": [
        "def show_category(n, cls_res):\n",
        "  for j in range(n):\n",
        "    print(\"Cluster num : \" + str(j))\n",
        "    l = []\n",
        "    for doc, cls in zip(tag_arr, cls_res):\n",
        "      if not cls == j:\n",
        "        continue\n",
        "      category_arr = docs_category[doc]\n",
        "      l.extend(category_arr)\n",
        "    c = collections.Counter(l)\n",
        "    print(c)\n",
        "  return"
      ],
      "execution_count": 19,
      "outputs": []
    },
    {
      "cell_type": "markdown",
      "metadata": {
        "id": "yp5AnQ1hTHbC",
        "colab_type": "text"
      },
      "source": [
        "### k-means の k を様々な値にして回す"
      ]
    },
    {
      "cell_type": "markdown",
      "metadata": {
        "id": "WSKx2CJDrqCO",
        "colab_type": "text"
      },
      "source": [
        "#### doc2vec"
      ]
    },
    {
      "cell_type": "code",
      "metadata": {
        "id": "V0bvljjBTGws",
        "colab_type": "code",
        "colab": {
          "base_uri": "https://localhost:8080/",
          "height": 1000
        },
        "outputId": "b5e608ef-25f3-4e4e-b06f-15065dc82e27"
      },
      "source": [
        "x = np.empty(0)\n",
        "y = np.empty(0)\n",
        "\n",
        "for i in range(1, 16, 1):\n",
        "  print(\"Cluster Nums -> \" + str(i))\n",
        "  # モデル定義 / fit\n",
        "  clusters, sse = fun_kmeans(i, vecs)\n",
        "\n",
        "  # クラスタリング結果表示（数）\n",
        "  cluster_counter(i, len(vecs), clusters)\n",
        "\n",
        "  # タグの表示\n",
        "  show_category(i, clusters)\n",
        "\n",
        "  # SSE の表示\n",
        "  print(\"Distortion : %.5f\"% sse)\n",
        "\n",
        "  # plot 用\n",
        "  x = np.append(x, i)\n",
        "  y = np.append(y, sse)\n",
        "\n",
        "  print(\"==========================\\n\")"
      ],
      "execution_count": 20,
      "outputs": [
        {
          "output_type": "stream",
          "text": [
            "Cluster Nums -> 1\n",
            "[2000.]\n",
            "Cluster num : 0\n",
            "Counter({'earn': 633, 'acq': 490, 'grain': 118, 'money-fx': 108, 'crude': 105, 'interest': 91, 'trade': 89, 'wheat': 58, 'ship': 45, 'corn': 44, 'dlr': 37, 'oilseed': 34, 'gnp': 32, 'sugar': 30, 'money-supply': 30, 'veg-oil': 27, 'nat-gas': 25, 'soybean': 23, 'bop': 23, 'gold': 22, 'cpi': 22, 'rice': 20, 'livestock': 19, 'alum': 19, 'coffee': 18, 'jobs': 17, 'meal-feed': 17, 'reserves': 16, 'copper': 15, 'gas': 15, 'cocoa': 15, 'carcass': 14, 'cotton': 14, 'barley': 13, 'lead': 12, 'iron-steel': 12, 'tin': 11, 'soy-oil': 11, 'yen': 11, 'strategic-metal': 11, 'orange': 11, 'soy-meal': 11, 'zinc': 10, 'sorghum': 10, 'pet-chem': 10, 'wpi': 10, 'palm-oil': 9, 'ipi': 8, 'fuel': 8, 'rubber': 7, 'platinum': 7, 'income': 7, 'rapeseed': 6, 'silver': 6, 'lumber': 5, 'heat': 5, 'oat': 5, 'groundnut': 4, 'hog': 4, 'rape-oil': 3, 'potato': 3, 'lei': 3, 'sunseed': 2, 'sun-oil': 2, 'retail': 2, 'cotton-oil': 2, 'tea': 2, 'coconut-oil': 2, 'dmk': 2, 'naphtha': 2, 'propane': 2, 'nickel': 1, 'l-cattle': 1, 'palladium': 1, 'groundnut-oil': 1, 'lin-oil': 1, 'sun-meal': 1, 'coconut': 1, 'copra-cake': 1, 'dfl': 1, 'instal-debt': 1, 'nzdlr': 1, 'housing': 1})\n",
            "Distortion : 3.33105\n",
            "==========================\n",
            "\n",
            "Cluster Nums -> 2\n",
            "[ 966. 1034.]\n",
            "Cluster num : 0\n",
            "Counter({'earn': 314, 'acq': 224, 'grain': 61, 'money-fx': 53, 'crude': 49, 'interest': 46, 'trade': 44, 'wheat': 33, 'ship': 26, 'corn': 21, 'dlr': 18, 'oilseed': 14, 'sugar': 14, 'gnp': 14, 'veg-oil': 13, 'cpi': 13, 'money-supply': 13, 'gold': 12, 'bop': 11, 'alum': 11, 'nat-gas': 10, 'soybean': 9, 'yen': 9, 'livestock': 8, 'reserves': 8, 'rice': 7, 'pet-chem': 7, 'cocoa': 7, 'sorghum': 7, 'soy-oil': 7, 'barley': 7, 'coffee': 6, 'carcass': 6, 'jobs': 6, 'cotton': 6, 'meal-feed': 6, 'tin': 5, 'iron-steel': 5, 'copper': 4, 'gas': 4, 'soy-meal': 4, 'oat': 4, 'income': 4, 'lumber': 3, 'rubber': 3, 'rapeseed': 3, 'rape-oil': 3, 'lead': 3, 'orange': 3, 'fuel': 3, 'silver': 3, 'platinum': 3, 'wpi': 3, 'zinc': 3, 'lei': 3, 'strategic-metal': 3, 'palm-oil': 2, 'groundnut': 2, 'heat': 2, 'sun-oil': 2, 'cotton-oil': 2, 'tea': 2, 'propane': 2, 'groundnut-oil': 1, 'lin-oil': 1, 'sun-meal': 1, 'sunseed': 1, 'hog': 1, 'ipi': 1, 'dmk': 1, 'instal-debt': 1, 'nzdlr': 1, 'coconut-oil': 1, 'housing': 1})\n",
            "Cluster num : 1\n",
            "Counter({'earn': 319, 'acq': 266, 'grain': 57, 'crude': 56, 'money-fx': 55, 'trade': 45, 'interest': 45, 'wheat': 25, 'corn': 23, 'oilseed': 20, 'ship': 19, 'dlr': 19, 'gnp': 18, 'money-supply': 17, 'sugar': 16, 'nat-gas': 15, 'veg-oil': 14, 'soybean': 14, 'rice': 13, 'coffee': 12, 'bop': 12, 'gas': 11, 'jobs': 11, 'livestock': 11, 'copper': 11, 'meal-feed': 11, 'gold': 10, 'lead': 9, 'cpi': 9, 'carcass': 8, 'strategic-metal': 8, 'reserves': 8, 'cotton': 8, 'cocoa': 8, 'orange': 8, 'alum': 8, 'palm-oil': 7, 'ipi': 7, 'zinc': 7, 'iron-steel': 7, 'soy-meal': 7, 'wpi': 7, 'tin': 6, 'barley': 6, 'fuel': 5, 'rubber': 4, 'soy-oil': 4, 'platinum': 4, 'sorghum': 3, 'heat': 3, 'hog': 3, 'potato': 3, 'rapeseed': 3, 'income': 3, 'silver': 3, 'pet-chem': 3, 'retail': 2, 'groundnut': 2, 'lumber': 2, 'naphtha': 2, 'yen': 2, 'nickel': 1, 'sunseed': 1, 'l-cattle': 1, 'palladium': 1, 'oat': 1, 'coconut': 1, 'coconut-oil': 1, 'copra-cake': 1, 'dfl': 1, 'dmk': 1})\n",
            "Distortion : 3.27379\n",
            "==========================\n",
            "\n",
            "Cluster Nums -> 3\n",
            "[659. 640. 701.]\n",
            "Cluster num : 0\n",
            "Counter({'earn': 201, 'acq': 170, 'crude': 37, 'grain': 36, 'money-fx': 30, 'interest': 25, 'trade': 22, 'wheat': 16, 'gnp': 14, 'corn': 13, 'ship': 13, 'oilseed': 12, 'dlr': 11, 'veg-oil': 11, 'sugar': 10, 'cpi': 10, 'bop': 9, 'cocoa': 9, 'meal-feed': 9, 'jobs': 8, 'gold': 8, 'money-supply': 8, 'soybean': 7, 'coffee': 7, 'livestock': 7, 'alum': 7, 'rice': 6, 'carcass': 6, 'gas': 6, 'reserves': 6, 'wpi': 6, 'zinc': 6, 'iron-steel': 5, 'barley': 5, 'orange': 5, 'soy-meal': 5, 'nat-gas': 5, 'palm-oil': 5, 'lead': 5, 'strategic-metal': 4, 'copper': 4, 'rapeseed': 3, 'hog': 3, 'tin': 3, 'cotton': 3, 'soy-oil': 3, 'income': 3, 'ipi': 3, 'silver': 3, 'fuel': 3, 'pet-chem': 3, 'sorghum': 2, 'heat': 2, 'retail': 2, 'potato': 2, 'rape-oil': 2, 'platinum': 2, 'coconut-oil': 2, 'dmk': 2, 'lumber': 2, 'nickel': 1, 'sunseed': 1, 'l-cattle': 1, 'rubber': 1, 'coconut': 1, 'copra-cake': 1, 'tea': 1, 'dfl': 1, 'naphtha': 1, 'cotton-oil': 1, 'sun-oil': 1, 'yen': 1, 'groundnut': 1})\n",
            "Cluster num : 1\n",
            "Counter({'earn': 205, 'acq': 147, 'money-fx': 43, 'grain': 37, 'crude': 36, 'trade': 35, 'interest': 28, 'corn': 15, 'sugar': 15, 'wheat': 15, 'dlr': 15, 'veg-oil': 12, 'oilseed': 12, 'ship': 10, 'nat-gas': 9, 'rice': 8, 'gold': 8, 'soybean': 8, 'cotton': 8, 'gnp': 7, 'livestock': 7, 'money-supply': 7, 'reserves': 7, 'tin': 6, 'coffee': 6, 'lead': 6, 'soy-oil': 6, 'copper': 6, 'cpi': 5, 'iron-steel': 5, 'alum': 5, 'rubber': 4, 'palm-oil': 4, 'gas': 4, 'zinc': 4, 'jobs': 4, 'meal-feed': 4, 'platinum': 4, 'ipi': 3, 'groundnut': 3, 'heat': 3, 'carcass': 3, 'barley': 3, 'soy-meal': 3, 'fuel': 3, 'orange': 3, 'silver': 3, 'strategic-metal': 3, 'pet-chem': 3, 'bop': 3, 'lumber': 2, 'sorghum': 2, 'yen': 2, 'income': 2, 'groundnut-oil': 1, 'lin-oil': 1, 'rape-oil': 1, 'sun-meal': 1, 'sun-oil': 1, 'potato': 1, 'oat': 1, 'tea': 1, 'hog': 1, 'cocoa': 1, 'wpi': 1, 'nzdlr': 1, 'propane': 1})\n",
            "Cluster num : 2\n",
            "Counter({'earn': 227, 'acq': 173, 'grain': 45, 'interest': 38, 'money-fx': 35, 'trade': 32, 'crude': 32, 'wheat': 27, 'ship': 22, 'corn': 16, 'money-supply': 15, 'bop': 11, 'dlr': 11, 'nat-gas': 11, 'gnp': 11, 'oilseed': 10, 'soybean': 8, 'yen': 8, 'cpi': 7, 'alum': 7, 'rice': 6, 'gold': 6, 'sorghum': 6, 'copper': 5, 'carcass': 5, 'livestock': 5, 'jobs': 5, 'sugar': 5, 'cocoa': 5, 'barley': 5, 'coffee': 5, 'gas': 5, 'pet-chem': 4, 'strategic-metal': 4, 'meal-feed': 4, 'veg-oil': 4, 'oat': 4, 'rapeseed': 3, 'orange': 3, 'cotton': 3, 'soy-meal': 3, 'wpi': 3, 'lei': 3, 'reserves': 3, 'tin': 2, 'rubber': 2, 'soy-oil': 2, 'iron-steel': 2, 'ipi': 2, 'fuel': 2, 'income': 2, 'palladium': 1, 'platinum': 1, 'cotton-oil': 1, 'sunseed': 1, 'propane': 1, 'lumber': 1, 'instal-debt': 1, 'naphtha': 1, 'lead': 1, 'housing': 1})\n",
            "Distortion : 3.23154\n",
            "==========================\n",
            "\n",
            "Cluster Nums -> 4\n",
            "[480. 526. 555. 439.]\n",
            "Cluster num : 0\n",
            "Counter({'earn': 145, 'acq': 128, 'crude': 30, 'money-fx': 30, 'grain': 26, 'interest': 25, 'trade': 20, 'dlr': 10, 'wheat': 10, 'bop': 10, 'corn': 9, 'ship': 9, 'jobs': 8, 'nat-gas': 7, 'sugar': 7, 'gold': 7, 'money-supply': 7, 'alum': 7, 'rice': 6, 'oilseed': 6, 'gas': 6, 'gnp': 6, 'coffee': 5, 'cpi': 5, 'livestock': 4, 'cotton': 4, 'meal-feed': 4, 'copper': 4, 'cocoa': 4, 'reserves': 4, 'ipi': 3, 'carcass': 3, 'soybean': 3, 'silver': 3, 'palm-oil': 3, 'veg-oil': 3, 'rubber': 2, 'sorghum': 2, 'iron-steel': 2, 'rapeseed': 2, 'orange': 2, 'strategic-metal': 2, 'soy-meal': 2, 'barley': 2, 'platinum': 2, 'wpi': 2, 'coconut-oil': 2, 'pet-chem': 2, 'lead': 2, 'zinc': 2, 'tin': 1, 'sunseed': 1, 'heat': 1, 'oat': 1, 'lei': 1, 'coconut': 1, 'copra-cake': 1, 'lumber': 1, 'income': 1, 'cotton-oil': 1, 'rape-oil': 1, 'soy-oil': 1, 'sun-oil': 1, 'groundnut': 1})\n",
            "Cluster num : 1\n",
            "Counter({'earn': 172, 'acq': 138, 'grain': 32, 'interest': 28, 'crude': 26, 'trade': 22, 'wheat': 22, 'money-fx': 22, 'ship': 14, 'gnp': 10, 'corn': 9, 'money-supply': 9, 'oilseed': 8, 'cpi': 7, 'soybean': 7, 'nat-gas': 7, 'dlr': 7, 'alum': 6, 'gas': 5, 'jobs': 5, 'livestock': 5, 'meal-feed': 5, 'copper': 4, 'pet-chem': 4, 'cocoa': 4, 'carcass': 4, 'iron-steel': 4, 'coffee': 4, 'bop': 4, 'barley': 4, 'gold': 4, 'rice': 4, 'sorghum': 4, 'ipi': 4, 'yen': 3, 'orange': 3, 'soy-meal': 3, 'veg-oil': 3, 'oat': 3, 'lead': 2, 'sugar': 2, 'tin': 2, 'cotton': 2, 'soy-oil': 2, 'lei': 2, 'rapeseed': 2, 'wpi': 2, 'hog': 2, 'reserves': 2, 'lumber': 2, 'strategic-metal': 2, 'l-cattle': 1, 'retail': 1, 'cotton-oil': 1, 'sunseed': 1, 'tea': 1, 'dfl': 1, 'dmk': 1, 'rubber': 1, 'housing': 1, 'income': 1})\n",
            "Cluster num : 2\n",
            "Counter({'earn': 172, 'acq': 118, 'grain': 39, 'money-fx': 32, 'crude': 30, 'trade': 29, 'interest': 24, 'wheat': 18, 'corn': 14, 'veg-oil': 13, 'ship': 13, 'sugar': 12, 'dlr': 11, 'oilseed': 9, 'bop': 8, 'gnp': 8, 'money-supply': 8, 'gold': 7, 'rice': 7, 'cpi': 6, 'soy-oil': 6, 'barley': 6, 'reserves': 6, 'strategic-metal': 6, 'zinc': 6, 'tin': 5, 'soybean': 5, 'livestock': 5, 'lead': 5, 'fuel': 5, 'nat-gas': 5, 'coffee': 4, 'cotton': 4, 'meal-feed': 4, 'carcass': 4, 'copper': 4, 'platinum': 4, 'palm-oil': 3, 'groundnut': 3, 'heat': 3, 'sorghum': 3, 'soy-meal': 3, 'income': 3, 'alum': 3, 'silver': 3, 'lumber': 2, 'rubber': 2, 'yen': 2, 'gas': 2, 'jobs': 2, 'rape-oil': 2, 'iron-steel': 2, 'orange': 2, 'wpi': 2, 'pet-chem': 2, 'groundnut-oil': 1, 'lin-oil': 1, 'sun-meal': 1, 'sun-oil': 1, 'hog': 1, 'potato': 1, 'oat': 1, 'retail': 1, 'ipi': 1, 'naphtha': 1, 'cocoa': 1, 'nzdlr': 1, 'propane': 1})\n",
            "Cluster num : 3\n",
            "Counter({'earn': 144, 'acq': 106, 'money-fx': 24, 'grain': 21, 'crude': 19, 'trade': 18, 'interest': 14, 'corn': 12, 'oilseed': 11, 'sugar': 9, 'ship': 9, 'dlr': 9, 'wheat': 8, 'soybean': 8, 'gnp': 8, 'veg-oil': 8, 'nat-gas': 6, 'yen': 6, 'cocoa': 6, 'money-supply': 6, 'coffee': 5, 'livestock': 5, 'iron-steel': 4, 'reserves': 4, 'gold': 4, 'cotton': 4, 'orange': 4, 'meal-feed': 4, 'wpi': 4, 'cpi': 4, 'tin': 3, 'copper': 3, 'lead': 3, 'rice': 3, 'soy-meal': 3, 'palm-oil': 3, 'fuel': 3, 'alum': 3, 'carcass': 3, 'zinc': 2, 'rapeseed': 2, 'rubber': 2, 'potato': 2, 'soy-oil': 2, 'gas': 2, 'pet-chem': 2, 'income': 2, 'jobs': 2, 'nickel': 1, 'palladium': 1, 'platinum': 1, 'strategic-metal': 1, 'heat': 1, 'barley': 1, 'hog': 1, 'tea': 1, 'propane': 1, 'dmk': 1, 'instal-debt': 1, 'naphtha': 1, 'sorghum': 1, 'bop': 1})\n",
            "Distortion : 3.20008\n",
            "==========================\n",
            "\n",
            "Cluster Nums -> 5\n",
            "[407. 401. 377. 425. 390.]\n",
            "Cluster num : 0\n",
            "Counter({'earn': 125, 'acq': 104, 'crude': 27, 'money-fx': 25, 'trade': 20, 'grain': 19, 'interest': 10, 'ship': 10, 'dlr': 9, 'gnp': 8, 'wheat': 8, 'oilseed': 7, 'veg-oil': 7, 'corn': 6, 'rice': 6, 'sugar': 6, 'cocoa': 6, 'cpi': 6, 'bop': 6, 'jobs': 5, 'coffee': 5, 'soybean': 5, 'meal-feed': 5, 'nat-gas': 5, 'alum': 5, 'tin': 4, 'iron-steel': 4, 'livestock': 3, 'gas': 3, 'cotton': 3, 'soy-meal': 3, 'soy-oil': 3, 'money-supply': 3, 'palm-oil': 3, 'zinc': 3, 'reserves': 3, 'rubber': 2, 'heat': 2, 'hog': 2, 'barley': 2, 'orange': 2, 'rape-oil': 2, 'gold': 2, 'carcass': 2, 'fuel': 2, 'coconut-oil': 2, 'lead': 2, 'dmk': 2, 'copper': 2, 'l-cattle': 1, 'potato': 1, 'wpi': 1, 'coconut': 1, 'copra-cake': 1, 'strategic-metal': 1, 'tea': 1, 'dfl': 1, 'silver': 1, 'pet-chem': 1, 'nzdlr': 1, 'income': 1, 'cotton-oil': 1, 'sun-oil': 1, 'yen': 1, 'ipi': 1, 'groundnut': 1, 'rapeseed': 1})\n",
            "Cluster num : 1\n",
            "Counter({'earn': 132, 'acq': 84, 'money-fx': 26, 'grain': 25, 'interest': 22, 'trade': 18, 'crude': 15, 'wheat': 12, 'corn': 12, 'dlr': 11, 'ship': 11, 'money-supply': 8, 'sugar': 7, 'oilseed': 6, 'livestock': 6, 'copper': 6, 'reserves': 6, 'gas': 5, 'tin': 5, 'soybean': 5, 'bop': 5, 'gold': 5, 'gnp': 5, 'veg-oil': 4, 'carcass': 4, 'rubber': 4, 'yen': 4, 'nat-gas': 4, 'ipi': 3, 'coffee': 3, 'cpi': 3, 'fuel': 3, 'palm-oil': 2, 'lead': 2, 'sorghum': 2, 'iron-steel': 2, 'rice': 2, 'meal-feed': 2, 'alum': 2, 'orange': 2, 'barley': 2, 'zinc': 1, 'heat': 1, 'sunseed': 1, 'cotton': 1, 'retail': 1, 'soy-oil': 1, 'hog': 1, 'wpi': 1, 'propane': 1, 'pet-chem': 1, 'strategic-metal': 1, 'naphtha': 1, 'rapeseed': 1, 'soy-meal': 1, 'income': 1, 'lumber': 1})\n",
            "Cluster num : 2\n",
            "Counter({'earn': 117, 'acq': 94, 'grain': 23, 'crude': 21, 'money-fx': 18, 'interest': 16, 'trade': 14, 'ship': 13, 'wheat': 13, 'corn': 8, 'nat-gas': 7, 'gnp': 7, 'money-supply': 6, 'sorghum': 6, 'cocoa': 5, 'oilseed': 5, 'dlr': 5, 'cpi': 4, 'sugar': 4, 'cotton': 4, 'soybean': 4, 'rice': 4, 'veg-oil': 4, 'barley': 4, 'alum': 4, 'copper': 3, 'jobs': 3, 'strategic-metal': 3, 'yen': 3, 'coffee': 3, 'meal-feed': 3, 'soy-meal': 3, 'oat': 3, 'ipi': 3, 'lei': 3, 'reserves': 3, 'bop': 2, 'orange': 2, 'soy-oil': 2, 'wpi': 2, 'carcass': 2, 'livestock': 2, 'iron-steel': 2, 'pet-chem': 2, 'palladium': 1, 'platinum': 1, 'gold': 1, 'potato': 1, 'cotton-oil': 1, 'sunseed': 1, 'tea': 1, 'rapeseed': 1, 'gas': 1, 'lumber': 1, 'instal-debt': 1, 'lead': 1, 'housing': 1, 'income': 1})\n",
            "Cluster num : 3\n",
            "Counter({'earn': 142, 'acq': 102, 'grain': 31, 'crude': 25, 'trade': 19, 'money-fx': 19, 'interest': 17, 'wheat': 14, 'corn': 11, 'oilseed': 10, 'sugar': 9, 'veg-oil': 8, 'gnp': 7, 'money-supply': 7, 'ship': 6, 'livestock': 6, 'gold': 6, 'cpi': 5, 'dlr': 5, 'pet-chem': 5, 'strategic-metal': 5, 'rice': 5, 'soy-oil': 4, 'soybean': 4, 'meal-feed': 4, 'lead': 4, 'carcass': 4, 'income': 4, 'zinc': 4, 'bop': 3, 'groundnut': 3, 'cocoa': 3, 'coffee': 3, 'barley': 3, 'orange': 3, 'platinum': 3, 'nat-gas': 3, 'alum': 3, 'palm-oil': 2, 'yen': 2, 'sorghum': 2, 'soy-meal': 2, 'fuel': 2, 'wpi': 2, 'silver': 2, 'gas': 2, 'nickel': 1, 'rapeseed': 1, 'tin': 1, 'groundnut-oil': 1, 'lin-oil': 1, 'rape-oil': 1, 'sun-meal': 1, 'sun-oil': 1, 'heat': 1, 'potato': 1, 'cotton': 1, 'oat': 1, 'retail': 1, 'reserves': 1, 'lumber': 1, 'iron-steel': 1, 'naphtha': 1, 'copper': 1, 'jobs': 1, 'propane': 1})\n",
            "Cluster num : 4\n",
            "Counter({'earn': 117, 'acq': 106, 'interest': 26, 'grain': 20, 'money-fx': 20, 'trade': 18, 'crude': 17, 'wheat': 11, 'gold': 8, 'jobs': 8, 'corn': 7, 'dlr': 7, 'bop': 7, 'nat-gas': 6, 'oilseed': 6, 'money-supply': 6, 'soybean': 5, 'ship': 5, 'alum': 5, 'cotton': 5, 'gnp': 5, 'coffee': 4, 'veg-oil': 4, 'sugar': 4, 'gas': 4, 'wpi': 4, 'cpi': 4, 'rice': 3, 'reserves': 3, 'lead': 3, 'iron-steel': 3, 'meal-feed': 3, 'copper': 3, 'silver': 3, 'platinum': 3, 'lumber': 2, 'palm-oil': 2, 'carcass': 2, 'livestock': 2, 'barley': 2, 'rapeseed': 2, 'orange': 2, 'soy-meal': 2, 'zinc': 2, 'rubber': 1, 'yen': 1, 'heat': 1, 'soy-oil': 1, 'pet-chem': 1, 'strategic-metal': 1, 'hog': 1, 'ipi': 1, 'cocoa': 1, 'fuel': 1, 'oat': 1, 'tin': 1})\n",
            "Distortion : 3.17249\n",
            "==========================\n",
            "\n",
            "Cluster Nums -> 6\n",
            "[307. 358. 330. 308. 339. 358.]\n",
            "Cluster num : 0\n",
            "Counter({'earn': 96, 'acq': 69, 'crude': 19, 'money-fx': 18, 'grain': 17, 'interest': 12, 'trade': 10, 'dlr': 8, 'ship': 8, 'wheat': 7, 'gnp': 7, 'veg-oil': 7, 'oilseed': 6, 'meal-feed': 6, 'cocoa': 5, 'bop': 5, 'corn': 4, 'jobs': 4, 'livestock': 4, 'rice': 4, 'soy-meal': 4, 'cpi': 4, 'nat-gas': 4, 'soybean': 3, 'coffee': 3, 'heat': 3, 'soy-oil': 3, 'money-supply': 3, 'wpi': 3, 'palm-oil': 3, 'zinc': 3, 'reserves': 3, 'alum': 3, 'ipi': 2, 'sorghum': 2, 'copper': 2, 'yen': 2, 'sugar': 2, 'tin': 2, 'barley': 2, 'strategic-metal': 2, 'rape-oil': 2, 'iron-steel': 2, 'carcass': 2, 'gas': 2, 'lead': 2, 'gold': 2, 'pet-chem': 2, 'rapeseed': 2, 'sunseed': 1, 'l-cattle': 1, 'rubber': 1, 'hog': 1, 'orange': 1, 'cotton': 1, 'silver': 1, 'dmk': 1, 'fuel': 1, 'income': 1, 'coconut-oil': 1, 'cotton-oil': 1, 'sun-oil': 1, 'groundnut': 1})\n",
            "Cluster num : 1\n",
            "Counter({'earn': 109, 'acq': 73, 'grain': 25, 'money-fx': 24, 'trade': 21, 'crude': 20, 'interest': 18, 'wheat': 11, 'corn': 11, 'dlr': 10, 'ship': 9, 'sugar': 8, 'gnp': 6, 'rice': 6, 'gold': 6, 'reserves': 6, 'veg-oil': 5, 'lead': 5, 'coffee': 5, 'cotton': 5, 'tin': 4, 'cpi': 4, 'livestock': 4, 'carcass': 4, 'iron-steel': 4, 'oilseed': 4, 'gas': 3, 'money-supply': 3, 'copper': 3, 'jobs': 3, 'palm-oil': 2, 'bop': 2, 'soybean': 2, 'soy-oil': 2, 'barley': 2, 'orange': 2, 'income': 2, 'platinum': 2, 'fuel': 2, 'nat-gas': 2, 'alum': 2, 'yen': 1, 'meal-feed': 1, 'oat': 1, 'sorghum': 1, 'soy-meal': 1, 'retail': 1, 'wpi': 1, 'groundnut': 1, 'ipi': 1, 'strategic-metal': 1, 'zinc': 1, 'dfl': 1, 'dmk': 1, 'silver': 1, 'hog': 1, 'rubber': 1, 'pet-chem': 1})\n",
            "Cluster num : 2\n",
            "Counter({'earn': 95, 'acq': 82, 'money-fx': 19, 'interest': 18, 'grain': 18, 'crude': 18, 'trade': 17, 'ship': 13, 'money-supply': 10, 'wheat': 8, 'oilseed': 7, 'sugar': 6, 'gnp': 6, 'soybean': 5, 'dlr': 5, 'copper': 4, 'coffee': 4, 'corn': 4, 'rice': 4, 'nat-gas': 4, 'cpi': 3, 'yen': 3, 'livestock': 3, 'cotton': 3, 'meal-feed': 3, 'veg-oil': 3, 'alum': 3, 'cocoa': 3, 'reserves': 3, 'tin': 2, 'strategic-metal': 2, 'orange': 2, 'soy-meal': 2, 'soy-oil': 2, 'sorghum': 2, 'jobs': 2, 'ipi': 2, 'wpi': 2, 'pet-chem': 2, 'bop': 2, 'nickel': 1, 'rubber': 1, 'palladium': 1, 'platinum': 1, 'gold': 1, 'retail': 1, 'potato': 1, 'barley': 1, 'cotton-oil': 1, 'oat': 1, 'lei': 1, 'rapeseed': 1, 'iron-steel': 1, 'lead': 1, 'housing': 1, 'income': 1, 'lumber': 1})\n",
            "Cluster num : 3\n",
            "Counter({'earn': 104, 'acq': 85, 'crude': 19, 'grain': 19, 'money-fx': 15, 'interest': 13, 'trade': 12, 'corn': 11, 'wheat': 8, 'oilseed': 6, 'sugar': 5, 'bop': 4, 'pet-chem': 4, 'gold': 4, 'zinc': 4, 'money-supply': 4, 'soybean': 3, 'veg-oil': 3, 'alum': 3, 'ship': 3, 'carcass': 3, 'orange': 3, 'strategic-metal': 3, 'cpi': 3, 'gnp': 3, 'soy-oil': 2, 'dlr': 2, 'yen': 2, 'groundnut': 2, 'coffee': 2, 'meal-feed': 2, 'fuel': 2, 'nat-gas': 2, 'lead': 2, 'propane': 2, 'platinum': 2, 'income': 2, 'palm-oil': 1, 'rapeseed': 1, 'groundnut-oil': 1, 'lin-oil': 1, 'rape-oil': 1, 'sorghum': 1, 'sun-meal': 1, 'sun-oil': 1, 'barley': 1, 'potato': 1, 'livestock': 1, 'soy-meal': 1, 'cotton': 1, 'cocoa': 1, 'reserves': 1, 'lumber': 1, 'iron-steel': 1, 'naphtha': 1, 'silver': 1, 'gas': 1, 'copper': 1, 'rice': 1, 'wpi': 1})\n",
            "Cluster num : 4\n",
            "Counter({'earn': 105, 'acq': 94, 'grain': 19, 'money-fx': 19, 'trade': 18, 'interest': 17, 'crude': 14, 'wheat': 11, 'nat-gas': 8, 'corn': 8, 'oilseed': 7, 'money-supply': 7, 'bop': 7, 'veg-oil': 6, 'gold': 6, 'soybean': 6, 'jobs': 6, 'dlr': 5, 'gas': 5, 'gnp': 5, 'ship': 4, 'coffee': 3, 'palm-oil': 3, 'carcass': 3, 'rice': 3, 'reserves': 3, 'barley': 3, 'cotton': 3, 'meal-feed': 3, 'silver': 3, 'copper': 3, 'cpi': 3, 'alum': 3, 'lumber': 2, 'rubber': 2, 'livestock': 2, 'lead': 2, 'rapeseed': 2, 'orange': 2, 'soy-meal': 2, 'soy-oil': 2, 'oat': 2, 'platinum': 2, 'iron-steel': 2, 'sugar': 2, 'ipi': 2, 'yen': 1, 'heat': 1, 'sorghum': 1, 'wpi': 1, 'fuel': 1, 'coconut': 1, 'coconut-oil': 1, 'copra-cake': 1, 'pet-chem': 1, 'strategic-metal': 1, 'zinc': 1, 'hog': 1, 'instal-debt': 1, 'nzdlr': 1, 'tin': 1})\n",
            "Cluster num : 5\n",
            "Counter({'earn': 124, 'acq': 87, 'grain': 20, 'crude': 15, 'wheat': 13, 'interest': 13, 'money-fx': 13, 'trade': 11, 'ship': 8, 'sugar': 7, 'dlr': 7, 'corn': 6, 'cocoa': 6, 'nat-gas': 5, 'livestock': 5, 'cpi': 5, 'alum': 5, 'gnp': 5, 'oilseed': 4, 'soybean': 4, 'gas': 4, 'barley': 4, 'money-supply': 3, 'bop': 3, 'sorghum': 3, 'gold': 3, 'veg-oil': 3, 'rice': 2, 'rubber': 2, 'tin': 2, 'jobs': 2, 'iron-steel': 2, 'yen': 2, 'meal-feed': 2, 'copper': 2, 'wpi': 2, 'tea': 2, 'lei': 2, 'carcass': 2, 'strategic-metal': 2, 'fuel': 2, 'zinc': 1, 'heat': 1, 'cotton': 1, 'orange': 1, 'potato': 1, 'soy-meal': 1, 'sunseed': 1, 'oat': 1, 'hog': 1, 'ipi': 1, 'lumber': 1, 'coffee': 1, 'naphtha': 1, 'income': 1})\n",
            "Distortion : 3.14942\n",
            "==========================\n",
            "\n",
            "Cluster Nums -> 7\n",
            "[276. 303. 262. 293. 292. 300. 274.]\n",
            "Cluster num : 0\n",
            "Counter({'earn': 83, 'acq': 67, 'grain': 17, 'money-fx': 17, 'interest': 15, 'crude': 15, 'trade': 11, 'sugar': 8, 'wheat': 8, 'corn': 7, 'dlr': 7, 'livestock': 6, 'money-supply': 6, 'carcass': 5, 'ship': 5, 'oilseed': 4, 'lead': 4, 'cocoa': 4, 'cpi': 4, 'rice': 3, 'soybean': 3, 'yen': 3, 'strategic-metal': 3, 'coffee': 3, 'veg-oil': 3, 'iron-steel': 3, 'zinc': 3, 'gnp': 3, 'bop': 2, 'gas': 2, 'jobs': 2, 'gold': 2, 'nat-gas': 2, 'reserves': 2, 'orange': 2, 'meal-feed': 2, 'soy-meal': 2, 'fuel': 2, 'alum': 2, 'pet-chem': 2, 'rubber': 1, 'palladium': 1, 'platinum': 1, 'potato': 1, 'cotton': 1, 'soy-oil': 1, 'wpi': 1, 'copper': 1, 'hog': 1, 'naphtha': 1, 'barley': 1, 'rapeseed': 1, 'sorghum': 1, 'tin': 1})\n",
            "Cluster num : 1\n",
            "Counter({'earn': 103, 'acq': 57, 'money-fx': 18, 'trade': 17, 'grain': 14, 'crude': 14, 'interest': 13, 'ship': 11, 'veg-oil': 6, 'dlr': 6, 'wheat': 6, 'money-supply': 6, 'gnp': 6, 'nat-gas': 5, 'sugar': 4, 'soybean': 4, 'corn': 4, 'gold': 4, 'oilseed': 3, 'yen': 3, 'barley': 3, 'meal-feed': 3, 'jobs': 3, 'bop': 3, 'alum': 3, 'pet-chem': 3, 'reserves': 3, 'income': 3, 'palm-oil': 2, 'soy-oil': 2, 'tin': 2, 'lead': 2, 'cotton': 2, 'orange': 2, 'coffee': 2, 'soy-meal': 2, 'livestock': 2, 'wpi': 2, 'silver': 2, 'platinum': 2, 'cocoa': 2, 'zinc': 1, 'nickel': 1, 'groundnut': 1, 'heat': 1, 'potato': 1, 'cotton-oil': 1, 'oat': 1, 'rice': 1, 'sorghum': 1, 'ipi': 1, 'lumber': 1, 'iron-steel': 1, 'hog': 1, 'rubber': 1, 'gas': 1, 'fuel': 1, 'copper': 1, 'cpi': 1})\n",
            "Cluster num : 2\n",
            "Counter({'earn': 92, 'acq': 60, 'interest': 16, 'money-fx': 16, 'crude': 13, 'grain': 11, 'trade': 9, 'gnp': 6, 'nat-gas': 5, 'oilseed': 5, 'wheat': 5, 'ship': 5, 'dlr': 4, 'livestock': 4, 'money-supply': 4, 'sugar': 4, 'ipi': 3, 'corn': 3, 'soybean': 3, 'coffee': 3, 'veg-oil': 3, 'bop': 3, 'cpi': 3, 'tin': 2, 'hog': 2, 'cotton': 2, 'iron-steel': 2, 'rapeseed': 2, 'carcass': 2, 'copper': 2, 'rice': 2, 'wpi': 2, 'sorghum': 1, 'sunseed': 1, 'gold': 1, 'rape-oil': 1, 'soy-oil': 1, 'alum': 1, 'tea': 1, 'orange': 1, 'rubber': 1, 'fuel': 1, 'meal-feed': 1, 'soy-meal': 1, 'cocoa': 1, 'lumber': 1, 'strategic-metal': 1, 'reserves': 1, 'barley': 1, 'jobs': 1, 'groundnut': 1, 'heat': 1, 'lead': 1, 'zinc': 1})\n",
            "Cluster num : 3\n",
            "Counter({'earn': 86, 'acq': 76, 'money-fx': 23, 'crude': 18, 'grain': 17, 'trade': 15, 'interest': 13, 'corn': 9, 'alum': 8, 'wheat': 8, 'nat-gas': 6, 'gnp': 6, 'ship': 5, 'dlr': 5, 'oilseed': 5, 'jobs': 4, 'copper': 4, 'barley': 4, 'bop': 4, 'gold': 3, 'coffee': 3, 'soybean': 3, 'money-supply': 3, 'cpi': 3, 'carcass': 3, 'gas': 3, 'sugar': 2, 'yen': 2, 'meal-feed': 2, 'livestock': 2, 'oat': 2, 'sorghum': 2, 'rapeseed': 2, 'iron-steel': 2, 'palm-oil': 2, 'veg-oil': 2, 'pet-chem': 2, 'lead': 2, 'zinc': 2, 'rice': 2, 'rubber': 1, 'heat': 1, 'soy-meal': 1, 'cotton': 1, 'silver': 1, 'wpi': 1, 'orange': 1, 'lei': 1, 'coconut': 1, 'coconut-oil': 1, 'copra-cake': 1, 'strategic-metal': 1, 'dmk': 1, 'instal-debt': 1, 'fuel': 1, 'naphtha': 1, 'tin': 1})\n",
            "Cluster num : 4\n",
            "Counter({'earn': 94, 'acq': 76, 'grain': 22, 'crude': 16, 'trade': 13, 'interest': 13, 'corn': 11, 'money-fx': 11, 'wheat': 8, 'sugar': 7, 'reserves': 7, 'rice': 6, 'oilseed': 6, 'dlr': 6, 'gold': 5, 'tin': 4, 'cpi': 4, 'coffee': 4, 'money-supply': 4, 'gas': 3, 'lead': 3, 'gnp': 3, 'cotton': 3, 'sorghum': 3, 'soybean': 3, 'ship': 3, 'barley': 3, 'veg-oil': 3, 'platinum': 3, 'cocoa': 2, 'meal-feed': 2, 'oat': 2, 'orange': 2, 'silver': 2, 'alum': 2, 'carcass': 2, 'strategic-metal': 2, 'copper': 2, 'rubber': 1, 'livestock': 1, 'yen': 1, 'heat': 1, 'soy-meal': 1, 'soy-oil': 1, 'income': 1, 'retail': 1, 'wpi': 1, 'groundnut': 1, 'palm-oil': 1, 'zinc': 1, 'pet-chem': 1, 'lumber': 1, 'bop': 1, 'jobs': 1, 'nat-gas': 1, 'ipi': 1})\n",
            "Cluster num : 5\n",
            "Counter({'earn': 93, 'acq': 76, 'grain': 19, 'crude': 18, 'trade': 13, 'wheat': 11, 'interest': 11, 'money-fx': 8, 'ship': 7, 'veg-oil': 6, 'oilseed': 6, 'money-supply': 6, 'corn': 6, 'rice': 5, 'meal-feed': 5, 'palm-oil': 4, 'bop': 4, 'gold': 4, 'soybean': 4, 'iron-steel': 3, 'livestock': 3, 'reserves': 3, 'cotton': 3, 'soy-meal': 3, 'soy-oil': 3, 'copper': 3, 'cocoa': 3, 'cpi': 3, 'ipi': 3, 'gnp': 3, 'jobs': 3, 'wpi': 3, 'dlr': 3, 'coffee': 2, 'lumber': 2, 'sugar': 2, 'strategic-metal': 2, 'orange': 2, 'nat-gas': 2, 'gas': 2, 'rubber': 1, 'rapeseed': 1, 'l-cattle': 1, 'heat': 1, 'tin': 1, 'barley': 1, 'retail': 1, 'potato': 1, 'tea': 1, 'dfl': 1, 'dmk': 1, 'carcass': 1, 'alum': 1, 'platinum': 1, 'silver': 1, 'nzdlr': 1, 'income': 1, 'coconut-oil': 1, 'cotton-oil': 1, 'rape-oil': 1, 'sun-oil': 1, 'zinc': 1})\n",
            "Cluster num : 6\n",
            "Counter({'earn': 82, 'acq': 78, 'grain': 18, 'money-fx': 15, 'wheat': 12, 'crude': 11, 'trade': 11, 'interest': 10, 'ship': 9, 'dlr': 6, 'bop': 6, 'oilseed': 5, 'gnp': 5, 'cpi': 4, 'corn': 4, 'gas': 4, 'veg-oil': 4, 'nat-gas': 4, 'sugar': 3, 'jobs': 3, 'cocoa': 3, 'soy-oil': 3, 'soybean': 3, 'fuel': 3, 'gold': 3, 'copper': 2, 'yen': 2, 'pet-chem': 2, 'meal-feed': 2, 'sorghum': 2, 'cotton': 2, 'lei': 2, 'alum': 2, 'propane': 2, 'strategic-metal': 2, 'income': 2, 'iron-steel': 1, 'groundnut-oil': 1, 'lin-oil': 1, 'rape-oil': 1, 'sun-meal': 1, 'sun-oil': 1, 'groundnut': 1, 'coffee': 1, 'soy-meal': 1, 'sunseed': 1, 'rice': 1, 'livestock': 1, 'orange': 1, 'rubber': 1, 'carcass': 1, 'housing': 1, 'zinc': 1, 'money-supply': 1})\n",
            "Distortion : 3.12995\n",
            "==========================\n",
            "\n",
            "Cluster Nums -> 8\n",
            "[263. 264. 251. 227. 238. 253. 254. 250.]\n",
            "Cluster num : 0\n",
            "Counter({'earn': 81, 'acq': 63, 'money-fx': 20, 'interest': 17, 'grain': 14, 'trade': 10, 'crude': 10, 'dlr': 8, 'gold': 6, 'wheat': 5, 'alum': 5, 'jobs': 4, 'nat-gas': 4, 'oilseed': 4, 'money-supply': 4, 'ship': 4, 'bop': 4, 'zinc': 3, 'rice': 3, 'barley': 3, 'corn': 3, 'cpi': 3, 'sugar': 2, 'coffee': 2, 'yen': 2, 'copper': 2, 'silver': 2, 'meal-feed': 2, 'gas': 2, 'coconut-oil': 2, 'palm-oil': 2, 'veg-oil': 2, 'lead': 2, 'strategic-metal': 2, 'gnp': 2, 'reserves': 2, 'rubber': 1, 'rapeseed': 1, 'orange': 1, 'soybean': 1, 'platinum': 1, 'lei': 1, 'coconut': 1, 'copra-cake': 1, 'cocoa': 1, 'lumber': 1, 'tin': 1, 'ipi': 1, 'instal-debt': 1, 'wpi': 1, 'cotton-oil': 1, 'rape-oil': 1, 'soy-oil': 1, 'sun-oil': 1, 'cotton': 1, 'groundnut': 1, 'oat': 1})\n",
            "Cluster num : 1\n",
            "Counter({'earn': 96, 'acq': 58, 'money-fx': 15, 'crude': 15, 'grain': 13, 'trade': 11, 'interest': 11, 'ship': 9, 'corn': 7, 'oilseed': 7, 'money-supply': 7, 'wheat': 7, 'livestock': 6, 'soybean': 6, 'sugar': 5, 'rice': 4, 'veg-oil': 4, 'nat-gas': 4, 'carcass': 3, 'gold': 3, 'meal-feed': 3, 'sorghum': 3, 'soy-meal': 3, 'cpi': 3, 'gnp': 3, 'wpi': 3, 'reserves': 2, 'cotton': 2, 'oat': 2, 'soy-oil': 2, 'coffee': 2, 'ipi': 2, 'dlr': 2, 'gas': 2, 'alum': 2, 'tin': 1, 'l-cattle': 1, 'orange': 1, 'barley': 1, 'cotton-oil': 1, 'iron-steel': 1, 'tea': 1, 'lei': 1, 'palm-oil': 1, 'dfl': 1, 'dmk': 1, 'cocoa': 1, 'lumber': 1, 'rapeseed': 1, 'copper': 1, 'fuel': 1, 'heat': 1})\n",
            "Cluster num : 2\n",
            "Counter({'acq': 71, 'earn': 69, 'grain': 22, 'crude': 16, 'trade': 15, 'money-fx': 15, 'wheat': 13, 'interest': 9, 'corn': 8, 'veg-oil': 7, 'oilseed': 6, 'ship': 6, 'meal-feed': 6, 'cocoa': 6, 'soybean': 5, 'soy-meal': 5, 'coffee': 4, 'cpi': 4, 'gnp': 4, 'jobs': 4, 'cotton': 4, 'soy-oil': 4, 'livestock': 4, 'barley': 4, 'dlr': 4, 'carcass': 3, 'rice': 3, 'nat-gas': 3, 'rape-oil': 2, 'sorghum': 2, 'iron-steel': 2, 'money-supply': 2, 'bop': 2, 'alum': 2, 'fuel': 2, 'sugar': 2, 'reserves': 2, 'income': 2, 'lumber': 1, 'palm-oil': 1, 'rubber': 1, 'pet-chem': 1, 'groundnut-oil': 1, 'lin-oil': 1, 'sun-meal': 1, 'sun-oil': 1, 'heat': 1, 'hog': 1, 'potato': 1, 'oat': 1, 'gold': 1, 'orange': 1, 'tea': 1, 'copper': 1, 'wpi': 1, 'nzdlr': 1})\n",
            "Cluster num : 3\n",
            "Counter({'earn': 76, 'acq': 54, 'money-fx': 14, 'crude': 13, 'interest': 12, 'trade': 11, 'ship': 10, 'grain': 10, 'wheat': 6, 'gnp': 5, 'sugar': 5, 'corn': 4, 'oilseed': 4, 'nat-gas': 3, 'soybean': 3, 'reserves': 3, 'yen': 3, 'meal-feed': 3, 'dlr': 3, 'veg-oil': 2, 'soy-meal': 2, 'copper': 2, 'cpi': 2, 'coffee': 2, 'orange': 2, 'carcass': 2, 'rice': 2, 'money-supply': 2, 'jobs': 2, 'lead': 2, 'bop': 2, 'palm-oil': 1, 'sorghum': 1, 'sunseed': 1, 'cocoa': 1, 'rapeseed': 1, 'gold': 1, 'heat': 1, 'cotton': 1, 'soy-oil': 1, 'rubber': 1, 'hog': 1, 'alum': 1, 'dmk': 1, 'ipi': 1, 'iron-steel': 1, 'pet-chem': 1, 'barley': 1, 'tin': 1, 'zinc': 1})\n",
            "Cluster num : 4\n",
            "Counter({'earn': 81, 'acq': 64, 'grain': 11, 'trade': 10, 'crude': 10, 'interest': 10, 'sugar': 7, 'gas': 7, 'money-fx': 7, 'corn': 4, 'jobs': 4, 'wheat': 4, 'dlr': 4, 'gnp': 4, 'ipi': 3, 'coffee': 3, 'reserves': 3, 'rice': 2, 'rubber': 2, 'tin': 2, 'lead': 2, 'livestock': 2, 'gold': 2, 'cotton': 2, 'money-supply': 2, 'oilseed': 2, 'rapeseed': 2, 'strategic-metal': 2, 'ship': 2, 'platinum': 2, 'veg-oil': 2, 'iron-steel': 2, 'bop': 2, 'alum': 2, 'nickel': 1, 'carcass': 1, 'heat': 1, 'retail': 1, 'orange': 1, 'sorghum': 1, 'zinc': 1, 'soybean': 1, 'hog': 1, 'silver': 1, 'pet-chem': 1, 'copper': 1, 'yen': 1, 'income': 1, 'palm-oil': 1})\n",
            "Cluster num : 5\n",
            "Counter({'earn': 78, 'acq': 58, 'grain': 15, 'trade': 14, 'crude': 13, 'money-fx': 10, 'interest': 10, 'corn': 7, 'veg-oil': 6, 'money-supply': 6, 'oilseed': 5, 'ship': 5, 'wheat': 5, 'cpi': 5, 'gnp': 5, 'coffee': 4, 'sugar': 4, 'bop': 4, 'dlr': 4, 'nat-gas': 4, 'palm-oil': 3, 'tin': 3, 'livestock': 3, 'gold': 3, 'lead': 3, 'orange': 3, 'carcass': 3, 'strategic-metal': 3, 'income': 3, 'soy-oil': 2, 'soybean': 2, 'iron-steel': 2, 'groundnut': 2, 'rice': 2, 'wpi': 2, 'platinum': 2, 'reserves': 2, 'zinc': 2, 'pet-chem': 2, 'copper': 2, 'yen': 1, 'potato': 1, 'meal-feed': 1, 'retail': 1, 'silver': 1, 'lumber': 1, 'jobs': 1, 'ipi': 1})\n",
            "Cluster num : 6\n",
            "Counter({'earn': 83, 'acq': 61, 'interest': 15, 'money-fx': 14, 'grain': 14, 'crude': 11, 'trade': 10, 'dlr': 8, 'gnp': 6, 'copper': 5, 'bop': 5, 'wheat': 5, 'corn': 5, 'cocoa': 4, 'alum': 4, 'money-supply': 4, 'ship': 4, 'pet-chem': 4, 'yen': 3, 'cpi': 3, 'sugar': 3, 'strategic-metal': 3, 'gold': 3, 'fuel': 3, 'nat-gas': 3, 'platinum': 2, 'lead': 2, 'rice': 2, 'barley': 2, 'livestock': 2, 'silver': 2, 'wpi': 2, 'zinc': 2, 'veg-oil': 2, 'gas': 2, 'iron-steel': 2, 'carcass': 2, 'reserves': 2, 'palladium': 1, 'sorghum': 1, 'coffee': 1, 'orange': 1, 'cotton': 1, 'soybean': 1, 'naphtha': 1, 'housing': 1, 'income': 1, 'propane': 1})\n",
            "Cluster num : 7\n",
            "Counter({'earn': 69, 'acq': 61, 'grain': 19, 'crude': 17, 'wheat': 13, 'money-fx': 13, 'trade': 8, 'interest': 7, 'corn': 6, 'oilseed': 6, 'ship': 5, 'nat-gas': 4, 'bop': 4, 'dlr': 4, 'soybean': 4, 'tin': 3, 'cotton': 3, 'gnp': 3, 'gold': 3, 'money-supply': 3, 'alum': 3, 'sugar': 2, 'iron-steel': 2, 'gas': 2, 'jobs': 2, 'rubber': 2, 'barley': 2, 'veg-oil': 2, 'meal-feed': 2, 'sorghum': 2, 'fuel': 2, 'rice': 2, 'livestock': 2, 'cpi': 2, 'cocoa': 2, 'groundnut': 1, 'heat': 1, 'yen': 1, 'soy-oil': 1, 'lead': 1, 'orange': 1, 'potato': 1, 'soy-meal': 1, 'sunseed': 1, 'oat': 1, 'copper': 1, 'wpi': 1, 'hog': 1, 'lei': 1, 'propane': 1, 'pet-chem': 1, 'rapeseed': 1, 'strategic-metal': 1, 'naphtha': 1, 'zinc': 1, 'lumber': 1})\n",
            "Distortion : 3.11243\n",
            "==========================\n",
            "\n",
            "Cluster Nums -> 9\n",
            "[209. 257. 230. 207. 216. 234. 224. 186. 237.]\n",
            "Cluster num : 0\n",
            "Counter({'earn': 63, 'acq': 41, 'crude': 13, 'grain': 12, 'money-fx': 10, 'trade': 9, 'interest': 7, 'veg-oil': 6, 'sugar': 6, 'gnp': 6, 'gas': 5, 'ship': 5, 'wheat': 5, 'cpi': 5, 'bop': 5, 'nat-gas': 5, 'palm-oil': 4, 'corn': 4, 'jobs': 4, 'oilseed': 4, 'coffee': 4, 'dlr': 4, 'cocoa': 4, 'meal-feed': 3, 'gold': 3, 'reserves': 3, 'livestock': 2, 'soy-meal': 2, 'money-supply': 2, 'fuel': 2, 'alum': 2, 'rapeseed': 1, 'iron-steel': 1, 'rubber': 1, 'hog': 1, 'tin': 1, 'barley': 1, 'retail': 1, 'soybean': 1, 'carcass': 1, 'lead': 1, 'strategic-metal': 1, 'zinc': 1, 'silver': 1, 'pet-chem': 1, 'rice': 1, 'copper': 1, 'income': 1, 'coconut-oil': 1, 'cotton-oil': 1, 'rape-oil': 1, 'soy-oil': 1, 'sun-oil': 1, 'yen': 1, 'ipi': 1})\n",
            "Cluster num : 1\n",
            "Counter({'earn': 78, 'acq': 68, 'grain': 15, 'interest': 15, 'money-fx': 15, 'trade': 13, 'crude': 13, 'corn': 9, 'wheat': 6, 'dlr': 6, 'bop': 6, 'nat-gas': 6, 'livestock': 5, 'rice': 5, 'cotton': 5, 'oilseed': 4, 'veg-oil': 4, 'carcass': 3, 'soybean': 3, 'ship': 3, 'money-supply': 3, 'alum': 3, 'reserves': 3, 'gas': 2, 'jobs': 2, 'iron-steel': 2, 'gold': 2, 'tin': 2, 'barley': 2, 'meal-feed': 2, 'soy-meal': 2, 'soy-oil': 2, 'orange': 2, 'copper': 2, 'cpi': 2, 'ipi': 2, 'lead': 1, 'zinc': 1, 'sugar': 1, 'cocoa': 1, 'yen': 1, 'coffee': 1, 'oat': 1, 'sorghum': 1, 'groundnut': 1, 'hog': 1, 'gnp': 1, 'lei': 1, 'rubber': 1, 'fuel': 1, 'lumber': 1, 'pet-chem': 1, 'platinum': 1, 'strategic-metal': 1, 'palm-oil': 1})\n",
            "Cluster num : 2\n",
            "Counter({'earn': 69, 'acq': 66, 'grain': 17, 'crude': 15, 'money-fx': 14, 'wheat': 13, 'trade': 10, 'interest': 10, 'ship': 6, 'nat-gas': 5, 'copper': 4, 'corn': 4, 'oilseed': 4, 'gnp': 4, 'cpi': 3, 'reserves': 3, 'yen': 2, 'jobs': 2, 'rice': 2, 'soybean': 2, 'veg-oil': 2, 'dlr': 2, 'rapeseed': 2, 'iron-steel': 2, 'propane': 2, 'bop': 2, 'income': 2, 'ipi': 1, 'sugar': 1, 'nickel': 1, 'alum': 1, 'rubber': 1, 'gold': 1, 'sorghum': 1, 'barley': 1, 'cotton': 1, 'meal-feed': 1, 'soy-meal': 1, 'soy-oil': 1, 'coffee': 1, 'palm-oil': 1, 'carcass': 1, 'instal-debt': 1, 'lead': 1, 'zinc': 1, 'fuel': 1, 'gas': 1, 'naphtha': 1, 'housing': 1, 'money-supply': 1, 'pet-chem': 1})\n",
            "Cluster num : 3\n",
            "Counter({'earn': 62, 'acq': 56, 'grain': 12, 'interest': 12, 'trade': 11, 'crude': 9, 'money-fx': 8, 'ship': 7, 'wheat': 5, 'corn': 5, 'gnp': 5, 'oilseed': 3, 'soybean': 3, 'money-supply': 3, 'alum': 3, 'cotton': 2, 'orange': 2, 'sorghum': 2, 'jobs': 2, 'nat-gas': 2, 'cpi': 2, 'pet-chem': 2, 'hog': 2, 'carcass': 2, 'yen': 1, 'dlr': 1, 'coffee': 1, 'livestock': 1, 'barley': 1, 'oat': 1, 'lei': 1, 'wpi': 1, 'rubber': 1, 'reserves': 1, 'cocoa': 1, 'gold': 1, 'lumber': 1, 'gas': 1, 'income': 1, 'bop': 1, 'tin': 1})\n",
            "Cluster num : 4\n",
            "Counter({'earn': 73, 'acq': 45, 'money-fx': 16, 'grain': 12, 'interest': 10, 'crude': 9, 'trade': 8, 'corn': 7, 'money-supply': 6, 'gold': 5, 'sugar': 5, 'coffee': 4, 'livestock': 4, 'rice': 4, 'tin': 3, 'oilseed': 3, 'soybean': 3, 'lead': 3, 'carcass': 3, 'wheat': 3, 'dlr': 3, 'ship': 2, 'potato': 2, 'meal-feed': 2, 'soy-meal': 2, 'platinum': 2, 'zinc': 2, 'wpi': 2, 'reserves': 2, 'iron-steel': 2, 'veg-oil': 2, 'barley': 1, 'orange': 1, 'sorghum': 1, 'sunseed': 1, 'fuel': 1, 'cocoa': 1, 'cpi': 1, 'gas': 1, 'strategic-metal': 1, 'silver': 1, 'alum': 1, 'dmk': 1, 'jobs': 1, 'nzdlr': 1, 'income': 1, 'heat': 1})\n",
            "Cluster num : 5\n",
            "Counter({'earn': 76, 'acq': 57, 'money-fx': 14, 'crude': 14, 'grain': 14, 'interest': 13, 'wheat': 9, 'gold': 6, 'dlr': 5, 'ship': 5, 'veg-oil': 4, 'trade': 4, 'gas': 4, 'corn': 4, 'bop': 3, 'sugar': 3, 'strategic-metal': 3, 'oilseed': 3, 'cotton': 3, 'copper': 3, 'livestock': 3, 'wpi': 3, 'gnp': 3, 'soybean': 3, 'cocoa': 3, 'alum': 3, 'coffee': 2, 'lumber': 2, 'yen': 2, 'platinum': 2, 'meal-feed': 2, 'lead': 2, 'orange': 2, 'silver': 2, 'rice': 2, 'nat-gas': 2, 'palm-oil': 1, 'rubber': 1, 'cpi': 1, 'heat': 1, 'palladium': 1, 'groundnut-oil': 1, 'lin-oil': 1, 'rape-oil': 1, 'sorghum': 1, 'soy-oil': 1, 'sun-meal': 1, 'sun-oil': 1, 'jobs': 1, 'zinc': 1, 'reserves': 1, 'ipi': 1, 'fuel': 1, 'carcass': 1, 'barley': 1, 'oat': 1})\n",
            "Cluster num : 6\n",
            "Counter({'earn': 78, 'acq': 43, 'trade': 14, 'grain': 11, 'crude': 9, 'money-fx': 8, 'sugar': 7, 'ship': 7, 'interest': 6, 'dlr': 5, 'wheat': 5, 'money-supply': 5, 'rice': 4, 'oilseed': 4, 'iron-steel': 4, 'gold': 4, 'gnp': 4, 'corn': 3, 'tin': 3, 'coffee': 3, 'cpi': 3, 'wpi': 3, 'alum': 3, 'copper': 3, 'jobs': 3, 'bop': 3, 'rubber': 2, 'soybean': 2, 'veg-oil': 2, 'groundnut': 2, 'yen': 2, 'orange': 2, 'reserves': 2, 'income': 2, 'lead': 2, 'ipi': 2, 'silver': 2, 'platinum': 2, 'palm-oil': 1, 'soy-oil': 1, 'heat': 1, 'cotton': 1, 'strategic-metal': 1, 'meal-feed': 1, 'retail': 1, 'pet-chem': 1, 'nat-gas': 1, 'barley': 1, 'zinc': 1})\n",
            "Cluster num : 7\n",
            "Counter({'earn': 58, 'acq': 55, 'crude': 14, 'grain': 12, 'trade': 10, 'money-fx': 8, 'interest': 7, 'wheat': 7, 'corn': 5, 'gnp': 4, 'barley': 4, 'oilseed': 4, 'soybean': 4, 'meal-feed': 4, 'money-supply': 4, 'ship': 3, 'dlr': 3, 'veg-oil': 3, 'nat-gas': 3, 'jobs': 2, 'cpi': 2, 'sugar': 2, 'pet-chem': 2, 'livestock': 2, 'heat': 2, 'strategic-metal': 2, 'cotton': 2, 'soy-meal': 2, 'soy-oil': 2, 'oat': 2, 'sorghum': 2, 'tea': 2, 'cocoa': 1, 'l-cattle': 1, 'reserves': 1, 'cotton-oil': 1, 'rice': 1, 'iron-steel': 1, 'ipi': 1, 'lei': 1, 'alum': 1, 'carcass': 1, 'coconut': 1, 'coconut-oil': 1, 'copra-cake': 1, 'palm-oil': 1, 'lead': 1, 'zinc': 1, 'copper': 1, 'lumber': 1, 'coffee': 1})\n",
            "Cluster num : 8\n",
            "Counter({'earn': 76, 'acq': 59, 'money-fx': 15, 'grain': 13, 'interest': 11, 'trade': 10, 'crude': 9, 'dlr': 8, 'ship': 7, 'money-supply': 6, 'oilseed': 5, 'wheat': 5, 'sugar': 5, 'gnp': 5, 'cocoa': 4, 'veg-oil': 4, 'corn': 3, 'bop': 3, 'rapeseed': 3, 'soy-oil': 3, 'cpi': 3, 'yen': 2, 'sorghum': 2, 'soybean': 2, 'carcass': 2, 'livestock': 2, 'fuel': 2, 'alum': 2, 'orange': 2, 'pet-chem': 2, 'meal-feed': 2, 'soy-meal': 2, 'strategic-metal': 2, 'zinc': 2, 'nat-gas': 1, 'tin': 1, 'sunseed': 1, 'copper': 1, 'potato': 1, 'rape-oil': 1, 'dfl': 1, 'dmk': 1, 'coffee': 1, 'barley': 1, 'gas': 1, 'naphtha': 1, 'rice': 1, 'wpi': 1, 'groundnut': 1, 'lead': 1})\n",
            "Distortion : 3.09578\n",
            "==========================\n",
            "\n",
            "Cluster Nums -> 10\n",
            "[183. 195. 244. 214. 194. 178. 185. 201. 218. 188.]\n",
            "Cluster num : 0\n",
            "Counter({'earn': 56, 'acq': 47, 'money-fx': 14, 'grain': 13, 'crude': 13, 'trade': 12, 'interest': 7, 'dlr': 7, 'corn': 6, 'wheat': 6, 'sugar': 4, 'oilseed': 4, 'nat-gas': 4, 'soybean': 3, 'cocoa': 3, 'bop': 3, 'jobs': 3, 'reserves': 3, 'tin': 2, 'palm-oil': 2, 'veg-oil': 2, 'pet-chem': 2, 'cpi': 2, 'gnp': 2, 'meal-feed': 2, 'gas': 2, 'lead': 2, 'strategic-metal': 2, 'zinc': 2, 'ipi': 2, 'copper': 2, 'income': 2, 'rice': 1, 'rubber': 1, 'soy-oil': 1, 'sorghum': 1, 'sunseed': 1, 'iron-steel': 1, 'barley': 1, 'retail': 1, 'orange': 1, 'coconut': 1, 'coconut-oil': 1, 'copra-cake': 1, 'coffee': 1, 'cotton': 1, 'ship': 1, 'platinum': 1})\n",
            "Cluster num : 1\n",
            "Counter({'earn': 55, 'acq': 38, 'grain': 14, 'crude': 14, 'trade': 12, 'money-fx': 9, 'wheat': 7, 'nat-gas': 7, 'interest': 6, 'corn': 6, 'ship': 5, 'cpi': 5, 'sugar': 4, 'gnp': 4, 'meal-feed': 4, 'oilseed': 4, 'soy-meal': 4, 'jobs': 3, 'cocoa': 3, 'cotton': 3, 'soybean': 3, 'veg-oil': 3, 'barley': 3, 'dlr': 3, 'lei': 3, 'alum': 3, 'pet-chem': 3, 'coffee': 2, 'soy-oil': 2, 'oat': 2, 'rice': 2, 'sorghum': 2, 'money-supply': 2, 'wpi': 2, 'tea': 2, 'livestock': 2, 'carcass': 2, 'gold': 2, 'zinc': 1, 'cotton-oil': 1, 'lead': 1, 'rapeseed': 1, 'bop': 1, 'ipi': 1, 'fuel': 1, 'copper': 1, 'silver': 1, 'lumber': 1, 'instal-debt': 1})\n",
            "Cluster num : 2\n",
            "Counter({'earn': 80, 'acq': 70, 'crude': 16, 'interest': 11, 'grain': 8, 'money-fx': 7, 'trade': 6, 'wheat': 5, 'oilseed': 5, 'gold': 4, 'bop': 4, 'fuel': 4, 'copper': 3, 'money-supply': 3, 'corn': 3, 'soybean': 3, 'nat-gas': 3, 'ship': 2, 'coffee': 2, 'lumber': 2, 'rubber': 2, 'veg-oil': 2, 'groundnut': 2, 'gas': 2, 'jobs': 2, 'reserves': 2, 'strategic-metal': 2, 'cotton': 2, 'zinc': 2, 'propane': 2, 'income': 2, 'gnp': 2, 'palm-oil': 1, 'heat': 1, 'cocoa': 1, 'iron-steel': 1, 'yen': 1, 'potato': 1, 'orange': 1, 'sorghum': 1, 'sunseed': 1, 'meal-feed': 1, 'soy-meal': 1, 'rice': 1, 'sugar': 1, 'alum': 1, 'platinum': 1, 'silver': 1, 'rapeseed': 1, 'naphtha': 1, 'ipi': 1, 'cpi': 1, 'tin': 1, 'pet-chem': 1})\n",
            "Cluster num : 3\n",
            "Counter({'earn': 74, 'acq': 50, 'grain': 13, 'trade': 12, 'crude': 8, 'interest': 7, 'ship': 7, 'sugar': 6, 'money-fx': 6, 'money-supply': 5, 'wheat': 5, 'rice': 4, 'tin': 3, 'livestock': 3, 'oilseed': 3, 'veg-oil': 3, 'cpi': 3, 'gnp': 3, 'alum': 3, 'lead': 2, 'meal-feed': 2, 'corn': 2, 'jobs': 2, 'palm-oil': 2, 'reserves': 2, 'nat-gas': 2, 'barley': 2, 'iron-steel': 2, 'coffee': 2, 'copper': 1, 'yen': 1, 'cocoa': 1, 'carcass': 1, 'cotton': 1, 'orange': 1, 'dlr': 1, 'income': 1, 'retail': 1, 'wpi': 1, 'gold': 1, 'strategic-metal': 1, 'zinc': 1, 'hog': 1, 'gas': 1, 'pet-chem': 1, 'fuel': 1, 'rapeseed': 1})\n",
            "Cluster num : 4\n",
            "Counter({'earn': 63, 'acq': 43, 'money-fx': 14, 'interest': 13, 'crude': 11, 'grain': 11, 'trade': 8, 'dlr': 7, 'wheat': 6, 'money-supply': 6, 'yen': 5, 'ship': 5, 'nat-gas': 4, 'corn': 4, 'livestock': 3, 'soybean': 3, 'jobs': 3, 'gas': 3, 'gold': 3, 'gnp': 3, 'carcass': 2, 'oilseed': 2, 'strategic-metal': 2, 'coffee': 2, 'alum': 2, 'rice': 1, 'palladium': 1, 'platinum': 1, 'cotton': 1, 'rapeseed': 1, 'meal-feed': 1, 'veg-oil': 1, 'copper': 1, 'sugar': 1, 'hog': 1, 'naphtha': 1, 'cocoa': 1, 'wpi': 1, 'fuel': 1, 'iron-steel': 1, 'bop': 1, 'barley': 1, 'oat': 1})\n",
            "Cluster num : 5\n",
            "Counter({'earn': 60, 'acq': 39, 'money-fx': 14, 'grain': 9, 'interest': 6, 'dlr': 6, 'trade': 6, 'ship': 5, 'gnp': 4, 'sugar': 4, 'wheat': 4, 'bop': 4, 'crude': 4, 'cpi': 3, 'oilseed': 3, 'gold': 3, 'veg-oil': 3, 'money-supply': 3, 'corn': 2, 'reserves': 2, 'yen': 2, 'soybean': 2, 'livestock': 2, 'soy-oil': 2, 'copper': 2, 'cocoa': 2, 'alum': 2, 'wpi': 2, 'rubber': 2, 'rapeseed': 1, 'coffee': 1, 'heat': 1, 'carcass': 1, 'lead': 1, 'rape-oil': 1, 'hog': 1, 'orange': 1, 'pet-chem': 1, 'silver': 1, 'income': 1, 'strategic-metal': 1, 'tin': 1, 'lumber': 1})\n",
            "Cluster num : 6\n",
            "Counter({'earn': 52, 'acq': 46, 'interest': 13, 'trade': 9, 'money-fx': 9, 'grain': 9, 'crude': 7, 'ship': 5, 'rice': 4, 'alum': 4, 'gnp': 4, 'bop': 3, 'lead': 3, 'wheat': 3, 'corn': 3, 'sugar': 3, 'copper': 3, 'orange': 3, 'cpi': 2, 'dlr': 2, 'oilseed': 2, 'money-supply': 2, 'coffee': 2, 'gold': 2, 'platinum': 2, 'silver': 2, 'reserves': 2, 'carcass': 2, 'zinc': 2, 'nickel': 1, 'rubber': 1, 'barley': 1, 'soybean': 1, 'wpi': 1, 'ipi': 1, 'gas': 1, 'cocoa': 1, 'dmk': 1, 'livestock': 1, 'meal-feed': 1, 'rapeseed': 1, 'sorghum': 1, 'soy-meal': 1, 'iron-steel': 1, 'housing': 1, 'income': 1, 'groundnut': 1})\n",
            "Cluster num : 7\n",
            "Counter({'earn': 76, 'acq': 54, 'grain': 12, 'interest': 10, 'money-fx': 10, 'crude': 8, 'wheat': 7, 'trade': 6, 'ship': 5, 'corn': 3, 'oilseed': 3, 'dlr': 3, 'money-supply': 3, 'gas': 3, 'bop': 3, 'reserves': 3, 'sugar': 2, 'soybean': 2, 'jobs': 2, 'livestock': 2, 'rice': 2, 'orange': 2, 'carcass': 2, 'strategic-metal': 2, 'gnp': 2, 'veg-oil': 2, 'ipi': 1, 'gold': 1, 'sorghum': 1, 'cotton': 1, 'copper': 1, 'fuel': 1, 'lead': 1, 'zinc': 1, 'cocoa': 1, 'rubber': 1, 'nat-gas': 1, 'iron-steel': 1, 'platinum': 1, 'barley': 1, 'alum': 1, 'cpi': 1})\n",
            "Cluster num : 8\n",
            "Counter({'acq': 55, 'earn': 54, 'grain': 21, 'money-fx': 16, 'interest': 12, 'trade': 12, 'crude': 11, 'corn': 10, 'wheat': 8, 'ship': 7, 'gold': 6, 'oilseed': 6, 'sugar': 4, 'coffee': 4, 'meal-feed': 4, 'soy-oil': 4, 'veg-oil': 4, 'cotton': 4, 'barley': 4, 'soybean': 4, 'money-supply': 4, 'dlr': 4, 'gnp': 4, 'sorghum': 3, 'rice': 3, 'soy-meal': 3, 'gas': 2, 'tin': 2, 'orange': 2, 'livestock': 2, 'wpi': 2, 'alum': 2, 'bop': 2, 'lead': 1, 'groundnut-oil': 1, 'lin-oil': 1, 'rape-oil': 1, 'sun-meal': 1, 'sun-oil': 1, 'yen': 1, 'heat': 1, 'potato': 1, 'oat': 1, 'silver': 1, 'copper': 1, 'groundnut': 1, 'platinum': 1, 'cpi': 1, 'reserves': 1, 'ipi': 1, 'nat-gas': 1, 'pet-chem': 1, 'iron-steel': 1, 'lumber': 1, 'cocoa': 1, 'carcass': 1, 'jobs': 1, 'nzdlr': 1})\n",
            "Cluster num : 9\n",
            "Counter({'earn': 63, 'acq': 48, 'crude': 13, 'money-fx': 9, 'grain': 8, 'veg-oil': 7, 'wheat': 7, 'trade': 6, 'interest': 6, 'corn': 5, 'palm-oil': 4, 'iron-steel': 4, 'livestock': 4, 'dlr': 4, 'cpi': 4, 'gnp': 4, 'carcass': 3, 'ship': 3, 'nat-gas': 3, 'coffee': 2, 'heat': 2, 'tin': 2, 'oilseed': 2, 'soybean': 2, 'meal-feed': 2, 'soy-meal': 2, 'rice': 2, 'soy-oil': 2, 'money-supply': 2, 'bop': 2, 'l-cattle': 1, 'sugar': 1, 'hog': 1, 'strategic-metal': 1, 'potato': 1, 'cotton': 1, 'oat': 1, 'sorghum': 1, 'ipi': 1, 'cocoa': 1, 'dfl': 1, 'dmk': 1, 'pet-chem': 1, 'reserves': 1, 'wpi': 1, 'coconut-oil': 1, 'cotton-oil': 1, 'rape-oil': 1, 'sun-oil': 1, 'jobs': 1, 'yen': 1, 'gas': 1, 'alum': 1, 'lead': 1, 'zinc': 1})\n",
            "Distortion : 3.07658\n",
            "==========================\n",
            "\n",
            "Cluster Nums -> 11\n",
            "[185. 160. 173. 206. 200. 168. 166. 179. 189. 177. 197.]\n",
            "Cluster num : 0\n",
            "Counter({'earn': 56, 'acq': 48, 'grain': 15, 'interest': 12, 'crude': 9, 'wheat': 7, 'money-fx': 7, 'corn': 4, 'sugar': 4, 'rice': 4, 'trade': 4, 'cpi': 4, 'veg-oil': 3, 'ship': 3, 'orange': 3, 'bop': 3, 'gnp': 3, 'money-supply': 3, 'reserves': 3, 'heat': 2, 'lead': 2, 'strategic-metal': 2, 'iron-steel': 2, 'palm-oil': 2, 'cocoa': 2, 'gold': 2, 'ipi': 2, 'alum': 2, 'pet-chem': 2, 'copper': 2, 'nickel': 1, 'coffee': 1, 'barley': 1, 'jobs': 1, 'livestock': 1, 'silver': 1, 'naphtha': 1, 'zinc': 1, 'carcass': 1, 'wpi': 1, 'coconut-oil': 1, 'cotton-oil': 1, 'rape-oil': 1, 'soy-oil': 1, 'sun-oil': 1, 'nat-gas': 1, 'groundnut': 1, 'propane': 1})\n",
            "Cluster num : 1\n",
            "Counter({'earn': 44, 'acq': 35, 'grain': 14, 'interest': 10, 'wheat': 10, 'trade': 9, 'money-fx': 9, 'ship': 9, 'crude': 8, 'dlr': 3, 'rice': 3, 'coffee': 3, 'gnp': 3, 'copper': 2, 'livestock': 2, 'bop': 2, 'corn': 2, 'cpi': 2, 'lei': 2, 'alum': 2, 'soybean': 2, 'gas': 2, 'strategic-metal': 2, 'nat-gas': 2, 'yen': 1, 'carcass': 1, 'jobs': 1, 'sorghum': 1, 'meal-feed': 1, 'soy-meal': 1, 'cotton': 1, 'gold': 1, 'veg-oil': 1, 'iron-steel': 1, 'sugar': 1, 'pet-chem': 1, 'housing': 1, 'income': 1, 'oilseed': 1})\n",
            "Cluster num : 2\n",
            "Counter({'acq': 53, 'earn': 47, 'trade': 13, 'grain': 10, 'crude': 8, 'money-fx': 7, 'interest': 5, 'ship': 5, 'coffee': 4, 'wheat': 4, 'oilseed': 4, 'iron-steel': 3, 'corn': 3, 'soybean': 3, 'gold': 2, 'ipi': 2, 'rice': 2, 'barley': 2, 'reserves': 2, 'bop': 2, 'cpi': 2, 'gnp': 2, 'platinum': 2, 'silver': 2, 'gas': 2, 'sugar': 2, 'zinc': 2, 'fuel': 2, 'income': 2, 'jobs': 2, 'tin': 1, 'rubber': 1, 'soy-oil': 1, 'veg-oil': 1, 'potato': 1, 'orange': 1, 'copper': 1, 'groundnut': 1, 'wpi': 1, 'money-supply': 1, 'lead': 1, 'strategic-metal': 1, 'hog': 1, 'dlr': 1, 'yen': 1, 'nat-gas': 1})\n",
            "Cluster num : 3\n",
            "Counter({'earn': 66, 'acq': 34, 'money-fx': 23, 'trade': 12, 'interest': 12, 'crude': 11, 'grain': 10, 'dlr': 9, 'ship': 7, 'sugar': 4, 'corn': 4, 'gold': 4, 'reserves': 4, 'veg-oil': 3, 'wheat': 3, 'nat-gas': 3, 'oilseed': 2, 'palm-oil': 2, 'soy-oil': 2, 'tin': 2, 'cotton': 2, 'lead': 2, 'money-supply': 2, 'platinum': 2, 'alum': 2, 'cpi': 2, 'pet-chem': 2, 'gnp': 2, 'barley': 2, 'soybean': 1, 'coffee': 1, 'rice': 1, 'yen': 1, 'heat': 1, 'meal-feed': 1, 'soy-meal': 1, 'rubber': 1, 'strategic-metal': 1, 'zinc': 1, 'lumber': 1, 'iron-steel': 1, 'copper': 1, 'silver': 1, 'cocoa': 1, 'nzdlr': 1, 'income': 1, 'bop': 1})\n",
            "Cluster num : 4\n",
            "Counter({'earn': 63, 'acq': 49, 'money-fx': 14, 'grain': 11, 'crude': 10, 'trade': 10, 'wheat': 7, 'interest': 7, 'jobs': 6, 'dlr': 6, 'oilseed': 5, 'meal-feed': 5, 'nat-gas': 4, 'coffee': 4, 'veg-oil': 4, 'corn': 4, 'ship': 4, 'soybean': 3, 'barley': 3, 'cotton': 3, 'soy-meal': 3, 'money-supply': 3, 'gold': 3, 'strategic-metal': 3, 'bop': 3, 'alum': 3, 'lumber': 2, 'palm-oil': 2, 'sorghum': 2, 'yen': 2, 'retail': 2, 'copper': 2, 'orange': 2, 'oat': 2, 'rice': 2, 'gas': 2, 'lead': 2, 'zinc': 2, 'gnp': 2, 'rubber': 1, 'sugar': 1, 'sunseed': 1, 'iron-steel': 1, 'soy-oil': 1, 'livestock': 1, 'silver': 1, 'cpi': 1, 'income': 1, 'wpi': 1, 'ipi': 1, 'carcass': 1, 'coconut': 1, 'coconut-oil': 1, 'copra-cake': 1, 'instal-debt': 1, 'rapeseed': 1})\n",
            "Cluster num : 5\n",
            "Counter({'earn': 62, 'acq': 41, 'crude': 11, 'grain': 9, 'trade': 8, 'money-fx': 8, 'bop': 5, 'alum': 4, 'interest': 4, 'sugar': 3, 'cocoa': 3, 'yen': 3, 'gold': 3, 'corn': 3, 'wheat': 2, 'ship': 2, 'gnp': 2, 'nat-gas': 2, 'cpi': 1, 'heat': 1, 'pet-chem': 1, 'gas': 1, 'groundnut-oil': 1, 'lin-oil': 1, 'meal-feed': 1, 'oilseed': 1, 'rape-oil': 1, 'sorghum': 1, 'soy-oil': 1, 'sun-meal': 1, 'sun-oil': 1, 'veg-oil': 1, 'lead': 1, 'barley': 1, 'coffee': 1, 'fuel': 1, 'rice': 1, 'wpi': 1, 'zinc': 1, 'orange': 1, 'money-supply': 1, 'copper': 1, 'income': 1, 'livestock': 1, 'dlr': 1})\n",
            "Cluster num : 6\n",
            "Counter({'earn': 51, 'acq': 48, 'crude': 12, 'grain': 11, 'money-fx': 8, 'wheat': 7, 'sugar': 5, 'corn': 5, 'oilseed': 5, 'gas': 5, 'interest': 5, 'dlr': 5, 'nat-gas': 4, 'cocoa': 4, 'soybean': 3, 'veg-oil': 3, 'trade': 3, 'fuel': 3, 'meal-feed': 2, 'rice': 2, 'livestock': 2, 'coffee': 2, 'tin': 1, 'jobs': 1, 'rubber': 1, 'palladium': 1, 'platinum': 1, 'strategic-metal': 1, 'gold': 1, 'heat': 1, 'orange': 1, 'potato': 1, 'cotton': 1, 'soy-meal': 1, 'soy-oil': 1, 'money-supply': 1, 'cpi': 1, 'alum': 1, 'carcass': 1, 'tea': 1, 'copper': 1, 'naphtha': 1, 'wpi': 1, 'income': 1, 'pet-chem': 1, 'ship': 1, 'lumber': 1})\n",
            "Cluster num : 7\n",
            "Counter({'earn': 54, 'acq': 52, 'interest': 12, 'money-fx': 12, 'grain': 9, 'crude': 8, 'livestock': 5, 'oilseed': 5, 'dlr': 5, 'wheat': 5, 'carcass': 4, 'corn': 4, 'money-supply': 4, 'veg-oil': 3, 'ship': 3, 'jobs': 3, 'cpi': 3, 'gnp': 3, 'tin': 3, 'palm-oil': 2, 'soybean': 2, 'trade': 2, 'groundnut': 2, 'hog': 2, 'rapeseed': 2, 'meal-feed': 2, 'alum': 2, 'rice': 1, 'l-cattle': 1, 'reserves': 1, 'oat': 1, 'sorghum': 1, 'rape-oil': 1, 'soy-oil': 1, 'copper': 1, 'nat-gas': 1, 'iron-steel': 1, 'rubber': 1, 'ipi': 1, 'fuel': 1, 'pet-chem': 1, 'propane': 1, 'sugar': 1, 'soy-meal': 1, 'barley': 1})\n",
            "Cluster num : 8\n",
            "Counter({'earn': 56, 'acq': 49, 'crude': 9, 'trade': 9, 'money-fx': 8, 'gnp': 8, 'grain': 7, 'dlr': 6, 'money-supply': 6, 'interest': 5, 'bop': 5, 'livestock': 4, 'oilseed': 4, 'ship': 4, 'sugar': 3, 'yen': 3, 'gold': 3, 'carcass': 3, 'orange': 3, 'corn': 3, 'reserves': 3, 'copper': 2, 'soybean': 2, 'cotton': 2, 'sorghum': 2, 'veg-oil': 2, 'meal-feed': 2, 'rapeseed': 2, 'wheat': 1, 'jobs': 1, 'cocoa': 1, 'cpi': 1, 'dfl': 1, 'dmk': 1, 'nat-gas': 1, 'pet-chem': 1, 'barley': 1, 'hog': 1, 'gas': 1, 'lumber': 1, 'soy-meal': 1, 'iron-steel': 1, 'fuel': 1, 'palm-oil': 1, 'alum': 1, 'coffee': 1, 'rice': 1, 'lead': 1, 'zinc': 1})\n",
            "Cluster num : 9\n",
            "Counter({'earn': 66, 'acq': 38, 'interest': 12, 'grain': 10, 'trade': 7, 'crude': 7, 'wheat': 6, 'money-fx': 6, 'corn': 5, 'cpi': 4, 'money-supply': 4, 'nat-gas': 4, 'sugar': 3, 'gnp': 3, 'cotton': 3, 'oilseed': 3, 'soybean': 3, 'veg-oil': 3, 'wpi': 3, 'livestock': 3, 'rubber': 2, 'tin': 2, 'lead': 2, 'cocoa': 2, 'sorghum': 2, 'platinum': 2, 'carcass': 2, 'reserves': 2, 'rice': 1, 'gas': 1, 'zinc': 1, 'dlr': 1, 'iron-steel': 1, 'meal-feed': 1, 'soy-meal': 1, 'soy-oil': 1, 'sunseed': 1, 'barley': 1, 'oat': 1, 'ship': 1, 'tea': 1, 'lei': 1, 'alum': 1, 'bop': 1, 'gold': 1, 'silver': 1, 'jobs': 1})\n",
            "Cluster num : 10\n",
            "Counter({'earn': 68, 'acq': 43, 'trade': 12, 'grain': 12, 'crude': 12, 'interest': 7, 'corn': 7, 'ship': 6, 'money-fx': 6, 'wheat': 6, 'money-supply': 5, 'oilseed': 4, 'gnp': 4, 'soybean': 4, 'sugar': 3, 'veg-oil': 3, 'tin': 2, 'gold': 2, 'cotton': 2, 'meal-feed': 2, 'rice': 2, 'soy-meal': 2, 'soy-oil': 2, 'cocoa': 2, 'nat-gas': 2, 'wpi': 2, 'ipi': 2, 'copper': 2, 'rapeseed': 1, 'potato': 1, 'bop': 1, 'barley': 1, 'cotton-oil': 1, 'oat': 1, 'sorghum': 1, 'strategic-metal': 1, 'pet-chem': 1, 'dmk': 1, 'carcass': 1, 'coffee': 1, 'lead': 1, 'reserves': 1, 'iron-steel': 1, 'alum': 1, 'zinc': 1, 'cpi': 1, 'jobs': 1, 'gas': 1})\n",
            "Distortion : 3.06627\n",
            "==========================\n",
            "\n",
            "Cluster Nums -> 12\n",
            "[171. 158. 167. 162. 180. 150. 155. 155. 187. 161. 188. 166.]\n",
            "Cluster num : 0\n",
            "Counter({'earn': 56, 'acq': 39, 'crude': 14, 'grain': 13, 'interest': 12, 'money-fx': 7, 'wheat': 7, 'corn': 5, 'ship': 4, 'cpi': 3, 'iron-steel': 3, 'trade': 3, 'veg-oil': 3, 'rice': 3, 'money-supply': 3, 'gas': 2, 'dlr': 2, 'sugar': 2, 'strategic-metal': 2, 'bop': 2, 'gnp': 2, 'palm-oil': 2, 'nat-gas': 2, 'gold': 2, 'carcass': 2, 'alum': 2, 'zinc': 2, 'coffee': 1, 'heat': 1, 'barley': 1, 'meal-feed': 1, 'soy-meal': 1, 'livestock': 1, 'cocoa': 1, 'silver': 1, 'oilseed': 1, 'naphtha': 1, 'reserves': 1, 'copper': 1, 'lead': 1, 'wpi': 1, 'coconut-oil': 1, 'cotton-oil': 1, 'rape-oil': 1, 'soy-oil': 1, 'sun-oil': 1, 'groundnut': 1, 'pet-chem': 1, 'propane': 1})\n",
            "Cluster num : 1\n",
            "Counter({'earn': 45, 'acq': 38, 'grain': 15, 'wheat': 11, 'trade': 8, 'money-fx': 7, 'interest': 7, 'ship': 7, 'crude': 7, 'oilseed': 5, 'cotton': 4, 'bop': 3, 'coffee': 3, 'meal-feed': 3, 'soybean': 3, 'veg-oil': 3, 'strategic-metal': 3, 'copper': 2, 'sugar': 2, 'rice': 2, 'sorghum': 2, 'soy-meal': 2, 'corn': 2, 'lei': 2, 'nat-gas': 2, 'gnp': 2, 'dlr': 1, 'yen': 1, 'carcass': 1, 'livestock': 1, 'iron-steel': 1, 'jobs': 1, 'groundnut': 1, 'soy-oil': 1, 'sunseed': 1, 'cpi': 1, 'rapeseed': 1, 'lumber': 1, 'alum': 1, 'gold': 1, 'platinum': 1, 'silver': 1, 'housing': 1, 'income': 1, 'money-supply': 1})\n",
            "Cluster num : 2\n",
            "Counter({'acq': 49, 'earn': 43, 'trade': 14, 'grain': 10, 'money-fx': 7, 'crude': 6, 'coffee': 5, 'interest': 5, 'ship': 5, 'nat-gas': 4, 'wheat': 3, 'reserves': 3, 'bop': 3, 'gnp': 3, 'jobs': 3, 'gold': 2, 'dlr': 2, 'rice': 2, 'iron-steel': 2, 'barley': 2, 'corn': 2, 'oilseed': 2, 'soybean': 2, 'orange': 2, 'gas': 2, 'sugar': 2, 'rubber': 1, 'livestock': 1, 'potato': 1, 'cpi': 1, 'wpi': 1, 'sorghum': 1, 'money-supply': 1, 'carcass': 1, 'ipi': 1, 'lead': 1, 'strategic-metal': 1, 'zinc': 1, 'alum': 1, 'hog': 1, 'fuel': 1, 'platinum': 1, 'silver': 1, 'income': 1, 'tin': 1})\n",
            "Cluster num : 3\n",
            "Counter({'earn': 56, 'acq': 30, 'money-fx': 13, 'grain': 10, 'trade': 8, 'crude': 7, 'interest': 6, 'dlr': 6, 'sugar': 5, 'corn': 5, 'oilseed': 3, 'veg-oil': 3, 'tin': 3, 'lead': 3, 'ship': 3, 'gold': 3, 'reserves': 3, 'palm-oil': 2, 'soy-oil': 2, 'wheat': 2, 'money-supply': 2, 'rice': 2, 'platinum': 2, 'nat-gas': 2, 'alum': 2, 'cpi': 2, 'gnp': 2, 'soybean': 1, 'coffee': 1, 'yen': 1, 'cotton': 1, 'groundnut': 1, 'rubber': 1, 'strategic-metal': 1, 'zinc': 1, 'iron-steel': 1, 'copper': 1, 'silver': 1, 'barley': 1, 'pet-chem': 1, 'cocoa': 1, 'income': 1, 'bop': 1, 'jobs': 1})\n",
            "Cluster num : 4\n",
            "Counter({'earn': 61, 'acq': 44, 'money-fx': 14, 'grain': 11, 'crude': 9, 'trade': 9, 'wheat': 7, 'nat-gas': 5, 'jobs': 5, 'dlr': 5, 'interest': 4, 'corn': 4, 'meal-feed': 4, 'ship': 4, 'copper': 3, 'cotton': 3, 'oilseed': 3, 'veg-oil': 3, 'gold': 3, 'alum': 3, 'yen': 2, 'barley': 2, 'oat': 2, 'sorghum': 2, 'soy-meal': 2, 'lead': 2, 'strategic-metal': 2, 'zinc': 2, 'bop': 2, 'gnp': 2, 'sugar': 1, 'orange': 1, 'rice': 1, 'soy-oil': 1, 'soybean': 1, 'money-supply': 1, 'livestock': 1, 'silver': 1, 'coffee': 1, 'ipi': 1, 'coconut': 1, 'coconut-oil': 1, 'copra-cake': 1, 'palm-oil': 1, 'lumber': 1, 'carcass': 1, 'instal-debt': 1, 'rapeseed': 1, 'gas': 1})\n",
            "Cluster num : 5\n",
            "Counter({'earn': 54, 'acq': 35, 'trade': 10, 'crude': 8, 'grain': 8, 'money-fx': 7, 'interest': 5, 'bop': 4, 'corn': 4, 'coffee': 3, 'sugar': 3, 'cocoa': 3, 'alum': 3, 'veg-oil': 2, 'yen': 2, 'gold': 2, 'money-supply': 2, 'income': 2, 'lumber': 1, 'palm-oil': 1, 'rubber': 1, 'heat': 1, 'pet-chem': 1, 'groundnut-oil': 1, 'lin-oil': 1, 'meal-feed': 1, 'oilseed': 1, 'rape-oil': 1, 'sorghum': 1, 'soy-oil': 1, 'sun-meal': 1, 'sun-oil': 1, 'wheat': 1, 'lead': 1, 'barley': 1, 'fuel': 1, 'rice': 1, 'ship': 1, 'wpi': 1, 'zinc': 1, 'orange': 1, 'iron-steel': 1, 'gas': 1, 'copper': 1, 'livestock': 1, 'gnp': 1, 'dlr': 1, 'nat-gas': 1})\n",
            "Cluster num : 6\n",
            "Counter({'earn': 38, 'acq': 38, 'crude': 14, 'grain': 12, 'money-fx': 9, 'interest': 8, 'corn': 7, 'wheat': 6, 'oilseed': 5, 'nat-gas': 5, 'soybean': 4, 'trade': 4, 'dlr': 4, 'gas': 4, 'cocoa': 4, 'livestock': 3, 'ship': 3, 'sugar': 3, 'veg-oil': 3, 'fuel': 3, 'carcass': 2, 'rice': 2, 'soy-oil': 2, 'gold': 2, 'orange': 2, 'cotton': 2, 'cpi': 2, 'tin': 1, 'jobs': 1, 'sorghum': 1, 'sunseed': 1, 'money-supply': 1, 'palladium': 1, 'platinum': 1, 'strategic-metal': 1, 'rapeseed': 1, 'retail': 1, 'heat': 1, 'potato': 1, 'meal-feed': 1, 'soy-meal': 1, 'alum': 1, 'coffee': 1, 'barley': 1, 'ipi': 1, 'bop': 1, 'gnp': 1, 'copper': 1, 'wpi': 1, 'reserves': 1, 'iron-steel': 1, 'lumber': 1})\n",
            "Cluster num : 7\n",
            "Counter({'earn': 48, 'acq': 44, 'money-fx': 11, 'interest': 9, 'crude': 9, 'grain': 5, 'dlr': 5, 'gnp': 4, 'trade': 4, 'veg-oil': 3, 'cpi': 3, 'livestock': 3, 'wheat': 3, 'carcass': 3, 'palm-oil': 2, 'corn': 2, 'oilseed': 2, 'soybean': 2, 'jobs': 2, 'reserves': 2, 'copper': 2, 'meal-feed': 2, 'alum': 2, 'wpi': 2, 'tin': 2, 'groundnut': 1, 'sugar': 1, 'hog': 1, 'heat': 1, 'rape-oil': 1, 'soy-oil': 1, 'rubber': 1, 'money-supply': 1, 'pet-chem': 1, 'propane': 1, 'soy-meal': 1, 'cocoa': 1, 'barley': 1, 'ship': 1})\n",
            "Cluster num : 8\n",
            "Counter({'earn': 59, 'acq': 46, 'money-fx': 11, 'crude': 9, 'interest': 9, 'gnp': 9, 'grain': 8, 'ship': 8, 'trade': 7, 'bop': 6, 'wheat': 4, 'money-supply': 4, 'sugar': 3, 'livestock': 3, 'gold': 3, 'dlr': 3, 'cpi': 3, 'gas': 2, 'yen': 2, 'carcass': 2, 'oilseed': 2, 'jobs': 2, 'fuel': 2, 'veg-oil': 2, 'alum': 2, 'copper': 1, 'corn': 1, 'soybean': 1, 'cocoa': 1, 'nat-gas': 1, 'dfl': 1, 'dmk': 1, 'hog': 1, 'lumber': 1, 'iron-steel': 1, 'pet-chem': 1, 'reserves': 1, 'ipi': 1, 'palm-oil': 1, 'rapeseed': 1, 'meal-feed': 1, 'rice': 1, 'lead': 1, 'zinc': 1})\n",
            "Cluster num : 9\n",
            "Counter({'earn': 62, 'acq': 39, 'interest': 14, 'grain': 9, 'money-fx': 7, 'crude': 6, 'wheat': 5, 'trade': 4, 'corn': 3, 'nat-gas': 3, 'money-supply': 3, 'cpi': 3, 'rice': 2, 'sugar': 2, 'cocoa': 2, 'ship': 2, 'oilseed': 2, 'soybean': 2, 'dlr': 2, 'tea': 2, 'livestock': 2, 'reserves': 2, 'veg-oil': 2, 'rubber': 1, 'tin': 1, 'gas': 1, 'lead': 1, 'zinc': 1, 'barley': 1, 'oat': 1, 'sorghum': 1, 'meal-feed': 1, 'soy-meal': 1, 'lei': 1, 'alum': 1, 'ipi': 1, 'gnp': 1, 'carcass': 1, 'pet-chem': 1})\n",
            "Cluster num : 10\n",
            "Counter({'earn': 65, 'acq': 39, 'trade': 11, 'grain': 11, 'crude': 9, 'wheat': 8, 'interest': 7, 'money-fx': 6, 'corn': 6, 'money-supply': 5, 'ship': 4, 'oilseed': 4, 'gnp': 4, 'soybean': 4, 'sugar': 3, 'rice': 3, 'barley': 3, 'veg-oil': 3, 'wpi': 3, 'copper': 3, 'tin': 2, 'cotton': 2, 'meal-feed': 2, 'oat': 2, 'soy-meal': 2, 'soy-oil': 2, 'cocoa': 2, 'cpi': 2, 'ipi': 2, 'nickel': 1, 'rapeseed': 1, 'alum': 1, 'gold': 1, 'potato': 1, 'cotton-oil': 1, 'sorghum': 1, 'strategic-metal': 1, 'dlr': 1, 'income': 1, 'retail': 1, 'pet-chem': 1, 'dmk': 1, 'coffee': 1, 'lead': 1, 'reserves': 1, 'iron-steel': 1, 'platinum': 1, 'zinc': 1, 'jobs': 1, 'gas': 1})\n",
            "Cluster num : 11\n",
            "Counter({'acq': 49, 'earn': 46, 'money-fx': 9, 'crude': 7, 'trade': 7, 'grain': 6, 'money-supply': 6, 'interest': 5, 'dlr': 5, 'orange': 5, 'oilseed': 4, 'sugar': 3, 'ship': 3, 'livestock': 3, 'yen': 3, 'soybean': 3, 'gold': 3, 'pet-chem': 3, 'corn': 3, 'coffee': 2, 'rubber': 2, 'cotton': 2, 'reserves': 2, 'cpi': 2, 'ipi': 1, 'tin': 1, 'l-cattle': 1, 'wheat': 1, 'bop': 1, 'lead': 1, 'platinum': 1, 'silver': 1, 'hog': 1, 'gnp': 1, 'wpi': 1, 'iron-steel': 1, 'fuel': 1, 'gas': 1, 'naphtha': 1, 'carcass': 1, 'meal-feed': 1, 'rapeseed': 1, 'sorghum': 1, 'soy-meal': 1, 'jobs': 1, 'nzdlr': 1, 'income': 1, 'rice': 1, 'heat': 1})\n",
            "Distortion : 3.05046\n",
            "==========================\n",
            "\n",
            "Cluster Nums -> 13\n",
            "[146. 170. 153. 157. 151. 134. 130. 153. 172. 148. 159. 166. 161.]\n",
            "Cluster num : 0\n",
            "Counter({'earn': 40, 'acq': 35, 'money-fx': 10, 'trade': 9, 'grain': 9, 'interest': 7, 'dlr': 7, 'crude': 7, 'oilseed': 5, 'corn': 4, 'sugar': 4, 'zinc': 3, 'soybean': 3, 'veg-oil': 3, 'nat-gas': 3, 'cocoa': 3, 'reserves': 3, 'rice': 2, 'tin': 2, 'palm-oil': 2, 'soy-oil': 2, 'wheat': 2, 'money-supply': 2, 'coffee': 2, 'orange': 2, 'lead': 2, 'strategic-metal': 2, 'ipi': 2, 'copper': 2, 'ship': 2, 'rubber': 1, 'sorghum': 1, 'sunseed': 1, 'cotton': 1, 'iron-steel': 1, 'retail': 1, 'livestock': 1, 'meal-feed': 1, 'carcass': 1, 'gas': 1, 'jobs': 1, 'bop': 1, 'cpi': 1, 'platinum': 1})\n",
            "Cluster num : 1\n",
            "Counter({'earn': 49, 'acq': 37, 'grain': 16, 'crude': 11, 'wheat': 10, 'interest': 9, 'money-fx': 9, 'trade': 8, 'nat-gas': 7, 'corn': 5, 'gnp': 4, 'ship': 4, 'sugar': 3, 'barley': 3, 'cpi': 3, 'jobs': 2, 'dlr': 2, 'coffee': 2, 'meal-feed': 2, 'soy-meal': 2, 'veg-oil': 2, 'sorghum': 2, 'wpi': 2, 'livestock': 2, 'bop': 2, 'cocoa': 2, 'rice': 2, 'heat': 1, 'tin': 1, 'cotton': 1, 'oilseed': 1, 'soy-oil': 1, 'soybean': 1, 'oat': 1, 'lei': 1, 'lead': 1, 'carcass': 1, 'alum': 1, 'fuel': 1, 'tea': 1, 'gold': 1, 'lumber': 1, 'money-supply': 1, 'pet-chem': 1})\n",
            "Cluster num : 2\n",
            "Counter({'earn': 51, 'acq': 38, 'crude': 11, 'interest': 9, 'money-fx': 8, 'grain': 7, 'wheat': 4, 'coffee': 3, 'veg-oil': 3, 'oilseed': 3, 'trade': 3, 'reserves': 3, 'corn': 3, 'fuel': 3, 'ship': 2, 'rubber': 2, 'sugar': 2, 'gas': 2, 'money-supply': 2, 'dlr': 2, 'copper': 2, 'zinc': 2, 'gold': 2, 'lumber': 1, 'palm-oil': 1, 'cpi': 1, 'yen': 1, 'groundnut-oil': 1, 'lin-oil': 1, 'meal-feed': 1, 'rape-oil': 1, 'sorghum': 1, 'soy-oil': 1, 'sun-meal': 1, 'sun-oil': 1, 'rice': 1, 'lei': 1, 'soybean': 1, 'bop': 1, 'alum': 1, 'lead': 1, 'strategic-metal': 1, 'cocoa': 1, 'carcass': 1, 'instal-debt': 1, 'rapeseed': 1, 'wpi': 1, 'naphtha': 1, 'income': 1, 'jobs': 1, 'gnp': 1, 'nat-gas': 1, 'pet-chem': 1, 'propane': 1})\n",
            "Cluster num : 3\n",
            "Counter({'earn': 54, 'acq': 43, 'trade': 8, 'interest': 7, 'grain': 7, 'money-supply': 5, 'money-fx': 5, 'crude': 4, 'sugar': 3, 'gold': 3, 'gnp': 3, 'livestock': 2, 'copper': 2, 'lead': 2, 'wheat': 2, 'oilseed': 2, 'rice': 2, 'jobs': 2, 'reserves': 2, 'cpi': 2, 'alum': 2, 'silver': 2, 'pet-chem': 2, 'barley': 2, 'ship': 2, 'nickel': 1, 'tin': 1, 'yen': 1, 'orange': 1, 'corn': 1, 'soybean': 1, 'dlr': 1, 'strategic-metal': 1, 'zinc': 1, 'dfl': 1, 'dmk': 1, 'hog': 1, 'platinum': 1, 'gas': 1, 'carcass': 1, 'income': 1, 'iron-steel': 1, 'fuel': 1, 'palm-oil': 1, 'veg-oil': 1, 'rapeseed': 1})\n",
            "Cluster num : 4\n",
            "Counter({'earn': 45, 'acq': 37, 'crude': 12, 'grain': 9, 'interest': 8, 'money-fx': 7, 'trade': 6, 'ship': 6, 'wheat': 4, 'corn': 3, 'soybean': 3, 'gas': 3, 'nat-gas': 3, 'carcass': 2, 'livestock': 2, 'oilseed': 2, 'rice': 2, 'jobs': 2, 'dlr': 2, 'sugar': 2, 'yen': 2, 'cocoa': 2, 'meal-feed': 2, 'gnp': 2, 'gold': 2, 'wpi': 2, 'alum': 2, 'palladium': 1, 'platinum': 1, 'strategic-metal': 1, 'coffee': 1, 'cotton': 1, 'rapeseed': 1, 'orange': 1, 'veg-oil': 1, 'copper': 1, 'hog': 1, 'naphtha': 1, 'fuel': 1, 'iron-steel': 1, 'barley': 1, 'oat': 1})\n",
            "Cluster num : 5\n",
            "Counter({'earn': 51, 'acq': 29, 'grain': 6, 'trade': 5, 'bop': 5, 'crude': 5, 'gnp': 4, 'money-fx': 4, 'sugar': 4, 'ship': 4, 'cpi': 3, 'interest': 3, 'corn': 3, 'wheat': 3, 'money-supply': 3, 'tin': 2, 'oilseed': 2, 'alum': 2, 'rubber': 2, 'gold': 2, 'rapeseed': 1, 'reserves': 1, 'yen': 1, 'carcass': 1, 'livestock': 1, 'lead': 1, 'soybean': 1, 'copper': 1, 'cocoa': 1, 'orange': 1, 'wpi': 1, 'pet-chem': 1, 'silver': 1, 'propane': 1, 'veg-oil': 1, 'dlr': 1, 'nat-gas': 1, 'lumber': 1})\n",
            "Cluster num : 6\n",
            "Counter({'earn': 49, 'acq': 31, 'grain': 7, 'money-fx': 5, 'trade': 5, 'interest': 5, 'crude': 5, 'ship': 4, 'rice': 3, 'alum': 3, 'lead': 3, 'wheat': 3, 'gold': 3, 'copper': 2, 'money-supply': 2, 'platinum': 2, 'silver': 2, 'zinc': 2, 'barley': 1, 'corn': 1, 'oilseed': 1, 'soybean': 1, 'orange': 1, 'gnp': 1, 'wpi': 1, 'dmk': 1, 'dlr': 1, 'ipi': 1, 'iron-steel': 1, 'strategic-metal': 1, 'reserves': 1, 'groundnut': 1, 'sugar': 1})\n",
            "Cluster num : 7\n",
            "Counter({'earn': 59, 'acq': 33, 'grain': 12, 'money-fx': 9, 'interest': 8, 'corn': 6, 'wheat': 5, 'crude': 4, 'trade': 4, 'oilseed': 3, 'soybean': 3, 'dlr': 3, 'gas': 3, 'livestock': 3, 'bop': 3, 'veg-oil': 3, 'cotton': 3, 'ship': 3, 'ipi': 2, 'sugar': 2, 'cocoa': 2, 'money-supply': 2, 'jobs': 2, 'gold': 2, 'soy-oil': 2, 'barley': 2, 'reserves': 2, 'strategic-metal': 2, 'orange': 1, 'meal-feed': 1, 'oat': 1, 'rice': 1, 'sorghum': 1, 'soy-meal': 1, 'copper': 1, 'silver': 1, 'hog': 1, 'fuel': 1, 'nat-gas': 1, 'carcass': 1, 'iron-steel': 1, 'gnp': 1, 'alum': 1, 'cpi': 1})\n",
            "Cluster num : 8\n",
            "Counter({'earn': 49, 'acq': 37, 'trade': 15, 'money-fx': 14, 'grain': 10, 'crude': 9, 'interest': 9, 'ship': 6, 'wheat': 5, 'dlr': 5, 'gold': 4, 'bop': 3, 'tin': 3, 'barley': 3, 'corn': 3, 'sugar': 2, 'coffee': 2, 'livestock': 2, 'oilseed': 2, 'soybean': 2, 'orange': 2, 'gnp': 2, 'alum': 2, 'money-supply': 2, 'reserves': 2, 'pet-chem': 2, 'gas': 1, 'lead': 1, 'heat': 1, 'cotton': 1, 'carcass': 1, 'platinum': 1, 'ipi': 1, 'iron-steel': 1, 'lumber': 1, 'meal-feed': 1, 'soy-meal': 1, 'jobs': 1, 'income': 1, 'nzdlr': 1})\n",
            "Cluster num : 9\n",
            "Counter({'earn': 44, 'acq': 34, 'crude': 11, 'money-fx': 9, 'grain': 9, 'veg-oil': 6, 'interest': 6, 'trade': 6, 'livestock': 5, 'corn': 5, 'wheat': 5, 'money-supply': 4, 'ship': 4, 'gnp': 4, 'palm-oil': 3, 'oilseed': 3, 'meal-feed': 3, 'soy-meal': 3, 'soy-oil': 3, 'cpi': 3, 'carcass': 3, 'jobs': 2, 'iron-steel': 2, 'coffee': 2, 'dlr': 2, 'soybean': 2, 'rape-oil': 2, 'l-cattle': 1, 'hog': 1, 'cotton': 1, 'rice': 1, 'tea': 1, 'bop': 1, 'rubber': 1, 'pet-chem': 1, 'reserves': 1, 'rapeseed': 1, 'sorghum': 1, 'nat-gas': 1, 'coconut-oil': 1, 'cotton-oil': 1, 'sun-oil': 1, 'gas': 1, 'heat': 1, 'lead': 1, 'zinc': 1})\n",
            "Cluster num : 10\n",
            "Counter({'acq': 45, 'earn': 39, 'money-fx': 13, 'grain': 10, 'crude': 10, 'wheat': 7, 'dlr': 6, 'trade': 6, 'ship': 6, 'interest': 5, 'yen': 5, 'sugar': 4, 'money-supply': 4, 'gnp': 4, 'copper': 3, 'oilseed': 3, 'rice': 3, 'coffee': 3, 'alum': 3, 'cpi': 3, 'soybean': 2, 'sorghum': 2, 'corn': 2, 'veg-oil': 2, 'iron-steel': 2, 'bop': 2, 'nat-gas': 2, 'gold': 1, 'jobs': 1, 'barley': 1, 'cotton': 1, 'cotton-oil': 1, 'meal-feed': 1, 'oat': 1, 'soy-meal': 1, 'soy-oil': 1, 'wpi': 1, 'rapeseed': 1, 'lei': 1, 'pet-chem': 1, 'cocoa': 1, 'livestock': 1, 'reserves': 1, 'housing': 1, 'income': 1})\n",
            "Cluster num : 11\n",
            "Counter({'acq': 52, 'earn': 44, 'crude': 9, 'money-fx': 8, 'interest': 8, 'trade': 7, 'grain': 7, 'corn': 6, 'dlr': 4, 'meal-feed': 4, 'gnp': 4, 'cocoa': 3, 'wheat': 3, 'cotton': 3, 'oilseed': 3, 'soy-meal': 3, 'veg-oil': 3, 'heat': 2, 'tin': 2, 'orange': 2, 'potato': 2, 'soybean': 2, 'money-supply': 2, 'nat-gas': 2, 'rice': 2, 'bop': 2, 'cpi': 2, 'jobs': 2, 'coffee': 2, 'palm-oil': 2, 'carcass': 2, 'alum': 2, 'gold': 1, 'pet-chem': 1, 'sugar': 1, 'rubber': 1, 'iron-steel': 1, 'soy-oil': 1, 'oat': 1, 'sorghum': 1, 'ipi': 1, 'groundnut': 1, 'wpi': 1, 'gas': 1, 'coconut': 1, 'coconut-oil': 1, 'copra-cake': 1})\n",
            "Cluster num : 12\n",
            "Counter({'earn': 59, 'acq': 39, 'grain': 9, 'crude': 7, 'money-fx': 7, 'trade': 7, 'interest': 7, 'wheat': 5, 'nat-gas': 4, 'oilseed': 4, 'bop': 3, 'strategic-metal': 3, 'cpi': 3, 'income': 3, 'groundnut': 2, 'ship': 2, 'sugar': 2, 'cotton': 2, 'corn': 2, 'veg-oil': 2, 'gas': 2, 'gnp': 2, 'iron-steel': 1, 'gold': 1, 'yen': 1, 'potato': 1, 'sorghum': 1, 'soybean': 1, 'sunseed': 1, 'money-supply': 1, 'meal-feed': 1, 'dlr': 1, 'retail': 1, 'wpi': 1, 'ipi': 1, 'lumber': 1, 'fuel': 1, 'coffee': 1, 'rice': 1, 'platinum': 1, 'zinc': 1, 'copper': 1, 'jobs': 1})\n",
            "Distortion : 3.03675\n",
            "==========================\n",
            "\n",
            "Cluster Nums -> 14\n",
            "[133. 165. 145. 154. 146. 133. 131. 132. 151. 140. 142. 144. 148. 136.]\n",
            "Cluster num : 0\n",
            "Counter({'earn': 37, 'acq': 32, 'grain': 11, 'money-fx': 9, 'interest': 8, 'trade': 7, 'crude': 7, 'corn': 5, 'wheat': 5, 'sugar': 4, 'dlr': 4, 'cocoa': 3, 'tin': 2, 'jobs': 2, 'oilseed': 2, 'nat-gas': 2, 'cotton': 2, 'meal-feed': 2, 'gold': 2, 'gas': 2, 'ipi': 2, 'reserves': 2, 'ship': 2, 'rice': 1, 'rubber': 1, 'sorghum': 1, 'soybean': 1, 'sunseed': 1, 'iron-steel': 1, 'retail': 1, 'soy-meal': 1, 'soy-oil': 1, 'veg-oil': 1, 'money-supply': 1, 'livestock': 1, 'silver': 1, 'orange': 1, 'coffee': 1, 'lead': 1, 'strategic-metal': 1, 'zinc': 1, 'copper': 1, 'alum': 1, 'bop': 1, 'gnp': 1, 'cpi': 1, 'platinum': 1})\n",
            "Cluster num : 1\n",
            "Counter({'earn': 52, 'acq': 37, 'grain': 12, 'interest': 9, 'crude': 9, 'wheat': 8, 'nat-gas': 6, 'money-fx': 6, 'trade': 6, 'ship': 5, 'cocoa': 4, 'gnp': 4, 'barley': 4, 'cpi': 4, 'jobs': 3, 'corn': 3, 'cotton': 2, 'dlr': 2, 'coffee': 2, 'veg-oil': 2, 'sorghum': 2, 'livestock': 2, 'zinc': 1, 'heat': 1, 'sugar': 1, 'meal-feed': 1, 'oilseed': 1, 'soy-meal': 1, 'soy-oil': 1, 'soybean': 1, 'oat': 1, 'wpi': 1, 'lei': 1, 'lead': 1, 'carcass': 1, 'bop': 1, 'alum': 1, 'fuel': 1, 'tea': 1, 'rice': 1, 'gold': 1, 'lumber': 1, 'money-supply': 1, 'pet-chem': 1})\n",
            "Cluster num : 2\n",
            "Counter({'earn': 49, 'acq': 35, 'crude': 12, 'money-fx': 8, 'interest': 8, 'grain': 6, 'wheat': 4, 'coffee': 3, 'trade': 3, 'gold': 3, 'ship': 2, 'rubber': 2, 'sugar': 2, 'pet-chem': 2, 'gas': 2, 'yen': 2, 'money-supply': 2, 'dlr': 2, 'reserves': 2, 'fuel': 2, 'zinc': 2, 'lumber': 1, 'palm-oil': 1, 'veg-oil': 1, 'corn': 1, 'rice': 1, 'lei': 1, 'iron-steel': 1, 'bop': 1, 'alum': 1, 'lead': 1, 'strategic-metal': 1, 'carcass': 1, 'copper': 1, 'oilseed': 1, 'rapeseed': 1, 'wpi': 1, 'livestock': 1, 'gnp': 1, 'nat-gas': 1, 'propane': 1})\n",
            "Cluster num : 3\n",
            "Counter({'earn': 52, 'acq': 38, 'trade': 8, 'grain': 7, 'money-supply': 5, 'interest': 5, 'money-fx': 5, 'sugar': 4, 'gnp': 4, 'crude': 4, 'rice': 3, 'gold': 3, 'tin': 2, 'copper': 2, 'lead': 2, 'ship': 2, 'wheat': 2, 'oilseed': 2, 'jobs': 2, 'dlr': 2, 'palm-oil': 2, 'veg-oil': 2, 'cpi': 2, 'alum': 2, 'silver': 2, 'pet-chem': 2, 'nickel': 1, 'yen': 1, 'cotton': 1, 'orange': 1, 'corn': 1, 'soybean': 1, 'reserves': 1, 'livestock': 1, 'strategic-metal': 1, 'zinc': 1, 'dfl': 1, 'dmk': 1, 'barley': 1, 'hog': 1, 'platinum': 1, 'gas': 1, 'coffee': 1, 'carcass': 1, 'income': 1, 'iron-steel': 1, 'fuel': 1, 'rapeseed': 1})\n",
            "Cluster num : 4\n",
            "Counter({'earn': 39, 'acq': 34, 'crude': 13, 'money-fx': 12, 'grain': 12, 'interest': 11, 'wheat': 7, 'dlr': 6, 'ship': 6, 'meal-feed': 4, 'corn': 3, 'veg-oil': 3, 'gas': 3, 'oilseed': 3, 'nat-gas': 3, 'alum': 3, 'strategic-metal': 2, 'yen': 2, 'trade': 2, 'rice': 2, 'soybean': 2, 'wpi': 2, 'carcass': 1, 'livestock': 1, 'palladium': 1, 'platinum': 1, 'groundnut-oil': 1, 'lin-oil': 1, 'rape-oil': 1, 'sorghum': 1, 'soy-oil': 1, 'sun-meal': 1, 'sun-oil': 1, 'rapeseed': 1, 'bop': 1, 'orange': 1, 'potato': 1, 'soy-meal': 1, 'cotton': 1, 'gnp': 1, 'gold': 1, 'copper': 1, 'sugar': 1, 'jobs': 1, 'hog': 1, 'naphtha': 1, 'iron-steel': 1, 'money-supply': 1, 'barley': 1, 'oat': 1})\n",
            "Cluster num : 5\n",
            "Counter({'earn': 53, 'acq': 24, 'grain': 9, 'crude': 5, 'interest': 4, 'money-fx': 4, 'sugar': 4, 'wheat': 4, 'bop': 4, 'corn': 4, 'oilseed': 3, 'ship': 3, 'money-supply': 3, 'gnp': 3, 'trade': 3, 'alum': 3, 'livestock': 2, 'soybean': 2, 'cpi': 2, 'nat-gas': 2, 'rubber': 2, 'gold': 2, 'rapeseed': 1, 'yen': 1, 'carcass': 1, 'lead': 1, 'barley': 1, 'cotton': 1, 'cotton-oil': 1, 'meal-feed': 1, 'oat': 1, 'rice': 1, 'sorghum': 1, 'soy-meal': 1, 'soy-oil': 1, 'veg-oil': 1, 'copper': 1, 'cocoa': 1, 'hog': 1, 'orange': 1, 'wpi': 1, 'pet-chem': 1, 'silver': 1, 'propane': 1, 'income': 1, 'strategic-metal': 1, 'tin': 1, 'dlr': 1, 'lumber': 1})\n",
            "Cluster num : 6\n",
            "Counter({'earn': 44, 'acq': 31, 'trade': 8, 'money-fx': 6, 'grain': 6, 'interest': 5, 'crude': 5, 'alum': 3, 'lead': 3, 'wheat': 3, 'ship': 3, 'rice': 2, 'corn': 2, 'orange': 2, 'copper': 2, 'gold': 2, 'platinum': 2, 'silver': 2, 'zinc': 2, 'cpi': 1, 'yen': 1, 'barley': 1, 'oilseed': 1, 'soybean': 1, 'money-supply': 1, 'gnp': 1, 'wpi': 1, 'gas': 1, 'cocoa': 1, 'dmk': 1, 'carcass': 1, 'bop': 1, 'ipi': 1, 'iron-steel': 1, 'fuel': 1, 'reserves': 1, 'groundnut': 1, 'sugar': 1})\n",
            "Cluster num : 7\n",
            "Counter({'earn': 49, 'acq': 35, 'grain': 10, 'corn': 5, 'wheat': 4, 'interest': 4, 'crude': 4, 'trade': 4, 'cotton': 4, 'oilseed': 3, 'money-fx': 3, 'livestock': 3, 'cocoa': 3, 'soybean': 2, 'dlr': 2, 'money-supply': 2, 'gas': 2, 'bop': 2, 'orange': 2, 'barley': 2, 'rice': 2, 'veg-oil': 2, 'nat-gas': 2, 'carcass': 2, 'strategic-metal': 2, 'ipi': 1, 'jobs': 1, 'gold': 1, 'heat': 1, 'meal-feed': 1, 'oat': 1, 'sorghum': 1, 'soy-meal': 1, 'soy-oil': 1, 'coffee': 1, 'lead': 1, 'zinc': 1, 'reserves': 1, 'iron-steel': 1, 'alum': 1, 'cpi': 1})\n",
            "Cluster num : 8\n",
            "Counter({'earn': 38, 'acq': 33, 'money-fx': 14, 'grain': 12, 'trade': 10, 'interest': 10, 'crude': 9, 'ship': 5, 'gnp': 4, 'gold': 4, 'corn': 4, 'wheat': 4, 'dlr': 4, 'bop': 3, 'sugar': 3, 'tin': 2, 'coffee': 2, 'barley': 2, 'livestock': 2, 'reserves': 2, 'nat-gas': 1, 'gas': 1, 'lead': 1, 'cpi': 1, 'carcass': 1, 'orange': 1, 'copper': 1, 'platinum': 1, 'tea': 1, 'fuel': 1, 'alum': 1, 'ipi': 1, 'pet-chem': 1, 'iron-steel': 1, 'lumber': 1, 'meal-feed': 1, 'oilseed': 1, 'soy-meal': 1, 'soybean': 1, 'jobs': 1, 'nzdlr': 1, 'rice': 1, 'veg-oil': 1})\n",
            "Cluster num : 9\n",
            "Counter({'earn': 46, 'acq': 34, 'money-fx': 9, 'grain': 9, 'crude': 9, 'veg-oil': 5, 'corn': 5, 'trade': 4, 'livestock': 4, 'wheat': 4, 'interest': 4, 'palm-oil': 3, 'dlr': 3, 'soy-oil': 3, 'carcass': 3, 'money-supply': 3, 'ship': 3, 'gnp': 3, 'sugar': 2, 'iron-steel': 2, 'coffee': 2, 'meal-feed': 2, 'oilseed': 2, 'soy-meal': 2, 'rape-oil': 2, 'cpi': 2, 'tin': 1, 'l-cattle': 1, 'cotton': 1, 'rice': 1, 'soybean': 1, 'rubber': 1, 'pet-chem': 1, 'reserves': 1, 'rapeseed': 1, 'sorghum': 1, 'nat-gas': 1, 'coconut-oil': 1, 'cotton-oil': 1, 'sun-oil': 1, 'jobs': 1, 'bop': 1, 'yen': 1, 'heat': 1, 'lead': 1, 'zinc': 1})\n",
            "Cluster num : 10\n",
            "Counter({'acq': 42, 'earn': 33, 'money-fx': 11, 'crude': 10, 'grain': 8, 'trade': 7, 'ship': 7, 'dlr': 6, 'interest': 5, 'wheat': 5, 'money-supply': 5, 'copper': 3, 'yen': 3, 'coffee': 3, 'sugar': 2, 'oilseed': 2, 'rice': 2, 'alum': 2, 'cpi': 2, 'gnp': 2, 'jobs': 1, 'soybean': 1, 'sorghum': 1, 'wpi': 1, 'rapeseed': 1, 'lei': 1, 'ipi': 1, 'pet-chem': 1, 'cocoa': 1, 'veg-oil': 1, 'iron-steel': 1, 'instal-debt': 1, 'fuel': 1, 'gas': 1, 'naphtha': 1, 'nat-gas': 1, 'housing': 1, 'income': 1, 'corn': 1})\n",
            "Cluster num : 11\n",
            "Counter({'earn': 50, 'acq': 38, 'crude': 9, 'trade': 8, 'money-fx': 6, 'grain': 6, 'interest': 5, 'corn': 4, 'nat-gas': 4, 'cpi': 4, 'gnp': 4, 'dlr': 3, 'sugar': 2, 'oilseed': 2, 'wheat': 2, 'meal-feed': 2, 'rice': 2, 'income': 2, 'wpi': 2, 'bop': 2, 'jobs': 2, 'coffee': 2, 'cocoa': 2, 'reserves': 2, 'gold': 1, 'heat': 1, 'hog': 1, 'livestock': 1, 'iron-steel': 1, 'tin': 1, 'orange': 1, 'soybean': 1, 'ship': 1, 'strategic-metal': 1, 'potato': 1, 'soy-meal': 1, 'oat': 1, 'sorghum': 1, 'retail': 1, 'ipi': 1, 'groundnut': 1, 'coconut': 1, 'coconut-oil': 1, 'copra-cake': 1, 'palm-oil': 1, 'veg-oil': 1, 'fuel': 1, 'barley': 1})\n",
            "Cluster num : 12\n",
            "Counter({'earn': 51, 'acq': 37, 'money-fx': 9, 'trade': 8, 'interest': 7, 'oilseed': 6, 'grain': 6, 'soybean': 4, 'veg-oil': 4, 'wheat': 4, 'crude': 4, 'ship': 3, 'groundnut': 2, 'sugar': 2, 'bop': 2, 'strategic-metal': 2, 'corn': 2, 'money-supply': 2, 'cpi': 2, 'nat-gas': 2, 'gnp': 2, 'income': 2, 'palm-oil': 1, 'soy-oil': 1, 'iron-steel': 1, 'gold': 1, 'potato': 1, 'sorghum': 1, 'sunseed': 1, 'meal-feed': 1, 'dlr': 1, 'ipi': 1, 'lumber': 1, 'reserves': 1, 'platinum': 1, 'zinc': 1, 'copper': 1, 'jobs': 1, 'tin': 1, 'wpi': 1})\n",
            "Cluster num : 13\n",
            "Counter({'earn': 40, 'acq': 40, 'trade': 11, 'interest': 6, 'money-fx': 6, 'oilseed': 5, 'soybean': 5, 'crude': 5, 'corn': 4, 'grain': 4, 'money-supply': 4, 'bop': 4, 'ship': 3, 'reserves': 3, 'veg-oil': 3, 'carcass': 2, 'soy-oil': 2, 'wheat': 2, 'cotton': 2, 'meal-feed': 2, 'soy-meal': 2, 'copper': 2, 'gas': 2, 'sugar': 2, 'jobs': 2, 'gnp': 2, 'gold': 1, 'livestock': 1, 'rice': 1, 'coffee': 1, 'rubber': 1, 'heat': 1, 'orange': 1, 'dlr': 1, 'pet-chem': 1, 'alum': 1, 'palm-oil': 1, 'tin': 1})\n",
            "Distortion : 3.02219\n",
            "==========================\n",
            "\n",
            "Cluster Nums -> 15\n",
            "[117. 123. 130. 134. 132. 143. 120. 140. 118. 149. 123. 130. 137. 165.\n",
            " 139.]\n",
            "Cluster num : 0\n",
            "Counter({'earn': 42, 'acq': 20, 'interest': 10, 'money-fx': 9, 'crude': 5, 'jobs': 5, 'trade': 5, 'grain': 5, 'dlr': 4, 'bop': 4, 'wheat': 4, 'nat-gas': 3, 'gas': 2, 'money-supply': 2, 'reserves': 2, 'cotton': 2, 'gnp': 2, 'lead': 1, 'coffee': 1, 'sugar': 1, 'barley': 1, 'corn': 1, 'oilseed': 1, 'rapeseed': 1, 'orange': 1, 'cpi': 1, 'gold': 1, 'coconut': 1, 'coconut-oil': 1, 'copra-cake': 1, 'meal-feed': 1, 'palm-oil': 1, 'veg-oil': 1, 'lumber': 1, 'tin': 1, 'cocoa': 1, 'alum': 1})\n",
            "Cluster num : 1\n",
            "Counter({'earn': 39, 'acq': 31, 'grain': 9, 'trade': 6, 'interest': 6, 'money-supply': 6, 'wheat': 5, 'money-fx': 5, 'gnp': 4, 'ship': 3, 'livestock': 3, 'corn': 3, 'sorghum': 3, 'crude': 3, 'rice': 3, 'sugar': 2, 'coffee': 2, 'meal-feed': 2, 'oilseed': 2, 'soybean': 2, 'veg-oil': 2, 'ipi': 2, 'cpi': 2, 'cocoa': 2, 'l-cattle': 1, 'cotton': 1, 'soy-meal': 1, 'soy-oil': 1, 'sunseed': 1, 'nat-gas': 1, 'oat': 1, 'iron-steel': 1, 'tea': 1, 'palm-oil': 1, 'carcass': 1, 'wpi': 1, 'bop': 1, 'alum': 1, 'heat': 1, 'lumber': 1})\n",
            "Cluster num : 2\n",
            "Counter({'earn': 39, 'acq': 35, 'trade': 11, 'grain': 9, 'crude': 8, 'money-fx': 7, 'wheat': 6, 'cpi': 4, 'gnp': 4, 'interest': 4, 'corn': 4, 'livestock': 3, 'oilseed': 3, 'soybean': 3, 'barley': 3, 'ship': 2, 'meal-feed': 2, 'oat': 2, 'sorghum': 2, 'soy-meal': 2, 'soy-oil': 2, 'veg-oil': 2, 'cocoa': 2, 'iron-steel': 2, 'bop': 2, 'gold': 2, 'silver': 2, 'dlr': 2, 'pet-chem': 1, 'sugar': 1, 'heat': 1, 'hog': 1, 'carcass': 1, 'cotton': 1, 'rice': 1, 'rape-oil': 1, 'alum': 1, 'lei': 1, 'money-supply': 1, 'fuel': 1, 'platinum': 1, 'jobs': 1, 'yen': 1, 'nat-gas': 1})\n",
            "Cluster num : 3\n",
            "Counter({'earn': 41, 'acq': 38, 'grain': 8, 'ship': 7, 'wheat': 7, 'trade': 5, 'sugar': 5, 'money-fx': 4, 'crude': 4, 'interest': 3, 'dlr': 3, 'nat-gas': 3, 'money-supply': 3, 'veg-oil': 2, 'oilseed': 2, 'soybean': 2, 'rubber': 2, 'cpi': 2, 'gnp': 2, 'bop': 2, 'palm-oil': 1, 'tin': 1, 'gold': 1, 'cotton': 1, 'meal-feed': 1, 'corn': 1, 'hog': 1, 'reserves': 1, 'jobs': 1, 'lead': 1, 'rice': 1, 'income': 1, 'barley': 1, 'copper': 1})\n",
            "Cluster num : 4\n",
            "Counter({'earn': 42, 'acq': 34, 'grain': 12, 'interest': 9, 'corn': 6, 'coffee': 6, 'oilseed': 6, 'crude': 6, 'soybean': 4, 'money-fx': 4, 'rice': 3, 'trade': 3, 'veg-oil': 3, 'meal-feed': 3, 'soy-meal': 3, 'reserves': 3, 'carcass': 3, 'rubber': 2, 'sugar': 2, 'palm-oil': 2, 'zinc': 2, 'soy-oil': 2, 'gas': 2, 'wheat': 2, 'dlr': 2, 'ship': 2, 'livestock': 2, 'money-supply': 2, 'tin': 1, 'lumber': 1, 'ipi': 1, 'heat': 1, 'cotton': 1, 'wpi': 1, 'alum': 1, 'lead': 1, 'strategic-metal': 1, 'hog': 1, 'copper': 1, 'rapeseed': 1, 'sorghum': 1, 'groundnut': 1})\n",
            "Cluster num : 5\n",
            "Counter({'earn': 53, 'acq': 32, 'money-fx': 10, 'interest': 9, 'crude': 6, 'grain': 5, 'trade': 4, 'money-supply': 4, 'ship': 3, 'sugar': 3, 'strategic-metal': 3, 'corn': 3, 'oilseed': 2, 'wheat': 2, 'meal-feed': 2, 'dlr': 2, 'gnp': 2, 'lead': 2, 'nat-gas': 2, 'tin': 1, 'iron-steel': 1, 'gold': 1, 'yen': 1, 'groundnut': 1, 'potato': 1, 'soy-meal': 1, 'veg-oil': 1, 'reserves': 1, 'cpi': 1, 'zinc': 1, 'lumber': 1, 'gas': 1, 'copper': 1, 'coffee': 1, 'carcass': 1, 'income': 1, 'platinum': 1, 'ipi': 1, 'wpi': 1})\n",
            "Cluster num : 6\n",
            "Counter({'earn': 40, 'acq': 28, 'grain': 8, 'interest': 6, 'crude': 5, 'money-fx': 4, 'cpi': 4, 'alum': 4, 'wheat': 4, 'ship': 4, 'trade': 4, 'copper': 3, 'dlr': 3, 'corn': 3, 'gnp': 3, 'cocoa': 2, 'rice': 2, 'bop': 2, 'carcass': 2, 'nat-gas': 2, 'pet-chem': 2, 'gold': 2, 'zinc': 2, 'yen': 1, 'sugar': 1, 'cotton': 1, 'jobs': 1, 'sorghum': 1, 'barley': 1, 'livestock': 1, 'oilseed': 1, 'rapeseed': 1, 'lei': 1, 'fuel': 1, 'gas': 1, 'silver': 1, 'iron-steel': 1, 'lead': 1, 'propane': 1})\n",
            "Cluster num : 7\n",
            "Counter({'earn': 43, 'acq': 26, 'money-fx': 13, 'grain': 10, 'crude': 9, 'interest': 7, 'wheat': 6, 'dlr': 6, 'trade': 5, 'ship': 4, 'corn': 4, 'yen': 3, 'jobs': 2, 'rubber': 2, 'rice': 2, 'pet-chem': 2, 'cpi': 2, 'groundnut': 1, 'coffee': 1, 'palladium': 1, 'platinum': 1, 'strategic-metal': 1, 'sugar': 1, 'bop': 1, 'lead': 1, 'orange': 1, 'potato': 1, 'cotton': 1, 'copper': 1, 'wpi': 1, 'livestock': 1, 'money-supply': 1, 'reserves': 1, 'alum': 1, 'propane': 1, 'cocoa': 1, 'fuel': 1, 'gas': 1, 'naphtha': 1, 'income': 1, 'tin': 1, 'gnp': 1})\n",
            "Cluster num : 8\n",
            "Counter({'acq': 34, 'earn': 33, 'trade': 7, 'grain': 7, 'interest': 6, 'jobs': 5, 'gnp': 4, 'money-fx': 3, 'oilseed': 3, 'rice': 2, 'iron-steel': 2, 'wheat': 2, 'bop': 2, 'cpi': 2, 'sugar': 2, 'coffee': 2, 'gas': 2, 'crude': 2, 'nat-gas': 2, 'reserves': 2, 'rubber': 1, 'gold': 1, 'ship': 1, 'potato': 1, 'soybean': 1, 'orange': 1, 'cocoa': 1, 'corn': 1, 'groundnut': 1, 'dlr': 1, 'meal-feed': 1, 'wpi': 1, 'lei': 1, 'money-supply': 1, 'ipi': 1, 'lead': 1, 'strategic-metal': 1, 'zinc': 1, 'fuel': 1, 'alum': 1, 'income': 1})\n",
            "Cluster num : 9\n",
            "Counter({'earn': 47, 'acq': 36, 'crude': 11, 'grain': 9, 'money-fx': 8, 'trade': 8, 'wheat': 5, 'ship': 5, 'gold': 5, 'interest': 4, 'sugar': 4, 'barley': 3, 'corn': 2, 'gas': 2, 'livestock': 2, 'oilseed': 2, 'orange': 2, 'fuel': 2, 'alum': 2, 'bop': 1, 'tin': 1, 'jobs': 1, 'iron-steel': 1, 'yen': 1, 'coffee': 1, 'retail': 1, 'soy-oil': 1, 'veg-oil': 1, 'carcass': 1, 'soybean': 1, 'cpi': 1, 'copper': 1, 'platinum': 1, 'dlr': 1, 'hog': 1, 'reserves': 1, 'ipi': 1, 'income': 1, 'nzdlr': 1, 'nat-gas': 1, 'gnp': 1})\n",
            "Cluster num : 10\n",
            "Counter({'earn': 39, 'acq': 31, 'trade': 7, 'grain': 7, 'money-fx': 6, 'crude': 5, 'veg-oil': 4, 'interest': 4, 'gold': 4, 'rice': 3, 'dlr': 2, 'ship': 2, 'wheat': 2, 'yen': 2, 'oilseed': 2, 'soybean': 2, 'cotton': 2, 'orange': 2, 'barley': 2, 'corn': 2, 'oat': 2, 'soy-oil': 2, 'wpi': 2, 'gnp': 2, 'nickel': 1, 'lead': 1, 'reserves': 1, 'cotton-oil': 1, 'meal-feed': 1, 'sorghum': 1, 'soy-meal': 1, 'money-supply': 1, 'cpi': 1, 'income': 1, 'retail': 1, 'livestock': 1, 'sugar': 1, 'pet-chem': 1, 'nat-gas': 1, 'carcass': 1, 'copper': 1, 'bop': 1, 'fuel': 1, 'alum': 1, 'palm-oil': 1, 'tin': 1})\n",
            "Cluster num : 11\n",
            "Counter({'earn': 38, 'acq': 32, 'money-fx': 12, 'crude': 9, 'interest': 5, 'trade': 5, 'oilseed': 4, 'dlr': 4, 'grain': 4, 'ship': 4, 'gold': 3, 'corn': 3, 'soybean': 3, 'money-supply': 3, 'alum': 3, 'orange': 2, 'cotton': 2, 'meal-feed': 2, 'soy-meal': 2, 'silver': 2, 'gas': 2, 'nat-gas': 2, 'reserves': 2, 'zinc': 2, 'cocoa': 1, 'rapeseed': 1, 'tin': 1, 'heat': 1, 'soy-oil': 1, 'veg-oil': 1, 'wheat': 1, 'copper': 1, 'livestock': 1, 'cpi': 1, 'platinum': 1, 'pet-chem': 1, 'sugar': 1, 'dmk': 1, 'carcass': 1, 'jobs': 1, 'bop': 1, 'gnp': 1, 'lead': 1})\n",
            "Cluster num : 12\n",
            "Counter({'earn': 45, 'acq': 32, 'crude': 11, 'grain': 10, 'wheat': 7, 'money-fx': 5, 'interest': 5, 'corn': 4, 'veg-oil': 4, 'bop': 4, 'trade': 4, 'alum': 3, 'meal-feed': 2, 'soybean': 2, 'pet-chem': 2, 'wpi': 2, 'strategic-metal': 2, 'ship': 2, 'heat': 1, 'carcass': 1, 'livestock': 1, 'gas': 1, 'yen': 1, 'groundnut-oil': 1, 'lin-oil': 1, 'oilseed': 1, 'rape-oil': 1, 'sorghum': 1, 'soy-oil': 1, 'sun-meal': 1, 'sun-oil': 1, 'lead': 1, 'dlr': 1, 'soy-meal': 1, 'cotton': 1, 'zinc': 1, 'rice': 1, 'money-supply': 1, 'copper': 1, 'sugar': 1, 'naphtha': 1, 'ipi': 1, 'platinum': 1, 'silver': 1, 'nat-gas': 1, 'iron-steel': 1, 'reserves': 1, 'tin': 1})\n",
            "Cluster num : 13\n",
            "Counter({'earn': 50, 'acq': 42, 'money-fx': 10, 'grain': 8, 'trade': 8, 'interest': 8, 'crude': 8, 'corn': 5, 'oilseed': 4, 'livestock': 3, 'soybean': 3, 'sugar': 3, 'money-supply': 3, 'copper': 3, 'iron-steel': 3, 'cocoa': 3, 'ship': 3, 'dlr': 3, 'veg-oil': 3, 'gnp': 3, 'tin': 2, 'carcass': 2, 'rice': 2, 'wheat': 2, 'orange': 2, 'palm-oil': 2, 'nat-gas': 2, 'strategic-metal': 2, 'sorghum': 1, 'sunseed': 1, 'gold': 1, 'cotton': 1, 'wpi': 1, 'ipi': 1, 'dfl': 1, 'dmk': 1, 'coffee': 1, 'barley': 1, 'lead': 1, 'zinc': 1, 'gas': 1, 'bop': 1, 'reserves': 1, 'fuel': 1, 'rapeseed': 1, 'platinum': 1})\n",
            "Cluster num : 14\n",
            "Counter({'earn': 42, 'acq': 39, 'crude': 13, 'money-fx': 8, 'grain': 7, 'trade': 7, 'interest': 5, 'nat-gas': 4, 'dlr': 3, 'gnp': 3, 'coffee': 3, 'wheat': 3, 'ship': 3, 'veg-oil': 3, 'sugar': 2, 'money-supply': 2, 'corn': 2, 'cocoa': 2, 'copper': 1, 'cpi': 1, 'tea': 1, 'pet-chem': 1, 'barley': 1, 'gold': 1, 'lumber': 1, 'instal-debt': 1, 'oilseed': 1, 'rapeseed': 1, 'strategic-metal': 1, 'yen': 1, 'livestock': 1, 'coconut-oil': 1, 'cotton-oil': 1, 'palm-oil': 1, 'rape-oil': 1, 'soy-oil': 1, 'sun-oil': 1, 'housing': 1, 'income': 1, 'bop': 1})\n",
            "Distortion : 3.01436\n",
            "==========================\n",
            "\n"
          ],
          "name": "stdout"
        }
      ]
    },
    {
      "cell_type": "code",
      "metadata": {
        "id": "6ZaOIm0OqQOX",
        "colab_type": "code",
        "colab": {
          "base_uri": "https://localhost:8080/",
          "height": 295
        },
        "outputId": "263e80f6-e661-4a27-a4c3-f47b78c662cc"
      },
      "source": [
        "# エルボー法の plot\n",
        "plt.plot(x, y, marker='o')\n",
        "plt.xlabel('Number of clusters')\n",
        "plt.ylabel('Distortion')\n",
        "plt.title(\"doc2vec sse\")\n",
        "plt.show()"
      ],
      "execution_count": 21,
      "outputs": [
        {
          "output_type": "display_data",
          "data": {
            "image/png": "[encoded data removed]",
            "text/plain": [
              "<Figure size 432x288 with 1 Axes>"
            ]
          },
          "metadata": {
            "tags": [],
            "needs_background": "light"
          }
        }
      ]
    },
    {
      "cell_type": "markdown",
      "metadata": {
        "id": "yRRWSoojOm1-",
        "colab_type": "text"
      },
      "source": [
        "#### tf-idf"
      ]
    },
    {
      "cell_type": "code",
      "metadata": {
        "colab_type": "code",
        "id": "DLHFhJD8sACN",
        "colab": {
          "base_uri": "https://localhost:8080/",
          "height": 1000
        },
        "outputId": "1be4f1c2-fe7b-4825-b7bb-0f7b8a2e9155"
      },
      "source": [
        "x = np.empty(0)\n",
        "y = np.empty(0)\n",
        "\n",
        "for i in range(1, 16, 1):\n",
        "  print(\"Cluster Nums -> \" + str(i))\n",
        "  # モデル定義 / fit\n",
        "  clusters, sse = fun_kmeans(i, tf_idf)\n",
        "\n",
        "  # クラスタリング結果表示（数）\n",
        "  cluster_counter(i, np.shape(tf_idf)[0], clusters)\n",
        "\n",
        "  # タグの表示\n",
        "  show_category(i, clusters)\n",
        "\n",
        "  # SSE の表示\n",
        "  print(\"Distortion : %.5f\"% sse)\n",
        "\n",
        "  # plot 用\n",
        "  x = np.append(x, i)\n",
        "  y = np.append(y, sse)\n",
        "\n",
        "  print(\"==========================\\n\")"
      ],
      "execution_count": 22,
      "outputs": [
        {
          "output_type": "stream",
          "text": [
            "Cluster Nums -> 1\n",
            "[2000.]\n",
            "Cluster num : 0\n",
            "Counter({'earn': 633, 'acq': 490, 'grain': 118, 'money-fx': 108, 'crude': 105, 'interest': 91, 'trade': 89, 'wheat': 58, 'ship': 45, 'corn': 44, 'dlr': 37, 'oilseed': 34, 'gnp': 32, 'sugar': 30, 'money-supply': 30, 'veg-oil': 27, 'nat-gas': 25, 'soybean': 23, 'bop': 23, 'gold': 22, 'cpi': 22, 'rice': 20, 'livestock': 19, 'alum': 19, 'coffee': 18, 'jobs': 17, 'meal-feed': 17, 'reserves': 16, 'copper': 15, 'gas': 15, 'cocoa': 15, 'carcass': 14, 'cotton': 14, 'barley': 13, 'lead': 12, 'iron-steel': 12, 'tin': 11, 'soy-oil': 11, 'yen': 11, 'strategic-metal': 11, 'orange': 11, 'soy-meal': 11, 'zinc': 10, 'sorghum': 10, 'pet-chem': 10, 'wpi': 10, 'palm-oil': 9, 'ipi': 8, 'fuel': 8, 'rubber': 7, 'platinum': 7, 'income': 7, 'rapeseed': 6, 'silver': 6, 'lumber': 5, 'heat': 5, 'oat': 5, 'groundnut': 4, 'hog': 4, 'rape-oil': 3, 'potato': 3, 'lei': 3, 'sunseed': 2, 'sun-oil': 2, 'retail': 2, 'cotton-oil': 2, 'tea': 2, 'coconut-oil': 2, 'dmk': 2, 'naphtha': 2, 'propane': 2, 'nickel': 1, 'l-cattle': 1, 'palladium': 1, 'groundnut-oil': 1, 'lin-oil': 1, 'sun-meal': 1, 'coconut': 1, 'copra-cake': 1, 'dfl': 1, 'instal-debt': 1, 'nzdlr': 1, 'housing': 1})\n",
            "Distortion : 1759.11580\n",
            "==========================\n",
            "\n",
            "Cluster Nums -> 2\n",
            "[1579.  421.]\n",
            "Cluster num : 0\n",
            "Counter({'acq': 489, 'earn': 214, 'grain': 118, 'money-fx': 108, 'crude': 105, 'interest': 91, 'trade': 89, 'wheat': 58, 'corn': 44, 'ship': 44, 'dlr': 37, 'oilseed': 34, 'gnp': 32, 'sugar': 30, 'money-supply': 30, 'veg-oil': 27, 'nat-gas': 25, 'soybean': 23, 'bop': 23, 'gold': 22, 'cpi': 22, 'rice': 20, 'livestock': 19, 'alum': 19, 'coffee': 18, 'jobs': 17, 'meal-feed': 17, 'reserves': 16, 'copper': 15, 'gas': 15, 'cocoa': 15, 'carcass': 14, 'cotton': 14, 'barley': 13, 'lead': 12, 'iron-steel': 12, 'tin': 11, 'soy-oil': 11, 'yen': 11, 'strategic-metal': 11, 'orange': 11, 'soy-meal': 11, 'zinc': 10, 'sorghum': 10, 'pet-chem': 10, 'wpi': 10, 'palm-oil': 9, 'ipi': 8, 'fuel': 8, 'rubber': 7, 'platinum': 7, 'income': 7, 'rapeseed': 6, 'silver': 6, 'lumber': 5, 'heat': 5, 'oat': 5, 'groundnut': 4, 'hog': 4, 'rape-oil': 3, 'potato': 3, 'lei': 3, 'sunseed': 2, 'sun-oil': 2, 'retail': 2, 'cotton-oil': 2, 'tea': 2, 'coconut-oil': 2, 'dmk': 2, 'naphtha': 2, 'propane': 2, 'nickel': 1, 'l-cattle': 1, 'palladium': 1, 'groundnut-oil': 1, 'lin-oil': 1, 'sun-meal': 1, 'coconut': 1, 'copra-cake': 1, 'dfl': 1, 'instal-debt': 1, 'nzdlr': 1, 'housing': 1})\n",
            "Cluster num : 1\n",
            "Counter({'earn': 419, 'ship': 1, 'acq': 1})\n",
            "Distortion : 1654.00707\n",
            "==========================\n",
            "\n",
            "Cluster Nums -> 3\n",
            "[ 146.  293. 1561.]\n",
            "Cluster num : 0\n",
            "Counter({'earn': 144, 'corn': 1, 'grain': 1, 'rice': 1, 'acq': 1})\n",
            "Cluster num : 1\n",
            "Counter({'earn': 291, 'bop': 1, 'acq': 1})\n",
            "Cluster num : 2\n",
            "Counter({'acq': 488, 'earn': 198, 'grain': 117, 'money-fx': 108, 'crude': 105, 'interest': 91, 'trade': 89, 'wheat': 58, 'ship': 45, 'corn': 43, 'dlr': 37, 'oilseed': 34, 'gnp': 32, 'sugar': 30, 'money-supply': 30, 'veg-oil': 27, 'nat-gas': 25, 'soybean': 23, 'gold': 22, 'bop': 22, 'cpi': 22, 'rice': 19, 'livestock': 19, 'alum': 19, 'coffee': 18, 'jobs': 17, 'meal-feed': 17, 'reserves': 16, 'copper': 15, 'gas': 15, 'cocoa': 15, 'carcass': 14, 'cotton': 14, 'barley': 13, 'lead': 12, 'iron-steel': 12, 'tin': 11, 'soy-oil': 11, 'yen': 11, 'strategic-metal': 11, 'orange': 11, 'soy-meal': 11, 'zinc': 10, 'sorghum': 10, 'pet-chem': 10, 'wpi': 10, 'palm-oil': 9, 'ipi': 8, 'fuel': 8, 'rubber': 7, 'platinum': 7, 'income': 7, 'rapeseed': 6, 'silver': 6, 'lumber': 5, 'heat': 5, 'oat': 5, 'groundnut': 4, 'hog': 4, 'rape-oil': 3, 'potato': 3, 'lei': 3, 'sunseed': 2, 'sun-oil': 2, 'retail': 2, 'cotton-oil': 2, 'tea': 2, 'coconut-oil': 2, 'dmk': 2, 'naphtha': 2, 'propane': 2, 'nickel': 1, 'l-cattle': 1, 'palladium': 1, 'groundnut-oil': 1, 'lin-oil': 1, 'sun-meal': 1, 'coconut': 1, 'copra-cake': 1, 'dfl': 1, 'instal-debt': 1, 'nzdlr': 1, 'housing': 1})\n",
            "Distortion : 1590.37372\n",
            "==========================\n",
            "\n",
            "Cluster Nums -> 4\n",
            "[ 168. 1028.  512.  292.]\n",
            "Cluster num : 0\n",
            "Counter({'earn': 167, 'acq': 1})\n",
            "Cluster num : 1\n",
            "Counter({'earn': 115, 'grain': 114, 'money-fx': 106, 'crude': 100, 'acq': 92, 'interest': 91, 'trade': 89, 'wheat': 55, 'corn': 44, 'ship': 42, 'dlr': 37, 'oilseed': 32, 'gnp': 32, 'sugar': 30, 'money-supply': 30, 'veg-oil': 27, 'bop': 23, 'cpi': 22, 'soybean': 21, 'rice': 20, 'gold': 20, 'nat-gas': 19, 'livestock': 19, 'coffee': 17, 'jobs': 17, 'meal-feed': 17, 'alum': 16, 'reserves': 16, 'gas': 15, 'cotton': 14, 'carcass': 13, 'barley': 12, 'tin': 11, 'soy-oil': 11, 'yen': 11, 'orange': 11, 'soy-meal': 11, 'lead': 10, 'zinc': 10, 'sorghum': 10, 'wpi': 10, 'palm-oil': 9, 'ipi': 8, 'strategic-metal': 8, 'rubber': 7, 'cocoa': 7, 'copper': 7, 'income': 7, 'rapeseed': 6, 'silver': 6, 'platinum': 6, 'fuel': 6, 'lumber': 5, 'heat': 5, 'iron-steel': 5, 'oat': 5, 'groundnut': 4, 'pet-chem': 4, 'rape-oil': 3, 'hog': 3, 'potato': 3, 'sunseed': 2, 'sun-oil': 2, 'retail': 2, 'cotton-oil': 2, 'tea': 2, 'coconut-oil': 2, 'dmk': 2, 'naphtha': 2, 'propane': 2, 'nickel': 1, 'l-cattle': 1, 'groundnut-oil': 1, 'lin-oil': 1, 'sun-meal': 1, 'lei': 1, 'coconut': 1, 'copra-cake': 1, 'dfl': 1, 'instal-debt': 1, 'nzdlr': 1, 'housing': 1})\n",
            "Cluster num : 2\n",
            "Counter({'acq': 396, 'earn': 60, 'copper': 8, 'cocoa': 8, 'iron-steel': 7, 'nat-gas': 6, 'pet-chem': 6, 'crude': 5, 'grain': 4, 'strategic-metal': 3, 'ship': 3, 'wheat': 3, 'alum': 3, 'gold': 2, 'money-fx': 2, 'lead': 2, 'fuel': 2, 'lei': 2, 'oilseed': 2, 'soybean': 2, 'palladium': 1, 'platinum': 1, 'coffee': 1, 'barley': 1, 'hog': 1, 'carcass': 1})\n",
            "Cluster num : 3\n",
            "Counter({'earn': 291, 'acq': 1})\n",
            "Distortion : 1527.87434\n",
            "==========================\n",
            "\n",
            "Cluster Nums -> 5\n",
            "[ 290.  142.  137. 1083.  348.]\n",
            "Cluster num : 0\n",
            "Counter({'earn': 288, 'bop': 1, 'acq': 1})\n",
            "Cluster num : 1\n",
            "Counter({'earn': 141, 'corn': 1, 'grain': 1, 'rice': 1})\n",
            "Cluster num : 2\n",
            "Counter({'crude': 85, 'acq': 19, 'veg-oil': 13, 'nat-gas': 10, 'gas': 10, 'earn': 8, 'palm-oil': 6, 'ship': 6, 'soy-oil': 5, 'heat': 4, 'fuel': 4, 'oilseed': 3, 'rape-oil': 3, 'pet-chem': 2, 'meal-feed': 2, 'sun-oil': 2, 'coconut-oil': 2, 'cpi': 1, 'gnp': 1, 'soybean': 1, 'grain': 1, 'groundnut-oil': 1, 'lin-oil': 1, 'sorghum': 1, 'sun-meal': 1, 'wheat': 1, 'groundnut': 1, 'coconut': 1, 'copra-cake': 1, 'naphtha': 1, 'cotton-oil': 1, 'alum': 1, 'tin': 1, 'propane': 1})\n",
            "Cluster num : 3\n",
            "Counter({'acq': 465, 'earn': 194, 'interest': 66, 'grain': 53, 'money-fx': 36, 'ship': 27, 'wheat': 24, 'money-supply': 22, 'corn': 19, 'gold': 18, 'crude': 17, 'oilseed': 16, 'cpi': 14, 'sugar': 13, 'nat-gas': 13, 'copper': 12, 'jobs': 12, 'cocoa': 12, 'reserves': 12, 'gnp': 12, 'alum': 12, 'lead': 10, 'soybean': 10, 'coffee': 10, 'iron-steel': 10, 'livestock': 9, 'strategic-metal': 9, 'bop': 8, 'meal-feed': 8, 'wpi': 8, 'zinc': 8, 'pet-chem': 8, 'ipi': 7, 'orange': 7, 'tin': 6, 'cotton': 6, 'carcass': 6, 'platinum': 6, 'trade': 6, 'barley': 6, 'gas': 5, 'sorghum': 5, 'veg-oil': 5, 'income': 5, 'soy-meal': 4, 'fuel': 4, 'hog': 3, 'rice': 3, 'oat': 3, 'silver': 3, 'yen': 2, 'potato': 2, 'lei': 2, 'sunseed': 1, 'palladium': 1, 'heat': 1, 'retail': 1, 'soy-oil': 1, 'groundnut': 1, 'palm-oil': 1, 'dlr': 1, 'dfl': 1, 'dmk': 1, 'naphtha': 1, 'rubber': 1, 'propane': 1, 'instal-debt': 1, 'rapeseed': 1, 'lumber': 1})\n",
            "Cluster num : 4\n",
            "Counter({'trade': 83, 'money-fx': 72, 'grain': 63, 'dlr': 36, 'wheat': 33, 'interest': 25, 'corn': 24, 'gnp': 19, 'sugar': 17, 'rice': 16, 'oilseed': 15, 'bop': 14, 'ship': 12, 'soybean': 12, 'livestock': 10, 'veg-oil': 9, 'yen': 9, 'coffee': 8, 'carcass': 8, 'money-supply': 8, 'cotton': 8, 'barley': 7, 'meal-feed': 7, 'soy-meal': 7, 'cpi': 7, 'rubber': 6, 'alum': 6, 'acq': 5, 'rapeseed': 5, 'soy-oil': 5, 'jobs': 5, 'tin': 4, 'lumber': 4, 'sorghum': 4, 'orange': 4, 'gold': 4, 'reserves': 4, 'crude': 3, 'cocoa': 3, 'silver': 3, 'copper': 3, 'nat-gas': 2, 'palm-oil': 2, 'zinc': 2, 'groundnut': 2, 'earn': 2, 'iron-steel': 2, 'lead': 2, 'oat': 2, 'income': 2, 'wpi': 2, 'tea': 2, 'strategic-metal': 2, 'nickel': 1, 'l-cattle': 1, 'potato': 1, 'cotton-oil': 1, 'sunseed': 1, 'retail': 1, 'platinum': 1, 'lei': 1, 'ipi': 1, 'hog': 1, 'dmk': 1, 'nzdlr': 1, 'housing': 1})\n",
            "Distortion : 1478.54762\n",
            "==========================\n",
            "\n",
            "Cluster Nums -> 6\n",
            "[735. 291. 156. 200. 131. 487.]\n",
            "Cluster num : 0\n",
            "Counter({'grain': 110, 'earn': 102, 'trade': 85, 'acq': 74, 'wheat': 54, 'corn': 43, 'ship': 35, 'money-fx': 33, 'oilseed': 30, 'sugar': 28, 'interest': 26, 'gnp': 26, 'soybean': 20, 'crude': 19, 'gold': 19, 'rice': 18, 'livestock': 18, 'bop': 18, 'coffee': 17, 'cpi': 17, 'veg-oil': 15, 'jobs': 15, 'money-supply': 15, 'meal-feed': 15, 'carcass': 13, 'cotton': 13, 'alum': 13, 'tin': 11, 'barley': 11, 'orange': 11, 'soy-meal': 11, 'lead': 10, 'zinc': 10, 'nat-gas': 9, 'reserves': 9, 'ipi': 8, 'sorghum': 8, 'cocoa': 8, 'strategic-metal': 8, 'wpi': 8, 'rubber': 7, 'copper': 7, 'dlr': 6, 'rapeseed': 6, 'yen': 6, 'soy-oil': 6, 'platinum': 6, 'gas': 5, 'iron-steel': 5, 'silver': 5, 'lumber': 4, 'palm-oil': 4, 'groundnut': 4, 'oat': 4, 'income': 4, 'hog': 3, 'potato': 3, 'pet-chem': 3, 'sunseed': 2, 'tea': 2, 'lei': 2, 'propane': 2, 'fuel': 2, 'nickel': 1, 'l-cattle': 1, 'heat': 1, 'retail': 1, 'cotton-oil': 1, 'naphtha': 1, 'instal-debt': 1})\n",
            "Cluster num : 1\n",
            "Counter({'earn': 289, 'ship': 1, 'acq': 1})\n",
            "Cluster num : 2\n",
            "Counter({'earn': 155, 'acq': 1})\n",
            "Cluster num : 3\n",
            "Counter({'money-fx': 73, 'interest': 65, 'dlr': 31, 'acq': 21, 'earn': 20, 'money-supply': 15, 'reserves': 7, 'yen': 5, 'bop': 5, 'gnp': 5, 'cpi': 4, 'grain': 4, 'trade': 4, 'income': 3, 'alum': 3, 'jobs': 2, 'wpi': 2, 'dmk': 2, 'rice': 2, 'sugar': 2, 'barley': 1, 'corn': 1, 'oat': 1, 'sorghum': 1, 'wheat': 1, 'cotton': 1, 'gold': 1, 'livestock': 1, 'silver': 1, 'retail': 1, 'dfl': 1, 'nzdlr': 1, 'housing': 1, 'lumber': 1})\n",
            "Cluster num : 4\n",
            "Counter({'crude': 82, 'acq': 19, 'veg-oil': 12, 'nat-gas': 10, 'gas': 10, 'earn': 7, 'ship': 6, 'palm-oil': 5, 'soy-oil': 5, 'heat': 4, 'fuel': 4, 'rape-oil': 3, 'oilseed': 2, 'meal-feed': 2, 'sun-oil': 2, 'coconut-oil': 2, 'cpi': 1, 'gnp': 1, 'soybean': 1, 'pet-chem': 1, 'grain': 1, 'groundnut-oil': 1, 'lin-oil': 1, 'sorghum': 1, 'sun-meal': 1, 'wheat': 1, 'coconut': 1, 'copra-cake': 1, 'naphtha': 1, 'cotton-oil': 1})\n",
            "Cluster num : 5\n",
            "Counter({'acq': 374, 'earn': 60, 'copper': 8, 'cocoa': 7, 'iron-steel': 7, 'nat-gas': 6, 'pet-chem': 6, 'crude': 4, 'strategic-metal': 3, 'grain': 3, 'ship': 3, 'alum': 3, 'gold': 2, 'money-fx': 2, 'lead': 2, 'wheat': 2, 'fuel': 2, 'oilseed': 2, 'soybean': 2, 'palladium': 1, 'platinum': 1, 'coffee': 1, 'barley': 1, 'lei': 1, 'hog': 1, 'carcass': 1})\n",
            "Distortion : 1427.54850\n",
            "==========================\n",
            "\n",
            "Cluster Nums -> 7\n",
            "[134. 338. 694. 292. 213. 134. 195.]\n",
            "Cluster num : 0\n",
            "Counter({'earn': 134})\n",
            "Cluster num : 1\n",
            "Counter({'acq': 279, 'earn': 31, 'cocoa': 7, 'iron-steel': 7, 'lead': 2, 'crude': 2, 'pet-chem': 2, 'alum': 2, 'oilseed': 2, 'soybean': 2, 'coffee': 1, 'barley': 1, 'grain': 1, 'ship': 1, 'wheat': 1, 'copper': 1, 'hog': 1, 'carcass': 1, 'strategic-metal': 1, 'nat-gas': 1})\n",
            "Cluster num : 2\n",
            "Counter({'acq': 168, 'earn': 160, 'grain': 67, 'wheat': 31, 'ship': 29, 'corn': 25, 'interest': 23, 'money-fx': 22, 'gold': 18, 'oilseed': 18, 'gnp': 17, 'sugar': 16, 'crude': 16, 'money-supply': 14, 'cpi': 14, 'copper': 13, 'jobs': 12, 'soybean': 12, 'nat-gas': 12, 'alum': 11, 'meal-feed': 10, 'lead': 9, 'livestock': 9, 'coffee': 9, 'bop': 9, 'tin': 8, 'ipi': 8, 'cotton': 8, 'veg-oil': 8, 'strategic-metal': 8, 'orange': 8, 'zinc': 8, 'reserves': 7, 'trade': 7, 'wpi': 7, 'sorghum': 6, 'cocoa': 6, 'platinum': 6, 'soy-meal': 6, 'pet-chem': 6, 'gas': 5, 'carcass': 5, 'rice': 5, 'barley': 5, 'fuel': 4, 'income': 4, 'rubber': 3, 'soy-oil': 3, 'oat': 3, 'iron-steel': 3, 'silver': 3, 'sunseed': 2, 'yen': 2, 'hog': 2, 'potato': 2, 'lei': 2, 'palm-oil': 2, 'palladium': 1, 'heat': 1, 'retail': 1, 'cotton-oil': 1, 'groundnut': 1, 'dlr': 1, 'naphtha': 1, 'propane': 1, 'instal-debt': 1, 'rapeseed': 1})\n",
            "Cluster num : 3\n",
            "Counter({'earn': 291, 'acq': 1})\n",
            "Cluster num : 4\n",
            "Counter({'trade': 79, 'grain': 45, 'wheat': 24, 'corn': 18, 'rice': 13, 'sugar': 12, 'oilseed': 11, 'bop': 10, 'ship': 9, 'livestock': 9, 'money-fx': 9, 'coffee': 8, 'carcass': 8, 'soybean': 8, 'gnp': 8, 'veg-oil': 6, 'barley': 6, 'dlr': 5, 'rapeseed': 5, 'yen': 5, 'cotton': 5, 'meal-feed': 5, 'soy-meal': 5, 'rubber': 4, 'lumber': 4, 'crude': 3, 'tin': 3, 'soy-oil': 3, 'jobs': 3, 'gold': 3, 'orange': 3, 'alum': 3, 'nat-gas': 2, 'zinc': 2, 'groundnut': 2, 'iron-steel': 2, 'acq': 2, 'cocoa': 2, 'sorghum': 2, 'cpi': 2, 'tea': 2, 'reserves': 2, 'silver': 2, 'strategic-metal': 2, 'palm-oil': 1, 'money-supply': 1, 'l-cattle': 1, 'potato': 1, 'oat': 1, 'platinum': 1, 'wpi': 1, 'lei': 1, 'copper': 1, 'hog': 1, 'lead': 1})\n",
            "Cluster num : 5\n",
            "Counter({'crude': 84, 'acq': 19, 'veg-oil': 12, 'nat-gas': 10, 'gas': 10, 'earn': 7, 'ship': 6, 'palm-oil': 5, 'soy-oil': 5, 'heat': 4, 'fuel': 4, 'oilseed': 3, 'rape-oil': 3, 'pet-chem': 2, 'meal-feed': 2, 'sun-oil': 2, 'coconut-oil': 2, 'cpi': 1, 'gnp': 1, 'soybean': 1, 'grain': 1, 'groundnut-oil': 1, 'lin-oil': 1, 'sorghum': 1, 'sun-meal': 1, 'wheat': 1, 'groundnut': 1, 'coconut': 1, 'copra-cake': 1, 'naphtha': 1, 'cotton-oil': 1, 'propane': 1})\n",
            "Cluster num : 6\n",
            "Counter({'money-fx': 77, 'interest': 68, 'dlr': 31, 'acq': 21, 'money-supply': 15, 'earn': 10, 'reserves': 7, 'gnp': 6, 'cpi': 5, 'yen': 4, 'bop': 4, 'grain': 4, 'income': 3, 'trade': 3, 'alum': 3, 'wpi': 2, 'dmk': 2, 'rice': 2, 'sugar': 2, 'jobs': 2, 'nickel': 1, 'barley': 1, 'corn': 1, 'oat': 1, 'sorghum': 1, 'wheat': 1, 'cotton': 1, 'gold': 1, 'livestock': 1, 'silver': 1, 'retail': 1, 'palm-oil': 1, 'veg-oil': 1, 'dfl': 1, 'nzdlr': 1, 'housing': 1, 'lumber': 1})\n",
            "Distortion : 1392.09539\n",
            "==========================\n",
            "\n",
            "Cluster Nums -> 8\n",
            "[441. 162. 129. 133. 661. 143. 128. 203.]\n",
            "Cluster num : 0\n",
            "Counter({'acq': 366, 'earn': 29, 'copper': 8, 'cocoa': 7, 'iron-steel': 7, 'pet-chem': 6, 'crude': 4, 'nat-gas': 4, 'strategic-metal': 3, 'gold': 2, 'money-fx': 2, 'lead': 2, 'grain': 2, 'alum': 2, 'oilseed': 2, 'soybean': 2, 'palladium': 1, 'platinum': 1, 'coffee': 1, 'ship': 1, 'wheat': 1, 'fuel': 1, 'hog': 1, 'carcass': 1})\n",
            "Cluster num : 1\n",
            "Counter({'earn': 161, 'acq': 1})\n",
            "Cluster num : 2\n",
            "Counter({'earn': 129})\n",
            "Cluster num : 3\n",
            "Counter({'crude': 82, 'acq': 19, 'veg-oil': 12, 'gas': 10, 'nat-gas': 9, 'earn': 7, 'ship': 6, 'palm-oil': 5, 'soy-oil': 5, 'heat': 4, 'fuel': 4, 'oilseed': 3, 'rape-oil': 3, 'meal-feed': 2, 'sun-oil': 2, 'coconut-oil': 2, 'cpi': 1, 'gnp': 1, 'soybean': 1, 'pet-chem': 1, 'grain': 1, 'groundnut-oil': 1, 'lin-oil': 1, 'sorghum': 1, 'sun-meal': 1, 'wheat': 1, 'groundnut': 1, 'coconut': 1, 'copra-cake': 1, 'bop': 1, 'trade': 1, 'naphtha': 1, 'cotton-oil': 1})\n",
            "Cluster num : 4\n",
            "Counter({'earn': 111, 'acq': 93, 'grain': 88, 'interest': 77, 'money-fx': 54, 'wheat': 41, 'corn': 39, 'ship': 27, 'gnp': 24, 'oilseed': 23, 'sugar': 19, 'money-supply': 19, 'soybean': 18, 'cpi': 15, 'crude': 15, 'meal-feed': 15, 'rice': 14, 'jobs': 13, 'livestock': 13, 'veg-oil': 13, 'alum': 13, 'gold': 13, 'cotton': 12, 'soy-meal': 11, 'coffee': 10, 'bop': 10, 'tin': 9, 'trade': 9, 'nat-gas': 9, 'orange': 9, 'barley': 9, 'sorghum': 8, 'carcass': 8, 'reserves': 7, 'rubber': 6, 'ipi': 6, 'cocoa': 6, 'gas': 5, 'soy-oil': 5, 'oat': 5, 'copper': 5, 'wpi': 5, 'platinum': 5, 'lead': 4, 'zinc': 4, 'dlr': 4, 'strategic-metal': 4, 'lumber': 4, 'fuel': 3, 'iron-steel': 3, 'palm-oil': 3, 'silver': 3, 'lei': 3, 'pet-chem': 3, 'yen': 2, 'hog': 2, 'potato': 2, 'groundnut': 2, 'dmk': 2, 'propane': 2, 'rapeseed': 2, 'income': 2, 'nickel': 1, 'sunseed': 1, 'retail': 1, 'cotton-oil': 1, 'tea': 1, 'dfl': 1, 'naphtha': 1, 'housing': 1})\n",
            "Cluster num : 5\n",
            "Counter({'earn': 66, 'grain': 9, 'acq': 8, 'reserves': 7, 'wheat': 6, 'money-supply': 6, 'zinc': 6, 'lead': 5, 'trade': 5, 'sugar': 4, 'ship': 4, 'cpi': 4, 'strategic-metal': 4, 'bop': 4, 'income': 4, 'gold': 3, 'wpi': 3, 'jobs': 3, 'coffee': 2, 'interest': 2, 'corn': 2, 'nat-gas': 2, 'ipi': 2, 'crude': 1, 'heat': 1, 'cotton': 1, 'barley': 1, 'soy-oil': 1, 'veg-oil': 1, 'oilseed': 1, 'sorghum': 1, 'soybean': 1, 'sunseed': 1, 'copper': 1, 'livestock': 1, 'carcass': 1, 'instal-debt': 1, 'gnp': 1})\n",
            "Cluster num : 6\n",
            "Counter({'earn': 128})\n",
            "Cluster num : 7\n",
            "Counter({'trade': 74, 'money-fx': 52, 'dlr': 33, 'grain': 18, 'interest': 12, 'yen': 9, 'wheat': 9, 'bop': 8, 'sugar': 7, 'ship': 7, 'rice': 6, 'gnp': 6, 'coffee': 5, 'livestock': 5, 'oilseed': 5, 'money-supply': 5, 'carcass': 4, 'rapeseed': 4, 'gold': 4, 'alum': 4, 'crude': 3, 'corn': 3, 'acq': 3, 'barley': 3, 'silver': 3, 'earn': 2, 'iron-steel': 2, 'tin': 2, 'cocoa': 2, 'cpi': 2, 'wpi': 2, 'orange': 2, 'reserves': 2, 'nat-gas': 1, 'lumber': 1, 'palm-oil': 1, 'rubber': 1, 'veg-oil': 1, 'soybean': 1, 'groundnut': 1, 'l-cattle': 1, 'potato': 1, 'cotton': 1, 'income': 1, 'retail': 1, 'platinum': 1, 'tea': 1, 'copper': 1, 'hog': 1, 'lead': 1, 'nzdlr': 1, 'jobs': 1})\n",
            "Distortion : 1358.88933\n",
            "==========================\n",
            "\n",
            "Cluster Nums -> 9\n",
            "[137. 238. 127. 202. 194. 160. 623. 129. 190.]\n",
            "Cluster num : 0\n",
            "Counter({'earn': 137})\n",
            "Cluster num : 1\n",
            "Counter({'acq': 185, 'earn': 27, 'cocoa': 9, 'money-fx': 3, 'grain': 2, 'ship': 2, 'wheat': 2, 'crude': 2, 'lei': 2, 'alum': 2, 'oilseed': 2, 'soybean': 2, 'palladium': 1, 'platinum': 1, 'strategic-metal': 1, 'coffee': 1, 'barley': 1, 'interest': 1, 'hog': 1, 'carcass': 1, 'nat-gas': 1, 'iron-steel': 1})\n",
            "Cluster num : 2\n",
            "Counter({'crude': 81, 'acq': 16, 'veg-oil': 12, 'gas': 10, 'nat-gas': 9, 'earn': 7, 'ship': 6, 'palm-oil': 5, 'soy-oil': 5, 'heat': 4, 'fuel': 4, 'rape-oil': 3, 'oilseed': 2, 'meal-feed': 2, 'sun-oil': 2, 'coconut-oil': 2, 'cpi': 1, 'gnp': 1, 'soybean': 1, 'pet-chem': 1, 'grain': 1, 'groundnut-oil': 1, 'lin-oil': 1, 'sorghum': 1, 'sun-meal': 1, 'wheat': 1, 'coconut': 1, 'copra-cake': 1, 'naphtha': 1, 'cotton-oil': 1})\n",
            "Cluster num : 3\n",
            "Counter({'earn': 99, 'acq': 83, 'copper': 8, 'pet-chem': 4, 'nat-gas': 3, 'iron-steel': 3, 'crude': 2, 'gold': 1, 'grain': 1, 'ship': 1, 'fuel': 1, 'strategic-metal': 1})\n",
            "Cluster num : 4\n",
            "Counter({'acq': 104, 'earn': 76, 'grain': 5, 'lead': 2, 'iron-steel': 2, 'meal-feed': 2, 'wheat': 2, 'livestock': 2, 'rice': 2, 'pet-chem': 2, 'retail': 1, 'corn': 1, 'soy-meal': 1, 'oilseed': 1, 'barley': 1, 'strategic-metal': 1, 'nat-gas': 1})\n",
            "Cluster num : 5\n",
            "Counter({'interest': 51, 'earn': 35, 'money-fx': 30, 'acq': 22, 'money-supply': 13, 'reserves': 6, 'bop': 5, 'cpi': 4, 'gnp': 4, 'grain': 3, 'income': 3, 'trade': 3, 'wpi': 3, 'jobs': 2, 'dlr': 2, 'dmk': 2, 'rice': 2, 'sugar': 2, 'barley': 1, 'corn': 1, 'oat': 1, 'sorghum': 1, 'wheat': 1, 'retail': 1, 'dfl': 1, 'alum': 1, 'housing': 1, 'lumber': 1})\n",
            "Cluster num : 6\n",
            "Counter({'earn': 121, 'grain': 89, 'acq': 76, 'wheat': 43, 'corn': 39, 'ship': 30, 'interest': 28, 'oilseed': 24, 'money-fx': 24, 'gnp': 22, 'sugar': 21, 'soybean': 19, 'trade': 17, 'crude': 17, 'gold': 17, 'money-supply': 16, 'cpi': 16, 'jobs': 14, 'cotton': 13, 'livestock': 13, 'veg-oil': 13, 'meal-feed': 13, 'coffee': 12, 'alum': 12, 'rice': 11, 'bop': 11, 'zinc': 10, 'nat-gas': 10, 'soy-meal': 10, 'tin': 9, 'lead': 9, 'carcass': 9, 'reserves': 9, 'orange': 9, 'ipi': 8, 'sorghum': 8, 'strategic-metal': 8, 'barley': 7, 'rubber': 6, 'soy-oil': 6, 'copper': 6, 'wpi': 6, 'gas': 5, 'cocoa': 5, 'platinum': 5, 'oat': 4, 'iron-steel': 4, 'income': 4, 'groundnut': 3, 'fuel': 3, 'dlr': 3, 'silver': 3, 'pet-chem': 3, 'lumber': 3, 'sunseed': 2, 'yen': 2, 'hog': 2, 'potato': 2, 'palm-oil': 2, 'propane': 2, 'rapeseed': 2, 'nickel': 1, 'l-cattle': 1, 'heat': 1, 'cotton-oil': 1, 'tea': 1, 'lei': 1, 'naphtha': 1, 'instal-debt': 1})\n",
            "Cluster num : 7\n",
            "Counter({'earn': 129})\n",
            "Cluster num : 8\n",
            "Counter({'trade': 69, 'money-fx': 51, 'dlr': 32, 'grain': 17, 'interest': 11, 'yen': 9, 'wheat': 9, 'bop': 7, 'sugar': 7, 'ship': 6, 'coffee': 5, 'oilseed': 5, 'rice': 5, 'gnp': 5, 'carcass': 4, 'livestock': 4, 'rapeseed': 4, 'acq': 4, 'gold': 4, 'alum': 4, 'crude': 3, 'corn': 3, 'barley': 3, 'silver': 3, 'palm-oil': 2, 'veg-oil': 2, 'earn': 2, 'iron-steel': 2, 'tin': 2, 'orange': 2, 'nat-gas': 1, 'lumber': 1, 'rubber': 1, 'soybean': 1, 'groundnut': 1, 'potato': 1, 'cocoa': 1, 'cotton': 1, 'platinum': 1, 'wpi': 1, 'money-supply': 1, 'tea': 1, 'copper': 1, 'hog': 1, 'lead': 1, 'nzdlr': 1, 'cpi': 1, 'jobs': 1, 'reserves': 1})\n",
            "Distortion : 1332.41364\n",
            "==========================\n",
            "\n",
            "Cluster Nums -> 10\n",
            "[348. 555. 182. 108. 117. 104. 128. 171. 163. 124.]\n",
            "Cluster num : 0\n",
            "Counter({'acq': 293, 'earn': 27, 'cocoa': 7, 'iron-steel': 7, 'crude': 3, 'copper': 2, 'lead': 2, 'pet-chem': 2, 'alum': 2, 'nat-gas': 2, 'oilseed': 2, 'soybean': 2, 'coffee': 1, 'lei': 1, 'hog': 1, 'carcass': 1, 'strategic-metal': 1})\n",
            "Cluster num : 1\n",
            "Counter({'earn': 96, 'acq': 85, 'grain': 79, 'wheat': 37, 'corn': 32, 'ship': 29, 'money-fx': 27, 'interest': 25, 'oilseed': 21, 'sugar': 18, 'gnp': 18, 'crude': 17, 'cpi': 16, 'soybean': 15, 'money-supply': 15, 'jobs': 14, 'veg-oil': 12, 'meal-feed': 12, 'coffee': 11, 'gold': 11, 'trade': 11, 'tin': 10, 'cotton': 10, 'rice': 10, 'bop': 10, 'lead': 9, 'livestock': 9, 'alum': 9, 'zinc': 9, 'reserves': 8, 'orange': 8, 'barley': 8, 'soy-meal': 8, 'sorghum': 7, 'nat-gas': 7, 'strategic-metal': 7, 'wpi': 7, 'ipi': 6, 'carcass': 5, 'soy-oil': 5, 'gas': 4, 'cocoa': 4, 'rubber': 4, 'platinum': 4, 'oat': 4, 'fuel': 4, 'copper': 4, 'income': 4, 'potato': 3, 'iron-steel': 3, 'palm-oil': 3, 'pet-chem': 3, 'sunseed': 2, 'yen': 2, 'hog': 2, 'lei': 2, 'dlr': 2, 'propane': 2, 'silver': 2, 'palladium': 1, 'heat': 1, 'retail': 1, 'cotton-oil': 1, 'groundnut': 1, 'lumber': 1, 'naphtha': 1, 'instal-debt': 1, 'rapeseed': 1})\n",
            "Cluster num : 2\n",
            "Counter({'money-fx': 72, 'interest': 64, 'dlr': 30, 'acq': 19, 'money-supply': 14, 'earn': 11, 'reserves': 7, 'gnp': 5, 'yen': 4, 'cpi': 4, 'grain': 4, 'bop': 3, 'income': 3, 'trade': 3, 'wpi': 2, 'dmk': 2, 'alum': 2, 'rice': 2, 'sugar': 2, 'barley': 1, 'corn': 1, 'oat': 1, 'sorghum': 1, 'wheat': 1, 'cotton': 1, 'gold': 1, 'livestock': 1, 'silver': 1, 'retail': 1, 'dfl': 1, 'nzdlr': 1, 'jobs': 1, 'housing': 1, 'lumber': 1})\n",
            "Cluster num : 3\n",
            "Counter({'acq': 58, 'earn': 20, 'copper': 7, 'nat-gas': 6, 'pet-chem': 4, 'grain': 3, 'wheat': 2, 'gold': 2, 'carcass': 2, 'livestock': 2, 'gas': 2, 'crude': 2, 'alum': 2, 'ship': 1, 'interest': 1, 'rubber': 1, 'strategic-metal': 1, 'platinum': 1})\n",
            "Cluster num : 4\n",
            "Counter({'earn': 117})\n",
            "Cluster num : 5\n",
            "Counter({'earn': 70, 'acq': 14, 'gold': 5, 'gnp': 3, 'ipi': 2, 'cocoa': 2, 'corn': 1, 'grain': 1, 'rice': 1, 'rubber': 1, 'sugar': 1, 'tin': 1, 'trade': 1, 'zinc': 1, 'nickel': 1, 'interest': 1, 'platinum': 1, 'silver': 1, 'cpi': 1, 'alum': 1, 'ship': 1, 'jobs': 1, 'bop': 1, 'copper': 1})\n",
            "Cluster num : 6\n",
            "Counter({'crude': 80, 'acq': 18, 'veg-oil': 12, 'gas': 9, 'nat-gas': 9, 'earn': 7, 'ship': 6, 'palm-oil': 5, 'soy-oil': 5, 'heat': 4, 'fuel': 4, 'oilseed': 3, 'rape-oil': 3, 'meal-feed': 2, 'sun-oil': 2, 'coconut-oil': 2, 'cpi': 1, 'gnp': 1, 'soybean': 1, 'pet-chem': 1, 'grain': 1, 'groundnut-oil': 1, 'lin-oil': 1, 'sorghum': 1, 'sun-meal': 1, 'wheat': 1, 'groundnut': 1, 'coconut': 1, 'copra-cake': 1, 'naphtha': 1, 'cotton-oil': 1})\n",
            "Cluster num : 7\n",
            "Counter({'trade': 74, 'grain': 30, 'wheat': 17, 'corn': 10, 'bop': 9, 'sugar': 9, 'money-fx': 9, 'oilseed': 8, 'livestock': 7, 'rice': 7, 'ship': 7, 'coffee': 6, 'carcass': 6, 'soybean': 5, 'dlr': 5, 'rapeseed': 5, 'yen': 5, 'gnp': 5, 'barley': 4, 'crude': 3, 'lumber': 3, 'veg-oil': 3, 'cotton': 3, 'meal-feed': 3, 'soy-meal': 3, 'gold': 3, 'orange': 3, 'alum': 3, 'groundnut': 2, 'iron-steel': 2, 'acq': 2, 'cocoa': 2, 'tea': 2, 'silver': 2, 'strategic-metal': 2, 'nat-gas': 1, 'palm-oil': 1, 'rubber': 1, 'money-supply': 1, 'l-cattle': 1, 'soy-oil': 1, 'platinum': 1, 'wpi': 1, 'reserves': 1, 'copper': 1, 'hog': 1, 'sorghum': 1, 'lead': 1, 'jobs': 1})\n",
            "Cluster num : 8\n",
            "Counter({'earn': 161, 'ship': 1, 'acq': 1})\n",
            "Cluster num : 9\n",
            "Counter({'earn': 124})\n",
            "Distortion : 1295.30599\n",
            "==========================\n",
            "\n",
            "Cluster Nums -> 11\n",
            "[106. 141. 121. 130. 187. 144. 158. 146. 556. 135. 176.]\n",
            "Cluster num : 0\n",
            "Counter({'earn': 69, 'acq': 16, 'gold': 5, 'gnp': 3, 'ipi': 2, 'cocoa': 2, 'cpi': 2, 'corn': 1, 'grain': 1, 'rice': 1, 'rubber': 1, 'sugar': 1, 'tin': 1, 'trade': 1, 'zinc': 1, 'nickel': 1, 'interest': 1, 'platinum': 1, 'silver': 1, 'alum': 1, 'ship': 1, 'jobs': 1, 'bop': 1, 'copper': 1})\n",
            "Cluster num : 1\n",
            "Counter({'earn': 141})\n",
            "Cluster num : 2\n",
            "Counter({'acq': 75, 'earn': 33, 'cocoa': 8, 'lei': 2, 'alum': 2, 'iron-steel': 1, 'hog': 1})\n",
            "Cluster num : 3\n",
            "Counter({'crude': 83, 'acq': 17, 'veg-oil': 12, 'gas': 10, 'nat-gas': 10, 'earn': 7, 'ship': 6, 'palm-oil': 5, 'soy-oil': 5, 'heat': 4, 'fuel': 4, 'rape-oil': 3, 'oilseed': 2, 'meal-feed': 2, 'sun-oil': 2, 'coconut-oil': 2, 'cpi': 1, 'gnp': 1, 'soybean': 1, 'pet-chem': 1, 'grain': 1, 'groundnut-oil': 1, 'lin-oil': 1, 'sorghum': 1, 'sun-meal': 1, 'wheat': 1, 'coconut': 1, 'copra-cake': 1, 'naphtha': 1, 'cotton-oil': 1})\n",
            "Cluster num : 4\n",
            "Counter({'money-fx': 75, 'interest': 64, 'dlr': 32, 'acq': 16, 'money-supply': 16, 'earn': 15, 'yen': 5, 'reserves': 5, 'gnp': 5, 'cpi': 4, 'bop': 4, 'grain': 4, 'trade': 4, 'income': 3, 'jobs': 2, 'wpi': 2, 'dmk': 2, 'alum': 2, 'rice': 2, 'sugar': 2, 'barley': 1, 'corn': 1, 'oat': 1, 'sorghum': 1, 'wheat': 1, 'cotton': 1, 'gold': 1, 'livestock': 1, 'silver': 1, 'retail': 1, 'dfl': 1, 'nzdlr': 1, 'housing': 1, 'lumber': 1})\n",
            "Cluster num : 5\n",
            "Counter({'earn': 144})\n",
            "Cluster num : 6\n",
            "Counter({'acq': 79, 'earn': 67, 'grain': 5, 'lead': 2, 'meal-feed': 2, 'wheat': 2, 'rice': 2, 'pet-chem': 2, 'iron-steel': 1, 'retail': 1, 'corn': 1, 'soy-meal': 1, 'livestock': 1, 'oilseed': 1, 'barley': 1, 'strategic-metal': 1, 'nat-gas': 1})\n",
            "Cluster num : 7\n",
            "Counter({'acq': 122, 'earn': 8, 'money-fx': 3, 'interest': 3, 'grain': 2, 'ship': 2, 'wheat': 2, 'crude': 2, 'oilseed': 2, 'soybean': 2, 'tin': 1, 'palladium': 1, 'platinum': 1, 'strategic-metal': 1, 'coffee': 1, 'barley': 1, 'cocoa': 1, 'carcass': 1, 'nat-gas': 1, 'iron-steel': 1})\n",
            "Cluster num : 8\n",
            "Counter({'grain': 96, 'trade': 79, 'acq': 61, 'wheat': 47, 'corn': 39, 'ship': 31, 'earn': 31, 'money-fx': 30, 'oilseed': 28, 'gnp': 23, 'sugar': 22, 'interest': 21, 'soybean': 19, 'crude': 18, 'livestock': 16, 'coffee': 15, 'rice': 15, 'veg-oil': 14, 'bop': 14, 'alum': 13, 'meal-feed': 13, 'carcass': 12, 'jobs': 12, 'cotton': 12, 'cpi': 12, 'gold': 11, 'orange': 11, 'money-supply': 10, 'barley': 10, 'soy-meal': 10, 'nat-gas': 9, 'tin': 9, 'sorghum': 7, 'rubber': 6, 'rapeseed': 6, 'iron-steel': 6, 'yen': 6, 'lead': 5, 'dlr': 5, 'soy-oil': 5, 'platinum': 5, 'wpi': 5, 'lumber': 4, 'palm-oil': 4, 'gas': 4, 'groundnut': 4, 'cocoa': 4, 'reserves': 4, 'strategic-metal': 4, 'oat': 4, 'copper': 4, 'ipi': 4, 'silver': 4, 'hog': 3, 'potato': 3, 'fuel': 3, 'zinc': 3, 'pet-chem': 3, 'tea': 2, 'propane': 2, 'sunseed': 1, 'l-cattle': 1, 'cotton-oil': 1, 'lei': 1, 'naphtha': 1})\n",
            "Cluster num : 9\n",
            "Counter({'earn': 60, 'grain': 8, 'acq': 8, 'reserves': 7, 'zinc': 6, 'wheat': 5, 'sugar': 5, 'lead': 5, 'trade': 5, 'gold': 4, 'ship': 4, 'money-supply': 4, 'strategic-metal': 4, 'bop': 4, 'income': 4, 'cpi': 3, 'wpi': 3, 'coffee': 2, 'interest': 2, 'corn': 2, 'nat-gas': 2, 'jobs': 2, 'ipi': 2, 'crude': 1, 'heat': 1, 'cotton': 1, 'soy-oil': 1, 'veg-oil': 1, 'oilseed': 1, 'sorghum': 1, 'soybean': 1, 'sunseed': 1, 'copper': 1, 'livestock': 1, 'carcass': 1, 'instal-debt': 1})\n",
            "Cluster num : 10\n",
            "Counter({'acq': 96, 'earn': 58, 'copper': 9, 'pet-chem': 4, 'iron-steel': 3, 'nat-gas': 2, 'gold': 1, 'grain': 1, 'ship': 1, 'fuel': 1, 'gas': 1, 'crude': 1, 'strategic-metal': 1, 'alum': 1})\n",
            "Distortion : 1267.79278\n",
            "==========================\n",
            "\n",
            "Cluster Nums -> 12\n",
            "[130. 429. 151. 135. 125. 122. 147.  88. 136. 189. 128. 220.]\n",
            "Cluster num : 0\n",
            "Counter({'earn': 130})\n",
            "Cluster num : 1\n",
            "Counter({'earn': 105, 'acq': 69, 'grain': 52, 'ship': 24, 'corn': 23, 'wheat': 21, 'gnp': 18, 'oilseed': 17, 'money-fx': 15, 'interest': 15, 'crude': 14, 'sugar': 13, 'gold': 12, 'cpi': 12, 'jobs': 11, 'soybean': 11, 'money-supply': 9, 'orange': 8, 'meal-feed': 8, 'tin': 7, 'cotton': 7, 'veg-oil': 7, 'alum': 7, 'ipi': 6, 'rice': 6, 'bop': 6, 'livestock': 5, 'coffee': 5, 'soy-meal': 5, 'platinum': 5, 'gas': 4, 'lead': 4, 'sorghum': 4, 'trade': 4, 'barley': 4, 'copper': 4, 'cocoa': 4, 'iron-steel': 4, 'wpi': 4, 'nat-gas': 4, 'zinc': 3, 'carcass': 3, 'oat': 3, 'fuel': 3, 'silver': 3, 'reserves': 2, 'hog': 2, 'groundnut': 2, 'strategic-metal': 2, 'soy-oil': 2, 'potato': 2, 'palm-oil': 2, 'pet-chem': 2, 'sunseed': 1, 'cotton-oil': 1, 'lei': 1, 'dlr': 1, 'naphtha': 1, 'propane': 1, 'rapeseed': 1})\n",
            "Cluster num : 2\n",
            "Counter({'acq': 74, 'earn': 63, 'grain': 5, 'lead': 2, 'iron-steel': 2, 'meal-feed': 2, 'wheat': 2, 'rice': 2, 'pet-chem': 2, 'cocoa': 1, 'retail': 1, 'corn': 1, 'soy-meal': 1, 'livestock': 1, 'oilseed': 1, 'barley': 1, 'strategic-metal': 1, 'nat-gas': 1})\n",
            "Cluster num : 3\n",
            "Counter({'acq': 72, 'earn': 54, 'iron-steel': 3, 'copper': 2, 'fuel': 1, 'crude': 1, 'pet-chem': 1, 'strategic-metal': 1, 'alum': 1})\n",
            "Cluster num : 4\n",
            "Counter({'crude': 80, 'acq': 16, 'veg-oil': 12, 'gas': 9, 'nat-gas': 9, 'earn': 7, 'ship': 6, 'palm-oil': 5, 'soy-oil': 5, 'heat': 4, 'fuel': 4, 'rape-oil': 3, 'oilseed': 2, 'meal-feed': 2, 'sun-oil': 2, 'coconut-oil': 2, 'cpi': 1, 'gnp': 1, 'soybean': 1, 'pet-chem': 1, 'grain': 1, 'groundnut-oil': 1, 'lin-oil': 1, 'sorghum': 1, 'sun-meal': 1, 'wheat': 1, 'coconut': 1, 'copra-cake': 1, 'naphtha': 1, 'cotton-oil': 1})\n",
            "Cluster num : 5\n",
            "Counter({'money-fx': 62, 'dlr': 35, 'interest': 25, 'yen': 10, 'acq': 8, 'earn': 5, 'grain': 5, 'alum': 5, 'trade': 4, 'gold': 4, 'gnp': 4, 'silver': 3, 'money-supply': 3, 'cocoa': 2, 'crude': 2, 'nat-gas': 2, 'rubber': 2, 'livestock': 2, 'ship': 2, 'tin': 2, 'bop': 2, 'reserves': 2, 'nickel': 1, 'coffee': 1, 'potato': 1, 'corn': 1, 'cotton': 1, 'wheat': 1, 'palm-oil': 1, 'veg-oil': 1, 'sorghum': 1, 'copper': 1, 'hog': 1, 'sugar': 1, 'nzdlr': 1, 'cpi': 1, 'jobs': 1, 'pet-chem': 1, 'propane': 1})\n",
            "Cluster num : 6\n",
            "Counter({'earn': 147})\n",
            "Cluster num : 7\n",
            "Counter({'acq': 45, 'earn': 21, 'copper': 7, 'nat-gas': 5, 'pet-chem': 3, 'grain': 2, 'gold': 2, 'livestock': 2, 'gas': 2, 'crude': 2, 'wheat': 1, 'ship': 1, 'carcass': 1, 'interest': 1, 'alum': 1})\n",
            "Cluster num : 8\n",
            "Counter({'interest': 46, 'earn': 27, 'money-fx': 23, 'acq': 19, 'money-supply': 13, 'cpi': 4, 'bop': 4, 'reserves': 3, 'grain': 3, 'income': 3, 'gnp': 3, 'trade': 2, 'wpi': 2, 'dmk': 2, 'alum': 2, 'rice': 2, 'sugar': 2, 'barley': 1, 'corn': 1, 'oat': 1, 'sorghum': 1, 'wheat': 1, 'retail': 1, 'dfl': 1, 'jobs': 1, 'housing': 1, 'lumber': 1})\n",
            "Cluster num : 9\n",
            "Counter({'trade': 75, 'grain': 40, 'wheat': 24, 'corn': 16, 'oilseed': 11, 'rice': 10, 'sugar': 10, 'coffee': 8, 'carcass': 8, 'livestock': 8, 'soybean': 8, 'bop': 7, 'ship': 6, 'veg-oil': 6, 'gnp': 6, 'barley': 6, 'rubber': 5, 'rapeseed': 5, 'money-fx': 5, 'cotton': 5, 'meal-feed': 5, 'soy-meal': 5, 'crude': 4, 'lumber': 4, 'soy-oil': 3, 'orange': 3, 'nat-gas': 2, 'tin': 2, 'groundnut': 2, 'iron-steel': 2, 'cocoa': 2, 'sorghum': 2, 'tea': 2, 'reserves': 2, 'strategic-metal': 2, 'jobs': 2, 'palm-oil': 1, 'money-supply': 1, 'l-cattle': 1, 'yen': 1, 'oat': 1, 'gold': 1, 'platinum': 1, 'zinc': 1, 'wpi': 1, 'lei': 1, 'hog': 1, 'lead': 1, 'cpi': 1, 'dlr': 1, 'alum': 1, 'acq': 1})\n",
            "Cluster num : 10\n",
            "Counter({'earn': 57, 'grain': 8, 'acq': 7, 'reserves': 7, 'zinc': 6, 'wheat': 5, 'lead': 5, 'sugar': 4, 'ship': 4, 'money-supply': 4, 'strategic-metal': 4, 'bop': 4, 'trade': 4, 'income': 4, 'gold': 3, 'cpi': 3, 'wpi': 3, 'coffee': 2, 'interest': 2, 'corn': 2, 'nat-gas': 2, 'jobs': 2, 'ipi': 2, 'crude': 1, 'heat': 1, 'cotton': 1, 'soy-oil': 1, 'veg-oil': 1, 'oilseed': 1, 'sorghum': 1, 'soybean': 1, 'sunseed': 1, 'copper': 1, 'livestock': 1, 'carcass': 1, 'instal-debt': 1})\n",
            "Cluster num : 11\n",
            "Counter({'acq': 179, 'earn': 17, 'cocoa': 6, 'money-fx': 3, 'coffee': 2, 'grain': 2, 'ship': 2, 'wheat': 2, 'interest': 2, 'alum': 2, 'oilseed': 2, 'soybean': 2, 'palladium': 1, 'platinum': 1, 'strategic-metal': 1, 'barley': 1, 'crude': 1, 'lei': 1, 'carcass': 1, 'iron-steel': 1})\n",
            "Distortion : 1242.87243\n",
            "==========================\n",
            "\n",
            "Cluster Nums -> 13\n",
            "[130. 128. 222.  63. 241. 126. 381. 123. 129. 116. 127.  97. 117.]\n",
            "Cluster num : 0\n",
            "Counter({'earn': 60, 'acq': 9, 'grain': 7, 'reserves': 7, 'zinc': 6, 'lead': 5, 'trade': 5, 'wheat': 4, 'strategic-metal': 4, 'bop': 4, 'income': 4, 'sugar': 3, 'gold': 3, 'ship': 3, 'money-supply': 3, 'cpi': 3, 'wpi': 3, 'coffee': 2, 'interest': 2, 'corn': 2, 'nat-gas': 2, 'jobs': 2, 'ipi': 2, 'crude': 1, 'heat': 1, 'cotton': 1, 'soy-oil': 1, 'veg-oil': 1, 'oilseed': 1, 'sorghum': 1, 'soybean': 1, 'sunseed': 1, 'livestock': 1, 'carcass': 1, 'instal-debt': 1})\n",
            "Cluster num : 1\n",
            "Counter({'earn': 128})\n",
            "Cluster num : 2\n",
            "Counter({'grain': 32, 'acq': 28, 'ship': 18, 'interest': 18, 'money-fx': 18, 'wheat': 17, 'money-supply': 14, 'corn': 13, 'oilseed': 11, 'gnp': 11, 'sugar': 10, 'soybean': 8, 'crude': 7, 'alum': 7, 'jobs': 6, 'livestock': 6, 'bop': 6, 'meal-feed': 6, 'copper': 6, 'cpi': 6, 'gold': 6, 'earn': 5, 'trade': 5, 'coffee': 5, 'cotton': 4, 'carcass': 4, 'veg-oil': 4, 'lead': 3, 'soy-meal': 3, 'orange': 3, 'dlr': 3, 'tin': 3, 'gas': 2, 'cocoa': 2, 'rubber': 2, 'yen': 2, 'hog': 2, 'strategic-metal': 2, 'rice': 2, 'zinc': 2, 'wpi': 2, 'ipi': 2, 'silver': 2, 'nat-gas': 2, 'propane': 2, 'pet-chem': 2, 'fuel': 2, 'sorghum': 1, 'sunseed': 1, 'soy-oil': 1, 'potato': 1, 'lumber': 1, 'iron-steel': 1, 'reserves': 1, 'barley': 1, 'rapeseed': 1, 'platinum': 1, 'nzdlr': 1, 'palm-oil': 1})\n",
            "Cluster num : 3\n",
            "Counter({'interest': 41, 'money-fx': 14, 'cpi': 4, 'jobs': 4, 'gnp': 4, 'grain': 3, 'barley': 2, 'oat': 2, 'wheat': 2, 'money-supply': 2, 'dlr': 1, 'corn': 1, 'sorghum': 1, 'wpi': 1, 'dfl': 1, 'dmk': 1, 'nat-gas': 1, 'oilseed': 1, 'income': 1, 'reserves': 1, 'acq': 1, 'sugar': 1})\n",
            "Cluster num : 4\n",
            "Counter({'acq': 209, 'earn': 12, 'cocoa': 6, 'iron-steel': 3, 'ship': 2, 'crude': 2, 'alum': 2, 'nat-gas': 2, 'oilseed': 2, 'soybean': 2, 'coffee': 1, 'barley': 1, 'grain': 1, 'wheat': 1, 'hog': 1, 'carcass': 1, 'pet-chem': 1, 'strategic-metal': 1})\n",
            "Cluster num : 5\n",
            "Counter({'crude': 79, 'acq': 18, 'veg-oil': 12, 'gas': 9, 'nat-gas': 9, 'earn': 7, 'ship': 6, 'palm-oil': 5, 'soy-oil': 5, 'heat': 4, 'fuel': 4, 'rape-oil': 3, 'oilseed': 2, 'meal-feed': 2, 'sun-oil': 2, 'coconut-oil': 2, 'cpi': 1, 'gnp': 1, 'soybean': 1, 'pet-chem': 1, 'grain': 1, 'groundnut-oil': 1, 'lin-oil': 1, 'sorghum': 1, 'sun-meal': 1, 'wheat': 1, 'coconut': 1, 'copra-cake': 1, 'naphtha': 1, 'cotton-oil': 1})\n",
            "Cluster num : 6\n",
            "Counter({'earn': 101, 'acq': 67, 'grain': 52, 'money-fx': 32, 'corn': 25, 'wheat': 24, 'interest': 18, 'dlr': 12, 'oilseed': 11, 'gnp': 11, 'crude': 10, 'soybean': 10, 'rice': 9, 'ship': 9, 'veg-oil': 9, 'gold': 9, 'sugar': 8, 'tin': 8, 'cotton': 8, 'meal-feed': 7, 'soy-meal': 7, 'cpi': 7, 'livestock': 6, 'sorghum': 6, 'barley': 6, 'orange': 6, 'trade': 5, 'jobs': 5, 'coffee': 5, 'ipi': 4, 'platinum': 4, 'soy-oil': 4, 'cocoa': 4, 'alum': 4, 'rubber': 3, 'nat-gas': 3, 'gas': 3, 'strategic-metal': 3, 'reserves': 3, 'groundnut': 3, 'carcass': 3, 'oat': 3, 'silver': 3, 'lei': 3, 'zinc': 2, 'money-supply': 2, 'potato': 2, 'iron-steel': 2, 'wpi': 2, 'palm-oil': 2, 'lumber': 2, 'nickel': 1, 'palladium': 1, 'lead': 1, 'cotton-oil': 1, 'fuel': 1, 'pet-chem': 1, 'naphtha': 1, 'yen': 1, 'rapeseed': 1, 'bop': 1})\n",
            "Cluster num : 7\n",
            "Counter({'earn': 38, 'money-fx': 36, 'acq': 22, 'dlr': 16, 'interest': 11, 'money-supply': 9, 'bop': 5, 'trade': 4, 'yen': 3, 'reserves': 3, 'gnp': 3, 'income': 2, 'grain': 2, 'rice': 2, 'sugar': 2, 'cpi': 1, 'retail': 1, 'wpi': 1, 'dmk': 1, 'alum': 1, 'housing': 1, 'lumber': 1})\n",
            "Cluster num : 8\n",
            "Counter({'trade': 70, 'grain': 13, 'money-fx': 8, 'bop': 7, 'sugar': 6, 'ship': 6, 'wheat': 6, 'coffee': 5, 'oilseed': 5, 'rice': 5, 'dlr': 5, 'yen': 5, 'carcass': 4, 'rapeseed': 4, 'crude': 3, 'livestock': 3, 'alum': 3, 'corn': 2, 'iron-steel': 2, 'acq': 2, 'barley': 2, 'cocoa': 2, 'gold': 2, 'tea': 2, 'orange': 2, 'gnp': 2, 'nat-gas': 1, 'lumber': 1, 'palm-oil': 1, 'rubber': 1, 'veg-oil': 1, 'soybean': 1, 'groundnut': 1, 'l-cattle': 1, 'cotton': 1, 'platinum': 1, 'wpi': 1, 'reserves': 1, 'interest': 1, 'copper': 1, 'silver': 1, 'hog': 1, 'lead': 1})\n",
            "Cluster num : 9\n",
            "Counter({'acq': 67, 'earn': 39, 'iron-steel': 4, 'copper': 2, 'fuel': 1, 'crude': 1, 'pet-chem': 1, 'strategic-metal': 1, 'alum': 1})\n",
            "Cluster num : 10\n",
            "Counter({'earn': 127})\n",
            "Cluster num : 11\n",
            "Counter({'acq': 58, 'earn': 18, 'copper': 6, 'nat-gas': 5, 'pet-chem': 4, 'grain': 2, 'gold': 2, 'livestock': 2, 'crude': 2, 'wheat': 1, 'ship': 1, 'carcass': 1, 'rubber': 1, 'gas': 1, 'platinum': 1, 'alum': 1})\n",
            "Cluster num : 12\n",
            "Counter({'earn': 98, 'acq': 9, 'grain': 5, 'lead': 2, 'meal-feed': 2, 'wheat': 2, 'rice': 2, 'cocoa': 1, 'retail': 1, 'corn': 1, 'soy-meal': 1, 'livestock': 1, 'oilseed': 1, 'barley': 1})\n",
            "Distortion : 1224.77094\n",
            "==========================\n",
            "\n",
            "Cluster Nums -> 14\n",
            "[121. 136. 127. 249. 166. 145. 122.  96. 291.  97. 161. 130.  63.  96.]\n",
            "Cluster num : 0\n",
            "Counter({'earn': 121})\n",
            "Cluster num : 1\n",
            "Counter({'acq': 81, 'earn': 38, 'copper': 6, 'iron-steel': 4, 'pet-chem': 2, 'gold': 1, 'grain': 1, 'ship': 1, 'fuel': 1, 'crude': 1, 'strategic-metal': 1, 'alum': 1})\n",
            "Cluster num : 2\n",
            "Counter({'earn': 63, 'grain': 7, 'reserves': 7, 'acq': 6, 'zinc': 6, 'lead': 5, 'wheat': 4, 'sugar': 4, 'strategic-metal': 4, 'bop': 4, 'trade': 4, 'income': 4, 'gold': 3, 'ship': 3, 'cpi': 3, 'wpi': 3, 'interest': 2, 'nat-gas': 2, 'money-supply': 2, 'jobs': 2, 'ipi': 2, 'crude': 1, 'heat': 1, 'cotton': 1, 'soy-oil': 1, 'veg-oil': 1, 'corn': 1, 'coffee': 1, 'carcass': 1, 'instal-debt': 1})\n",
            "Cluster num : 3\n",
            "Counter({'acq': 216, 'earn': 12, 'cocoa': 6, 'money-fx': 2, 'strategic-metal': 2, 'iron-steel': 2, 'alum': 2, 'oilseed': 2, 'soybean': 2, 'palladium': 1, 'platinum': 1, 'coffee': 1, 'barley': 1, 'grain': 1, 'ship': 1, 'wheat': 1, 'crude': 1, 'hog': 1, 'carcass': 1, 'pet-chem': 1, 'nat-gas': 1})\n",
            "Cluster num : 4\n",
            "Counter({'earn': 166})\n",
            "Cluster num : 5\n",
            "Counter({'trade': 53, 'grain': 33, 'wheat': 22, 'corn': 13, 'coffee': 7, 'bop': 6, 'sugar': 6, 'rice': 6, 'livestock': 6, 'barley': 6, 'oilseed': 6, 'soybean': 6, 'veg-oil': 5, 'carcass': 5, 'cotton': 5, 'meal-feed': 5, 'soy-meal': 5, 'rubber': 4, 'gnp': 4, 'lumber': 3, 'ship': 3, 'soy-oil': 3, 'groundnut': 2, 'iron-steel': 2, 'cocoa': 2, 'sorghum': 2, 'tea': 2, 'rapeseed': 2, 'orange': 2, 'crude': 2, 'reserves': 2, 'gold': 2, 'silver': 2, 'strategic-metal': 2, 'jobs': 2, 'palm-oil': 1, 'l-cattle': 1, 'money-fx': 1, 'oat': 1, 'nat-gas': 1, 'lei': 1, 'alum': 1, 'copper': 1, 'hog': 1, 'lead': 1, 'cpi': 1, 'tin': 1, 'acq': 1})\n",
            "Cluster num : 6\n",
            "Counter({'earn': 37, 'interest': 33, 'acq': 22, 'money-fx': 20, 'money-supply': 7, 'bop': 4, 'reserves': 4, 'income': 3, 'trade': 3, 'gnp': 3, 'cpi': 2, 'dmk': 2, 'grain': 2, 'rice': 2, 'sugar': 2, 'dlr': 1, 'retail': 1, 'wpi': 1, 'dfl': 1, 'alum': 1, 'jobs': 1, 'housing': 1, 'lumber': 1})\n",
            "Cluster num : 7\n",
            "Counter({'money-fx': 51, 'dlr': 33, 'trade': 20, 'interest': 11, 'yen': 9, 'grain': 6, 'oilseed': 4, 'gnp': 4, 'livestock': 3, 'rice': 3, 'rapeseed': 3, 'ship': 3, 'money-supply': 3, 'alum': 3, 'carcass': 2, 'gold': 2, 'bop': 2, 'corn': 1, 'soybean': 1, 'acq': 1, 'sugar': 1, 'earn': 1, 'cotton': 1, 'silver': 1, 'platinum': 1, 'wpi': 1, 'orange': 1, 'crude': 1, 'nzdlr': 1, 'reserves': 1})\n",
            "Cluster num : 8\n",
            "Counter({'acq': 61, 'earn': 54, 'grain': 37, 'interest': 26, 'wheat': 19, 'money-fx': 18, 'corn': 15, 'ship': 12, 'crude': 10, 'oilseed': 10, 'nat-gas': 7, 'gold': 7, 'soybean': 7, 'orange': 7, 'sugar': 6, 'veg-oil': 6, 'jobs': 5, 'cpi': 5, 'sorghum': 5, 'cotton': 5, 'wpi': 5, 'tin': 4, 'gas': 4, 'alum': 4, 'rice': 4, 'meal-feed': 4, 'soy-meal': 4, 'barley': 4, 'oat': 4, 'ipi': 4, 'coffee': 3, 'potato': 3, 'copper': 3, 'pet-chem': 3, 'platinum': 3, 'gnp': 3, 'cocoa': 2, 'reserves': 2, 'groundnut': 2, 'soy-oil': 2, 'iron-steel': 2, 'palm-oil': 2, 'lei': 2, 'livestock': 2, 'money-supply': 1, 'lead': 1, 'cotton-oil': 1, 'fuel': 1, 'carcass': 1, 'dlr': 1, 'naphtha': 1, 'rubber': 1, 'propane': 1, 'silver': 1, 'zinc': 1, 'bop': 1})\n",
            "Cluster num : 9\n",
            "Counter({'earn': 63, 'acq': 23, 'grain': 5, 'lead': 2, 'meal-feed': 2, 'wheat': 2, 'livestock': 2, 'rice': 2, 'cocoa': 1, 'retail': 1, 'corn': 1, 'soy-meal': 1, 'pet-chem': 1, 'oilseed': 1, 'barley': 1})\n",
            "Cluster num : 10\n",
            "Counter({'acq': 46, 'grain': 14, 'gnp': 14, 'money-fx': 11, 'interest': 11, 'ship': 11, 'cpi': 9, 'corn': 8, 'trade': 8, 'earn': 7, 'alum': 6, 'crude': 5, 'coffee': 5, 'bop': 5, 'tin': 4, 'livestock': 4, 'carcass': 4, 'sugar': 4, 'jobs': 4, 'wheat': 3, 'lead': 2, 'money-supply': 2, 'yen': 2, 'strategic-metal': 2, 'iron-steel': 2, 'cocoa': 2, 'copper': 2, 'veg-oil': 2, 'nat-gas': 2, 'fuel': 2, 'gas': 1, 'oilseed': 1, 'soybean': 1, 'cotton': 1, 'rubber': 1, 'meal-feed': 1, 'gold': 1, 'lumber': 1, 'barley': 1, 'pet-chem': 1, 'platinum': 1, 'silver': 1, 'rice': 1, 'palm-oil': 1, 'zinc': 1})\n",
            "Cluster num : 11\n",
            "Counter({'crude': 81, 'acq': 19, 'veg-oil': 12, 'nat-gas': 10, 'gas': 9, 'earn': 7, 'ship': 6, 'palm-oil': 5, 'soy-oil': 5, 'heat': 4, 'fuel': 4, 'rape-oil': 3, 'oilseed': 2, 'pet-chem': 2, 'meal-feed': 2, 'sun-oil': 2, 'coconut-oil': 2, 'cpi': 1, 'gnp': 1, 'soybean': 1, 'grain': 1, 'groundnut-oil': 1, 'lin-oil': 1, 'sorghum': 1, 'sun-meal': 1, 'wheat': 1, 'coconut': 1, 'copra-cake': 1, 'naphtha': 1, 'cotton-oil': 1, 'propane': 1})\n",
            "Cluster num : 12\n",
            "Counter({'money-supply': 15, 'grain': 10, 'oilseed': 8, 'interest': 7, 'sugar': 6, 'wheat': 6, 'soybean': 5, 'money-fx': 5, 'ship': 4, 'corn': 4, 'crude': 3, 'meal-feed': 3, 'sorghum': 2, 'sunseed': 2, 'jobs': 2, 'hog': 2, 'livestock': 2, 'acq': 2, 'copper': 2, 'dlr': 2, 'nat-gas': 2, 'gas': 1, 'lead': 1, 'soy-meal': 1, 'orange': 1, 'veg-oil': 1, 'rice': 1, 'coffee': 1, 'zinc': 1, 'gold': 1, 'rapeseed': 1, 'cotton': 1, 'tin': 1})\n",
            "Cluster num : 13\n",
            "Counter({'earn': 64, 'acq': 12, 'gold': 5, 'gnp': 3, 'ipi': 2, 'cocoa': 2, 'corn': 1, 'grain': 1, 'rice': 1, 'rubber': 1, 'sugar': 1, 'tin': 1, 'trade': 1, 'zinc': 1, 'nickel': 1, 'interest': 1, 'platinum': 1, 'silver': 1, 'cpi': 1, 'alum': 1, 'ship': 1, 'jobs': 1, 'bop': 1, 'copper': 1})\n",
            "Distortion : 1192.83412\n",
            "==========================\n",
            "\n",
            "Cluster Nums -> 15\n",
            "[120. 135. 125. 224. 127. 145. 119.  96. 284.  90. 173. 128.  63.  93.\n",
            "  78.]\n",
            "Cluster num : 0\n",
            "Counter({'earn': 120})\n",
            "Cluster num : 1\n",
            "Counter({'acq': 105, 'earn': 11, 'copper': 7, 'iron-steel': 4, 'pet-chem': 2, 'nat-gas': 2, 'gold': 1, 'grain': 1, 'ship': 1, 'fuel': 1, 'crude': 1, 'hog': 1, 'strategic-metal': 1, 'alum': 1})\n",
            "Cluster num : 2\n",
            "Counter({'earn': 62, 'grain': 7, 'reserves': 7, 'zinc': 6, 'acq': 5, 'lead': 5, 'wheat': 4, 'sugar': 4, 'strategic-metal': 4, 'bop': 4, 'trade': 4, 'income': 4, 'gold': 3, 'ship': 3, 'cpi': 3, 'wpi': 3, 'interest': 2, 'nat-gas': 2, 'money-supply': 2, 'jobs': 2, 'ipi': 2, 'crude': 1, 'heat': 1, 'cotton': 1, 'soy-oil': 1, 'veg-oil': 1, 'corn': 1, 'coffee': 1, 'carcass': 1, 'instal-debt': 1})\n",
            "Cluster num : 3\n",
            "Counter({'acq': 196, 'earn': 10, 'cocoa': 3, 'money-fx': 2, 'strategic-metal': 2, 'iron-steel': 2, 'alum': 2, 'oilseed': 2, 'soybean': 2, 'palladium': 1, 'platinum': 1, 'coffee': 1, 'barley': 1, 'grain': 1, 'ship': 1, 'wheat': 1, 'crude': 1, 'carcass': 1, 'pet-chem': 1})\n",
            "Cluster num : 4\n",
            "Counter({'earn': 127})\n",
            "Cluster num : 5\n",
            "Counter({'trade': 53, 'grain': 33, 'wheat': 22, 'corn': 13, 'coffee': 7, 'bop': 6, 'sugar': 6, 'rice': 6, 'livestock': 6, 'barley': 6, 'oilseed': 6, 'soybean': 6, 'veg-oil': 5, 'carcass': 5, 'cotton': 5, 'meal-feed': 5, 'soy-meal': 5, 'rubber': 4, 'gnp': 4, 'lumber': 3, 'ship': 3, 'soy-oil': 3, 'groundnut': 2, 'iron-steel': 2, 'cocoa': 2, 'sorghum': 2, 'tea': 2, 'rapeseed': 2, 'orange': 2, 'crude': 2, 'reserves': 2, 'gold': 2, 'silver': 2, 'strategic-metal': 2, 'jobs': 2, 'palm-oil': 1, 'l-cattle': 1, 'money-fx': 1, 'oat': 1, 'nat-gas': 1, 'lei': 1, 'alum': 1, 'copper': 1, 'hog': 1, 'lead': 1, 'cpi': 1, 'tin': 1, 'acq': 1})\n",
            "Cluster num : 6\n",
            "Counter({'interest': 34, 'earn': 34, 'acq': 21, 'money-fx': 20, 'money-supply': 7, 'bop': 4, 'reserves': 4, 'income': 3, 'trade': 3, 'gnp': 3, 'cpi': 2, 'dmk': 2, 'grain': 2, 'rice': 2, 'sugar': 2, 'dlr': 1, 'retail': 1, 'wpi': 1, 'dfl': 1, 'alum': 1, 'jobs': 1, 'housing': 1, 'lumber': 1})\n",
            "Cluster num : 7\n",
            "Counter({'money-fx': 51, 'dlr': 33, 'trade': 20, 'interest': 11, 'yen': 9, 'grain': 6, 'oilseed': 4, 'gnp': 4, 'livestock': 3, 'rice': 3, 'rapeseed': 3, 'ship': 3, 'money-supply': 3, 'alum': 3, 'carcass': 2, 'gold': 2, 'bop': 2, 'corn': 1, 'soybean': 1, 'acq': 1, 'sugar': 1, 'earn': 1, 'cotton': 1, 'silver': 1, 'platinum': 1, 'wpi': 1, 'orange': 1, 'crude': 1, 'nzdlr': 1, 'reserves': 1})\n",
            "Cluster num : 8\n",
            "Counter({'acq': 55, 'earn': 52, 'grain': 37, 'interest': 25, 'wheat': 19, 'money-fx': 18, 'corn': 15, 'ship': 12, 'crude': 10, 'oilseed': 10, 'gold': 7, 'soybean': 7, 'orange': 7, 'sugar': 6, 'nat-gas': 6, 'veg-oil': 6, 'jobs': 5, 'cpi': 5, 'cocoa': 5, 'sorghum': 5, 'cotton': 5, 'wpi': 5, 'tin': 4, 'gas': 4, 'alum': 4, 'rice': 4, 'meal-feed': 4, 'soy-meal': 4, 'barley': 4, 'oat': 4, 'ipi': 4, 'coffee': 3, 'potato': 3, 'platinum': 3, 'gnp': 3, 'rubber': 2, 'reserves': 2, 'groundnut': 2, 'soy-oil': 2, 'copper': 2, 'iron-steel': 2, 'palm-oil': 2, 'lei': 2, 'livestock': 2, 'pet-chem': 2, 'money-supply': 1, 'lead': 1, 'cotton-oil': 1, 'fuel': 1, 'carcass': 1, 'dlr': 1, 'naphtha': 1, 'propane': 1, 'silver': 1, 'zinc': 1, 'bop': 1})\n",
            "Cluster num : 9\n",
            "Counter({'earn': 61, 'acq': 18, 'grain': 5, 'lead': 2, 'meal-feed': 2, 'wheat': 2, 'livestock': 2, 'rice': 2, 'cocoa': 1, 'retail': 1, 'corn': 1, 'soy-meal': 1, 'pet-chem': 1, 'oilseed': 1, 'barley': 1})\n",
            "Cluster num : 10\n",
            "Counter({'acq': 57, 'grain': 14, 'gnp': 14, 'ship': 12, 'money-fx': 11, 'interest': 11, 'cpi': 9, 'earn': 8, 'corn': 8, 'trade': 8, 'alum': 6, 'crude': 5, 'coffee': 5, 'bop': 5, 'tin': 4, 'livestock': 4, 'carcass': 4, 'sugar': 4, 'jobs': 4, 'wheat': 3, 'lead': 2, 'money-supply': 2, 'yen': 2, 'strategic-metal': 2, 'iron-steel': 2, 'cocoa': 2, 'copper': 2, 'pet-chem': 2, 'veg-oil': 2, 'nat-gas': 2, 'fuel': 2, 'gas': 1, 'oilseed': 1, 'soybean': 1, 'cotton': 1, 'meal-feed': 1, 'gold': 1, 'lumber': 1, 'barley': 1, 'platinum': 1, 'silver': 1, 'rice': 1, 'palm-oil': 1, 'zinc': 1})\n",
            "Cluster num : 11\n",
            "Counter({'crude': 81, 'acq': 17, 'veg-oil': 12, 'nat-gas': 10, 'gas': 9, 'earn': 7, 'ship': 6, 'palm-oil': 5, 'soy-oil': 5, 'heat': 4, 'fuel': 4, 'rape-oil': 3, 'oilseed': 2, 'pet-chem': 2, 'meal-feed': 2, 'sun-oil': 2, 'coconut-oil': 2, 'cpi': 1, 'gnp': 1, 'soybean': 1, 'grain': 1, 'groundnut-oil': 1, 'lin-oil': 1, 'sorghum': 1, 'sun-meal': 1, 'wheat': 1, 'coconut': 1, 'copra-cake': 1, 'naphtha': 1, 'cotton-oil': 1, 'propane': 1})\n",
            "Cluster num : 12\n",
            "Counter({'money-supply': 15, 'grain': 10, 'oilseed': 8, 'interest': 7, 'sugar': 6, 'wheat': 6, 'soybean': 5, 'money-fx': 5, 'ship': 4, 'corn': 4, 'crude': 3, 'meal-feed': 3, 'sorghum': 2, 'sunseed': 2, 'jobs': 2, 'hog': 2, 'livestock': 2, 'acq': 2, 'copper': 2, 'dlr': 2, 'nat-gas': 2, 'gas': 1, 'lead': 1, 'soy-meal': 1, 'orange': 1, 'veg-oil': 1, 'rice': 1, 'coffee': 1, 'zinc': 1, 'gold': 1, 'rapeseed': 1, 'cotton': 1, 'tin': 1})\n",
            "Cluster num : 13\n",
            "Counter({'earn': 62, 'acq': 12, 'gold': 5, 'gnp': 3, 'ipi': 2, 'cocoa': 2, 'corn': 1, 'grain': 1, 'rice': 1, 'rubber': 1, 'sugar': 1, 'tin': 1, 'trade': 1, 'zinc': 1, 'nickel': 1, 'interest': 1, 'platinum': 1, 'silver': 1, 'cpi': 1, 'alum': 1, 'jobs': 1, 'bop': 1, 'copper': 1})\n",
            "Cluster num : 14\n",
            "Counter({'earn': 78})\n",
            "Distortion : 1171.72427\n",
            "==========================\n",
            "\n"
          ],
          "name": "stdout"
        }
      ]
    },
    {
      "cell_type": "code",
      "metadata": {
        "id": "3EKjpZ9ht6iJ",
        "colab_type": "code",
        "colab": {
          "base_uri": "https://localhost:8080/",
          "height": 295
        },
        "outputId": "95686855-40e7-48b1-f2f5-9f58d79817e7"
      },
      "source": [
        "# エルボー法の plot\n",
        "plt.plot(x, y, marker='o')\n",
        "plt.xlabel('Number of clusters')\n",
        "plt.ylabel('Distortion')\n",
        "plt.title(\"tf-idf sse\")\n",
        "plt.show()"
      ],
      "execution_count": 23,
      "outputs": [
        {
          "output_type": "display_data",
          "data": {
            "image/png": "[encoded data removed]",
            "text/plain": [
              "<Figure size 432x288 with 1 Axes>"
            ]
          },
          "metadata": {
            "tags": [],
            "needs_background": "light"
          }
        }
      ]
    }
  ]
}